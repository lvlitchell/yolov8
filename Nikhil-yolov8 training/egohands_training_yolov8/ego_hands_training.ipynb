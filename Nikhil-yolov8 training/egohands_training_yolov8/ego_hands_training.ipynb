{
 "cells": [
  {
   "cell_type": "code",
   "execution_count": 3,
   "id": "009e7913",
   "metadata": {},
   "outputs": [
    {
     "name": "stderr",
     "output_type": "stream",
     "text": [
      "/home/nikhil/anaconda3/envs/yolov8/lib/python3.9/site-packages/tqdm/auto.py:22: TqdmWarning: IProgress not found. Please update jupyter and ipywidgets. See https://ipywidgets.readthedocs.io/en/stable/user_install.html\n",
      "  from .autonotebook import tqdm as notebook_tqdm\n"
     ]
    },
    {
     "name": "stdout",
     "output_type": "stream",
     "text": [
      "1.13.1+cu117\n",
      "11.7\n",
      "True\n",
      "0\n",
      "0\n"
     ]
    }
   ],
   "source": [
    "import torch\n",
    "import torch.nn as nn\n",
    "\n",
    "torch.cuda.set_device(0)\n",
    "print(torch.__version__)\n",
    "print(torch.version.cuda)\n",
    "print(torch.cuda.is_available())\n",
    "\n",
    "# Print memory reserved and allocated\n",
    "print(torch.cuda.memory_reserved())\n",
    "print(torch.cuda.memory_allocated())"
   ]
  },
  {
   "cell_type": "code",
   "execution_count": 4,
   "id": "50b5b6c7",
   "metadata": {},
   "outputs": [
    {
     "name": "stdout",
     "output_type": "stream",
     "text": [
      "Using 2 GPUs!\n"
     ]
    }
   ],
   "source": [
    "#To use DataParallel and both GPUs have enough memory\n",
    "if torch.cuda.device_count() > 1:\n",
    "    print(f\"Using {torch.cuda.device_count()} GPUs!\")\n"
   ]
  },
  {
   "cell_type": "code",
   "execution_count": 1,
   "id": "5a9671e3",
   "metadata": {},
   "outputs": [
    {
     "name": "stdout",
     "output_type": "stream",
     "text": [
      "Requirement already satisfied: matplotlib>=3.3.0 in /home/nikhil/anaconda3/envs/yolov8/lib/python3.9/site-packages (from -r /home/nikhil/Documents/inseer_ML_Project/yolov8/requirements.txt (line 5)) (3.6.2)\n",
      "Requirement already satisfied: numpy>=1.22.2 in /home/nikhil/anaconda3/envs/yolov8/lib/python3.9/site-packages (from -r /home/nikhil/Documents/inseer_ML_Project/yolov8/requirements.txt (line 6)) (1.24.1)\n",
      "Requirement already satisfied: opencv-python>=4.6.0 in /home/nikhil/anaconda3/envs/yolov8/lib/python3.9/site-packages (from -r /home/nikhil/Documents/inseer_ML_Project/yolov8/requirements.txt (line 7)) (4.6.0)\n",
      "Requirement already satisfied: pillow>=7.1.2 in /home/nikhil/anaconda3/envs/yolov8/lib/python3.9/site-packages (from -r /home/nikhil/Documents/inseer_ML_Project/yolov8/requirements.txt (line 8)) (10.0.1)\n",
      "Requirement already satisfied: pyyaml>=5.3.1 in /home/nikhil/anaconda3/envs/yolov8/lib/python3.9/site-packages (from -r /home/nikhil/Documents/inseer_ML_Project/yolov8/requirements.txt (line 9)) (6.0.1)\n",
      "Requirement already satisfied: requests>=2.23.0 in /home/nikhil/anaconda3/envs/yolov8/lib/python3.9/site-packages (from -r /home/nikhil/Documents/inseer_ML_Project/yolov8/requirements.txt (line 10)) (2.31.0)\n",
      "Requirement already satisfied: scipy>=1.4.1 in /home/nikhil/anaconda3/envs/yolov8/lib/python3.9/site-packages (from -r /home/nikhil/Documents/inseer_ML_Project/yolov8/requirements.txt (line 11)) (1.10.0)\n",
      "Requirement already satisfied: torch>=1.8.0 in /home/nikhil/anaconda3/envs/yolov8/lib/python3.9/site-packages (from -r /home/nikhil/Documents/inseer_ML_Project/yolov8/requirements.txt (line 12)) (1.13.1+cu117)\n",
      "Requirement already satisfied: torchvision>=0.9.0 in /home/nikhil/anaconda3/envs/yolov8/lib/python3.9/site-packages (from -r /home/nikhil/Documents/inseer_ML_Project/yolov8/requirements.txt (line 13)) (0.14.1)\n",
      "Requirement already satisfied: tqdm>=4.64.0 in /home/nikhil/anaconda3/envs/yolov8/lib/python3.9/site-packages (from -r /home/nikhil/Documents/inseer_ML_Project/yolov8/requirements.txt (line 14)) (4.64.1)\n",
      "Requirement already satisfied: pandas>=1.1.4 in /home/nikhil/anaconda3/envs/yolov8/lib/python3.9/site-packages (from -r /home/nikhil/Documents/inseer_ML_Project/yolov8/requirements.txt (line 23)) (2.1.3)\n",
      "Requirement already satisfied: seaborn>=0.11.0 in /home/nikhil/anaconda3/envs/yolov8/lib/python3.9/site-packages (from -r /home/nikhil/Documents/inseer_ML_Project/yolov8/requirements.txt (line 24)) (0.13.0)\n",
      "Requirement already satisfied: psutil in /home/nikhil/anaconda3/envs/yolov8/lib/python3.9/site-packages (from -r /home/nikhil/Documents/inseer_ML_Project/yolov8/requirements.txt (line 39)) (5.9.6)\n",
      "Requirement already satisfied: py-cpuinfo in /home/nikhil/anaconda3/envs/yolov8/lib/python3.9/site-packages (from -r /home/nikhil/Documents/inseer_ML_Project/yolov8/requirements.txt (line 40)) (9.0.0)\n",
      "Requirement already satisfied: thop>=0.1.1 in /home/nikhil/anaconda3/envs/yolov8/lib/python3.9/site-packages (from -r /home/nikhil/Documents/inseer_ML_Project/yolov8/requirements.txt (line 41)) (0.1.1.post2209072238)\n",
      "Requirement already satisfied: contourpy>=1.0.1 in /home/nikhil/anaconda3/envs/yolov8/lib/python3.9/site-packages (from matplotlib>=3.3.0->-r /home/nikhil/Documents/inseer_ML_Project/yolov8/requirements.txt (line 5)) (1.2.0)\n",
      "Requirement already satisfied: python-dateutil>=2.7 in /home/nikhil/anaconda3/envs/yolov8/lib/python3.9/site-packages (from matplotlib>=3.3.0->-r /home/nikhil/Documents/inseer_ML_Project/yolov8/requirements.txt (line 5)) (2.8.2)\n",
      "Requirement already satisfied: cycler>=0.10 in /home/nikhil/anaconda3/envs/yolov8/lib/python3.9/site-packages (from matplotlib>=3.3.0->-r /home/nikhil/Documents/inseer_ML_Project/yolov8/requirements.txt (line 5)) (0.11.0)\n",
      "Requirement already satisfied: packaging>=20.0 in /home/nikhil/anaconda3/envs/yolov8/lib/python3.9/site-packages (from matplotlib>=3.3.0->-r /home/nikhil/Documents/inseer_ML_Project/yolov8/requirements.txt (line 5)) (23.1)\n",
      "Requirement already satisfied: fonttools>=4.22.0 in /home/nikhil/anaconda3/envs/yolov8/lib/python3.9/site-packages (from matplotlib>=3.3.0->-r /home/nikhil/Documents/inseer_ML_Project/yolov8/requirements.txt (line 5)) (4.25.0)\n",
      "Requirement already satisfied: kiwisolver>=1.0.1 in /home/nikhil/anaconda3/envs/yolov8/lib/python3.9/site-packages (from matplotlib>=3.3.0->-r /home/nikhil/Documents/inseer_ML_Project/yolov8/requirements.txt (line 5)) (1.4.4)\n",
      "Requirement already satisfied: pyparsing>=2.2.1 in /home/nikhil/anaconda3/envs/yolov8/lib/python3.9/site-packages (from matplotlib>=3.3.0->-r /home/nikhil/Documents/inseer_ML_Project/yolov8/requirements.txt (line 5)) (3.0.9)\n",
      "Requirement already satisfied: charset-normalizer<4,>=2 in /home/nikhil/anaconda3/envs/yolov8/lib/python3.9/site-packages (from requests>=2.23.0->-r /home/nikhil/Documents/inseer_ML_Project/yolov8/requirements.txt (line 10)) (2.0.4)\n",
      "Requirement already satisfied: urllib3<3,>=1.21.1 in /home/nikhil/anaconda3/envs/yolov8/lib/python3.9/site-packages (from requests>=2.23.0->-r /home/nikhil/Documents/inseer_ML_Project/yolov8/requirements.txt (line 10)) (1.26.18)\n",
      "Requirement already satisfied: idna<4,>=2.5 in /home/nikhil/anaconda3/envs/yolov8/lib/python3.9/site-packages (from requests>=2.23.0->-r /home/nikhil/Documents/inseer_ML_Project/yolov8/requirements.txt (line 10)) (3.4)\n",
      "Requirement already satisfied: certifi>=2017.4.17 in /home/nikhil/anaconda3/envs/yolov8/lib/python3.9/site-packages (from requests>=2.23.0->-r /home/nikhil/Documents/inseer_ML_Project/yolov8/requirements.txt (line 10)) (2023.11.17)\n",
      "Requirement already satisfied: typing-extensions in /home/nikhil/anaconda3/envs/yolov8/lib/python3.9/site-packages (from torch>=1.8.0->-r /home/nikhil/Documents/inseer_ML_Project/yolov8/requirements.txt (line 12)) (4.7.1)\n",
      "Requirement already satisfied: tzdata>=2022.1 in /home/nikhil/anaconda3/envs/yolov8/lib/python3.9/site-packages (from pandas>=1.1.4->-r /home/nikhil/Documents/inseer_ML_Project/yolov8/requirements.txt (line 23)) (2023.3)\n",
      "Requirement already satisfied: pytz>=2020.1 in /home/nikhil/anaconda3/envs/yolov8/lib/python3.9/site-packages (from pandas>=1.1.4->-r /home/nikhil/Documents/inseer_ML_Project/yolov8/requirements.txt (line 23)) (2023.3.post1)\n",
      "Requirement already satisfied: six>=1.5 in /home/nikhil/anaconda3/envs/yolov8/lib/python3.9/site-packages (from python-dateutil>=2.7->matplotlib>=3.3.0->-r /home/nikhil/Documents/inseer_ML_Project/yolov8/requirements.txt (line 5)) (1.16.0)\n",
      "Note: you may need to restart the kernel to use updated packages.\n"
     ]
    }
   ],
   "source": [
    "pip install -r ~/Documents/inseer_ML_Project/yolov8/requirements.txt\n"
   ]
  },
  {
   "cell_type": "code",
   "execution_count": 2,
   "id": "3468ec9d",
   "metadata": {},
   "outputs": [
    {
     "name": "stdout",
     "output_type": "stream",
     "text": [
      "Requirement already satisfied: ultralytics in /home/nikhil/anaconda3/envs/yolov8/lib/python3.9/site-packages (8.0.216)\n",
      "Requirement already satisfied: requests>=2.23.0 in /home/nikhil/anaconda3/envs/yolov8/lib/python3.9/site-packages (from ultralytics) (2.31.0)\n",
      "Requirement already satisfied: seaborn>=0.11.0 in /home/nikhil/anaconda3/envs/yolov8/lib/python3.9/site-packages (from ultralytics) (0.13.0)\n",
      "Requirement already satisfied: pandas>=1.1.4 in /home/nikhil/anaconda3/envs/yolov8/lib/python3.9/site-packages (from ultralytics) (2.1.3)\n",
      "Requirement already satisfied: torch>=1.8.0 in /home/nikhil/anaconda3/envs/yolov8/lib/python3.9/site-packages (from ultralytics) (1.13.1+cu117)\n",
      "Requirement already satisfied: numpy>=1.22.2 in /home/nikhil/anaconda3/envs/yolov8/lib/python3.9/site-packages (from ultralytics) (1.24.1)\n",
      "Requirement already satisfied: psutil in /home/nikhil/anaconda3/envs/yolov8/lib/python3.9/site-packages (from ultralytics) (5.9.6)\n",
      "Requirement already satisfied: scipy>=1.4.1 in /home/nikhil/anaconda3/envs/yolov8/lib/python3.9/site-packages (from ultralytics) (1.10.0)\n",
      "Requirement already satisfied: thop>=0.1.1 in /home/nikhil/anaconda3/envs/yolov8/lib/python3.9/site-packages (from ultralytics) (0.1.1.post2209072238)\n",
      "Requirement already satisfied: torchvision>=0.9.0 in /home/nikhil/anaconda3/envs/yolov8/lib/python3.9/site-packages (from ultralytics) (0.14.1)\n",
      "Requirement already satisfied: pillow>=7.1.2 in /home/nikhil/anaconda3/envs/yolov8/lib/python3.9/site-packages (from ultralytics) (10.0.1)\n",
      "Requirement already satisfied: pyyaml>=5.3.1 in /home/nikhil/anaconda3/envs/yolov8/lib/python3.9/site-packages (from ultralytics) (6.0.1)\n",
      "Requirement already satisfied: matplotlib>=3.3.0 in /home/nikhil/anaconda3/envs/yolov8/lib/python3.9/site-packages (from ultralytics) (3.6.2)\n",
      "Requirement already satisfied: py-cpuinfo in /home/nikhil/anaconda3/envs/yolov8/lib/python3.9/site-packages (from ultralytics) (9.0.0)\n",
      "Requirement already satisfied: opencv-python>=4.6.0 in /home/nikhil/anaconda3/envs/yolov8/lib/python3.9/site-packages (from ultralytics) (4.6.0)\n",
      "Requirement already satisfied: tqdm>=4.64.0 in /home/nikhil/anaconda3/envs/yolov8/lib/python3.9/site-packages (from ultralytics) (4.64.1)\n",
      "Requirement already satisfied: contourpy>=1.0.1 in /home/nikhil/anaconda3/envs/yolov8/lib/python3.9/site-packages (from matplotlib>=3.3.0->ultralytics) (1.2.0)\n",
      "Requirement already satisfied: kiwisolver>=1.0.1 in /home/nikhil/anaconda3/envs/yolov8/lib/python3.9/site-packages (from matplotlib>=3.3.0->ultralytics) (1.4.4)\n",
      "Requirement already satisfied: python-dateutil>=2.7 in /home/nikhil/anaconda3/envs/yolov8/lib/python3.9/site-packages (from matplotlib>=3.3.0->ultralytics) (2.8.2)\n",
      "Requirement already satisfied: fonttools>=4.22.0 in /home/nikhil/anaconda3/envs/yolov8/lib/python3.9/site-packages (from matplotlib>=3.3.0->ultralytics) (4.25.0)\n",
      "Requirement already satisfied: pyparsing>=2.2.1 in /home/nikhil/anaconda3/envs/yolov8/lib/python3.9/site-packages (from matplotlib>=3.3.0->ultralytics) (3.0.9)\n",
      "Requirement already satisfied: cycler>=0.10 in /home/nikhil/anaconda3/envs/yolov8/lib/python3.9/site-packages (from matplotlib>=3.3.0->ultralytics) (0.11.0)\n",
      "Requirement already satisfied: packaging>=20.0 in /home/nikhil/anaconda3/envs/yolov8/lib/python3.9/site-packages (from matplotlib>=3.3.0->ultralytics) (23.1)\n",
      "Requirement already satisfied: tzdata>=2022.1 in /home/nikhil/anaconda3/envs/yolov8/lib/python3.9/site-packages (from pandas>=1.1.4->ultralytics) (2023.3)\n",
      "Requirement already satisfied: pytz>=2020.1 in /home/nikhil/anaconda3/envs/yolov8/lib/python3.9/site-packages (from pandas>=1.1.4->ultralytics) (2023.3.post1)\n",
      "Requirement already satisfied: idna<4,>=2.5 in /home/nikhil/anaconda3/envs/yolov8/lib/python3.9/site-packages (from requests>=2.23.0->ultralytics) (3.4)\n",
      "Requirement already satisfied: certifi>=2017.4.17 in /home/nikhil/anaconda3/envs/yolov8/lib/python3.9/site-packages (from requests>=2.23.0->ultralytics) (2023.11.17)\n",
      "Requirement already satisfied: charset-normalizer<4,>=2 in /home/nikhil/anaconda3/envs/yolov8/lib/python3.9/site-packages (from requests>=2.23.0->ultralytics) (2.0.4)\n",
      "Requirement already satisfied: urllib3<3,>=1.21.1 in /home/nikhil/anaconda3/envs/yolov8/lib/python3.9/site-packages (from requests>=2.23.0->ultralytics) (1.26.18)\n",
      "Requirement already satisfied: typing-extensions in /home/nikhil/anaconda3/envs/yolov8/lib/python3.9/site-packages (from torch>=1.8.0->ultralytics) (4.7.1)\n",
      "Requirement already satisfied: six>=1.5 in /home/nikhil/anaconda3/envs/yolov8/lib/python3.9/site-packages (from python-dateutil>=2.7->matplotlib>=3.3.0->ultralytics) (1.16.0)\n",
      "Note: you may need to restart the kernel to use updated packages.\n"
     ]
    }
   ],
   "source": [
    "pip install ultralytics"
   ]
  },
  {
   "cell_type": "code",
   "execution_count": 5,
   "id": "79fff1da",
   "metadata": {},
   "outputs": [],
   "source": [
    "from ultralytics import YOLO\n",
    "import cv2\n",
    "from pathlib import Path\n",
    "import numpy as np\n",
    "import matplotlib as mpl\n",
    "import matplotlib.pyplot as plt\n",
    "import os\n",
    "from types import SimpleNamespace\n",
    "import time\n",
    "from sklearn.model_selection import train_test_split\n",
    "from zipfile import ZipFile\n",
    "import shutil\n",
    "import glob"
   ]
  },
  {
   "cell_type": "code",
   "execution_count": 6,
   "id": "bc1a6e86",
   "metadata": {
    "scrolled": false
   },
   "outputs": [
    {
     "name": "stdout",
     "output_type": "stream",
     "text": [
      "New https://pypi.org/project/ultralytics/8.0.220 available 😃 Update with 'pip install -U ultralytics'\n",
      "Ultralytics YOLOv8.0.216 🚀 Python-3.9.7 torch-1.13.1+cu117 CUDA:0 (NVIDIA TITAN RTX, 24220MiB)\n",
      "WARNING ⚠️ Upgrade to torch>=2.0.0 for deterministic training.\n",
      "\u001b[34m\u001b[1mengine/trainer: \u001b[0mtask=segment, mode=train, model=yolov8m-seg.pt, data=/home/nikhil/Documents/Datasets/ego_hands dataset/ego_hands_crops_yolov8/ego_hands_crops.yaml, epochs=80, patience=50, batch=1, imgsz=640, save=True, save_period=-1, cache=False, device=None, workers=8, project=Ego-Hands, name=Ego_Hands_Segmentation, exist_ok=False, pretrained=True, optimizer=auto, verbose=True, seed=0, deterministic=True, single_cls=False, rect=False, cos_lr=False, close_mosaic=10, resume=False, amp=True, fraction=1.0, profile=False, freeze=None, overlap_mask=True, mask_ratio=4, dropout=0.0, val=True, split=val, save_json=False, save_hybrid=False, conf=None, iou=0.7, max_det=300, half=False, dnn=False, plots=True, source=None, show=False, save_txt=False, save_conf=False, save_crop=False, show_labels=True, show_conf=True, vid_stride=1, stream_buffer=False, line_width=None, visualize=False, augment=False, agnostic_nms=False, classes=None, retina_masks=False, boxes=True, format=torchscript, keras=False, optimize=False, int8=False, dynamic=False, simplify=False, opset=None, workspace=4, nms=False, lr0=0.01, lrf=0.01, momentum=0.937, weight_decay=0.0005, warmup_epochs=3.0, warmup_momentum=0.8, warmup_bias_lr=0.1, box=7.5, cls=0.5, dfl=1.5, pose=12.0, kobj=1.0, label_smoothing=0.0, nbs=64, hsv_h=0.015, hsv_s=0.7, hsv_v=0.4, degrees=0.0, translate=0.1, scale=0.5, shear=0.0, perspective=0.0, flipud=0.0, fliplr=0.5, mosaic=1.0, mixup=0.0, copy_paste=0.0, cfg=None, tracker=botsort.yaml, save_dir=Ego-Hands/Ego_Hands_Segmentation\n",
      "Overriding model.yaml nc=80 with nc=1\n",
      "\n",
      "                   from  n    params  module                                       arguments                     \n",
      "  0                  -1  1      1392  ultralytics.nn.modules.conv.Conv             [3, 48, 3, 2]                 \n",
      "  1                  -1  1     41664  ultralytics.nn.modules.conv.Conv             [48, 96, 3, 2]                \n",
      "  2                  -1  2    111360  ultralytics.nn.modules.block.C2f             [96, 96, 2, True]             \n",
      "  3                  -1  1    166272  ultralytics.nn.modules.conv.Conv             [96, 192, 3, 2]               \n",
      "  4                  -1  4    813312  ultralytics.nn.modules.block.C2f             [192, 192, 4, True]           \n",
      "  5                  -1  1    664320  ultralytics.nn.modules.conv.Conv             [192, 384, 3, 2]              \n",
      "  6                  -1  4   3248640  ultralytics.nn.modules.block.C2f             [384, 384, 4, True]           \n",
      "  7                  -1  1   1991808  ultralytics.nn.modules.conv.Conv             [384, 576, 3, 2]              \n",
      "  8                  -1  2   3985920  ultralytics.nn.modules.block.C2f             [576, 576, 2, True]           \n",
      "  9                  -1  1    831168  ultralytics.nn.modules.block.SPPF            [576, 576, 5]                 \n",
      " 10                  -1  1         0  torch.nn.modules.upsampling.Upsample         [None, 2, 'nearest']          \n",
      " 11             [-1, 6]  1         0  ultralytics.nn.modules.conv.Concat           [1]                           \n",
      " 12                  -1  2   1993728  ultralytics.nn.modules.block.C2f             [960, 384, 2]                 \n",
      " 13                  -1  1         0  torch.nn.modules.upsampling.Upsample         [None, 2, 'nearest']          \n",
      " 14             [-1, 4]  1         0  ultralytics.nn.modules.conv.Concat           [1]                           \n",
      " 15                  -1  2    517632  ultralytics.nn.modules.block.C2f             [576, 192, 2]                 \n",
      " 16                  -1  1    332160  ultralytics.nn.modules.conv.Conv             [192, 192, 3, 2]              \n",
      " 17            [-1, 12]  1         0  ultralytics.nn.modules.conv.Concat           [1]                           \n",
      " 18                  -1  2   1846272  ultralytics.nn.modules.block.C2f             [576, 384, 2]                 \n",
      " 19                  -1  1   1327872  ultralytics.nn.modules.conv.Conv             [384, 384, 3, 2]              \n",
      " 20             [-1, 9]  1         0  ultralytics.nn.modules.conv.Concat           [1]                           \n",
      " 21                  -1  2   4207104  ultralytics.nn.modules.block.C2f             [960, 576, 2]                 \n",
      " 22        [15, 18, 21]  1   5159603  ultralytics.nn.modules.head.Segment          [1, 32, 192, [192, 384, 576]] \n",
      "YOLOv8m-seg summary: 331 layers, 27240227 parameters, 27240211 gradients, 110.4 GFLOPs\n",
      "\n",
      "Transferred 531/537 items from pretrained weights\n"
     ]
    },
    {
     "name": "stderr",
     "output_type": "stream",
     "text": [
      "\u001b[34m\u001b[1mwandb\u001b[0m: Currently logged in as: \u001b[33mdugyalanikhil\u001b[0m. Use \u001b[1m`wandb login --relogin`\u001b[0m to force relogin\n"
     ]
    },
    {
     "data": {
      "text/html": [
       "wandb version 0.16.0 is available!  To upgrade, please run:\n",
       " $ pip install wandb --upgrade"
      ],
      "text/plain": [
       "<IPython.core.display.HTML object>"
      ]
     },
     "metadata": {},
     "output_type": "display_data"
    },
    {
     "data": {
      "text/html": [
       "Tracking run with wandb version 0.13.9"
      ],
      "text/plain": [
       "<IPython.core.display.HTML object>"
      ]
     },
     "metadata": {},
     "output_type": "display_data"
    },
    {
     "data": {
      "text/html": [
       "Run data is saved locally in <code>/home/nikhil/Documents/inseer_ML_Project/yolov8/Nikhil-yolov8 training/egohands_training_yolov8/wandb/run-20231129_222657-wuqi4r4k</code>"
      ],
      "text/plain": [
       "<IPython.core.display.HTML object>"
      ]
     },
     "metadata": {},
     "output_type": "display_data"
    },
    {
     "data": {
      "text/html": [
       "Syncing run <strong><a href=\"https://wandb.ai/dugyalanikhil/Ego-Hands/runs/wuqi4r4k\" target=\"_blank\">Ego_Hands_Segmentation</a></strong> to <a href=\"https://wandb.ai/dugyalanikhil/Ego-Hands\" target=\"_blank\">Weights & Biases</a> (<a href=\"https://wandb.me/run\" target=\"_blank\">docs</a>)<br/>"
      ],
      "text/plain": [
       "<IPython.core.display.HTML object>"
      ]
     },
     "metadata": {},
     "output_type": "display_data"
    },
    {
     "data": {
      "text/html": [
       " View project at <a href=\"https://wandb.ai/dugyalanikhil/Ego-Hands\" target=\"_blank\">https://wandb.ai/dugyalanikhil/Ego-Hands</a>"
      ],
      "text/plain": [
       "<IPython.core.display.HTML object>"
      ]
     },
     "metadata": {},
     "output_type": "display_data"
    },
    {
     "data": {
      "text/html": [
       " View run at <a href=\"https://wandb.ai/dugyalanikhil/Ego-Hands/runs/wuqi4r4k\" target=\"_blank\">https://wandb.ai/dugyalanikhil/Ego-Hands/runs/wuqi4r4k</a>"
      ],
      "text/plain": [
       "<IPython.core.display.HTML object>"
      ]
     },
     "metadata": {},
     "output_type": "display_data"
    },
    {
     "name": "stdout",
     "output_type": "stream",
     "text": [
      "Freezing layer 'model.22.dfl.conv.weight'\n",
      "\u001b[34m\u001b[1mAMP: \u001b[0mrunning Automatic Mixed Precision (AMP) checks with YOLOv8n...\n",
      "\u001b[34m\u001b[1mAMP: \u001b[0mchecks failed ❌. Anomalies were detected with AMP on your system that may lead to NaN losses or zero-mAP results, so AMP will be disabled during training.\n"
     ]
    },
    {
     "name": "stderr",
     "output_type": "stream",
     "text": [
      "\u001b[34m\u001b[1mtrain: \u001b[0mScanning /home/nikhil/Documents/Datasets/ego_hands dataset/ego_hands_crops_yolov8/train/labels.cache... 13694 images, 0 backgrounds, 0 corrupt: 100%|██████████| 13694/13694 [00:00<?, ?it/s]\n",
      "\u001b[34m\u001b[1mval: \u001b[0mScanning /home/nikhil/Documents/Datasets/ego_hands dataset/ego_hands_crops_yolov8/test/labels.cache... 1081 images, 0 backgrounds, 0 corrupt: 100%|██████████| 1081/1081 [00:00<?, ?it/s]\n"
     ]
    },
    {
     "name": "stdout",
     "output_type": "stream",
     "text": [
      "Plotting labels to Ego-Hands/Ego_Hands_Segmentation/labels.jpg... \n",
      "\u001b[34m\u001b[1moptimizer:\u001b[0m 'optimizer=auto' found, ignoring 'lr0=0.01' and 'momentum=0.937' and determining best 'optimizer', 'lr0' and 'momentum' automatically... \n",
      "\u001b[34m\u001b[1moptimizer:\u001b[0m SGD(lr=0.01, momentum=0.9) with parameter groups 86 weight(decay=0.0), 97 weight(decay=0.0005), 96 bias(decay=0.0)\n",
      "Image sizes 640 train, 640 val\n",
      "Using 0 dataloader workers\n",
      "Logging results to \u001b[1mEgo-Hands/Ego_Hands_Segmentation\u001b[0m\n",
      "Starting training for 80 epochs...\n",
      "\n",
      "      Epoch    GPU_mem   box_loss   seg_loss   cls_loss   dfl_loss  Instances       Size\n"
     ]
    },
    {
     "name": "stderr",
     "output_type": "stream",
     "text": [
      "       1/80      2.44G      1.165      2.185      1.069      1.474          4        640: 100%|██████████| 13694/13694 [23:27<00:00,  9.73it/s]\n",
      "                 Class     Images  Instances      Box(P          R      mAP50  mAP50-95)     Mask(P          R      mAP50  mAP50-95): 100%|██████████| 541/541 [00:18<00:00, 28.90it/s]"
     ]
    },
    {
     "name": "stdout",
     "output_type": "stream",
     "text": [
      "                   all       1081       1081      0.967      0.969      0.991      0.769      0.966      0.971      0.988      0.688\n"
     ]
    },
    {
     "name": "stderr",
     "output_type": "stream",
     "text": [
      "\n"
     ]
    },
    {
     "name": "stdout",
     "output_type": "stream",
     "text": [
      "\n",
      "      Epoch    GPU_mem   box_loss   seg_loss   cls_loss   dfl_loss  Instances       Size\n"
     ]
    },
    {
     "name": "stderr",
     "output_type": "stream",
     "text": [
      "       2/80      2.13G      1.149      2.083     0.8775      1.441          1        640: 100%|██████████| 13694/13694 [19:16<00:00, 11.84it/s]\n",
      "                 Class     Images  Instances      Box(P          R      mAP50  mAP50-95)     Mask(P          R      mAP50  mAP50-95): 100%|██████████| 541/541 [00:17<00:00, 31.70it/s]"
     ]
    },
    {
     "name": "stdout",
     "output_type": "stream",
     "text": [
      "                   all       1081       1081       0.96      0.973       0.99      0.762      0.953      0.967      0.987      0.688\n"
     ]
    },
    {
     "name": "stderr",
     "output_type": "stream",
     "text": [
      "\n"
     ]
    },
    {
     "name": "stdout",
     "output_type": "stream",
     "text": [
      "\n",
      "      Epoch    GPU_mem   box_loss   seg_loss   cls_loss   dfl_loss  Instances       Size\n"
     ]
    },
    {
     "name": "stderr",
     "output_type": "stream",
     "text": [
      "       3/80      2.02G      1.208      2.164     0.9399      1.484          4        640: 100%|██████████| 13694/13694 [18:40<00:00, 12.22it/s]\n",
      "                 Class     Images  Instances      Box(P          R      mAP50  mAP50-95)     Mask(P          R      mAP50  mAP50-95): 100%|██████████| 541/541 [00:17<00:00, 31.78it/s]"
     ]
    },
    {
     "name": "stdout",
     "output_type": "stream",
     "text": [
      "                   all       1081       1081      0.958      0.921      0.979      0.722      0.944      0.925      0.975      0.622\n"
     ]
    },
    {
     "name": "stderr",
     "output_type": "stream",
     "text": [
      "\n"
     ]
    },
    {
     "name": "stdout",
     "output_type": "stream",
     "text": [
      "\n",
      "      Epoch    GPU_mem   box_loss   seg_loss   cls_loss   dfl_loss  Instances       Size\n"
     ]
    },
    {
     "name": "stderr",
     "output_type": "stream",
     "text": [
      "       4/80      2.03G      1.236      2.186     0.9623      1.498          3        640: 100%|██████████| 13694/13694 [18:35<00:00, 12.28it/s]\n",
      "                 Class     Images  Instances      Box(P          R      mAP50  mAP50-95)     Mask(P          R      mAP50  mAP50-95): 100%|██████████| 541/541 [00:16<00:00, 31.84it/s]"
     ]
    },
    {
     "name": "stdout",
     "output_type": "stream",
     "text": [
      "                   all       1081       1081      0.935      0.911      0.965      0.711      0.921      0.917      0.958      0.622\n"
     ]
    },
    {
     "name": "stderr",
     "output_type": "stream",
     "text": [
      "\n"
     ]
    },
    {
     "name": "stdout",
     "output_type": "stream",
     "text": [
      "\n",
      "      Epoch    GPU_mem   box_loss   seg_loss   cls_loss   dfl_loss  Instances       Size\n"
     ]
    },
    {
     "name": "stderr",
     "output_type": "stream",
     "text": [
      "       5/80      2.04G      1.182      2.105     0.8842      1.464          4        640: 100%|██████████| 13694/13694 [18:36<00:00, 12.26it/s]\n",
      "                 Class     Images  Instances      Box(P          R      mAP50  mAP50-95)     Mask(P          R      mAP50  mAP50-95): 100%|██████████| 541/541 [00:16<00:00, 32.50it/s]"
     ]
    },
    {
     "name": "stdout",
     "output_type": "stream",
     "text": [
      "                   all       1081       1081      0.958      0.975      0.991      0.756      0.959      0.972      0.988      0.674\n"
     ]
    },
    {
     "name": "stderr",
     "output_type": "stream",
     "text": [
      "\n"
     ]
    },
    {
     "name": "stdout",
     "output_type": "stream",
     "text": [
      "\n",
      "      Epoch    GPU_mem   box_loss   seg_loss   cls_loss   dfl_loss  Instances       Size\n"
     ]
    },
    {
     "name": "stderr",
     "output_type": "stream",
     "text": [
      "       6/80      2.02G      1.145      2.067     0.8274      1.433          2        640: 100%|██████████| 13694/13694 [18:35<00:00, 12.28it/s]\n",
      "                 Class     Images  Instances      Box(P          R      mAP50  mAP50-95)     Mask(P          R      mAP50  mAP50-95): 100%|██████████| 541/541 [00:16<00:00, 32.18it/s]"
     ]
    },
    {
     "name": "stdout",
     "output_type": "stream",
     "text": [
      "                   all       1081       1081      0.969      0.956      0.991      0.766      0.961       0.96      0.987      0.681\n"
     ]
    },
    {
     "name": "stderr",
     "output_type": "stream",
     "text": [
      "\n"
     ]
    },
    {
     "name": "stdout",
     "output_type": "stream",
     "text": [
      "\n",
      "      Epoch    GPU_mem   box_loss   seg_loss   cls_loss   dfl_loss  Instances       Size\n"
     ]
    },
    {
     "name": "stderr",
     "output_type": "stream",
     "text": [
      "       7/80      2.03G      1.123      2.015     0.8018      1.417          1        640: 100%|██████████| 13694/13694 [18:37<00:00, 12.25it/s]\n",
      "                 Class     Images  Instances      Box(P          R      mAP50  mAP50-95)     Mask(P          R      mAP50  mAP50-95): 100%|██████████| 541/541 [00:16<00:00, 32.97it/s]"
     ]
    },
    {
     "name": "stdout",
     "output_type": "stream",
     "text": [
      "                   all       1081       1081      0.968      0.969      0.992      0.774      0.963      0.964      0.989      0.684\n"
     ]
    },
    {
     "name": "stderr",
     "output_type": "stream",
     "text": [
      "\n"
     ]
    },
    {
     "name": "stdout",
     "output_type": "stream",
     "text": [
      "\n",
      "      Epoch    GPU_mem   box_loss   seg_loss   cls_loss   dfl_loss  Instances       Size\n"
     ]
    },
    {
     "name": "stderr",
     "output_type": "stream",
     "text": [
      "       8/80      2.02G      1.097      1.981     0.7636      1.398          1        640: 100%|██████████| 13694/13694 [18:38<00:00, 12.24it/s]\n",
      "                 Class     Images  Instances      Box(P          R      mAP50  mAP50-95)     Mask(P          R      mAP50  mAP50-95): 100%|██████████| 541/541 [00:16<00:00, 32.63it/s]"
     ]
    },
    {
     "name": "stdout",
     "output_type": "stream",
     "text": [
      "                   all       1081       1081      0.976      0.973      0.994      0.781      0.975      0.972      0.993      0.691\n"
     ]
    },
    {
     "name": "stderr",
     "output_type": "stream",
     "text": [
      "\n"
     ]
    },
    {
     "name": "stdout",
     "output_type": "stream",
     "text": [
      "\n",
      "      Epoch    GPU_mem   box_loss   seg_loss   cls_loss   dfl_loss  Instances       Size\n"
     ]
    },
    {
     "name": "stderr",
     "output_type": "stream",
     "text": [
      "       9/80      2.03G      1.071      1.947     0.7231      1.381          3        640: 100%|██████████| 13694/13694 [18:40<00:00, 12.23it/s]\n",
      "                 Class     Images  Instances      Box(P          R      mAP50  mAP50-95)     Mask(P          R      mAP50  mAP50-95): 100%|██████████| 541/541 [00:16<00:00, 32.09it/s]"
     ]
    },
    {
     "name": "stdout",
     "output_type": "stream",
     "text": [
      "                   all       1081       1081      0.975      0.978      0.993      0.769      0.973      0.967      0.992      0.692\n"
     ]
    },
    {
     "name": "stderr",
     "output_type": "stream",
     "text": [
      "\n"
     ]
    },
    {
     "name": "stdout",
     "output_type": "stream",
     "text": [
      "\n",
      "      Epoch    GPU_mem   box_loss   seg_loss   cls_loss   dfl_loss  Instances       Size\n"
     ]
    },
    {
     "name": "stderr",
     "output_type": "stream",
     "text": [
      "      10/80      2.02G      1.065      1.921     0.7177      1.365          4        640: 100%|██████████| 13694/13694 [18:37<00:00, 12.26it/s]\n",
      "                 Class     Images  Instances      Box(P          R      mAP50  mAP50-95)     Mask(P          R      mAP50  mAP50-95): 100%|██████████| 541/541 [00:16<00:00, 32.36it/s]"
     ]
    },
    {
     "name": "stdout",
     "output_type": "stream",
     "text": [
      "                   all       1081       1081      0.981      0.986      0.994       0.79      0.979      0.984      0.994      0.702\n"
     ]
    },
    {
     "name": "stderr",
     "output_type": "stream",
     "text": [
      "\n"
     ]
    },
    {
     "name": "stdout",
     "output_type": "stream",
     "text": [
      "\n",
      "      Epoch    GPU_mem   box_loss   seg_loss   cls_loss   dfl_loss  Instances       Size\n"
     ]
    },
    {
     "name": "stderr",
     "output_type": "stream",
     "text": [
      "      11/80      2.04G      1.057      1.907     0.6945      1.356          1        640: 100%|██████████| 13694/13694 [18:38<00:00, 12.24it/s]\n",
      "                 Class     Images  Instances      Box(P          R      mAP50  mAP50-95)     Mask(P          R      mAP50  mAP50-95): 100%|██████████| 541/541 [00:16<00:00, 32.30it/s]"
     ]
    },
    {
     "name": "stdout",
     "output_type": "stream",
     "text": [
      "                   all       1081       1081      0.986      0.984      0.994      0.793      0.984      0.983      0.994      0.707\n"
     ]
    },
    {
     "name": "stderr",
     "output_type": "stream",
     "text": [
      "\n"
     ]
    },
    {
     "name": "stdout",
     "output_type": "stream",
     "text": [
      "\n",
      "      Epoch    GPU_mem   box_loss   seg_loss   cls_loss   dfl_loss  Instances       Size\n"
     ]
    },
    {
     "name": "stderr",
     "output_type": "stream",
     "text": [
      "      12/80      2.03G      1.045      1.894     0.6878       1.35          2        640: 100%|██████████| 13694/13694 [18:38<00:00, 12.25it/s]\n",
      "                 Class     Images  Instances      Box(P          R      mAP50  mAP50-95)     Mask(P          R      mAP50  mAP50-95): 100%|██████████| 541/541 [00:16<00:00, 32.54it/s]"
     ]
    },
    {
     "name": "stdout",
     "output_type": "stream",
     "text": [
      "                   all       1081       1081       0.99      0.978      0.994      0.793      0.991      0.979      0.994      0.697\n"
     ]
    },
    {
     "name": "stderr",
     "output_type": "stream",
     "text": [
      "\n"
     ]
    },
    {
     "name": "stdout",
     "output_type": "stream",
     "text": [
      "\n",
      "      Epoch    GPU_mem   box_loss   seg_loss   cls_loss   dfl_loss  Instances       Size\n"
     ]
    },
    {
     "name": "stderr",
     "output_type": "stream",
     "text": [
      "      13/80      2.04G      1.032       1.89      0.668       1.34          1        640: 100%|██████████| 13694/13694 [18:36<00:00, 12.27it/s]\n",
      "                 Class     Images  Instances      Box(P          R      mAP50  mAP50-95)     Mask(P          R      mAP50  mAP50-95): 100%|██████████| 541/541 [00:16<00:00, 32.29it/s]"
     ]
    },
    {
     "name": "stdout",
     "output_type": "stream",
     "text": [
      "                   all       1081       1081      0.978      0.987      0.994      0.798      0.979      0.988      0.994      0.708\n"
     ]
    },
    {
     "name": "stderr",
     "output_type": "stream",
     "text": [
      "\n"
     ]
    },
    {
     "name": "stdout",
     "output_type": "stream",
     "text": [
      "\n",
      "      Epoch    GPU_mem   box_loss   seg_loss   cls_loss   dfl_loss  Instances       Size\n"
     ]
    },
    {
     "name": "stderr",
     "output_type": "stream",
     "text": [
      "      14/80      2.03G      1.023      1.857     0.6457      1.341          1        640: 100%|██████████| 13694/13694 [18:36<00:00, 12.26it/s]\n",
      "                 Class     Images  Instances      Box(P          R      mAP50  mAP50-95)     Mask(P          R      mAP50  mAP50-95): 100%|██████████| 541/541 [00:16<00:00, 32.12it/s]"
     ]
    },
    {
     "name": "stdout",
     "output_type": "stream",
     "text": [
      "                   all       1081       1081      0.988      0.983      0.994      0.792      0.988      0.983      0.994      0.704\n"
     ]
    },
    {
     "name": "stderr",
     "output_type": "stream",
     "text": [
      "\n"
     ]
    },
    {
     "name": "stdout",
     "output_type": "stream",
     "text": [
      "\n",
      "      Epoch    GPU_mem   box_loss   seg_loss   cls_loss   dfl_loss  Instances       Size\n"
     ]
    },
    {
     "name": "stderr",
     "output_type": "stream",
     "text": [
      "      15/80      2.03G      1.017      1.857     0.6384      1.328          2        640: 100%|██████████| 13694/13694 [18:36<00:00, 12.26it/s]\n",
      "                 Class     Images  Instances      Box(P          R      mAP50  mAP50-95)     Mask(P          R      mAP50  mAP50-95): 100%|██████████| 541/541 [00:16<00:00, 31.98it/s]"
     ]
    },
    {
     "name": "stdout",
     "output_type": "stream",
     "text": [
      "                   all       1081       1081      0.984      0.984      0.994      0.802      0.986       0.98      0.994      0.712\n"
     ]
    },
    {
     "name": "stderr",
     "output_type": "stream",
     "text": [
      "\n"
     ]
    },
    {
     "name": "stdout",
     "output_type": "stream",
     "text": [
      "\n",
      "      Epoch    GPU_mem   box_loss   seg_loss   cls_loss   dfl_loss  Instances       Size\n"
     ]
    },
    {
     "name": "stderr",
     "output_type": "stream",
     "text": [
      "      16/80      2.04G      1.006      1.842      0.628      1.317          4        640: 100%|██████████| 13694/13694 [18:38<00:00, 12.25it/s]\n",
      "                 Class     Images  Instances      Box(P          R      mAP50  mAP50-95)     Mask(P          R      mAP50  mAP50-95): 100%|██████████| 541/541 [00:16<00:00, 32.85it/s]"
     ]
    },
    {
     "name": "stdout",
     "output_type": "stream",
     "text": [
      "                   all       1081       1081      0.985      0.989      0.995      0.805      0.988      0.981      0.994      0.715\n"
     ]
    },
    {
     "name": "stderr",
     "output_type": "stream",
     "text": [
      "\n"
     ]
    },
    {
     "name": "stdout",
     "output_type": "stream",
     "text": [
      "\n",
      "      Epoch    GPU_mem   box_loss   seg_loss   cls_loss   dfl_loss  Instances       Size\n"
     ]
    },
    {
     "name": "stderr",
     "output_type": "stream",
     "text": [
      "      17/80      2.04G     0.9984      1.844      0.627      1.319          2        640: 100%|██████████| 13694/13694 [18:37<00:00, 12.25it/s]\n",
      "                 Class     Images  Instances      Box(P          R      mAP50  mAP50-95)     Mask(P          R      mAP50  mAP50-95): 100%|██████████| 541/541 [00:16<00:00, 32.39it/s]"
     ]
    },
    {
     "name": "stdout",
     "output_type": "stream",
     "text": [
      "                   all       1081       1081      0.991      0.982      0.995      0.816       0.99      0.981      0.994      0.729\n"
     ]
    },
    {
     "name": "stderr",
     "output_type": "stream",
     "text": [
      "\n"
     ]
    },
    {
     "name": "stdout",
     "output_type": "stream",
     "text": [
      "\n",
      "      Epoch    GPU_mem   box_loss   seg_loss   cls_loss   dfl_loss  Instances       Size\n"
     ]
    },
    {
     "name": "stderr",
     "output_type": "stream",
     "text": [
      "      18/80      2.04G     0.9911      1.816     0.6126       1.31          2        640: 100%|██████████| 13694/13694 [18:37<00:00, 12.26it/s]\n",
      "                 Class     Images  Instances      Box(P          R      mAP50  mAP50-95)     Mask(P          R      mAP50  mAP50-95): 100%|██████████| 541/541 [00:16<00:00, 33.07it/s]"
     ]
    },
    {
     "name": "stdout",
     "output_type": "stream",
     "text": [
      "                   all       1081       1081      0.985      0.989      0.994      0.818      0.985      0.989      0.994      0.723\n"
     ]
    },
    {
     "name": "stderr",
     "output_type": "stream",
     "text": [
      "\n"
     ]
    },
    {
     "name": "stdout",
     "output_type": "stream",
     "text": [
      "\n",
      "      Epoch    GPU_mem   box_loss   seg_loss   cls_loss   dfl_loss  Instances       Size\n"
     ]
    },
    {
     "name": "stderr",
     "output_type": "stream",
     "text": [
      "      19/80      2.02G     0.9896      1.824     0.6121      1.311          2        640: 100%|██████████| 13694/13694 [18:40<00:00, 12.22it/s]\n",
      "                 Class     Images  Instances      Box(P          R      mAP50  mAP50-95)     Mask(P          R      mAP50  mAP50-95): 100%|██████████| 541/541 [00:16<00:00, 32.39it/s]"
     ]
    },
    {
     "name": "stdout",
     "output_type": "stream",
     "text": [
      "                   all       1081       1081      0.989      0.992      0.995      0.808      0.987       0.99      0.995      0.718\n"
     ]
    },
    {
     "name": "stderr",
     "output_type": "stream",
     "text": [
      "\n"
     ]
    },
    {
     "name": "stdout",
     "output_type": "stream",
     "text": [
      "\n",
      "      Epoch    GPU_mem   box_loss   seg_loss   cls_loss   dfl_loss  Instances       Size\n"
     ]
    },
    {
     "name": "stderr",
     "output_type": "stream",
     "text": [
      "      20/80      2.03G     0.9728      1.792     0.5948      1.295          4        640: 100%|██████████| 13694/13694 [18:37<00:00, 12.26it/s]\n",
      "                 Class     Images  Instances      Box(P          R      mAP50  mAP50-95)     Mask(P          R      mAP50  mAP50-95): 100%|██████████| 541/541 [00:16<00:00, 33.50it/s]"
     ]
    },
    {
     "name": "stdout",
     "output_type": "stream",
     "text": [
      "                   all       1081       1081      0.988      0.989      0.994       0.82      0.988      0.989      0.994      0.724\n"
     ]
    },
    {
     "name": "stderr",
     "output_type": "stream",
     "text": [
      "\n"
     ]
    },
    {
     "name": "stdout",
     "output_type": "stream",
     "text": [
      "\n",
      "      Epoch    GPU_mem   box_loss   seg_loss   cls_loss   dfl_loss  Instances       Size\n"
     ]
    },
    {
     "name": "stderr",
     "output_type": "stream",
     "text": [
      "      21/80      2.02G     0.9701      1.779     0.5788      1.292          2        640: 100%|██████████| 13694/13694 [18:36<00:00, 12.27it/s]\n",
      "                 Class     Images  Instances      Box(P          R      mAP50  mAP50-95)     Mask(P          R      mAP50  mAP50-95): 100%|██████████| 541/541 [00:16<00:00, 32.59it/s]"
     ]
    },
    {
     "name": "stdout",
     "output_type": "stream",
     "text": [
      "                   all       1081       1081      0.993      0.991      0.995      0.806      0.993      0.991      0.995      0.719\n"
     ]
    },
    {
     "name": "stderr",
     "output_type": "stream",
     "text": [
      "\n"
     ]
    },
    {
     "name": "stdout",
     "output_type": "stream",
     "text": [
      "\n",
      "      Epoch    GPU_mem   box_loss   seg_loss   cls_loss   dfl_loss  Instances       Size\n"
     ]
    },
    {
     "name": "stderr",
     "output_type": "stream",
     "text": [
      "      22/80      2.04G     0.9627       1.79     0.5782      1.285          2        640: 100%|██████████| 13694/13694 [18:35<00:00, 12.27it/s]\n",
      "                 Class     Images  Instances      Box(P          R      mAP50  mAP50-95)     Mask(P          R      mAP50  mAP50-95): 100%|██████████| 541/541 [00:16<00:00, 33.33it/s]"
     ]
    },
    {
     "name": "stdout",
     "output_type": "stream",
     "text": [
      "                   all       1081       1081      0.992       0.99      0.995      0.815      0.991      0.989      0.995      0.722\n"
     ]
    },
    {
     "name": "stderr",
     "output_type": "stream",
     "text": [
      "\n"
     ]
    },
    {
     "name": "stdout",
     "output_type": "stream",
     "text": [
      "\n",
      "      Epoch    GPU_mem   box_loss   seg_loss   cls_loss   dfl_loss  Instances       Size\n"
     ]
    },
    {
     "name": "stderr",
     "output_type": "stream",
     "text": [
      "      23/80      2.04G     0.9606       1.76     0.5786      1.285          3        640: 100%|██████████| 13694/13694 [18:36<00:00, 12.27it/s]\n",
      "                 Class     Images  Instances      Box(P          R      mAP50  mAP50-95)     Mask(P          R      mAP50  mAP50-95): 100%|██████████| 541/541 [00:16<00:00, 31.82it/s]"
     ]
    },
    {
     "name": "stdout",
     "output_type": "stream",
     "text": [
      "                   all       1081       1081       0.99      0.992      0.995      0.824      0.989      0.991      0.995       0.73\n"
     ]
    },
    {
     "name": "stderr",
     "output_type": "stream",
     "text": [
      "\n"
     ]
    },
    {
     "name": "stdout",
     "output_type": "stream",
     "text": [
      "\n",
      "      Epoch    GPU_mem   box_loss   seg_loss   cls_loss   dfl_loss  Instances       Size\n"
     ]
    },
    {
     "name": "stderr",
     "output_type": "stream",
     "text": [
      "      24/80      2.03G     0.9598      1.761     0.5695      1.274          1        640: 100%|██████████| 13694/13694 [18:36<00:00, 12.26it/s]\n",
      "                 Class     Images  Instances      Box(P          R      mAP50  mAP50-95)     Mask(P          R      mAP50  mAP50-95): 100%|██████████| 541/541 [00:16<00:00, 32.34it/s]"
     ]
    },
    {
     "name": "stdout",
     "output_type": "stream",
     "text": [
      "                   all       1081       1081      0.993      0.994      0.995      0.815      0.993      0.994      0.995      0.732\n"
     ]
    },
    {
     "name": "stderr",
     "output_type": "stream",
     "text": [
      "\n"
     ]
    },
    {
     "name": "stdout",
     "output_type": "stream",
     "text": [
      "\n",
      "      Epoch    GPU_mem   box_loss   seg_loss   cls_loss   dfl_loss  Instances       Size\n"
     ]
    },
    {
     "name": "stderr",
     "output_type": "stream",
     "text": [
      "      25/80      2.03G     0.9433      1.754     0.5589      1.269          3        640: 100%|██████████| 13694/13694 [18:37<00:00, 12.25it/s]\n",
      "                 Class     Images  Instances      Box(P          R      mAP50  mAP50-95)     Mask(P          R      mAP50  mAP50-95): 100%|██████████| 541/541 [00:16<00:00, 31.88it/s]"
     ]
    },
    {
     "name": "stdout",
     "output_type": "stream",
     "text": [
      "                   all       1081       1081      0.995      0.992      0.995      0.818      0.994      0.991      0.995       0.73\n"
     ]
    },
    {
     "name": "stderr",
     "output_type": "stream",
     "text": [
      "\n"
     ]
    },
    {
     "name": "stdout",
     "output_type": "stream",
     "text": [
      "\n",
      "      Epoch    GPU_mem   box_loss   seg_loss   cls_loss   dfl_loss  Instances       Size\n"
     ]
    },
    {
     "name": "stderr",
     "output_type": "stream",
     "text": [
      "      26/80      2.04G     0.9436      1.751     0.5582      1.269          4        640: 100%|██████████| 13694/13694 [18:38<00:00, 12.24it/s]\n",
      "                 Class     Images  Instances      Box(P          R      mAP50  mAP50-95)     Mask(P          R      mAP50  mAP50-95): 100%|██████████| 541/541 [00:16<00:00, 32.47it/s]"
     ]
    },
    {
     "name": "stdout",
     "output_type": "stream",
     "text": [
      "                   all       1081       1081       0.99      0.992      0.995      0.829      0.989      0.991      0.995      0.737\n"
     ]
    },
    {
     "name": "stderr",
     "output_type": "stream",
     "text": [
      "\n"
     ]
    },
    {
     "name": "stdout",
     "output_type": "stream",
     "text": [
      "\n",
      "      Epoch    GPU_mem   box_loss   seg_loss   cls_loss   dfl_loss  Instances       Size\n"
     ]
    },
    {
     "name": "stderr",
     "output_type": "stream",
     "text": [
      "      27/80      2.04G     0.9416      1.753     0.5524      1.267          2        640: 100%|██████████| 13694/13694 [18:37<00:00, 12.25it/s]\n",
      "                 Class     Images  Instances      Box(P          R      mAP50  mAP50-95)     Mask(P          R      mAP50  mAP50-95): 100%|██████████| 541/541 [00:16<00:00, 32.71it/s]"
     ]
    },
    {
     "name": "stdout",
     "output_type": "stream",
     "text": [
      "                   all       1081       1081      0.994      0.992      0.995      0.826      0.995      0.992      0.995      0.731\n"
     ]
    },
    {
     "name": "stderr",
     "output_type": "stream",
     "text": [
      "\n"
     ]
    },
    {
     "name": "stdout",
     "output_type": "stream",
     "text": [
      "\n",
      "      Epoch    GPU_mem   box_loss   seg_loss   cls_loss   dfl_loss  Instances       Size\n"
     ]
    },
    {
     "name": "stderr",
     "output_type": "stream",
     "text": [
      "      28/80      2.04G     0.9312       1.74      0.548      1.263          1        640: 100%|██████████| 13694/13694 [18:39<00:00, 12.23it/s]\n",
      "                 Class     Images  Instances      Box(P          R      mAP50  mAP50-95)     Mask(P          R      mAP50  mAP50-95): 100%|██████████| 541/541 [00:16<00:00, 32.64it/s]"
     ]
    },
    {
     "name": "stdout",
     "output_type": "stream",
     "text": [
      "                   all       1081       1081      0.988      0.994      0.995      0.821      0.988      0.994      0.995      0.731\n"
     ]
    },
    {
     "name": "stderr",
     "output_type": "stream",
     "text": [
      "\n"
     ]
    },
    {
     "name": "stdout",
     "output_type": "stream",
     "text": [
      "\n",
      "      Epoch    GPU_mem   box_loss   seg_loss   cls_loss   dfl_loss  Instances       Size\n"
     ]
    },
    {
     "name": "stderr",
     "output_type": "stream",
     "text": [
      "      29/80      2.04G     0.9268      1.739     0.5426      1.253          4        640: 100%|██████████| 13694/13694 [18:39<00:00, 12.23it/s]\n",
      "                 Class     Images  Instances      Box(P          R      mAP50  mAP50-95)     Mask(P          R      mAP50  mAP50-95): 100%|██████████| 541/541 [00:16<00:00, 32.28it/s]"
     ]
    },
    {
     "name": "stdout",
     "output_type": "stream",
     "text": [
      "                   all       1081       1081      0.991      0.985      0.995      0.821      0.989      0.983      0.995      0.731\n"
     ]
    },
    {
     "name": "stderr",
     "output_type": "stream",
     "text": [
      "\n"
     ]
    },
    {
     "name": "stdout",
     "output_type": "stream",
     "text": [
      "\n",
      "      Epoch    GPU_mem   box_loss   seg_loss   cls_loss   dfl_loss  Instances       Size\n"
     ]
    },
    {
     "name": "stderr",
     "output_type": "stream",
     "text": [
      "      30/80      2.03G      0.919      1.725     0.5399      1.252          2        640: 100%|██████████| 13694/13694 [18:38<00:00, 12.24it/s]\n",
      "                 Class     Images  Instances      Box(P          R      mAP50  mAP50-95)     Mask(P          R      mAP50  mAP50-95): 100%|██████████| 541/541 [00:16<00:00, 32.58it/s]"
     ]
    },
    {
     "name": "stdout",
     "output_type": "stream",
     "text": [
      "                   all       1081       1081      0.993      0.992      0.995      0.816      0.992      0.991      0.995      0.724\n"
     ]
    },
    {
     "name": "stderr",
     "output_type": "stream",
     "text": [
      "\n"
     ]
    },
    {
     "name": "stdout",
     "output_type": "stream",
     "text": [
      "\n",
      "      Epoch    GPU_mem   box_loss   seg_loss   cls_loss   dfl_loss  Instances       Size\n"
     ]
    },
    {
     "name": "stderr",
     "output_type": "stream",
     "text": [
      "      31/80      2.04G     0.9217      1.711     0.5353      1.247          1        640: 100%|██████████| 13694/13694 [18:38<00:00, 12.25it/s]\n",
      "                 Class     Images  Instances      Box(P          R      mAP50  mAP50-95)     Mask(P          R      mAP50  mAP50-95): 100%|██████████| 541/541 [00:16<00:00, 32.32it/s]\n"
     ]
    },
    {
     "name": "stdout",
     "output_type": "stream",
     "text": [
      "                   all       1081       1081      0.994      0.993      0.995      0.816      0.994      0.993      0.995      0.726\n",
      "\n",
      "      Epoch    GPU_mem   box_loss   seg_loss   cls_loss   dfl_loss  Instances       Size\n"
     ]
    },
    {
     "name": "stderr",
     "output_type": "stream",
     "text": [
      "      32/80      2.03G     0.9182      1.709     0.5357      1.238          2        640: 100%|██████████| 13694/13694 [18:35<00:00, 12.27it/s]\n",
      "                 Class     Images  Instances      Box(P          R      mAP50  mAP50-95)     Mask(P          R      mAP50  mAP50-95): 100%|██████████| 541/541 [00:16<00:00, 32.19it/s]"
     ]
    },
    {
     "name": "stdout",
     "output_type": "stream",
     "text": [
      "                   all       1081       1081      0.994      0.992      0.995       0.82      0.994      0.989      0.995      0.733\n"
     ]
    },
    {
     "name": "stderr",
     "output_type": "stream",
     "text": [
      "\n"
     ]
    },
    {
     "name": "stdout",
     "output_type": "stream",
     "text": [
      "\n",
      "      Epoch    GPU_mem   box_loss   seg_loss   cls_loss   dfl_loss  Instances       Size\n"
     ]
    },
    {
     "name": "stderr",
     "output_type": "stream",
     "text": [
      "      33/80      2.04G     0.9141      1.705     0.5332      1.245          4        640: 100%|██████████| 13694/13694 [18:36<00:00, 12.27it/s]\n",
      "                 Class     Images  Instances      Box(P          R      mAP50  mAP50-95)     Mask(P          R      mAP50  mAP50-95): 100%|██████████| 541/541 [00:16<00:00, 32.91it/s]"
     ]
    },
    {
     "name": "stdout",
     "output_type": "stream",
     "text": [
      "                   all       1081       1081      0.992      0.995      0.995      0.822      0.989      0.993      0.995      0.731\n"
     ]
    },
    {
     "name": "stderr",
     "output_type": "stream",
     "text": [
      "\n"
     ]
    },
    {
     "name": "stdout",
     "output_type": "stream",
     "text": [
      "\n",
      "      Epoch    GPU_mem   box_loss   seg_loss   cls_loss   dfl_loss  Instances       Size\n"
     ]
    },
    {
     "name": "stderr",
     "output_type": "stream",
     "text": [
      "      34/80      2.02G     0.9099      1.694     0.5216       1.25          2        640: 100%|██████████| 13694/13694 [18:38<00:00, 12.24it/s]\n",
      "                 Class     Images  Instances      Box(P          R      mAP50  mAP50-95)     Mask(P          R      mAP50  mAP50-95): 100%|██████████| 541/541 [00:16<00:00, 32.51it/s]"
     ]
    },
    {
     "name": "stdout",
     "output_type": "stream",
     "text": [
      "                   all       1081       1081      0.994      0.992      0.995      0.823      0.994      0.991      0.995      0.733\n"
     ]
    },
    {
     "name": "stderr",
     "output_type": "stream",
     "text": [
      "\n"
     ]
    },
    {
     "name": "stdout",
     "output_type": "stream",
     "text": [
      "\n",
      "      Epoch    GPU_mem   box_loss   seg_loss   cls_loss   dfl_loss  Instances       Size\n"
     ]
    },
    {
     "name": "stderr",
     "output_type": "stream",
     "text": [
      "      35/80      2.03G     0.9065      1.692     0.5202      1.237          3        640: 100%|██████████| 13694/13694 [18:36<00:00, 12.26it/s]\n",
      "                 Class     Images  Instances      Box(P          R      mAP50  mAP50-95)     Mask(P          R      mAP50  mAP50-95): 100%|██████████| 541/541 [00:16<00:00, 33.25it/s]"
     ]
    },
    {
     "name": "stdout",
     "output_type": "stream",
     "text": [
      "                   all       1081       1081      0.995      0.992      0.995      0.823      0.995      0.991      0.995       0.73\n"
     ]
    },
    {
     "name": "stderr",
     "output_type": "stream",
     "text": [
      "\n"
     ]
    },
    {
     "name": "stdout",
     "output_type": "stream",
     "text": [
      "\n",
      "      Epoch    GPU_mem   box_loss   seg_loss   cls_loss   dfl_loss  Instances       Size\n"
     ]
    },
    {
     "name": "stderr",
     "output_type": "stream",
     "text": [
      "      36/80      2.04G     0.8944       1.69     0.5118       1.23          1        640: 100%|██████████| 13694/13694 [18:38<00:00, 12.24it/s]\n",
      "                 Class     Images  Instances      Box(P          R      mAP50  mAP50-95)     Mask(P          R      mAP50  mAP50-95): 100%|██████████| 541/541 [00:16<00:00, 32.69it/s]"
     ]
    },
    {
     "name": "stdout",
     "output_type": "stream",
     "text": [
      "                   all       1081       1081      0.988       0.99      0.995      0.819      0.988       0.99      0.995      0.736\n"
     ]
    },
    {
     "name": "stderr",
     "output_type": "stream",
     "text": [
      "\n"
     ]
    },
    {
     "name": "stdout",
     "output_type": "stream",
     "text": [
      "\n",
      "      Epoch    GPU_mem   box_loss   seg_loss   cls_loss   dfl_loss  Instances       Size\n"
     ]
    },
    {
     "name": "stderr",
     "output_type": "stream",
     "text": [
      "      37/80      2.02G     0.8948      1.679     0.5104      1.225          4        640: 100%|██████████| 13694/13694 [19:11<00:00, 11.89it/s]\n",
      "                 Class     Images  Instances      Box(P          R      mAP50  mAP50-95)     Mask(P          R      mAP50  mAP50-95): 100%|██████████| 541/541 [00:17<00:00, 31.47it/s]"
     ]
    },
    {
     "name": "stdout",
     "output_type": "stream",
     "text": [
      "                   all       1081       1081      0.993      0.993      0.995      0.823      0.992      0.992      0.995      0.739\n"
     ]
    },
    {
     "name": "stderr",
     "output_type": "stream",
     "text": [
      "\n"
     ]
    },
    {
     "name": "stdout",
     "output_type": "stream",
     "text": [
      "\n",
      "      Epoch    GPU_mem   box_loss   seg_loss   cls_loss   dfl_loss  Instances       Size\n"
     ]
    },
    {
     "name": "stderr",
     "output_type": "stream",
     "text": [
      "      38/80      2.03G     0.8935      1.675     0.5042      1.223          1        640: 100%|██████████| 13694/13694 [19:08<00:00, 11.92it/s]\n",
      "                 Class     Images  Instances      Box(P          R      mAP50  mAP50-95)     Mask(P          R      mAP50  mAP50-95): 100%|██████████| 541/541 [00:17<00:00, 31.41it/s]"
     ]
    },
    {
     "name": "stdout",
     "output_type": "stream",
     "text": [
      "                   all       1081       1081      0.989      0.995      0.995      0.823      0.987      0.994      0.995      0.736\n"
     ]
    },
    {
     "name": "stderr",
     "output_type": "stream",
     "text": [
      "\n"
     ]
    },
    {
     "name": "stdout",
     "output_type": "stream",
     "text": [
      "\n",
      "      Epoch    GPU_mem   box_loss   seg_loss   cls_loss   dfl_loss  Instances       Size\n"
     ]
    },
    {
     "name": "stderr",
     "output_type": "stream",
     "text": [
      "      39/80      2.03G     0.8904      1.678     0.5054      1.227          3        640: 100%|██████████| 13694/13694 [18:54<00:00, 12.07it/s]\n",
      "                 Class     Images  Instances      Box(P          R      mAP50  mAP50-95)     Mask(P          R      mAP50  mAP50-95): 100%|██████████| 541/541 [00:16<00:00, 32.38it/s]"
     ]
    },
    {
     "name": "stdout",
     "output_type": "stream",
     "text": [
      "                   all       1081       1081      0.995      0.993      0.995      0.821      0.995      0.993      0.995      0.738\n"
     ]
    },
    {
     "name": "stderr",
     "output_type": "stream",
     "text": [
      "\n"
     ]
    },
    {
     "name": "stdout",
     "output_type": "stream",
     "text": [
      "\n",
      "      Epoch    GPU_mem   box_loss   seg_loss   cls_loss   dfl_loss  Instances       Size\n"
     ]
    },
    {
     "name": "stderr",
     "output_type": "stream",
     "text": [
      "      40/80      2.04G     0.8833      1.674     0.4981      1.221          4        640: 100%|██████████| 13694/13694 [18:37<00:00, 12.25it/s]\n",
      "                 Class     Images  Instances      Box(P          R      mAP50  mAP50-95)     Mask(P          R      mAP50  mAP50-95): 100%|██████████| 541/541 [00:16<00:00, 32.95it/s]"
     ]
    },
    {
     "name": "stdout",
     "output_type": "stream",
     "text": [
      "                   all       1081       1081      0.991      0.995      0.995      0.825       0.99      0.994      0.995       0.74\n"
     ]
    },
    {
     "name": "stderr",
     "output_type": "stream",
     "text": [
      "\n"
     ]
    },
    {
     "name": "stdout",
     "output_type": "stream",
     "text": [
      "\n",
      "      Epoch    GPU_mem   box_loss   seg_loss   cls_loss   dfl_loss  Instances       Size\n"
     ]
    },
    {
     "name": "stderr",
     "output_type": "stream",
     "text": [
      "      41/80      2.03G     0.8789      1.658     0.5042       1.23          4        640: 100%|██████████| 13694/13694 [18:27<00:00, 12.36it/s]\n",
      "                 Class     Images  Instances      Box(P          R      mAP50  mAP50-95)     Mask(P          R      mAP50  mAP50-95): 100%|██████████| 541/541 [00:16<00:00, 32.99it/s]"
     ]
    },
    {
     "name": "stdout",
     "output_type": "stream",
     "text": [
      "                   all       1081       1081      0.995      0.994      0.995      0.828      0.994      0.993      0.995      0.739\n"
     ]
    },
    {
     "name": "stderr",
     "output_type": "stream",
     "text": [
      "\n"
     ]
    },
    {
     "name": "stdout",
     "output_type": "stream",
     "text": [
      "\n",
      "      Epoch    GPU_mem   box_loss   seg_loss   cls_loss   dfl_loss  Instances       Size\n"
     ]
    },
    {
     "name": "stderr",
     "output_type": "stream",
     "text": [
      "      42/80      2.03G     0.8766      1.643     0.4904      1.217          2        640: 100%|██████████| 13694/13694 [18:23<00:00, 12.41it/s]\n",
      "                 Class     Images  Instances      Box(P          R      mAP50  mAP50-95)     Mask(P          R      mAP50  mAP50-95): 100%|██████████| 541/541 [00:16<00:00, 32.72it/s]"
     ]
    },
    {
     "name": "stdout",
     "output_type": "stream",
     "text": [
      "                   all       1081       1081      0.996      0.992      0.995      0.833      0.996      0.992      0.995      0.739\n"
     ]
    },
    {
     "name": "stderr",
     "output_type": "stream",
     "text": [
      "\n"
     ]
    },
    {
     "name": "stdout",
     "output_type": "stream",
     "text": [
      "\n",
      "      Epoch    GPU_mem   box_loss   seg_loss   cls_loss   dfl_loss  Instances       Size\n"
     ]
    },
    {
     "name": "stderr",
     "output_type": "stream",
     "text": [
      "      43/80      2.03G      0.877       1.65     0.4925      1.223          1        640: 100%|██████████| 13694/13694 [18:22<00:00, 12.43it/s]\n",
      "                 Class     Images  Instances      Box(P          R      mAP50  mAP50-95)     Mask(P          R      mAP50  mAP50-95): 100%|██████████| 541/541 [00:16<00:00, 32.74it/s]\n"
     ]
    },
    {
     "name": "stdout",
     "output_type": "stream",
     "text": [
      "                   all       1081       1081      0.994       0.99      0.995      0.832      0.993      0.989      0.995      0.738\n",
      "\n",
      "      Epoch    GPU_mem   box_loss   seg_loss   cls_loss   dfl_loss  Instances       Size\n"
     ]
    },
    {
     "name": "stderr",
     "output_type": "stream",
     "text": [
      "      44/80      2.03G     0.8708      1.645      0.481      1.219          1        640: 100%|██████████| 13694/13694 [18:22<00:00, 12.43it/s]\n",
      "                 Class     Images  Instances      Box(P          R      mAP50  mAP50-95)     Mask(P          R      mAP50  mAP50-95): 100%|██████████| 541/541 [00:16<00:00, 32.46it/s]"
     ]
    },
    {
     "name": "stdout",
     "output_type": "stream",
     "text": [
      "                   all       1081       1081      0.992      0.994      0.995      0.827      0.992      0.991      0.995      0.737\n"
     ]
    },
    {
     "name": "stderr",
     "output_type": "stream",
     "text": [
      "\n"
     ]
    },
    {
     "name": "stdout",
     "output_type": "stream",
     "text": [
      "\n",
      "      Epoch    GPU_mem   box_loss   seg_loss   cls_loss   dfl_loss  Instances       Size\n"
     ]
    },
    {
     "name": "stderr",
     "output_type": "stream",
     "text": [
      "      45/80      2.04G      0.865      1.636     0.4834      1.215          1        640: 100%|██████████| 13694/13694 [18:21<00:00, 12.44it/s]\n",
      "                 Class     Images  Instances      Box(P          R      mAP50  mAP50-95)     Mask(P          R      mAP50  mAP50-95): 100%|██████████| 541/541 [00:16<00:00, 32.83it/s]"
     ]
    },
    {
     "name": "stdout",
     "output_type": "stream",
     "text": [
      "                   all       1081       1081      0.992      0.993      0.995      0.829      0.991      0.992      0.995      0.739\n"
     ]
    },
    {
     "name": "stderr",
     "output_type": "stream",
     "text": [
      "\n"
     ]
    },
    {
     "name": "stdout",
     "output_type": "stream",
     "text": [
      "\n",
      "      Epoch    GPU_mem   box_loss   seg_loss   cls_loss   dfl_loss  Instances       Size\n"
     ]
    },
    {
     "name": "stderr",
     "output_type": "stream",
     "text": [
      "      46/80      2.03G     0.8636      1.638     0.4782      1.211          1        640: 100%|██████████| 13694/13694 [18:21<00:00, 12.44it/s]\n",
      "                 Class     Images  Instances      Box(P          R      mAP50  mAP50-95)     Mask(P          R      mAP50  mAP50-95): 100%|██████████| 541/541 [00:16<00:00, 32.49it/s]"
     ]
    },
    {
     "name": "stdout",
     "output_type": "stream",
     "text": [
      "                   all       1081       1081      0.991      0.992      0.995      0.835      0.991      0.992      0.995      0.743\n"
     ]
    },
    {
     "name": "stderr",
     "output_type": "stream",
     "text": [
      "\n"
     ]
    },
    {
     "name": "stdout",
     "output_type": "stream",
     "text": [
      "\n",
      "      Epoch    GPU_mem   box_loss   seg_loss   cls_loss   dfl_loss  Instances       Size\n"
     ]
    },
    {
     "name": "stderr",
     "output_type": "stream",
     "text": [
      "      47/80      2.03G     0.8599      1.623     0.4754      1.208          1        640: 100%|██████████| 13694/13694 [18:20<00:00, 12.44it/s]\n",
      "                 Class     Images  Instances      Box(P          R      mAP50  mAP50-95)     Mask(P          R      mAP50  mAP50-95): 100%|██████████| 541/541 [00:16<00:00, 32.33it/s]"
     ]
    },
    {
     "name": "stdout",
     "output_type": "stream",
     "text": [
      "                   all       1081       1081      0.989      0.995      0.995      0.834       0.99      0.993      0.995      0.745\n"
     ]
    },
    {
     "name": "stderr",
     "output_type": "stream",
     "text": [
      "\n"
     ]
    },
    {
     "name": "stdout",
     "output_type": "stream",
     "text": [
      "\n",
      "      Epoch    GPU_mem   box_loss   seg_loss   cls_loss   dfl_loss  Instances       Size\n"
     ]
    },
    {
     "name": "stderr",
     "output_type": "stream",
     "text": [
      "      48/80      2.03G     0.8542      1.623     0.4733      1.202          4        640: 100%|██████████| 13694/13694 [18:24<00:00, 12.40it/s]\n",
      "                 Class     Images  Instances      Box(P          R      mAP50  mAP50-95)     Mask(P          R      mAP50  mAP50-95): 100%|██████████| 541/541 [00:16<00:00, 32.58it/s]"
     ]
    },
    {
     "name": "stdout",
     "output_type": "stream",
     "text": [
      "                   all       1081       1081      0.993       0.99      0.995      0.833      0.993       0.99      0.995      0.745\n"
     ]
    },
    {
     "name": "stderr",
     "output_type": "stream",
     "text": [
      "\n"
     ]
    },
    {
     "name": "stdout",
     "output_type": "stream",
     "text": [
      "\n",
      "      Epoch    GPU_mem   box_loss   seg_loss   cls_loss   dfl_loss  Instances       Size\n"
     ]
    },
    {
     "name": "stderr",
     "output_type": "stream",
     "text": [
      "      49/80      2.04G     0.8557      1.622     0.4683      1.197          2        640: 100%|██████████| 13694/13694 [18:24<00:00, 12.40it/s]\n",
      "                 Class     Images  Instances      Box(P          R      mAP50  mAP50-95)     Mask(P          R      mAP50  mAP50-95): 100%|██████████| 541/541 [00:16<00:00, 32.94it/s]"
     ]
    },
    {
     "name": "stdout",
     "output_type": "stream",
     "text": [
      "                   all       1081       1081      0.993      0.994      0.995      0.829      0.994      0.992      0.995      0.743\n"
     ]
    },
    {
     "name": "stderr",
     "output_type": "stream",
     "text": [
      "\n"
     ]
    },
    {
     "name": "stdout",
     "output_type": "stream",
     "text": [
      "\n",
      "      Epoch    GPU_mem   box_loss   seg_loss   cls_loss   dfl_loss  Instances       Size\n"
     ]
    },
    {
     "name": "stderr",
     "output_type": "stream",
     "text": [
      "      50/80      2.03G     0.8467      1.616     0.4592      1.188          2        640: 100%|██████████| 13694/13694 [18:21<00:00, 12.44it/s]\n",
      "                 Class     Images  Instances      Box(P          R      mAP50  mAP50-95)     Mask(P          R      mAP50  mAP50-95): 100%|██████████| 541/541 [00:16<00:00, 32.71it/s]"
     ]
    },
    {
     "name": "stdout",
     "output_type": "stream",
     "text": [
      "                   all       1081       1081      0.995      0.993      0.995      0.829      0.994      0.992      0.995      0.743\n"
     ]
    },
    {
     "name": "stderr",
     "output_type": "stream",
     "text": [
      "\n"
     ]
    },
    {
     "name": "stdout",
     "output_type": "stream",
     "text": [
      "\n",
      "      Epoch    GPU_mem   box_loss   seg_loss   cls_loss   dfl_loss  Instances       Size\n"
     ]
    },
    {
     "name": "stderr",
     "output_type": "stream",
     "text": [
      "      51/80      2.03G       0.84      1.606     0.4588      1.188          2        640: 100%|██████████| 13694/13694 [18:23<00:00, 12.40it/s]\n",
      "                 Class     Images  Instances      Box(P          R      mAP50  mAP50-95)     Mask(P          R      mAP50  mAP50-95): 100%|██████████| 541/541 [00:16<00:00, 32.41it/s]"
     ]
    },
    {
     "name": "stdout",
     "output_type": "stream",
     "text": [
      "                   all       1081       1081      0.993      0.994      0.995      0.832      0.992      0.994      0.995      0.743\n"
     ]
    },
    {
     "name": "stderr",
     "output_type": "stream",
     "text": [
      "\n"
     ]
    },
    {
     "name": "stdout",
     "output_type": "stream",
     "text": [
      "\n",
      "      Epoch    GPU_mem   box_loss   seg_loss   cls_loss   dfl_loss  Instances       Size\n"
     ]
    },
    {
     "name": "stderr",
     "output_type": "stream",
     "text": [
      "      52/80      2.03G     0.8376        1.6     0.4524       1.19          4        640: 100%|██████████| 13694/13694 [18:21<00:00, 12.44it/s]\n",
      "                 Class     Images  Instances      Box(P          R      mAP50  mAP50-95)     Mask(P          R      mAP50  mAP50-95): 100%|██████████| 541/541 [00:16<00:00, 32.80it/s]"
     ]
    },
    {
     "name": "stdout",
     "output_type": "stream",
     "text": [
      "                   all       1081       1081      0.993      0.994      0.995      0.832      0.992      0.993      0.995      0.742\n"
     ]
    },
    {
     "name": "stderr",
     "output_type": "stream",
     "text": [
      "\n"
     ]
    },
    {
     "name": "stdout",
     "output_type": "stream",
     "text": [
      "\n",
      "      Epoch    GPU_mem   box_loss   seg_loss   cls_loss   dfl_loss  Instances       Size\n"
     ]
    },
    {
     "name": "stderr",
     "output_type": "stream",
     "text": [
      "      53/80      2.02G     0.8331      1.598     0.4558      1.182          1        640: 100%|██████████| 13694/13694 [18:19<00:00, 12.45it/s]\n",
      "                 Class     Images  Instances      Box(P          R      mAP50  mAP50-95)     Mask(P          R      mAP50  mAP50-95): 100%|██████████| 541/541 [00:16<00:00, 32.76it/s]"
     ]
    },
    {
     "name": "stdout",
     "output_type": "stream",
     "text": [
      "                   all       1081       1081      0.994      0.994      0.995      0.831      0.993      0.993      0.995      0.739\n"
     ]
    },
    {
     "name": "stderr",
     "output_type": "stream",
     "text": [
      "\n"
     ]
    },
    {
     "name": "stdout",
     "output_type": "stream",
     "text": [
      "\n",
      "      Epoch    GPU_mem   box_loss   seg_loss   cls_loss   dfl_loss  Instances       Size\n"
     ]
    },
    {
     "name": "stderr",
     "output_type": "stream",
     "text": [
      "      54/80      2.02G     0.8365      1.598     0.4485       1.18          4        640: 100%|██████████| 13694/13694 [18:19<00:00, 12.46it/s]\n",
      "                 Class     Images  Instances      Box(P          R      mAP50  mAP50-95)     Mask(P          R      mAP50  mAP50-95): 100%|██████████| 541/541 [00:16<00:00, 32.83it/s]"
     ]
    },
    {
     "name": "stdout",
     "output_type": "stream",
     "text": [
      "                   all       1081       1081      0.993      0.994      0.995      0.831      0.994      0.992      0.995      0.742\n"
     ]
    },
    {
     "name": "stderr",
     "output_type": "stream",
     "text": [
      "\n"
     ]
    },
    {
     "name": "stdout",
     "output_type": "stream",
     "text": [
      "\n",
      "      Epoch    GPU_mem   box_loss   seg_loss   cls_loss   dfl_loss  Instances       Size\n"
     ]
    },
    {
     "name": "stderr",
     "output_type": "stream",
     "text": [
      "      55/80      2.04G     0.8256      1.585     0.4437      1.174          1        640: 100%|██████████| 13694/13694 [18:20<00:00, 12.44it/s]\n",
      "                 Class     Images  Instances      Box(P          R      mAP50  mAP50-95)     Mask(P          R      mAP50  mAP50-95): 100%|██████████| 541/541 [00:16<00:00, 33.32it/s]"
     ]
    },
    {
     "name": "stdout",
     "output_type": "stream",
     "text": [
      "                   all       1081       1081      0.995      0.994      0.995       0.83      0.993      0.993      0.995      0.741\n"
     ]
    },
    {
     "name": "stderr",
     "output_type": "stream",
     "text": [
      "\n"
     ]
    },
    {
     "name": "stdout",
     "output_type": "stream",
     "text": [
      "\n",
      "      Epoch    GPU_mem   box_loss   seg_loss   cls_loss   dfl_loss  Instances       Size\n"
     ]
    },
    {
     "name": "stderr",
     "output_type": "stream",
     "text": [
      "      56/80      2.04G     0.8294      1.581     0.4462      1.168          1        640: 100%|██████████| 13694/13694 [18:21<00:00, 12.43it/s]\n",
      "                 Class     Images  Instances      Box(P          R      mAP50  mAP50-95)     Mask(P          R      mAP50  mAP50-95): 100%|██████████| 541/541 [00:16<00:00, 33.16it/s]"
     ]
    },
    {
     "name": "stdout",
     "output_type": "stream",
     "text": [
      "                   all       1081       1081      0.993      0.997      0.995      0.831      0.991      0.995      0.995      0.741\n"
     ]
    },
    {
     "name": "stderr",
     "output_type": "stream",
     "text": [
      "\n"
     ]
    },
    {
     "name": "stdout",
     "output_type": "stream",
     "text": [
      "\n",
      "      Epoch    GPU_mem   box_loss   seg_loss   cls_loss   dfl_loss  Instances       Size\n"
     ]
    },
    {
     "name": "stderr",
     "output_type": "stream",
     "text": [
      "      57/80      2.03G     0.8209      1.582     0.4389      1.172          1        640: 100%|██████████| 13694/13694 [18:24<00:00, 12.40it/s]\n",
      "                 Class     Images  Instances      Box(P          R      mAP50  mAP50-95)     Mask(P          R      mAP50  mAP50-95): 100%|██████████| 541/541 [00:17<00:00, 31.79it/s]\n"
     ]
    },
    {
     "name": "stdout",
     "output_type": "stream",
     "text": [
      "                   all       1081       1081      0.995      0.994      0.995      0.833      0.993      0.993      0.995      0.741\n",
      "\n",
      "      Epoch    GPU_mem   box_loss   seg_loss   cls_loss   dfl_loss  Instances       Size\n"
     ]
    },
    {
     "name": "stderr",
     "output_type": "stream",
     "text": [
      "      58/80      2.03G     0.8148      1.572     0.4341      1.178          3        640: 100%|██████████| 13694/13694 [18:38<00:00, 12.24it/s]\n",
      "                 Class     Images  Instances      Box(P          R      mAP50  mAP50-95)     Mask(P          R      mAP50  mAP50-95): 100%|██████████| 541/541 [00:17<00:00, 31.54it/s]"
     ]
    },
    {
     "name": "stdout",
     "output_type": "stream",
     "text": [
      "                   all       1081       1081      0.995      0.994      0.995      0.831      0.993      0.993      0.995      0.739\n"
     ]
    },
    {
     "name": "stderr",
     "output_type": "stream",
     "text": [
      "\n"
     ]
    },
    {
     "name": "stdout",
     "output_type": "stream",
     "text": [
      "\n",
      "      Epoch    GPU_mem   box_loss   seg_loss   cls_loss   dfl_loss  Instances       Size\n"
     ]
    },
    {
     "name": "stderr",
     "output_type": "stream",
     "text": [
      "      59/80      2.04G     0.8165      1.561     0.4365      1.176          4        640: 100%|██████████| 13694/13694 [18:38<00:00, 12.25it/s]\n",
      "                 Class     Images  Instances      Box(P          R      mAP50  mAP50-95)     Mask(P          R      mAP50  mAP50-95): 100%|██████████| 541/541 [00:17<00:00, 31.79it/s]"
     ]
    },
    {
     "name": "stdout",
     "output_type": "stream",
     "text": [
      "                   all       1081       1081      0.995      0.994      0.995      0.829      0.993      0.993      0.995      0.738\n"
     ]
    },
    {
     "name": "stderr",
     "output_type": "stream",
     "text": [
      "\n"
     ]
    },
    {
     "name": "stdout",
     "output_type": "stream",
     "text": [
      "\n",
      "      Epoch    GPU_mem   box_loss   seg_loss   cls_loss   dfl_loss  Instances       Size\n"
     ]
    },
    {
     "name": "stderr",
     "output_type": "stream",
     "text": [
      "      60/80      2.04G     0.8048      1.557     0.4314       1.17          1        640: 100%|██████████| 13694/13694 [18:39<00:00, 12.24it/s]\n",
      "                 Class     Images  Instances      Box(P          R      mAP50  mAP50-95)     Mask(P          R      mAP50  mAP50-95): 100%|██████████| 541/541 [00:16<00:00, 32.32it/s]"
     ]
    },
    {
     "name": "stdout",
     "output_type": "stream",
     "text": [
      "                   all       1081       1081      0.996      0.994      0.995      0.831      0.994      0.993      0.995      0.739\n"
     ]
    },
    {
     "name": "stderr",
     "output_type": "stream",
     "text": [
      "\n"
     ]
    },
    {
     "name": "stdout",
     "output_type": "stream",
     "text": [
      "\n",
      "      Epoch    GPU_mem   box_loss   seg_loss   cls_loss   dfl_loss  Instances       Size\n"
     ]
    },
    {
     "name": "stderr",
     "output_type": "stream",
     "text": [
      "      61/80      2.03G        0.8      1.558     0.4228      1.159          1        640: 100%|██████████| 13694/13694 [19:08<00:00, 11.92it/s]\n",
      "                 Class     Images  Instances      Box(P          R      mAP50  mAP50-95)     Mask(P          R      mAP50  mAP50-95): 100%|██████████| 541/541 [00:16<00:00, 32.52it/s]"
     ]
    },
    {
     "name": "stdout",
     "output_type": "stream",
     "text": [
      "                   all       1081       1081      0.995      0.994      0.995       0.83      0.993      0.993      0.995      0.741\n"
     ]
    },
    {
     "name": "stderr",
     "output_type": "stream",
     "text": [
      "\n"
     ]
    },
    {
     "name": "stdout",
     "output_type": "stream",
     "text": [
      "\n",
      "      Epoch    GPU_mem   box_loss   seg_loss   cls_loss   dfl_loss  Instances       Size\n"
     ]
    },
    {
     "name": "stderr",
     "output_type": "stream",
     "text": [
      "      62/80      2.03G     0.8019      1.549     0.4198      1.153          1        640: 100%|██████████| 13694/13694 [18:44<00:00, 12.17it/s]\n",
      "                 Class     Images  Instances      Box(P          R      mAP50  mAP50-95)     Mask(P          R      mAP50  mAP50-95): 100%|██████████| 541/541 [00:16<00:00, 33.01it/s]"
     ]
    },
    {
     "name": "stdout",
     "output_type": "stream",
     "text": [
      "                   all       1081       1081      0.997      0.994      0.995       0.83      0.995      0.993      0.995      0.741\n"
     ]
    },
    {
     "name": "stderr",
     "output_type": "stream",
     "text": [
      "\n"
     ]
    },
    {
     "name": "stdout",
     "output_type": "stream",
     "text": [
      "\n",
      "      Epoch    GPU_mem   box_loss   seg_loss   cls_loss   dfl_loss  Instances       Size\n"
     ]
    },
    {
     "name": "stderr",
     "output_type": "stream",
     "text": [
      "      63/80      2.03G     0.7973      1.542     0.4187      1.151          4        640: 100%|██████████| 13694/13694 [18:45<00:00, 12.16it/s]\n",
      "                 Class     Images  Instances      Box(P          R      mAP50  mAP50-95)     Mask(P          R      mAP50  mAP50-95): 100%|██████████| 541/541 [00:16<00:00, 32.52it/s]"
     ]
    },
    {
     "name": "stdout",
     "output_type": "stream",
     "text": [
      "                   all       1081       1081      0.996      0.994      0.995      0.831      0.995      0.993      0.995      0.742\n"
     ]
    },
    {
     "name": "stderr",
     "output_type": "stream",
     "text": [
      "\n"
     ]
    },
    {
     "name": "stdout",
     "output_type": "stream",
     "text": [
      "\n",
      "      Epoch    GPU_mem   box_loss   seg_loss   cls_loss   dfl_loss  Instances       Size\n"
     ]
    },
    {
     "name": "stderr",
     "output_type": "stream",
     "text": [
      "      64/80      2.03G     0.7912      1.541     0.4145      1.149          1        640: 100%|██████████| 13694/13694 [18:35<00:00, 12.27it/s]\n",
      "                 Class     Images  Instances      Box(P          R      mAP50  mAP50-95)     Mask(P          R      mAP50  mAP50-95): 100%|██████████| 541/541 [00:16<00:00, 31.85it/s]"
     ]
    },
    {
     "name": "stdout",
     "output_type": "stream",
     "text": [
      "                   all       1081       1081      0.997      0.995      0.995       0.83      0.995      0.993      0.995      0.741\n"
     ]
    },
    {
     "name": "stderr",
     "output_type": "stream",
     "text": [
      "\n"
     ]
    },
    {
     "name": "stdout",
     "output_type": "stream",
     "text": [
      "\n",
      "      Epoch    GPU_mem   box_loss   seg_loss   cls_loss   dfl_loss  Instances       Size\n"
     ]
    },
    {
     "name": "stderr",
     "output_type": "stream",
     "text": [
      "      65/80      2.03G     0.7882       1.53     0.4082      1.147          2        640: 100%|██████████| 13694/13694 [18:41<00:00, 12.21it/s]\n",
      "                 Class     Images  Instances      Box(P          R      mAP50  mAP50-95)     Mask(P          R      mAP50  mAP50-95): 100%|██████████| 541/541 [00:16<00:00, 32.45it/s]"
     ]
    },
    {
     "name": "stdout",
     "output_type": "stream",
     "text": [
      "                   all       1081       1081      0.997      0.994      0.995      0.829      0.995      0.993      0.995      0.739\n"
     ]
    },
    {
     "name": "stderr",
     "output_type": "stream",
     "text": [
      "\n"
     ]
    },
    {
     "name": "stdout",
     "output_type": "stream",
     "text": [
      "\n",
      "      Epoch    GPU_mem   box_loss   seg_loss   cls_loss   dfl_loss  Instances       Size\n"
     ]
    },
    {
     "name": "stderr",
     "output_type": "stream",
     "text": [
      "      66/80      2.02G     0.7851       1.53     0.4078      1.144          2        640: 100%|██████████| 13694/13694 [19:10<00:00, 11.90it/s]\n",
      "                 Class     Images  Instances      Box(P          R      mAP50  mAP50-95)     Mask(P          R      mAP50  mAP50-95): 100%|██████████| 541/541 [00:17<00:00, 30.47it/s]"
     ]
    },
    {
     "name": "stdout",
     "output_type": "stream",
     "text": [
      "                   all       1081       1081      0.996      0.995      0.995      0.829      0.994      0.993      0.995       0.74\n"
     ]
    },
    {
     "name": "stderr",
     "output_type": "stream",
     "text": [
      "\n"
     ]
    },
    {
     "name": "stdout",
     "output_type": "stream",
     "text": [
      "\n",
      "      Epoch    GPU_mem   box_loss   seg_loss   cls_loss   dfl_loss  Instances       Size\n"
     ]
    },
    {
     "name": "stderr",
     "output_type": "stream",
     "text": [
      "      67/80      2.03G     0.7755      1.521     0.4033      1.137          4        640: 100%|██████████| 13694/13694 [18:59<00:00, 12.02it/s]\n",
      "                 Class     Images  Instances      Box(P          R      mAP50  mAP50-95)     Mask(P          R      mAP50  mAP50-95): 100%|██████████| 541/541 [00:16<00:00, 32.16it/s]"
     ]
    },
    {
     "name": "stdout",
     "output_type": "stream",
     "text": [
      "                   all       1081       1081      0.996      0.994      0.995       0.83      0.994      0.993      0.995       0.74\n"
     ]
    },
    {
     "name": "stderr",
     "output_type": "stream",
     "text": [
      "\n"
     ]
    },
    {
     "name": "stdout",
     "output_type": "stream",
     "text": [
      "\n",
      "      Epoch    GPU_mem   box_loss   seg_loss   cls_loss   dfl_loss  Instances       Size\n"
     ]
    },
    {
     "name": "stderr",
     "output_type": "stream",
     "text": [
      "      68/80      2.03G     0.7758      1.518     0.4016      1.141          1        640: 100%|██████████| 13694/13694 [18:51<00:00, 12.10it/s]\n",
      "                 Class     Images  Instances      Box(P          R      mAP50  mAP50-95)     Mask(P          R      mAP50  mAP50-95): 100%|██████████| 541/541 [00:16<00:00, 32.71it/s]"
     ]
    },
    {
     "name": "stdout",
     "output_type": "stream",
     "text": [
      "                   all       1081       1081      0.997      0.994      0.995       0.83      0.995      0.993      0.995       0.74\n"
     ]
    },
    {
     "name": "stderr",
     "output_type": "stream",
     "text": [
      "\n"
     ]
    },
    {
     "name": "stdout",
     "output_type": "stream",
     "text": [
      "\n",
      "      Epoch    GPU_mem   box_loss   seg_loss   cls_loss   dfl_loss  Instances       Size\n"
     ]
    },
    {
     "name": "stderr",
     "output_type": "stream",
     "text": [
      "      69/80      2.04G     0.7692      1.509     0.3964      1.137          2        640: 100%|██████████| 13694/13694 [18:49<00:00, 12.13it/s]\n",
      "                 Class     Images  Instances      Box(P          R      mAP50  mAP50-95)     Mask(P          R      mAP50  mAP50-95): 100%|██████████| 541/541 [00:16<00:00, 32.82it/s]"
     ]
    },
    {
     "name": "stdout",
     "output_type": "stream",
     "text": [
      "                   all       1081       1081      0.998      0.994      0.995      0.829      0.996      0.993      0.995      0.741\n"
     ]
    },
    {
     "name": "stderr",
     "output_type": "stream",
     "text": [
      "\n"
     ]
    },
    {
     "name": "stdout",
     "output_type": "stream",
     "text": [
      "\n",
      "      Epoch    GPU_mem   box_loss   seg_loss   cls_loss   dfl_loss  Instances       Size\n"
     ]
    },
    {
     "name": "stderr",
     "output_type": "stream",
     "text": [
      "      70/80      2.03G     0.7714      1.508     0.3963      1.131          4        640: 100%|██████████| 13694/13694 [18:41<00:00, 12.21it/s]\n",
      "                 Class     Images  Instances      Box(P          R      mAP50  mAP50-95)     Mask(P          R      mAP50  mAP50-95): 100%|██████████| 541/541 [00:16<00:00, 32.51it/s]"
     ]
    },
    {
     "name": "stdout",
     "output_type": "stream",
     "text": [
      "                   all       1081       1081      0.997      0.994      0.995      0.829      0.995      0.993      0.995       0.74\n"
     ]
    },
    {
     "name": "stderr",
     "output_type": "stream",
     "text": [
      "\n"
     ]
    },
    {
     "name": "stdout",
     "output_type": "stream",
     "text": [
      "Closing dataloader mosaic\n",
      "\n",
      "      Epoch    GPU_mem   box_loss   seg_loss   cls_loss   dfl_loss  Instances       Size\n"
     ]
    },
    {
     "name": "stderr",
     "output_type": "stream",
     "text": [
      "      71/80      2.04G     0.6219      1.302     0.2545      1.039          1        640: 100%|██████████| 13694/13694 [18:08<00:00, 12.58it/s]\n",
      "                 Class     Images  Instances      Box(P          R      mAP50  mAP50-95)     Mask(P          R      mAP50  mAP50-95): 100%|██████████| 541/541 [00:16<00:00, 32.77it/s]"
     ]
    },
    {
     "name": "stdout",
     "output_type": "stream",
     "text": [
      "                   all       1081       1081      0.999      0.994      0.995       0.83      0.997      0.993      0.995       0.74\n"
     ]
    },
    {
     "name": "stderr",
     "output_type": "stream",
     "text": [
      "\n"
     ]
    },
    {
     "name": "stdout",
     "output_type": "stream",
     "text": [
      "\n",
      "      Epoch    GPU_mem   box_loss   seg_loss   cls_loss   dfl_loss  Instances       Size\n"
     ]
    },
    {
     "name": "stderr",
     "output_type": "stream",
     "text": [
      "      72/80      2.03G     0.6059      1.278     0.2456      1.029          1        640: 100%|██████████| 13694/13694 [21:40<00:00, 10.53it/s]\n",
      "                 Class     Images  Instances      Box(P          R      mAP50  mAP50-95)     Mask(P          R      mAP50  mAP50-95): 100%|██████████| 541/541 [01:04<00:00,  8.39it/s]"
     ]
    },
    {
     "name": "stdout",
     "output_type": "stream",
     "text": [
      "                   all       1081       1081      0.996      0.997      0.995       0.83      0.994      0.995      0.995      0.738\n"
     ]
    },
    {
     "name": "stderr",
     "output_type": "stream",
     "text": [
      "\n"
     ]
    },
    {
     "name": "stdout",
     "output_type": "stream",
     "text": [
      "\n",
      "      Epoch    GPU_mem   box_loss   seg_loss   cls_loss   dfl_loss  Instances       Size\n"
     ]
    },
    {
     "name": "stderr",
     "output_type": "stream",
     "text": [
      "      73/80      2.03G      0.598      1.267     0.2418      1.025          1        640: 100%|██████████| 13694/13694 [33:12<00:00,  6.87it/s]\n",
      "                 Class     Images  Instances      Box(P          R      mAP50  mAP50-95)     Mask(P          R      mAP50  mAP50-95): 100%|██████████| 541/541 [00:16<00:00, 32.98it/s]"
     ]
    },
    {
     "name": "stdout",
     "output_type": "stream",
     "text": [
      "                   all       1081       1081      0.996      0.997      0.995       0.83      0.994      0.995      0.995       0.74\n"
     ]
    },
    {
     "name": "stderr",
     "output_type": "stream",
     "text": [
      "\n"
     ]
    },
    {
     "name": "stdout",
     "output_type": "stream",
     "text": [
      "\n",
      "      Epoch    GPU_mem   box_loss   seg_loss   cls_loss   dfl_loss  Instances       Size\n"
     ]
    },
    {
     "name": "stderr",
     "output_type": "stream",
     "text": [
      "      74/80      2.04G      0.584      1.259     0.2341      1.014          1        640: 100%|██████████| 13694/13694 [18:31<00:00, 12.32it/s]\n",
      "                 Class     Images  Instances      Box(P          R      mAP50  mAP50-95)     Mask(P          R      mAP50  mAP50-95): 100%|██████████| 541/541 [00:16<00:00, 32.11it/s]\n"
     ]
    },
    {
     "name": "stdout",
     "output_type": "stream",
     "text": [
      "                   all       1081       1081      0.996      0.997      0.995       0.83      0.994      0.995      0.995       0.74\n",
      "\n",
      "      Epoch    GPU_mem   box_loss   seg_loss   cls_loss   dfl_loss  Instances       Size\n"
     ]
    },
    {
     "name": "stderr",
     "output_type": "stream",
     "text": [
      "      75/80      2.03G     0.5793      1.249     0.2328      1.009          1        640: 100%|██████████| 13694/13694 [18:19<00:00, 12.45it/s]\n",
      "                 Class     Images  Instances      Box(P          R      mAP50  mAP50-95)     Mask(P          R      mAP50  mAP50-95): 100%|██████████| 541/541 [00:16<00:00, 32.16it/s]"
     ]
    },
    {
     "name": "stdout",
     "output_type": "stream",
     "text": [
      "                   all       1081       1081      0.996      0.997      0.995      0.828      0.994      0.995      0.995      0.737\n"
     ]
    },
    {
     "name": "stderr",
     "output_type": "stream",
     "text": [
      "\n"
     ]
    },
    {
     "name": "stdout",
     "output_type": "stream",
     "text": [
      "\n",
      "      Epoch    GPU_mem   box_loss   seg_loss   cls_loss   dfl_loss  Instances       Size\n"
     ]
    },
    {
     "name": "stderr",
     "output_type": "stream",
     "text": [
      "      76/80      2.03G     0.5692      1.242     0.2275     0.9974          1        640: 100%|██████████| 13694/13694 [18:18<00:00, 12.46it/s]\n",
      "                 Class     Images  Instances      Box(P          R      mAP50  mAP50-95)     Mask(P          R      mAP50  mAP50-95): 100%|██████████| 541/541 [00:18<00:00, 29.55it/s]"
     ]
    },
    {
     "name": "stdout",
     "output_type": "stream",
     "text": [
      "                   all       1081       1081      0.996      0.997      0.995      0.828      0.994      0.995      0.995      0.737\n"
     ]
    },
    {
     "name": "stderr",
     "output_type": "stream",
     "text": [
      "\n"
     ]
    },
    {
     "name": "stdout",
     "output_type": "stream",
     "text": [
      "\n",
      "      Epoch    GPU_mem   box_loss   seg_loss   cls_loss   dfl_loss  Instances       Size\n"
     ]
    },
    {
     "name": "stderr",
     "output_type": "stream",
     "text": [
      "      77/80      2.04G     0.5592      1.232      0.221     0.9905          1        640: 100%|██████████| 13694/13694 [34:20<00:00,  6.65it/s]\n",
      "                 Class     Images  Instances      Box(P          R      mAP50  mAP50-95)     Mask(P          R      mAP50  mAP50-95): 100%|██████████| 541/541 [01:04<00:00,  8.34it/s]"
     ]
    },
    {
     "name": "stdout",
     "output_type": "stream",
     "text": [
      "                   all       1081       1081      0.996      0.997      0.995      0.828      0.994      0.995      0.995      0.736\n"
     ]
    },
    {
     "name": "stderr",
     "output_type": "stream",
     "text": [
      "\n"
     ]
    },
    {
     "name": "stdout",
     "output_type": "stream",
     "text": [
      "\n",
      "      Epoch    GPU_mem   box_loss   seg_loss   cls_loss   dfl_loss  Instances       Size\n"
     ]
    },
    {
     "name": "stderr",
     "output_type": "stream",
     "text": [
      "      78/80      2.04G     0.5525      1.229     0.2188     0.9862          1        640: 100%|██████████| 13694/13694 [36:54<00:00,  6.19it/s]\n",
      "                 Class     Images  Instances      Box(P          R      mAP50  mAP50-95)     Mask(P          R      mAP50  mAP50-95): 100%|██████████| 541/541 [00:36<00:00, 14.96it/s]"
     ]
    },
    {
     "name": "stdout",
     "output_type": "stream",
     "text": [
      "                   all       1081       1081      0.996      0.997      0.995      0.827      0.994      0.995      0.995      0.736\n"
     ]
    },
    {
     "name": "stderr",
     "output_type": "stream",
     "text": [
      "\n"
     ]
    },
    {
     "name": "stdout",
     "output_type": "stream",
     "text": [
      "\n",
      "      Epoch    GPU_mem   box_loss   seg_loss   cls_loss   dfl_loss  Instances       Size\n"
     ]
    },
    {
     "name": "stderr",
     "output_type": "stream",
     "text": [
      "      79/80      2.03G     0.5453      1.221     0.2168     0.9833          1        640: 100%|██████████| 13694/13694 [39:15<00:00,  5.81it/s]\n",
      "                 Class     Images  Instances      Box(P          R      mAP50  mAP50-95)     Mask(P          R      mAP50  mAP50-95): 100%|██████████| 541/541 [00:48<00:00, 11.09it/s]"
     ]
    },
    {
     "name": "stdout",
     "output_type": "stream",
     "text": [
      "                   all       1081       1081      0.996      0.997      0.995      0.827      0.994      0.995      0.995      0.737\n"
     ]
    },
    {
     "name": "stderr",
     "output_type": "stream",
     "text": [
      "\n"
     ]
    },
    {
     "name": "stdout",
     "output_type": "stream",
     "text": [
      "\n",
      "      Epoch    GPU_mem   box_loss   seg_loss   cls_loss   dfl_loss  Instances       Size\n"
     ]
    },
    {
     "name": "stderr",
     "output_type": "stream",
     "text": [
      "      80/80      2.05G     0.5396      1.215     0.2144     0.9806          1        640: 100%|██████████| 13694/13694 [24:11<00:00,  9.43it/s]\n",
      "                 Class     Images  Instances      Box(P          R      mAP50  mAP50-95)     Mask(P          R      mAP50  mAP50-95): 100%|██████████| 541/541 [00:16<00:00, 32.67it/s]"
     ]
    },
    {
     "name": "stdout",
     "output_type": "stream",
     "text": [
      "                   all       1081       1081      0.996      0.997      0.995      0.827      0.994      0.995      0.995      0.737\n"
     ]
    },
    {
     "name": "stderr",
     "output_type": "stream",
     "text": [
      "\n"
     ]
    },
    {
     "name": "stdout",
     "output_type": "stream",
     "text": [
      "\n",
      "80 epochs completed in 26.620 hours.\n",
      "Optimizer stripped from Ego-Hands/Ego_Hands_Segmentation/weights/last.pt, 54.8MB\n",
      "Optimizer stripped from Ego-Hands/Ego_Hands_Segmentation/weights/best.pt, 54.8MB\n",
      "\n",
      "Validating Ego-Hands/Ego_Hands_Segmentation/weights/best.pt...\n",
      "Ultralytics YOLOv8.0.216 🚀 Python-3.9.7 torch-1.13.1+cu117 CUDA:0 (NVIDIA TITAN RTX, 24220MiB)\n",
      "YOLOv8m-seg summary (fused): 245 layers, 27222963 parameters, 0 gradients, 110.0 GFLOPs\n"
     ]
    },
    {
     "name": "stderr",
     "output_type": "stream",
     "text": [
      "                 Class     Images  Instances      Box(P          R      mAP50  mAP50-95)     Mask(P          R      mAP50  mAP50-95): 100%|██████████| 541/541 [00:11<00:00, 45.22it/s]\n"
     ]
    },
    {
     "name": "stdout",
     "output_type": "stream",
     "text": [
      "                   all       1081       1081      0.989      0.995      0.995      0.834       0.99      0.993      0.995      0.744\n",
      "Speed: 0.2ms preprocess, 7.4ms inference, 0.0ms loss, 0.6ms postprocess per image\n",
      "Results saved to \u001b[1mEgo-Hands/Ego_Hands_Segmentation\u001b[0m\n"
     ]
    },
    {
     "data": {
      "text/html": [
       "Waiting for W&B process to finish... <strong style=\"color:green\">(success).</strong>"
      ],
      "text/plain": [
       "<IPython.core.display.HTML object>"
      ]
     },
     "metadata": {},
     "output_type": "display_data"
    },
    {
     "data": {
      "text/html": [
       "<style>\n",
       "    table.wandb td:nth-child(1) { padding: 0 10px; text-align: left ; width: auto;} td:nth-child(2) {text-align: left ; width: 100%}\n",
       "    .wandb-row { display: flex; flex-direction: row; flex-wrap: wrap; justify-content: flex-start; width: 100% }\n",
       "    .wandb-col { display: flex; flex-direction: column; flex-basis: 100%; flex: 1; padding: 10px; }\n",
       "    </style>\n",
       "<div class=\"wandb-row\"><div class=\"wandb-col\"><h3>Run history:</h3><br/><table class=\"wandb\"><tr><td>lr/pg0</td><td>▃████▇▇▇▇▇▆▆▆▆▆▆▅▅▅▅▅▄▄▄▄▄▃▃▃▃▃▃▂▂▂▂▂▁▁▁</td></tr><tr><td>lr/pg1</td><td>▃████▇▇▇▇▇▆▆▆▆▆▆▅▅▅▅▅▄▄▄▄▄▃▃▃▃▃▃▂▂▂▂▂▁▁▁</td></tr><tr><td>lr/pg2</td><td>▃████▇▇▇▇▇▆▆▆▆▆▆▅▅▅▅▅▄▄▄▄▄▃▃▃▃▃▃▂▂▂▂▂▁▁▁</td></tr><tr><td>metrics/mAP50(B)</td><td>▆▁▆▇▇███████████████████████████████████</td></tr><tr><td>metrics/mAP50(M)</td><td>▅▁▆▆▇███████████████████████████████████</td></tr><tr><td>metrics/mAP50-95(B)</td><td>▄▁▃▄▄▅▆▆▇▆▆▇▇▇▇▇▇▇▇▇████████████████████</td></tr><tr><td>metrics/mAP50-95(M)</td><td>▅▁▄▅▅▆▆▆▇▆▇▇▇▇▇▇▇▇██████████████████████</td></tr><tr><td>metrics/precision(B)</td><td>▃▁▁▃▄▆▄▆▇▆▇▆▇▇▇▇▇▇▇▇▇▇▇▆▇▇▇▇▇▇▇██▇█████▆</td></tr><tr><td>metrics/precision(M)</td><td>▄▁▃▄▅▆▆▇▇▇▇▇██▇█▇█▇███▇▇█▇██▇██████████▇</td></tr><tr><td>metrics/recall(B)</td><td>▅▁▆▅▆▇▇▇▇█▇▇█▇▇██████▇██████████████████</td></tr><tr><td>metrics/recall(M)</td><td>▆▁▆▅▅▇▇▆▇▇████▇██████▇██████████████████</td></tr><tr><td>model/GFLOPs</td><td>▁</td></tr><tr><td>model/parameters</td><td>▁</td></tr><tr><td>model/speed_PyTorch(ms)</td><td>▁</td></tr><tr><td>train/box_loss</td><td>███▇▇▆▆▆▆▆▆▅▅▅▅▅▅▅▅▅▅▅▄▄▄▄▄▄▄▄▄▄▄▃▃▂▂▁▁▁</td></tr><tr><td>train/cls_loss</td><td>█▇▆▆▅▅▅▄▄▄▄▄▄▄▄▄▄▄▃▃▃▃▃▃▃▃▃▃▃▃▃▃▃▃▂▁▁▁▁▁</td></tr><tr><td>train/dfl_loss</td><td>███▇▇▆▆▆▆▆▅▅▅▅▅▅▅▅▄▄▄▄▄▄▄▄▄▄▄▄▃▃▃▃▃▂▂▁▁▁</td></tr><tr><td>train/seg_loss</td><td>██▇▇▆▆▆▆▆▅▅▅▅▅▅▅▅▄▄▄▄▄▄▄▄▄▄▄▄▃▃▃▃▃▃▂▁▁▁▁</td></tr><tr><td>val/box_loss</td><td>▅█▆▅▅▃▃▃▂▂▂▂▂▂▂▂▂▂▂▂▁▁▁▁▁▁▂▂▁▂▁▂▂▂▂▂▂▂▂▂</td></tr><tr><td>val/cls_loss</td><td>▅█▆▅▄▃▃▃▃▂▂▂▂▂▂▂▂▂▂▂▁▁▁▁▁▁▁▁▁▁▁▁▁▁▁▁▁▁▁▁</td></tr><tr><td>val/dfl_loss</td><td>▆█▆▆▅▃▄▃▂▂▃▂▂▂▁▂▂▁▂▂▁▁▁▁▁▁▁▁▁▁▁▁▁▁▁▁▁▁▂▂</td></tr><tr><td>val/seg_loss</td><td>▃█▄▃▃▃▂▂▂▂▂▁▁▂▁▂▁▂▁▁▁▁▁▁▁▁▁▁▁▁▁▁▁▁▁▁▁▁▁▁</td></tr></table><br/></div><div class=\"wandb-col\"><h3>Run summary:</h3><br/><table class=\"wandb\"><tr><td>lr/pg0</td><td>0.00035</td></tr><tr><td>lr/pg1</td><td>0.00035</td></tr><tr><td>lr/pg2</td><td>0.00035</td></tr><tr><td>metrics/mAP50(B)</td><td>0.99487</td></tr><tr><td>metrics/mAP50(M)</td><td>0.99484</td></tr><tr><td>metrics/mAP50-95(B)</td><td>0.83404</td></tr><tr><td>metrics/mAP50-95(M)</td><td>0.74445</td></tr><tr><td>metrics/precision(B)</td><td>0.98897</td></tr><tr><td>metrics/precision(M)</td><td>0.98986</td></tr><tr><td>metrics/recall(B)</td><td>0.99493</td></tr><tr><td>metrics/recall(M)</td><td>0.99341</td></tr><tr><td>model/GFLOPs</td><td>110.392</td></tr><tr><td>model/parameters</td><td>27240227</td></tr><tr><td>model/speed_PyTorch(ms)</td><td>10.547</td></tr><tr><td>train/box_loss</td><td>0.53957</td></tr><tr><td>train/cls_loss</td><td>0.21441</td></tr><tr><td>train/dfl_loss</td><td>0.98056</td></tr><tr><td>train/seg_loss</td><td>1.21507</td></tr><tr><td>val/box_loss</td><td>0.76643</td></tr><tr><td>val/cls_loss</td><td>0.24583</td></tr><tr><td>val/dfl_loss</td><td>1.08277</td></tr><tr><td>val/seg_loss</td><td>1.46377</td></tr></table><br/></div></div>"
      ],
      "text/plain": [
       "<IPython.core.display.HTML object>"
      ]
     },
     "metadata": {},
     "output_type": "display_data"
    },
    {
     "data": {
      "text/html": [
       " View run <strong style=\"color:#cdcd00\">Ego_Hands_Segmentation</strong> at: <a href=\"https://wandb.ai/dugyalanikhil/Ego-Hands/runs/wuqi4r4k\" target=\"_blank\">https://wandb.ai/dugyalanikhil/Ego-Hands/runs/wuqi4r4k</a><br/>Synced 6 W&B file(s), 32 media file(s), 9 artifact file(s) and 0 other file(s)"
      ],
      "text/plain": [
       "<IPython.core.display.HTML object>"
      ]
     },
     "metadata": {},
     "output_type": "display_data"
    },
    {
     "data": {
      "text/html": [
       "Find logs at: <code>./wandb/run-20231129_222657-wuqi4r4k/logs</code>"
      ],
      "text/plain": [
       "<IPython.core.display.HTML object>"
      ]
     },
     "metadata": {},
     "output_type": "display_data"
    },
    {
     "name": "stdout",
     "output_type": "stream",
     "text": [
      "Ultralytics YOLOv8.0.216 🚀 Python-3.9.7 torch-1.13.1+cu117 CUDA:0 (NVIDIA TITAN RTX, 24220MiB)\n",
      "YOLOv8m-seg summary (fused): 245 layers, 27222963 parameters, 0 gradients, 110.0 GFLOPs\n"
     ]
    },
    {
     "name": "stderr",
     "output_type": "stream",
     "text": [
      "\u001b[34m\u001b[1mval: \u001b[0mScanning /home/nikhil/Documents/Datasets/ego_hands dataset/ego_hands_crops_yolov8/test/labels.cache... 1081 images, 0 backgrounds, 0 corrupt: 100%|██████████| 1081/1081 [00:00<?, ?it/s]\n",
      "                 Class     Images  Instances      Box(P          R      mAP50  mAP50-95)     Mask(P          R      mAP50  mAP50-95): 100%|██████████| 1081/1081 [00:17<00:00, 60.89it/s]\n"
     ]
    },
    {
     "name": "stdout",
     "output_type": "stream",
     "text": [
      "                   all       1081       1081       0.99      0.993      0.995      0.835       0.99      0.993      0.995      0.745\n",
      "Speed: 0.2ms preprocess, 10.3ms inference, 0.0ms loss, 0.5ms postprocess per image\n",
      "Results saved to \u001b[1mEgo-Hands/Ego_Hands_Segmentation2\u001b[0m\n"
     ]
    }
   ],
   "source": [
    "#training model\n",
    "def train_model(yaml_file_path, batch=1, imgsz=640):\n",
    "    model = YOLO(\"yolov8m-seg.pt\")\n",
    "    model.train(data=yaml_file_path, epochs=80, batch=batch, imgsz=imgsz, project=\"Ego-Hands\", name=\"Ego_Hands_Segmentation\")\n",
    "    model.val()\n",
    "\n",
    "\n",
    "train_model('/home/nikhil/Documents/Datasets/ego_hands dataset/ego_hands_crops_yolov8/ego_hands_crops.yaml', batch=1)\n"
   ]
  },
  {
   "cell_type": "code",
   "execution_count": 8,
   "id": "a8fff4a2",
   "metadata": {},
   "outputs": [
    {
     "name": "stdout",
     "output_type": "stream",
     "text": [
      "image name CARDS_COURTYARD_S_H_hand1_frame_1609.jpg\n",
      "\n",
      "0: 256x640 1 hand, 14.4ms\n",
      "Speed: 4.0ms preprocess, 14.4ms inference, 1.3ms postprocess per image at shape (1, 3, 256, 640)\n"
     ]
    },
    {
     "data": {
      "text/plain": [
       "<Figure size 640x480 with 1 Axes>"
      ]
     },
     "metadata": {},
     "output_type": "display_data"
    },
    {
     "name": "stdout",
     "output_type": "stream",
     "text": [
      "image name CARDS_COURTYARD_H_S_hand1_frame_2423.jpg\n",
      "\n",
      "0: 512x640 1 hand, 12.7ms\n",
      "Speed: 1.7ms preprocess, 12.7ms inference, 1.5ms postprocess per image at shape (1, 3, 512, 640)\n"
     ]
    },
    {
     "data": {
      "text/plain": [
       "<Figure size 640x480 with 1 Axes>"
      ]
     },
     "metadata": {},
     "output_type": "display_data"
    },
    {
     "name": "stdout",
     "output_type": "stream",
     "text": [
      "image name CARDS_COURTYARD_H_S_hand2_frame_1115.jpg\n",
      "\n",
      "0: 480x640 2 hands, 12.8ms\n",
      "Speed: 3.8ms preprocess, 12.8ms inference, 1.6ms postprocess per image at shape (1, 3, 480, 640)\n"
     ]
    },
    {
     "data": {
      "text/plain": [
       "<Figure size 640x480 with 1 Axes>"
      ]
     },
     "metadata": {},
     "output_type": "display_data"
    },
    {
     "name": "stdout",
     "output_type": "stream",
     "text": [
      "image name CARDS_COURTYARD_H_S_hand2_frame_0702.jpg\n",
      "\n",
      "0: 384x640 2 hands, 19.5ms\n",
      "Speed: 1.6ms preprocess, 19.5ms inference, 1.3ms postprocess per image at shape (1, 3, 384, 640)\n"
     ]
    },
    {
     "data": {
      "text/plain": [
       "<Figure size 640x480 with 1 Axes>"
      ]
     },
     "metadata": {},
     "output_type": "display_data"
    },
    {
     "name": "stdout",
     "output_type": "stream",
     "text": [
      "image name CARDS_COURTYARD_T_B_hand0_frame_0334.jpg\n",
      "\n",
      "0: 416x640 1 hand, 18.8ms\n",
      "Speed: 1.7ms preprocess, 18.8ms inference, 1.4ms postprocess per image at shape (1, 3, 416, 640)\n"
     ]
    },
    {
     "data": {
      "text/plain": [
       "<Figure size 640x480 with 1 Axes>"
      ]
     },
     "metadata": {},
     "output_type": "display_data"
    },
    {
     "name": "stdout",
     "output_type": "stream",
     "text": [
      "image name CARDS_COURTYARD_H_S_hand3_frame_1185.jpg\n",
      "\n",
      "0: 448x640 1 hand, 18.7ms\n",
      "Speed: 1.3ms preprocess, 18.7ms inference, 1.2ms postprocess per image at shape (1, 3, 448, 640)\n"
     ]
    },
    {
     "data": {
      "text/plain": [
       "<Figure size 640x480 with 1 Axes>"
      ]
     },
     "metadata": {},
     "output_type": "display_data"
    },
    {
     "name": "stdout",
     "output_type": "stream",
     "text": [
      "image name CARDS_COURTYARD_S_H_hand2_frame_1379.jpg\n",
      "\n",
      "0: 384x640 1 hand, 11.2ms\n",
      "Speed: 1.8ms preprocess, 11.2ms inference, 1.2ms postprocess per image at shape (1, 3, 384, 640)\n"
     ]
    },
    {
     "data": {
      "text/plain": [
       "<Figure size 640x480 with 1 Axes>"
      ]
     },
     "metadata": {},
     "output_type": "display_data"
    },
    {
     "name": "stdout",
     "output_type": "stream",
     "text": [
      "image name CARDS_COURTYARD_T_B_hand3_frame_1239.jpg\n",
      "\n",
      "0: 512x640 1 hand, 12.5ms\n",
      "Speed: 1.5ms preprocess, 12.5ms inference, 1.3ms postprocess per image at shape (1, 3, 512, 640)\n"
     ]
    },
    {
     "data": {
      "text/plain": [
       "<Figure size 640x480 with 1 Axes>"
      ]
     },
     "metadata": {},
     "output_type": "display_data"
    },
    {
     "name": "stdout",
     "output_type": "stream",
     "text": [
      "image name CARDS_COURTYARD_S_H_hand3_frame_2183.jpg\n",
      "\n",
      "0: 448x640 1 hand, 11.6ms\n",
      "Speed: 1.4ms preprocess, 11.6ms inference, 1.5ms postprocess per image at shape (1, 3, 448, 640)\n"
     ]
    },
    {
     "data": {
      "text/plain": [
       "<Figure size 640x480 with 1 Axes>"
      ]
     },
     "metadata": {},
     "output_type": "display_data"
    },
    {
     "name": "stdout",
     "output_type": "stream",
     "text": [
      "image name CARDS_COURTYARD_T_B_hand1_frame_2321.jpg\n",
      "\n",
      "0: 288x640 1 hand, 18.8ms\n",
      "Speed: 1.3ms preprocess, 18.8ms inference, 1.2ms postprocess per image at shape (1, 3, 288, 640)\n"
     ]
    },
    {
     "data": {
      "text/plain": [
       "<Figure size 640x480 with 1 Axes>"
      ]
     },
     "metadata": {},
     "output_type": "display_data"
    },
    {
     "name": "stdout",
     "output_type": "stream",
     "text": [
      "image name CARDS_COURTYARD_S_H_hand3_frame_0672.jpg\n",
      "\n",
      "0: 448x640 1 hand, 11.9ms\n",
      "Speed: 1.3ms preprocess, 11.9ms inference, 1.2ms postprocess per image at shape (1, 3, 448, 640)\n"
     ]
    },
    {
     "data": {
      "text/plain": [
       "<Figure size 640x480 with 1 Axes>"
      ]
     },
     "metadata": {},
     "output_type": "display_data"
    },
    {
     "name": "stdout",
     "output_type": "stream",
     "text": [
      "image name CARDS_COURTYARD_H_S_hand0_frame_2190.jpg\n",
      "\n",
      "0: 384x640 1 hand, 12.0ms\n",
      "Speed: 1.4ms preprocess, 12.0ms inference, 1.5ms postprocess per image at shape (1, 3, 384, 640)\n"
     ]
    },
    {
     "data": {
      "text/plain": [
       "<Figure size 640x480 with 1 Axes>"
      ]
     },
     "metadata": {},
     "output_type": "display_data"
    },
    {
     "name": "stdout",
     "output_type": "stream",
     "text": [
      "image name CARDS_COURTYARD_T_B_hand2_frame_1642.jpg\n",
      "\n",
      "0: 448x640 1 hand, 11.4ms\n",
      "Speed: 1.3ms preprocess, 11.4ms inference, 1.3ms postprocess per image at shape (1, 3, 448, 640)\n"
     ]
    },
    {
     "data": {
      "text/plain": [
       "<Figure size 640x480 with 1 Axes>"
      ]
     },
     "metadata": {},
     "output_type": "display_data"
    },
    {
     "name": "stdout",
     "output_type": "stream",
     "text": [
      "image name CARDS_COURTYARD_T_B_hand1_frame_1462.jpg\n",
      "\n",
      "0: 352x640 1 hand, 21.4ms\n",
      "Speed: 1.7ms preprocess, 21.4ms inference, 1.2ms postprocess per image at shape (1, 3, 352, 640)\n"
     ]
    },
    {
     "data": {
      "text/plain": [
       "<Figure size 640x480 with 1 Axes>"
      ]
     },
     "metadata": {},
     "output_type": "display_data"
    },
    {
     "name": "stdout",
     "output_type": "stream",
     "text": [
      "image name CARDS_COURTYARD_T_B_hand0_frame_0911.jpg\n",
      "\n",
      "0: 480x640 1 hand, 12.5ms\n",
      "Speed: 1.4ms preprocess, 12.5ms inference, 1.3ms postprocess per image at shape (1, 3, 480, 640)\n"
     ]
    },
    {
     "data": {
      "text/plain": [
       "<Figure size 640x480 with 1 Axes>"
      ]
     },
     "metadata": {},
     "output_type": "display_data"
    },
    {
     "name": "stdout",
     "output_type": "stream",
     "text": [
      "image name CARDS_COURTYARD_H_S_hand2_frame_1245.jpg\n",
      "\n",
      "0: 384x640 1 hand, 11.2ms\n",
      "Speed: 1.3ms preprocess, 11.2ms inference, 1.5ms postprocess per image at shape (1, 3, 384, 640)\n"
     ]
    },
    {
     "data": {
      "text/plain": [
       "<Figure size 640x480 with 1 Axes>"
      ]
     },
     "metadata": {},
     "output_type": "display_data"
    },
    {
     "name": "stdout",
     "output_type": "stream",
     "text": [
      "image name CARDS_COURTYARD_S_H_hand3_frame_0896.jpg\n",
      "\n",
      "0: 448x640 1 hand, 11.8ms\n",
      "Speed: 1.3ms preprocess, 11.8ms inference, 1.3ms postprocess per image at shape (1, 3, 448, 640)\n"
     ]
    },
    {
     "data": {
      "text/plain": [
       "<Figure size 640x480 with 1 Axes>"
      ]
     },
     "metadata": {},
     "output_type": "display_data"
    },
    {
     "name": "stdout",
     "output_type": "stream",
     "text": [
      "image name CARDS_COURTYARD_T_B_hand3_frame_0227.jpg\n",
      "\n",
      "0: 416x640 1 hand, 12.8ms\n",
      "Speed: 1.4ms preprocess, 12.8ms inference, 1.2ms postprocess per image at shape (1, 3, 416, 640)\n"
     ]
    },
    {
     "data": {
      "text/plain": [
       "<Figure size 640x480 with 1 Axes>"
      ]
     },
     "metadata": {},
     "output_type": "display_data"
    },
    {
     "name": "stdout",
     "output_type": "stream",
     "text": [
      "image name CARDS_COURTYARD_T_B_hand0_frame_1550.jpg\n",
      "\n",
      "0: 480x640 1 hand, 12.7ms\n",
      "Speed: 1.8ms preprocess, 12.7ms inference, 1.2ms postprocess per image at shape (1, 3, 480, 640)\n"
     ]
    },
    {
     "data": {
      "text/plain": [
       "<Figure size 640x480 with 1 Axes>"
      ]
     },
     "metadata": {},
     "output_type": "display_data"
    },
    {
     "name": "stdout",
     "output_type": "stream",
     "text": [
      "image name CARDS_COURTYARD_S_H_hand3_frame_0577.jpg\n",
      "\n",
      "0: 448x640 2 hands, 12.0ms\n",
      "Speed: 1.7ms preprocess, 12.0ms inference, 1.5ms postprocess per image at shape (1, 3, 448, 640)\n"
     ]
    },
    {
     "data": {
      "text/plain": [
       "<Figure size 640x480 with 1 Axes>"
      ]
     },
     "metadata": {},
     "output_type": "display_data"
    },
    {
     "name": "stdout",
     "output_type": "stream",
     "text": [
      "image name CARDS_COURTYARD_H_S_hand2_frame_1939.jpg\n",
      "\n",
      "0: 320x640 1 hand, 25.9ms\n",
      "Speed: 1.5ms preprocess, 25.9ms inference, 1.2ms postprocess per image at shape (1, 3, 320, 640)\n"
     ]
    },
    {
     "data": {
      "text/plain": [
       "<Figure size 640x480 with 1 Axes>"
      ]
     },
     "metadata": {},
     "output_type": "display_data"
    },
    {
     "name": "stdout",
     "output_type": "stream",
     "text": [
      "image name CARDS_COURTYARD_T_B_hand3_frame_1110.jpg\n",
      "\n",
      "0: 352x640 1 hand, 10.8ms\n",
      "Speed: 1.3ms preprocess, 10.8ms inference, 1.2ms postprocess per image at shape (1, 3, 352, 640)\n"
     ]
    },
    {
     "data": {
      "text/plain": [
       "<Figure size 640x480 with 1 Axes>"
      ]
     },
     "metadata": {},
     "output_type": "display_data"
    },
    {
     "name": "stdout",
     "output_type": "stream",
     "text": [
      "image name CARDS_COURTYARD_T_B_hand0_frame_1434.jpg\n",
      "\n",
      "0: 384x640 1 hand, 11.7ms\n",
      "Speed: 1.4ms preprocess, 11.7ms inference, 1.2ms postprocess per image at shape (1, 3, 384, 640)\n"
     ]
    },
    {
     "data": {
      "text/plain": [
       "<Figure size 640x480 with 1 Axes>"
      ]
     },
     "metadata": {},
     "output_type": "display_data"
    },
    {
     "name": "stdout",
     "output_type": "stream",
     "text": [
      "image name CARDS_COURTYARD_T_B_hand3_frame_1672.jpg\n",
      "\n",
      "0: 480x640 2 hands, 12.5ms\n",
      "Speed: 1.5ms preprocess, 12.5ms inference, 1.3ms postprocess per image at shape (1, 3, 480, 640)\n"
     ]
    },
    {
     "data": {
      "text/plain": [
       "<Figure size 640x480 with 1 Axes>"
      ]
     },
     "metadata": {},
     "output_type": "display_data"
    },
    {
     "name": "stdout",
     "output_type": "stream",
     "text": [
      "image name CARDS_COURTYARD_T_B_hand2_frame_2022.jpg\n",
      "\n",
      "0: 320x640 1 hand, 10.9ms\n",
      "Speed: 1.4ms preprocess, 10.9ms inference, 1.2ms postprocess per image at shape (1, 3, 320, 640)\n"
     ]
    },
    {
     "data": {
      "text/plain": [
       "<Figure size 640x480 with 1 Axes>"
      ]
     },
     "metadata": {},
     "output_type": "display_data"
    },
    {
     "name": "stdout",
     "output_type": "stream",
     "text": [
      "image name CARDS_COURTYARD_S_H_hand3_frame_2591.jpg\n",
      "\n",
      "0: 576x640 1 hand, 27.8ms\n",
      "Speed: 1.7ms preprocess, 27.8ms inference, 2.5ms postprocess per image at shape (1, 3, 576, 640)\n"
     ]
    },
    {
     "data": {
      "text/plain": [
       "<Figure size 640x480 with 1 Axes>"
      ]
     },
     "metadata": {},
     "output_type": "display_data"
    },
    {
     "name": "stdout",
     "output_type": "stream",
     "text": [
      "image name CARDS_COURTYARD_T_B_hand3_frame_2589.jpg\n",
      "\n",
      "0: 512x640 2 hands, 18.2ms\n",
      "Speed: 3.0ms preprocess, 18.2ms inference, 1.4ms postprocess per image at shape (1, 3, 512, 640)\n"
     ]
    },
    {
     "data": {
      "text/plain": [
       "<Figure size 640x480 with 1 Axes>"
      ]
     },
     "metadata": {},
     "output_type": "display_data"
    },
    {
     "name": "stdout",
     "output_type": "stream",
     "text": [
      "image name CARDS_COURTYARD_T_B_hand1_frame_1905.jpg\n",
      "\n",
      "0: 416x640 1 hand, 21.4ms\n",
      "Speed: 3.7ms preprocess, 21.4ms inference, 1.6ms postprocess per image at shape (1, 3, 416, 640)\n"
     ]
    },
    {
     "data": {
      "text/plain": [
       "<Figure size 640x480 with 1 Axes>"
      ]
     },
     "metadata": {},
     "output_type": "display_data"
    },
    {
     "name": "stdout",
     "output_type": "stream",
     "text": [
      "image name CARDS_COURTYARD_S_H_hand0_frame_2148.jpg\n",
      "\n",
      "0: 384x640 1 hand, 11.8ms\n",
      "Speed: 1.1ms preprocess, 11.8ms inference, 1.2ms postprocess per image at shape (1, 3, 384, 640)\n"
     ]
    },
    {
     "data": {
      "text/plain": [
       "<Figure size 640x480 with 1 Axes>"
      ]
     },
     "metadata": {},
     "output_type": "display_data"
    },
    {
     "name": "stdout",
     "output_type": "stream",
     "text": [
      "image name CARDS_COURTYARD_H_S_hand3_frame_1680.jpg\n",
      "\n",
      "0: 512x640 2 hands, 12.6ms\n",
      "Speed: 1.4ms preprocess, 12.6ms inference, 1.3ms postprocess per image at shape (1, 3, 512, 640)\n"
     ]
    },
    {
     "data": {
      "text/plain": [
       "<Figure size 640x480 with 1 Axes>"
      ]
     },
     "metadata": {},
     "output_type": "display_data"
    },
    {
     "name": "stdout",
     "output_type": "stream",
     "text": [
      "image name CARDS_COURTYARD_H_S_hand1_frame_1939.jpg\n",
      "\n",
      "0: 416x640 1 hand, 11.1ms\n",
      "Speed: 1.5ms preprocess, 11.1ms inference, 1.1ms postprocess per image at shape (1, 3, 416, 640)\n"
     ]
    },
    {
     "data": {
      "text/plain": [
       "<Figure size 640x480 with 1 Axes>"
      ]
     },
     "metadata": {},
     "output_type": "display_data"
    },
    {
     "name": "stdout",
     "output_type": "stream",
     "text": [
      "image name CARDS_COURTYARD_T_B_hand3_frame_2132.jpg\n",
      "\n",
      "0: 480x640 2 hands, 12.5ms\n",
      "Speed: 1.3ms preprocess, 12.5ms inference, 1.2ms postprocess per image at shape (1, 3, 480, 640)\n"
     ]
    },
    {
     "data": {
      "text/plain": [
       "<Figure size 640x480 with 1 Axes>"
      ]
     },
     "metadata": {},
     "output_type": "display_data"
    },
    {
     "name": "stdout",
     "output_type": "stream",
     "text": [
      "image name CARDS_COURTYARD_H_S_hand1_frame_1392.jpg\n",
      "\n",
      "0: 416x640 1 hand, 11.0ms\n",
      "Speed: 1.3ms preprocess, 11.0ms inference, 1.2ms postprocess per image at shape (1, 3, 416, 640)\n"
     ]
    },
    {
     "data": {
      "text/plain": [
       "<Figure size 640x480 with 1 Axes>"
      ]
     },
     "metadata": {},
     "output_type": "display_data"
    },
    {
     "name": "stdout",
     "output_type": "stream",
     "text": [
      "image name CARDS_COURTYARD_T_B_hand1_frame_1585.jpg\n",
      "\n",
      "0: 384x640 1 hand, 12.3ms\n",
      "Speed: 1.3ms preprocess, 12.3ms inference, 1.2ms postprocess per image at shape (1, 3, 384, 640)\n"
     ]
    },
    {
     "data": {
      "text/plain": [
       "<Figure size 640x480 with 1 Axes>"
      ]
     },
     "metadata": {},
     "output_type": "display_data"
    },
    {
     "name": "stdout",
     "output_type": "stream",
     "text": [
      "image name CARDS_COURTYARD_T_B_hand1_frame_2378.jpg\n",
      "\n",
      "0: 544x640 1 hand, 18.4ms\n",
      "Speed: 1.6ms preprocess, 18.4ms inference, 1.2ms postprocess per image at shape (1, 3, 544, 640)\n"
     ]
    },
    {
     "data": {
      "text/plain": [
       "<Figure size 640x480 with 1 Axes>"
      ]
     },
     "metadata": {},
     "output_type": "display_data"
    },
    {
     "name": "stdout",
     "output_type": "stream",
     "text": [
      "image name CARDS_COURTYARD_S_H_hand2_frame_1551.jpg\n",
      "\n",
      "0: 288x640 1 hand, 11.5ms\n",
      "Speed: 1.1ms preprocess, 11.5ms inference, 1.7ms postprocess per image at shape (1, 3, 288, 640)\n"
     ]
    },
    {
     "data": {
      "text/plain": [
       "<Figure size 640x480 with 1 Axes>"
      ]
     },
     "metadata": {},
     "output_type": "display_data"
    },
    {
     "name": "stdout",
     "output_type": "stream",
     "text": [
      "image name CARDS_COURTYARD_T_B_hand0_frame_1190.jpg\n",
      "\n",
      "0: 416x640 1 hand, 11.9ms\n",
      "Speed: 1.4ms preprocess, 11.9ms inference, 1.2ms postprocess per image at shape (1, 3, 416, 640)\n"
     ]
    },
    {
     "data": {
      "text/plain": [
       "<Figure size 640x480 with 1 Axes>"
      ]
     },
     "metadata": {},
     "output_type": "display_data"
    },
    {
     "name": "stdout",
     "output_type": "stream",
     "text": [
      "image name CARDS_COURTYARD_S_H_hand0_frame_1352.jpg\n",
      "\n",
      "0: 480x640 1 hand, 13.4ms\n",
      "Speed: 1.5ms preprocess, 13.4ms inference, 1.2ms postprocess per image at shape (1, 3, 480, 640)\n"
     ]
    },
    {
     "data": {
      "text/plain": [
       "<Figure size 640x480 with 1 Axes>"
      ]
     },
     "metadata": {},
     "output_type": "display_data"
    },
    {
     "name": "stdout",
     "output_type": "stream",
     "text": [
      "image name CARDS_COURTYARD_H_S_hand0_frame_1674.jpg\n",
      "\n",
      "0: 384x640 1 hand, 12.3ms\n",
      "Speed: 1.3ms preprocess, 12.3ms inference, 1.4ms postprocess per image at shape (1, 3, 384, 640)\n"
     ]
    },
    {
     "data": {
      "text/plain": [
       "<Figure size 640x480 with 1 Axes>"
      ]
     },
     "metadata": {},
     "output_type": "display_data"
    },
    {
     "name": "stdout",
     "output_type": "stream",
     "text": [
      "image name CARDS_COURTYARD_H_S_hand3_frame_0702.jpg\n",
      "\n",
      "0: 544x640 2 hands, 13.8ms\n",
      "Speed: 1.5ms preprocess, 13.8ms inference, 1.2ms postprocess per image at shape (1, 3, 544, 640)\n"
     ]
    },
    {
     "data": {
      "text/plain": [
       "<Figure size 640x480 with 1 Axes>"
      ]
     },
     "metadata": {},
     "output_type": "display_data"
    },
    {
     "name": "stdout",
     "output_type": "stream",
     "text": [
      "image name CARDS_COURTYARD_H_S_hand0_frame_2296.jpg\n",
      "\n",
      "0: 384x640 1 hand, 14.1ms\n",
      "Speed: 1.9ms preprocess, 14.1ms inference, 1.2ms postprocess per image at shape (1, 3, 384, 640)\n"
     ]
    },
    {
     "data": {
      "text/plain": [
       "<Figure size 640x480 with 1 Axes>"
      ]
     },
     "metadata": {},
     "output_type": "display_data"
    },
    {
     "name": "stdout",
     "output_type": "stream",
     "text": [
      "image name CARDS_COURTYARD_T_B_hand0_frame_1276.jpg\n",
      "\n",
      "0: 320x640 1 hand, 11.2ms\n",
      "Speed: 1.1ms preprocess, 11.2ms inference, 1.2ms postprocess per image at shape (1, 3, 320, 640)\n"
     ]
    },
    {
     "data": {
      "text/plain": [
       "<Figure size 640x480 with 1 Axes>"
      ]
     },
     "metadata": {},
     "output_type": "display_data"
    },
    {
     "name": "stdout",
     "output_type": "stream",
     "text": [
      "image name CARDS_COURTYARD_T_B_hand2_frame_0412.jpg\n",
      "\n",
      "0: 384x640 1 hand, 20.8ms\n",
      "Speed: 2.9ms preprocess, 20.8ms inference, 1.6ms postprocess per image at shape (1, 3, 384, 640)\n"
     ]
    },
    {
     "data": {
      "text/plain": [
       "<Figure size 640x480 with 1 Axes>"
      ]
     },
     "metadata": {},
     "output_type": "display_data"
    },
    {
     "name": "stdout",
     "output_type": "stream",
     "text": [
      "image name CARDS_COURTYARD_T_B_hand2_frame_1937.jpg\n",
      "\n",
      "0: 384x640 1 hand, 10.4ms\n",
      "Speed: 1.3ms preprocess, 10.4ms inference, 1.4ms postprocess per image at shape (1, 3, 384, 640)\n"
     ]
    },
    {
     "data": {
      "text/plain": [
       "<Figure size 640x480 with 1 Axes>"
      ]
     },
     "metadata": {},
     "output_type": "display_data"
    },
    {
     "name": "stdout",
     "output_type": "stream",
     "text": [
      "image name CARDS_COURTYARD_S_H_hand2_frame_0935.jpg\n",
      "\n",
      "0: 384x640 1 hand, 12.7ms\n",
      "Speed: 1.2ms preprocess, 12.7ms inference, 1.2ms postprocess per image at shape (1, 3, 384, 640)\n"
     ]
    },
    {
     "data": {
      "text/plain": [
       "<Figure size 640x480 with 1 Axes>"
      ]
     },
     "metadata": {},
     "output_type": "display_data"
    },
    {
     "name": "stdout",
     "output_type": "stream",
     "text": [
      "image name CARDS_COURTYARD_T_B_hand2_frame_0226.jpg\n",
      "\n",
      "0: 288x640 1 hand, 11.5ms\n",
      "Speed: 1.0ms preprocess, 11.5ms inference, 1.6ms postprocess per image at shape (1, 3, 288, 640)\n"
     ]
    },
    {
     "data": {
      "text/plain": [
       "<Figure size 640x480 with 1 Axes>"
      ]
     },
     "metadata": {},
     "output_type": "display_data"
    },
    {
     "name": "stdout",
     "output_type": "stream",
     "text": [
      "image name CARDS_COURTYARD_T_B_hand0_frame_0760.jpg\n",
      "\n",
      "0: 480x640 1 hand, 15.6ms\n",
      "Speed: 3.4ms preprocess, 15.6ms inference, 1.5ms postprocess per image at shape (1, 3, 480, 640)\n"
     ]
    },
    {
     "data": {
      "text/plain": [
       "<Figure size 640x480 with 1 Axes>"
      ]
     },
     "metadata": {},
     "output_type": "display_data"
    },
    {
     "name": "stdout",
     "output_type": "stream",
     "text": [
      "image name CARDS_COURTYARD_T_B_hand2_frame_1254.jpg\n",
      "\n",
      "0: 512x640 1 hand, 23.6ms\n",
      "Speed: 3.3ms preprocess, 23.6ms inference, 1.4ms postprocess per image at shape (1, 3, 512, 640)\n"
     ]
    },
    {
     "data": {
      "text/plain": [
       "<Figure size 640x480 with 1 Axes>"
      ]
     },
     "metadata": {},
     "output_type": "display_data"
    },
    {
     "name": "stdout",
     "output_type": "stream",
     "text": [
      "image name CARDS_COURTYARD_S_H_hand3_frame_1913.jpg\n",
      "\n",
      "0: 640x640 1 hand, 15.8ms\n",
      "Speed: 2.4ms preprocess, 15.8ms inference, 1.2ms postprocess per image at shape (1, 3, 640, 640)\n"
     ]
    },
    {
     "data": {
      "text/plain": [
       "<Figure size 640x480 with 1 Axes>"
      ]
     },
     "metadata": {},
     "output_type": "display_data"
    },
    {
     "name": "stdout",
     "output_type": "stream",
     "text": [
      "image name CARDS_COURTYARD_H_S_hand0_frame_0958.jpg\n",
      "\n",
      "0: 448x640 1 hand, 13.1ms\n",
      "Speed: 1.8ms preprocess, 13.1ms inference, 2.7ms postprocess per image at shape (1, 3, 448, 640)\n"
     ]
    },
    {
     "data": {
      "text/plain": [
       "<Figure size 640x480 with 1 Axes>"
      ]
     },
     "metadata": {},
     "output_type": "display_data"
    },
    {
     "name": "stdout",
     "output_type": "stream",
     "text": [
      "image name CARDS_COURTYARD_T_B_hand3_frame_0334.jpg\n",
      "\n",
      "0: 416x640 1 hand, 11.9ms\n",
      "Speed: 1.5ms preprocess, 11.9ms inference, 1.2ms postprocess per image at shape (1, 3, 416, 640)\n"
     ]
    },
    {
     "data": {
      "text/plain": [
       "<Figure size 640x480 with 1 Axes>"
      ]
     },
     "metadata": {},
     "output_type": "display_data"
    },
    {
     "name": "stdout",
     "output_type": "stream",
     "text": [
      "image name CARDS_COURTYARD_H_S_hand2_frame_0552.jpg\n",
      "\n",
      "0: 416x640 1 hand, 14.6ms\n",
      "Speed: 1.5ms preprocess, 14.6ms inference, 1.4ms postprocess per image at shape (1, 3, 416, 640)\n"
     ]
    },
    {
     "data": {
      "text/plain": [
       "<Figure size 640x480 with 1 Axes>"
      ]
     },
     "metadata": {},
     "output_type": "display_data"
    },
    {
     "name": "stdout",
     "output_type": "stream",
     "text": [
      "image name CARDS_COURTYARD_H_S_hand1_frame_1403.jpg\n",
      "\n",
      "0: 448x640 1 hand, 20.5ms\n",
      "Speed: 5.2ms preprocess, 20.5ms inference, 1.5ms postprocess per image at shape (1, 3, 448, 640)\n"
     ]
    },
    {
     "data": {
      "text/plain": [
       "<Figure size 640x480 with 1 Axes>"
      ]
     },
     "metadata": {},
     "output_type": "display_data"
    },
    {
     "name": "stdout",
     "output_type": "stream",
     "text": [
      "image name CARDS_COURTYARD_T_B_hand3_frame_1314.jpg\n",
      "\n",
      "0: 640x448 1 hand, 17.2ms\n",
      "Speed: 1.4ms preprocess, 17.2ms inference, 1.2ms postprocess per image at shape (1, 3, 640, 448)\n"
     ]
    },
    {
     "data": {
      "text/plain": [
       "<Figure size 640x480 with 1 Axes>"
      ]
     },
     "metadata": {},
     "output_type": "display_data"
    },
    {
     "name": "stdout",
     "output_type": "stream",
     "text": [
      "image name CARDS_COURTYARD_T_B_hand2_frame_2133.jpg\n",
      "\n",
      "0: 320x640 1 hand, 18.6ms\n",
      "Speed: 2.5ms preprocess, 18.6ms inference, 1.8ms postprocess per image at shape (1, 3, 320, 640)\n"
     ]
    },
    {
     "data": {
      "text/plain": [
       "<Figure size 640x480 with 1 Axes>"
      ]
     },
     "metadata": {},
     "output_type": "display_data"
    },
    {
     "name": "stdout",
     "output_type": "stream",
     "text": [
      "image name CARDS_COURTYARD_S_H_hand3_frame_2464.jpg\n",
      "\n",
      "0: 640x640 1 hand, 18.7ms\n",
      "Speed: 4.3ms preprocess, 18.7ms inference, 1.7ms postprocess per image at shape (1, 3, 640, 640)\n"
     ]
    },
    {
     "data": {
      "text/plain": [
       "<Figure size 640x480 with 1 Axes>"
      ]
     },
     "metadata": {},
     "output_type": "display_data"
    },
    {
     "name": "stdout",
     "output_type": "stream",
     "text": [
      "image name CARDS_COURTYARD_T_B_hand3_frame_0276.jpg\n",
      "\n",
      "0: 480x640 1 hand, 18.5ms\n",
      "Speed: 2.7ms preprocess, 18.5ms inference, 1.3ms postprocess per image at shape (1, 3, 480, 640)\n"
     ]
    },
    {
     "data": {
      "text/plain": [
       "<Figure size 640x480 with 1 Axes>"
      ]
     },
     "metadata": {},
     "output_type": "display_data"
    },
    {
     "name": "stdout",
     "output_type": "stream",
     "text": [
      "image name CARDS_COURTYARD_T_B_hand1_frame_0562.jpg\n",
      "\n",
      "0: 352x640 1 hand, 11.0ms\n",
      "Speed: 1.3ms preprocess, 11.0ms inference, 1.6ms postprocess per image at shape (1, 3, 352, 640)\n"
     ]
    },
    {
     "data": {
      "text/plain": [
       "<Figure size 640x480 with 1 Axes>"
      ]
     },
     "metadata": {},
     "output_type": "display_data"
    },
    {
     "name": "stdout",
     "output_type": "stream",
     "text": [
      "image name CARDS_COURTYARD_H_S_hand3_frame_0779.jpg\n",
      "\n",
      "0: 416x640 1 hand, 11.9ms\n",
      "Speed: 1.4ms preprocess, 11.9ms inference, 1.2ms postprocess per image at shape (1, 3, 416, 640)\n"
     ]
    },
    {
     "data": {
      "text/plain": [
       "<Figure size 640x480 with 1 Axes>"
      ]
     },
     "metadata": {},
     "output_type": "display_data"
    },
    {
     "name": "stdout",
     "output_type": "stream",
     "text": [
      "image name CARDS_COURTYARD_T_B_hand2_frame_1672.jpg\n",
      "\n",
      "0: 352x640 1 hand, 11.2ms\n",
      "Speed: 1.2ms preprocess, 11.2ms inference, 1.2ms postprocess per image at shape (1, 3, 352, 640)\n"
     ]
    },
    {
     "data": {
      "text/plain": [
       "<Figure size 640x480 with 1 Axes>"
      ]
     },
     "metadata": {},
     "output_type": "display_data"
    },
    {
     "name": "stdout",
     "output_type": "stream",
     "text": [
      "image name CARDS_COURTYARD_H_S_hand0_frame_0060.jpg\n",
      "\n",
      "0: 288x640 1 hand, 11.5ms\n",
      "Speed: 1.1ms preprocess, 11.5ms inference, 1.4ms postprocess per image at shape (1, 3, 288, 640)\n"
     ]
    },
    {
     "data": {
      "text/plain": [
       "<Figure size 640x480 with 1 Axes>"
      ]
     },
     "metadata": {},
     "output_type": "display_data"
    },
    {
     "name": "stdout",
     "output_type": "stream",
     "text": [
      "image name CARDS_COURTYARD_T_B_hand1_frame_2244.jpg\n",
      "\n",
      "0: 480x640 1 hand, 12.5ms\n",
      "Speed: 2.1ms preprocess, 12.5ms inference, 1.2ms postprocess per image at shape (1, 3, 480, 640)\n"
     ]
    },
    {
     "data": {
      "text/plain": [
       "<Figure size 640x480 with 1 Axes>"
      ]
     },
     "metadata": {},
     "output_type": "display_data"
    },
    {
     "name": "stdout",
     "output_type": "stream",
     "text": [
      "image name CARDS_COURTYARD_H_S_hand0_frame_0247.jpg\n",
      "\n",
      "0: 544x640 1 hand, 13.9ms\n",
      "Speed: 1.6ms preprocess, 13.9ms inference, 1.2ms postprocess per image at shape (1, 3, 544, 640)\n"
     ]
    },
    {
     "data": {
      "text/plain": [
       "<Figure size 640x480 with 1 Axes>"
      ]
     },
     "metadata": {},
     "output_type": "display_data"
    },
    {
     "name": "stdout",
     "output_type": "stream",
     "text": [
      "image name CARDS_COURTYARD_H_S_hand3_frame_0266.jpg\n",
      "\n",
      "0: 480x640 2 hands, 12.6ms\n",
      "Speed: 1.4ms preprocess, 12.6ms inference, 1.2ms postprocess per image at shape (1, 3, 480, 640)\n"
     ]
    },
    {
     "data": {
      "text/plain": [
       "<Figure size 640x480 with 1 Axes>"
      ]
     },
     "metadata": {},
     "output_type": "display_data"
    },
    {
     "name": "stdout",
     "output_type": "stream",
     "text": [
      "image name CARDS_COURTYARD_T_B_hand1_frame_0685.jpg\n",
      "\n",
      "0: 384x640 1 hand, 10.9ms\n",
      "Speed: 1.3ms preprocess, 10.9ms inference, 1.2ms postprocess per image at shape (1, 3, 384, 640)\n"
     ]
    },
    {
     "data": {
      "text/plain": [
       "<Figure size 640x480 with 1 Axes>"
      ]
     },
     "metadata": {},
     "output_type": "display_data"
    },
    {
     "name": "stdout",
     "output_type": "stream",
     "text": [
      "image name CARDS_COURTYARD_H_S_hand3_frame_2134.jpg\n",
      "\n",
      "0: 384x640 2 hands, 10.9ms\n",
      "Speed: 2.4ms preprocess, 10.9ms inference, 1.3ms postprocess per image at shape (1, 3, 384, 640)\n"
     ]
    },
    {
     "data": {
      "text/plain": [
       "<Figure size 640x480 with 1 Axes>"
      ]
     },
     "metadata": {},
     "output_type": "display_data"
    },
    {
     "name": "stdout",
     "output_type": "stream",
     "text": [
      "image name CARDS_COURTYARD_S_H_hand2_frame_1412.jpg\n",
      "\n",
      "0: 384x640 1 hand, 11.0ms\n",
      "Speed: 1.2ms preprocess, 11.0ms inference, 1.2ms postprocess per image at shape (1, 3, 384, 640)\n"
     ]
    },
    {
     "data": {
      "text/plain": [
       "<Figure size 640x480 with 1 Axes>"
      ]
     },
     "metadata": {},
     "output_type": "display_data"
    },
    {
     "name": "stdout",
     "output_type": "stream",
     "text": [
      "image name CARDS_COURTYARD_T_B_hand1_frame_0911.jpg\n",
      "\n",
      "0: 320x640 1 hand, 11.0ms\n",
      "Speed: 1.2ms preprocess, 11.0ms inference, 1.3ms postprocess per image at shape (1, 3, 320, 640)\n"
     ]
    },
    {
     "data": {
      "text/plain": [
       "<Figure size 640x480 with 1 Axes>"
      ]
     },
     "metadata": {},
     "output_type": "display_data"
    },
    {
     "name": "stdout",
     "output_type": "stream",
     "text": [
      "image name CARDS_COURTYARD_S_H_hand3_frame_2154.jpg\n",
      "\n",
      "0: 480x640 1 hand, 22.7ms\n",
      "Speed: 3.4ms preprocess, 22.7ms inference, 2.7ms postprocess per image at shape (1, 3, 480, 640)\n"
     ]
    },
    {
     "data": {
      "text/plain": [
       "<Figure size 640x480 with 1 Axes>"
      ]
     },
     "metadata": {},
     "output_type": "display_data"
    },
    {
     "name": "stdout",
     "output_type": "stream",
     "text": [
      "image name CARDS_COURTYARD_S_H_hand0_frame_1164.jpg\n",
      "\n",
      "0: 416x640 (no detections), 25.8ms\n",
      "Speed: 3.2ms preprocess, 25.8ms inference, 0.4ms postprocess per image at shape (1, 3, 416, 640)\n",
      "no results for image CARDS_COURTYARD_S_H_hand0_frame_1164.jpg!\n",
      "image name CARDS_COURTYARD_T_B_hand0_frame_1986.jpg\n",
      "\n",
      "0: 352x640 1 hand, 11.7ms\n",
      "Speed: 1.4ms preprocess, 11.7ms inference, 1.3ms postprocess per image at shape (1, 3, 352, 640)\n"
     ]
    },
    {
     "data": {
      "text/plain": [
       "<Figure size 640x480 with 1 Axes>"
      ]
     },
     "metadata": {},
     "output_type": "display_data"
    },
    {
     "name": "stdout",
     "output_type": "stream",
     "text": [
      "image name CARDS_COURTYARD_T_B_hand3_frame_0760.jpg\n",
      "\n",
      "0: 384x640 1 hand, 18.7ms\n",
      "Speed: 2.2ms preprocess, 18.7ms inference, 1.5ms postprocess per image at shape (1, 3, 384, 640)\n"
     ]
    },
    {
     "data": {
      "text/plain": [
       "<Figure size 640x480 with 1 Axes>"
      ]
     },
     "metadata": {},
     "output_type": "display_data"
    },
    {
     "name": "stdout",
     "output_type": "stream",
     "text": [
      "image name CARDS_COURTYARD_T_B_hand0_frame_2244.jpg\n",
      "\n",
      "0: 384x640 1 hand, 10.3ms\n",
      "Speed: 1.2ms preprocess, 10.3ms inference, 1.2ms postprocess per image at shape (1, 3, 384, 640)\n"
     ]
    },
    {
     "data": {
      "text/plain": [
       "<Figure size 640x480 with 1 Axes>"
      ]
     },
     "metadata": {},
     "output_type": "display_data"
    },
    {
     "name": "stdout",
     "output_type": "stream",
     "text": [
      "image name CARDS_COURTYARD_S_H_hand1_frame_1551.jpg\n",
      "\n",
      "0: 352x640 1 hand, 11.5ms\n",
      "Speed: 1.2ms preprocess, 11.5ms inference, 1.2ms postprocess per image at shape (1, 3, 352, 640)\n"
     ]
    },
    {
     "data": {
      "text/plain": [
       "<Figure size 640x480 with 1 Axes>"
      ]
     },
     "metadata": {},
     "output_type": "display_data"
    },
    {
     "name": "stdout",
     "output_type": "stream",
     "text": [
      "image name CARDS_COURTYARD_H_S_hand0_frame_0145.jpg\n",
      "\n",
      "0: 480x640 1 hand, 12.5ms\n",
      "Speed: 1.3ms preprocess, 12.5ms inference, 1.2ms postprocess per image at shape (1, 3, 480, 640)\n"
     ]
    },
    {
     "data": {
      "text/plain": [
       "<Figure size 640x480 with 1 Axes>"
      ]
     },
     "metadata": {},
     "output_type": "display_data"
    },
    {
     "name": "stdout",
     "output_type": "stream",
     "text": [
      "image name CARDS_COURTYARD_H_S_hand2_frame_1647.jpg\n",
      "\n",
      "0: 384x640 2 hands, 12.2ms\n",
      "Speed: 1.5ms preprocess, 12.2ms inference, 1.2ms postprocess per image at shape (1, 3, 384, 640)\n"
     ]
    },
    {
     "data": {
      "text/plain": [
       "<Figure size 640x480 with 1 Axes>"
      ]
     },
     "metadata": {},
     "output_type": "display_data"
    },
    {
     "name": "stdout",
     "output_type": "stream",
     "text": [
      "image name CARDS_COURTYARD_S_H_hand2_frame_1452.jpg\n",
      "\n",
      "0: 352x640 1 hand, 13.7ms\n",
      "Speed: 1.6ms preprocess, 13.7ms inference, 2.6ms postprocess per image at shape (1, 3, 352, 640)\n"
     ]
    },
    {
     "data": {
      "text/plain": [
       "<Figure size 640x480 with 1 Axes>"
      ]
     },
     "metadata": {},
     "output_type": "display_data"
    },
    {
     "name": "stdout",
     "output_type": "stream",
     "text": [
      "image name CARDS_COURTYARD_H_S_hand0_frame_0702.jpg\n",
      "\n",
      "0: 288x640 1 hand, 20.8ms\n",
      "Speed: 1.3ms preprocess, 20.8ms inference, 1.9ms postprocess per image at shape (1, 3, 288, 640)\n"
     ]
    },
    {
     "data": {
      "text/plain": [
       "<Figure size 640x480 with 1 Axes>"
      ]
     },
     "metadata": {},
     "output_type": "display_data"
    },
    {
     "name": "stdout",
     "output_type": "stream",
     "text": [
      "image name CARDS_COURTYARD_S_H_hand2_frame_0299.jpg\n",
      "\n",
      "0: 320x640 1 hand, 14.6ms\n",
      "Speed: 1.1ms preprocess, 14.6ms inference, 1.5ms postprocess per image at shape (1, 3, 320, 640)\n"
     ]
    },
    {
     "data": {
      "text/plain": [
       "<Figure size 640x480 with 1 Axes>"
      ]
     },
     "metadata": {},
     "output_type": "display_data"
    },
    {
     "name": "stdout",
     "output_type": "stream",
     "text": [
      "image name CARDS_COURTYARD_H_S_hand0_frame_0134.jpg\n",
      "\n",
      "0: 352x640 1 hand, 11.2ms\n",
      "Speed: 1.1ms preprocess, 11.2ms inference, 1.2ms postprocess per image at shape (1, 3, 352, 640)\n"
     ]
    },
    {
     "data": {
      "text/plain": [
       "<Figure size 640x480 with 1 Axes>"
      ]
     },
     "metadata": {},
     "output_type": "display_data"
    },
    {
     "name": "stdout",
     "output_type": "stream",
     "text": [
      "image name CARDS_COURTYARD_H_S_hand1_frame_1680.jpg\n",
      "\n",
      "0: 384x640 1 hand, 10.8ms\n",
      "Speed: 1.3ms preprocess, 10.8ms inference, 1.2ms postprocess per image at shape (1, 3, 384, 640)\n"
     ]
    },
    {
     "data": {
      "text/plain": [
       "<Figure size 640x480 with 1 Axes>"
      ]
     },
     "metadata": {},
     "output_type": "display_data"
    },
    {
     "name": "stdout",
     "output_type": "stream",
     "text": [
      "image name CARDS_COURTYARD_H_S_hand0_frame_0552.jpg\n",
      "\n",
      "0: 384x640 1 hand, 11.0ms\n",
      "Speed: 1.1ms preprocess, 11.0ms inference, 1.2ms postprocess per image at shape (1, 3, 384, 640)\n"
     ]
    },
    {
     "data": {
      "text/plain": [
       "<Figure size 640x480 with 1 Axes>"
      ]
     },
     "metadata": {},
     "output_type": "display_data"
    },
    {
     "name": "stdout",
     "output_type": "stream",
     "text": [
      "image name CARDS_COURTYARD_H_S_hand3_frame_2554.jpg\n",
      "\n",
      "0: 480x640 2 hands, 13.0ms\n",
      "Speed: 1.6ms preprocess, 13.0ms inference, 1.3ms postprocess per image at shape (1, 3, 480, 640)\n"
     ]
    },
    {
     "data": {
      "text/plain": [
       "<Figure size 640x480 with 1 Axes>"
      ]
     },
     "metadata": {},
     "output_type": "display_data"
    },
    {
     "name": "stdout",
     "output_type": "stream",
     "text": [
      "image name CARDS_COURTYARD_H_S_hand2_frame_2423.jpg\n",
      "\n",
      "0: 352x640 1 hand, 11.5ms\n",
      "Speed: 1.1ms preprocess, 11.5ms inference, 1.2ms postprocess per image at shape (1, 3, 352, 640)\n"
     ]
    },
    {
     "data": {
      "text/plain": [
       "<Figure size 640x480 with 1 Axes>"
      ]
     },
     "metadata": {},
     "output_type": "display_data"
    },
    {
     "name": "stdout",
     "output_type": "stream",
     "text": [
      "image name CARDS_COURTYARD_T_B_hand3_frame_0283.jpg\n",
      "\n",
      "0: 416x640 1 hand, 11.1ms\n",
      "Speed: 1.2ms preprocess, 11.1ms inference, 1.3ms postprocess per image at shape (1, 3, 416, 640)\n"
     ]
    },
    {
     "data": {
      "text/plain": [
       "<Figure size 640x480 with 1 Axes>"
      ]
     },
     "metadata": {},
     "output_type": "display_data"
    },
    {
     "name": "stdout",
     "output_type": "stream",
     "text": [
      "image name CARDS_COURTYARD_S_H_hand1_frame_2098.jpg\n",
      "\n",
      "0: 256x640 1 hand, 11.4ms\n",
      "Speed: 0.9ms preprocess, 11.4ms inference, 1.2ms postprocess per image at shape (1, 3, 256, 640)\n"
     ]
    },
    {
     "data": {
      "text/plain": [
       "<Figure size 640x480 with 1 Axes>"
      ]
     },
     "metadata": {},
     "output_type": "display_data"
    },
    {
     "name": "stdout",
     "output_type": "stream",
     "text": [
      "image name CARDS_COURTYARD_H_S_hand0_frame_1837.jpg\n",
      "\n",
      "0: 448x640 1 hand, 12.2ms\n",
      "Speed: 5.6ms preprocess, 12.2ms inference, 1.2ms postprocess per image at shape (1, 3, 448, 640)\n"
     ]
    },
    {
     "data": {
      "text/plain": [
       "<Figure size 640x480 with 1 Axes>"
      ]
     },
     "metadata": {},
     "output_type": "display_data"
    },
    {
     "name": "stdout",
     "output_type": "stream",
     "text": [
      "image name CARDS_COURTYARD_T_B_hand0_frame_2589.jpg\n",
      "\n",
      "0: 544x640 1 hand, 13.8ms\n",
      "Speed: 1.5ms preprocess, 13.8ms inference, 1.2ms postprocess per image at shape (1, 3, 544, 640)\n"
     ]
    },
    {
     "data": {
      "text/plain": [
       "<Figure size 640x480 with 1 Axes>"
      ]
     },
     "metadata": {},
     "output_type": "display_data"
    },
    {
     "name": "stdout",
     "output_type": "stream",
     "text": [
      "image name CARDS_COURTYARD_H_S_hand1_frame_0390.jpg\n",
      "\n",
      "0: 512x640 1 hand, 12.6ms\n",
      "Speed: 1.6ms preprocess, 12.6ms inference, 1.3ms postprocess per image at shape (1, 3, 512, 640)\n"
     ]
    },
    {
     "data": {
      "text/plain": [
       "<Figure size 640x480 with 1 Axes>"
      ]
     },
     "metadata": {},
     "output_type": "display_data"
    },
    {
     "name": "stdout",
     "output_type": "stream",
     "text": [
      "image name CARDS_COURTYARD_S_H_hand2_frame_2186.jpg\n",
      "\n",
      "0: 384x640 1 hand, 21.0ms\n",
      "Speed: 2.8ms preprocess, 21.0ms inference, 1.6ms postprocess per image at shape (1, 3, 384, 640)\n"
     ]
    },
    {
     "data": {
      "text/plain": [
       "<Figure size 640x480 with 1 Axes>"
      ]
     },
     "metadata": {},
     "output_type": "display_data"
    },
    {
     "name": "stdout",
     "output_type": "stream",
     "text": [
      "image name CARDS_COURTYARD_T_B_hand1_frame_0937.jpg\n",
      "\n",
      "0: 352x640 1 hand, 11.1ms\n",
      "Speed: 1.2ms preprocess, 11.1ms inference, 1.2ms postprocess per image at shape (1, 3, 352, 640)\n"
     ]
    },
    {
     "data": {
      "text/plain": [
       "<Figure size 640x480 with 1 Axes>"
      ]
     },
     "metadata": {},
     "output_type": "display_data"
    },
    {
     "name": "stdout",
     "output_type": "stream",
     "text": [
      "image name CARDS_COURTYARD_H_S_hand2_frame_2369.jpg\n",
      "\n",
      "0: 448x640 1 hand, 20.6ms\n",
      "Speed: 3.2ms preprocess, 20.6ms inference, 1.4ms postprocess per image at shape (1, 3, 448, 640)\n"
     ]
    },
    {
     "data": {
      "text/plain": [
       "<Figure size 640x480 with 1 Axes>"
      ]
     },
     "metadata": {},
     "output_type": "display_data"
    },
    {
     "name": "stdout",
     "output_type": "stream",
     "text": [
      "image name CARDS_COURTYARD_H_S_hand0_frame_0209.jpg\n",
      "\n",
      "0: 384x640 1 hand, 11.3ms\n",
      "Speed: 1.3ms preprocess, 11.3ms inference, 1.3ms postprocess per image at shape (1, 3, 384, 640)\n"
     ]
    },
    {
     "data": {
      "text/plain": [
       "<Figure size 640x480 with 1 Axes>"
      ]
     },
     "metadata": {},
     "output_type": "display_data"
    },
    {
     "name": "stdout",
     "output_type": "stream",
     "text": [
      "image name CARDS_COURTYARD_T_B_hand0_frame_0629.jpg\n",
      "\n",
      "0: 320x640 1 hand, 11.6ms\n",
      "Speed: 1.3ms preprocess, 11.6ms inference, 1.2ms postprocess per image at shape (1, 3, 320, 640)\n"
     ]
    },
    {
     "data": {
      "text/plain": [
       "<Figure size 640x480 with 1 Axes>"
      ]
     },
     "metadata": {},
     "output_type": "display_data"
    },
    {
     "name": "stdout",
     "output_type": "stream",
     "text": [
      "image name CARDS_COURTYARD_S_H_hand3_frame_0923.jpg\n",
      "\n",
      "0: 448x640 1 hand, 14.1ms\n",
      "Speed: 2.1ms preprocess, 14.1ms inference, 1.5ms postprocess per image at shape (1, 3, 448, 640)\n"
     ]
    },
    {
     "data": {
      "text/plain": [
       "<Figure size 640x480 with 1 Axes>"
      ]
     },
     "metadata": {},
     "output_type": "display_data"
    },
    {
     "name": "stdout",
     "output_type": "stream",
     "text": [
      "image name CARDS_COURTYARD_T_B_hand3_frame_1462.jpg\n",
      "\n",
      "0: 544x640 1 hand, 13.9ms\n",
      "Speed: 1.6ms preprocess, 13.9ms inference, 1.2ms postprocess per image at shape (1, 3, 544, 640)\n"
     ]
    },
    {
     "data": {
      "text/plain": [
       "<Figure size 640x480 with 1 Axes>"
      ]
     },
     "metadata": {},
     "output_type": "display_data"
    },
    {
     "name": "stdout",
     "output_type": "stream",
     "text": [
      "image name CARDS_COURTYARD_H_S_hand1_frame_1837.jpg\n",
      "\n",
      "0: 480x640 1 hand, 17.4ms\n",
      "Speed: 3.2ms preprocess, 17.4ms inference, 1.7ms postprocess per image at shape (1, 3, 480, 640)\n"
     ]
    },
    {
     "data": {
      "text/plain": [
       "<Figure size 640x480 with 1 Axes>"
      ]
     },
     "metadata": {},
     "output_type": "display_data"
    },
    {
     "name": "stdout",
     "output_type": "stream",
     "text": [
      "image name CARDS_COURTYARD_H_S_hand2_frame_1024.jpg\n",
      "\n",
      "0: 416x640 1 hand, 15.9ms\n",
      "Speed: 2.4ms preprocess, 15.9ms inference, 1.2ms postprocess per image at shape (1, 3, 416, 640)\n"
     ]
    },
    {
     "data": {
      "text/plain": [
       "<Figure size 640x480 with 1 Axes>"
      ]
     },
     "metadata": {},
     "output_type": "display_data"
    },
    {
     "name": "stdout",
     "output_type": "stream",
     "text": [
      "image name CARDS_COURTYARD_H_S_hand2_frame_0380.jpg\n",
      "\n",
      "0: 416x640 2 hands, 18.2ms\n",
      "Speed: 2.7ms preprocess, 18.2ms inference, 1.8ms postprocess per image at shape (1, 3, 416, 640)\n"
     ]
    },
    {
     "data": {
      "text/plain": [
       "<Figure size 640x480 with 1 Axes>"
      ]
     },
     "metadata": {},
     "output_type": "display_data"
    },
    {
     "name": "stdout",
     "output_type": "stream",
     "text": [
      "image name CARDS_COURTYARD_H_S_hand3_frame_0380.jpg\n",
      "\n",
      "0: 544x640 2 hands, 18.2ms\n",
      "Speed: 1.5ms preprocess, 18.2ms inference, 3.6ms postprocess per image at shape (1, 3, 544, 640)\n"
     ]
    },
    {
     "data": {
      "text/plain": [
       "<Figure size 640x480 with 1 Axes>"
      ]
     },
     "metadata": {},
     "output_type": "display_data"
    },
    {
     "name": "stdout",
     "output_type": "stream",
     "text": [
      "image name CARDS_COURTYARD_S_H_hand2_frame_0805.jpg\n",
      "\n",
      "0: 320x640 1 hand, 11.1ms\n",
      "Speed: 2.6ms preprocess, 11.1ms inference, 1.3ms postprocess per image at shape (1, 3, 320, 640)\n"
     ]
    },
    {
     "data": {
      "text/plain": [
       "<Figure size 640x480 with 1 Axes>"
      ]
     },
     "metadata": {},
     "output_type": "display_data"
    },
    {
     "name": "stdout",
     "output_type": "stream",
     "text": [
      "image name CARDS_COURTYARD_H_S_hand1_frame_2327.jpg\n",
      "\n",
      "0: 480x640 1 hand, 13.7ms\n",
      "Speed: 2.6ms preprocess, 13.7ms inference, 1.3ms postprocess per image at shape (1, 3, 480, 640)\n"
     ]
    },
    {
     "data": {
      "text/plain": [
       "<Figure size 640x480 with 1 Axes>"
      ]
     },
     "metadata": {},
     "output_type": "display_data"
    },
    {
     "name": "stdout",
     "output_type": "stream",
     "text": [
      "image name CARDS_COURTYARD_H_S_hand2_frame_2638.jpg\n",
      "\n",
      "0: 448x640 1 hand, 11.6ms\n",
      "Speed: 1.6ms preprocess, 11.6ms inference, 1.1ms postprocess per image at shape (1, 3, 448, 640)\n"
     ]
    },
    {
     "data": {
      "text/plain": [
       "<Figure size 640x480 with 1 Axes>"
      ]
     },
     "metadata": {},
     "output_type": "display_data"
    },
    {
     "name": "stdout",
     "output_type": "stream",
     "text": [
      "image name CARDS_COURTYARD_H_S_hand3_frame_1660.jpg\n",
      "\n",
      "0: 448x640 2 hands, 11.0ms\n",
      "Speed: 1.3ms preprocess, 11.0ms inference, 1.3ms postprocess per image at shape (1, 3, 448, 640)\n"
     ]
    },
    {
     "data": {
      "text/plain": [
       "<Figure size 640x480 with 1 Axes>"
      ]
     },
     "metadata": {},
     "output_type": "display_data"
    },
    {
     "name": "stdout",
     "output_type": "stream",
     "text": [
      "image name CARDS_COURTYARD_S_H_hand2_frame_1435.jpg\n",
      "\n",
      "0: 384x640 1 hand, 12.9ms\n",
      "Speed: 1.5ms preprocess, 12.9ms inference, 1.2ms postprocess per image at shape (1, 3, 384, 640)\n"
     ]
    },
    {
     "data": {
      "text/plain": [
       "<Figure size 640x480 with 1 Axes>"
      ]
     },
     "metadata": {},
     "output_type": "display_data"
    },
    {
     "name": "stdout",
     "output_type": "stream",
     "text": [
      "image name CARDS_COURTYARD_T_B_hand3_frame_2438.jpg\n",
      "\n",
      "0: 480x640 1 hand, 12.5ms\n",
      "Speed: 1.4ms preprocess, 12.5ms inference, 1.2ms postprocess per image at shape (1, 3, 480, 640)\n"
     ]
    },
    {
     "data": {
      "text/plain": [
       "<Figure size 640x480 with 1 Axes>"
      ]
     },
     "metadata": {},
     "output_type": "display_data"
    },
    {
     "name": "stdout",
     "output_type": "stream",
     "text": [
      "image name CARDS_COURTYARD_T_B_hand0_frame_1829.jpg\n",
      "\n",
      "0: 576x640 1 hand, 14.5ms\n",
      "Speed: 2.0ms preprocess, 14.5ms inference, 1.6ms postprocess per image at shape (1, 3, 576, 640)\n"
     ]
    },
    {
     "data": {
      "text/plain": [
       "<Figure size 640x480 with 1 Axes>"
      ]
     },
     "metadata": {},
     "output_type": "display_data"
    },
    {
     "name": "stdout",
     "output_type": "stream",
     "text": [
      "image name CARDS_COURTYARD_S_H_hand2_frame_0388.jpg\n",
      "\n",
      "0: 288x640 1 hand, 11.5ms\n",
      "Speed: 1.0ms preprocess, 11.5ms inference, 1.2ms postprocess per image at shape (1, 3, 288, 640)\n"
     ]
    },
    {
     "data": {
      "text/plain": [
       "<Figure size 640x480 with 1 Axes>"
      ]
     },
     "metadata": {},
     "output_type": "display_data"
    },
    {
     "name": "stdout",
     "output_type": "stream",
     "text": [
      "image name CARDS_COURTYARD_S_H_hand2_frame_0037.jpg\n",
      "\n",
      "0: 320x640 1 hand, 10.8ms\n",
      "Speed: 1.0ms preprocess, 10.8ms inference, 1.5ms postprocess per image at shape (1, 3, 320, 640)\n"
     ]
    },
    {
     "data": {
      "text/plain": [
       "<Figure size 640x480 with 1 Axes>"
      ]
     },
     "metadata": {},
     "output_type": "display_data"
    },
    {
     "name": "stdout",
     "output_type": "stream",
     "text": [
      "image name CARDS_COURTYARD_H_S_hand0_frame_2018.jpg\n",
      "\n",
      "0: 384x640 1 hand, 10.9ms\n",
      "Speed: 1.3ms preprocess, 10.9ms inference, 1.2ms postprocess per image at shape (1, 3, 384, 640)\n"
     ]
    },
    {
     "data": {
      "text/plain": [
       "<Figure size 640x480 with 1 Axes>"
      ]
     },
     "metadata": {},
     "output_type": "display_data"
    },
    {
     "name": "stdout",
     "output_type": "stream",
     "text": [
      "image name CARDS_COURTYARD_T_B_hand3_frame_1520.jpg\n",
      "\n",
      "0: 640x608 1 hand, 18.0ms\n",
      "Speed: 1.7ms preprocess, 18.0ms inference, 1.2ms postprocess per image at shape (1, 3, 640, 608)\n"
     ]
    },
    {
     "data": {
      "text/plain": [
       "<Figure size 640x480 with 1 Axes>"
      ]
     },
     "metadata": {},
     "output_type": "display_data"
    },
    {
     "name": "stdout",
     "output_type": "stream",
     "text": [
      "image name CARDS_COURTYARD_S_H_hand3_frame_2108.jpg\n",
      "\n",
      "0: 640x608 1 hand, 14.5ms\n",
      "Speed: 1.7ms preprocess, 14.5ms inference, 1.2ms postprocess per image at shape (1, 3, 640, 608)\n"
     ]
    },
    {
     "data": {
      "text/plain": [
       "<Figure size 640x480 with 1 Axes>"
      ]
     },
     "metadata": {},
     "output_type": "display_data"
    },
    {
     "name": "stdout",
     "output_type": "stream",
     "text": [
      "image name CARDS_COURTYARD_S_H_hand0_frame_0414.jpg\n",
      "\n",
      "0: 224x640 1 hand, 17.1ms\n",
      "Speed: 0.9ms preprocess, 17.1ms inference, 1.2ms postprocess per image at shape (1, 3, 224, 640)\n"
     ]
    },
    {
     "data": {
      "text/plain": [
       "<Figure size 640x480 with 1 Axes>"
      ]
     },
     "metadata": {},
     "output_type": "display_data"
    },
    {
     "name": "stdout",
     "output_type": "stream",
     "text": [
      "image name CARDS_COURTYARD_H_S_hand1_frame_1435.jpg\n",
      "\n",
      "0: 448x640 1 hand, 13.7ms\n",
      "Speed: 2.0ms preprocess, 13.7ms inference, 1.4ms postprocess per image at shape (1, 3, 448, 640)\n"
     ]
    },
    {
     "data": {
      "text/plain": [
       "<Figure size 640x480 with 1 Axes>"
      ]
     },
     "metadata": {},
     "output_type": "display_data"
    },
    {
     "name": "stdout",
     "output_type": "stream",
     "text": [
      "image name CARDS_COURTYARD_H_S_hand3_frame_2327.jpg\n",
      "\n",
      "0: 480x640 1 hand, 12.9ms\n",
      "Speed: 1.3ms preprocess, 12.9ms inference, 1.3ms postprocess per image at shape (1, 3, 480, 640)\n"
     ]
    },
    {
     "data": {
      "text/plain": [
       "<Figure size 640x480 with 1 Axes>"
      ]
     },
     "metadata": {},
     "output_type": "display_data"
    },
    {
     "name": "stdout",
     "output_type": "stream",
     "text": [
      "image name CARDS_COURTYARD_H_S_hand1_frame_1000.jpg\n",
      "\n",
      "0: 352x640 1 hand, 11.8ms\n",
      "Speed: 1.2ms preprocess, 11.8ms inference, 1.2ms postprocess per image at shape (1, 3, 352, 640)\n"
     ]
    },
    {
     "data": {
      "text/plain": [
       "<Figure size 640x480 with 1 Axes>"
      ]
     },
     "metadata": {},
     "output_type": "display_data"
    },
    {
     "name": "stdout",
     "output_type": "stream",
     "text": [
      "image name CARDS_COURTYARD_H_S_hand1_frame_2412.jpg\n",
      "\n",
      "0: 416x640 1 hand, 21.7ms\n",
      "Speed: 3.5ms preprocess, 21.7ms inference, 1.4ms postprocess per image at shape (1, 3, 416, 640)\n"
     ]
    },
    {
     "data": {
      "text/plain": [
       "<Figure size 640x480 with 1 Axes>"
      ]
     },
     "metadata": {},
     "output_type": "display_data"
    },
    {
     "name": "stdout",
     "output_type": "stream",
     "text": [
      "image name CARDS_COURTYARD_S_H_hand2_frame_2434.jpg\n",
      "\n",
      "0: 352x640 1 hand, 12.6ms\n",
      "Speed: 1.1ms preprocess, 12.6ms inference, 1.2ms postprocess per image at shape (1, 3, 352, 640)\n"
     ]
    },
    {
     "data": {
      "text/plain": [
       "<Figure size 640x480 with 1 Axes>"
      ]
     },
     "metadata": {},
     "output_type": "display_data"
    },
    {
     "name": "stdout",
     "output_type": "stream",
     "text": [
      "image name CARDS_COURTYARD_H_S_hand1_frame_2176.jpg\n",
      "\n",
      "0: 416x640 1 hand, 11.7ms\n",
      "Speed: 1.4ms preprocess, 11.7ms inference, 1.2ms postprocess per image at shape (1, 3, 416, 640)\n"
     ]
    },
    {
     "data": {
      "text/plain": [
       "<Figure size 640x480 with 1 Axes>"
      ]
     },
     "metadata": {},
     "output_type": "display_data"
    },
    {
     "name": "stdout",
     "output_type": "stream",
     "text": [
      "image name CARDS_COURTYARD_H_S_hand3_frame_0861.jpg\n",
      "\n",
      "0: 448x640 1 hand, 11.4ms\n",
      "Speed: 1.3ms preprocess, 11.4ms inference, 1.2ms postprocess per image at shape (1, 3, 448, 640)\n"
     ]
    },
    {
     "data": {
      "text/plain": [
       "<Figure size 640x480 with 1 Axes>"
      ]
     },
     "metadata": {},
     "output_type": "display_data"
    },
    {
     "name": "stdout",
     "output_type": "stream",
     "text": [
      "image name CARDS_COURTYARD_S_H_hand0_frame_0896.jpg\n",
      "\n",
      "0: 288x640 1 hand, 13.9ms\n",
      "Speed: 1.3ms preprocess, 13.9ms inference, 1.3ms postprocess per image at shape (1, 3, 288, 640)\n"
     ]
    },
    {
     "data": {
      "text/plain": [
       "<Figure size 640x480 with 1 Axes>"
      ]
     },
     "metadata": {},
     "output_type": "display_data"
    },
    {
     "name": "stdout",
     "output_type": "stream",
     "text": [
      "image name CARDS_COURTYARD_T_B_hand1_frame_0858.jpg\n",
      "\n",
      "0: 288x640 1 hand, 18.9ms\n",
      "Speed: 1.2ms preprocess, 18.9ms inference, 2.0ms postprocess per image at shape (1, 3, 288, 640)\n"
     ]
    },
    {
     "data": {
      "text/plain": [
       "<Figure size 640x480 with 1 Axes>"
      ]
     },
     "metadata": {},
     "output_type": "display_data"
    },
    {
     "name": "stdout",
     "output_type": "stream",
     "text": [
      "image name CARDS_COURTYARD_H_S_hand2_frame_0682.jpg\n",
      "\n",
      "0: 384x640 1 hand, 18.5ms\n",
      "Speed: 2.7ms preprocess, 18.5ms inference, 2.7ms postprocess per image at shape (1, 3, 384, 640)\n"
     ]
    },
    {
     "data": {
      "text/plain": [
       "<Figure size 640x480 with 1 Axes>"
      ]
     },
     "metadata": {},
     "output_type": "display_data"
    },
    {
     "name": "stdout",
     "output_type": "stream",
     "text": [
      "image name CARDS_COURTYARD_T_B_hand2_frame_1969.jpg\n",
      "\n",
      "0: 320x640 1 hand, 11.4ms\n",
      "Speed: 1.4ms preprocess, 11.4ms inference, 1.2ms postprocess per image at shape (1, 3, 320, 640)\n"
     ]
    },
    {
     "data": {
      "text/plain": [
       "<Figure size 640x480 with 1 Axes>"
      ]
     },
     "metadata": {},
     "output_type": "display_data"
    },
    {
     "name": "stdout",
     "output_type": "stream",
     "text": [
      "image name CARDS_COURTYARD_T_B_hand2_frame_2434.jpg\n",
      "\n",
      "0: 352x640 1 hand, 11.1ms\n",
      "Speed: 1.1ms preprocess, 11.1ms inference, 1.2ms postprocess per image at shape (1, 3, 352, 640)\n"
     ]
    },
    {
     "data": {
      "text/plain": [
       "<Figure size 640x480 with 1 Axes>"
      ]
     },
     "metadata": {},
     "output_type": "display_data"
    },
    {
     "name": "stdout",
     "output_type": "stream",
     "text": [
      "image name CARDS_COURTYARD_T_B_hand1_frame_1642.jpg\n",
      "\n",
      "0: 448x640 1 hand, 23.1ms\n",
      "Speed: 3.6ms preprocess, 23.1ms inference, 1.5ms postprocess per image at shape (1, 3, 448, 640)\n"
     ]
    },
    {
     "data": {
      "text/plain": [
       "<Figure size 640x480 with 1 Axes>"
      ]
     },
     "metadata": {},
     "output_type": "display_data"
    },
    {
     "name": "stdout",
     "output_type": "stream",
     "text": [
      "image name CARDS_COURTYARD_S_H_hand3_frame_1353.jpg\n",
      "\n",
      "0: 512x640 1 hand, 12.5ms\n",
      "Speed: 1.4ms preprocess, 12.5ms inference, 1.2ms postprocess per image at shape (1, 3, 512, 640)\n"
     ]
    },
    {
     "data": {
      "text/plain": [
       "<Figure size 640x480 with 1 Axes>"
      ]
     },
     "metadata": {},
     "output_type": "display_data"
    },
    {
     "name": "stdout",
     "output_type": "stream",
     "text": [
      "image name CARDS_COURTYARD_S_H_hand1_frame_1815.jpg\n",
      "\n",
      "0: 256x640 1 hand, 11.8ms\n",
      "Speed: 0.9ms preprocess, 11.8ms inference, 1.5ms postprocess per image at shape (1, 3, 256, 640)\n"
     ]
    },
    {
     "data": {
      "text/plain": [
       "<Figure size 640x480 with 1 Axes>"
      ]
     },
     "metadata": {},
     "output_type": "display_data"
    },
    {
     "name": "stdout",
     "output_type": "stream",
     "text": [
      "image name CARDS_COURTYARD_T_B_hand3_frame_2022.jpg\n",
      "\n",
      "0: 480x640 2 hands, 12.5ms\n",
      "Speed: 1.3ms preprocess, 12.5ms inference, 1.4ms postprocess per image at shape (1, 3, 480, 640)\n"
     ]
    },
    {
     "data": {
      "text/plain": [
       "<Figure size 640x480 with 1 Axes>"
      ]
     },
     "metadata": {},
     "output_type": "display_data"
    },
    {
     "name": "stdout",
     "output_type": "stream",
     "text": [
      "image name CARDS_COURTYARD_S_H_hand2_frame_1114.jpg\n",
      "\n",
      "0: 352x640 1 hand, 11.5ms\n",
      "Speed: 1.0ms preprocess, 11.5ms inference, 1.2ms postprocess per image at shape (1, 3, 352, 640)\n"
     ]
    },
    {
     "data": {
      "text/plain": [
       "<Figure size 640x480 with 1 Axes>"
      ]
     },
     "metadata": {},
     "output_type": "display_data"
    },
    {
     "name": "stdout",
     "output_type": "stream",
     "text": [
      "image name CARDS_COURTYARD_T_B_hand2_frame_0768.jpg\n",
      "\n",
      "0: 256x640 1 hand, 10.7ms\n",
      "Speed: 0.9ms preprocess, 10.7ms inference, 1.2ms postprocess per image at shape (1, 3, 256, 640)\n"
     ]
    },
    {
     "data": {
      "text/plain": [
       "<Figure size 640x480 with 1 Axes>"
      ]
     },
     "metadata": {},
     "output_type": "display_data"
    },
    {
     "name": "stdout",
     "output_type": "stream",
     "text": [
      "image name CARDS_COURTYARD_H_S_hand1_frame_1002.jpg\n",
      "\n",
      "0: 352x640 1 hand, 13.6ms\n",
      "Speed: 1.6ms preprocess, 13.6ms inference, 1.4ms postprocess per image at shape (1, 3, 352, 640)\n"
     ]
    },
    {
     "data": {
      "text/plain": [
       "<Figure size 640x480 with 1 Axes>"
      ]
     },
     "metadata": {},
     "output_type": "display_data"
    },
    {
     "name": "stdout",
     "output_type": "stream",
     "text": [
      "image name CARDS_COURTYARD_T_B_hand2_frame_2011.jpg\n",
      "\n",
      "0: 352x640 1 hand, 11.0ms\n",
      "Speed: 1.1ms preprocess, 11.0ms inference, 1.2ms postprocess per image at shape (1, 3, 352, 640)\n"
     ]
    },
    {
     "data": {
      "text/plain": [
       "<Figure size 640x480 with 1 Axes>"
      ]
     },
     "metadata": {},
     "output_type": "display_data"
    },
    {
     "name": "stdout",
     "output_type": "stream",
     "text": [
      "image name CARDS_COURTYARD_S_H_hand1_frame_1441.jpg\n",
      "\n",
      "0: 256x640 (no detections), 12.5ms\n",
      "Speed: 1.1ms preprocess, 12.5ms inference, 0.3ms postprocess per image at shape (1, 3, 256, 640)\n",
      "no results for image CARDS_COURTYARD_S_H_hand1_frame_1441.jpg!\n",
      "image name CARDS_COURTYARD_S_H_hand3_frame_0537.jpg\n",
      "\n",
      "0: 288x640 1 hand, 11.0ms\n",
      "Speed: 1.3ms preprocess, 11.0ms inference, 1.2ms postprocess per image at shape (1, 3, 288, 640)\n"
     ]
    },
    {
     "data": {
      "text/plain": [
       "<Figure size 640x480 with 1 Axes>"
      ]
     },
     "metadata": {},
     "output_type": "display_data"
    },
    {
     "name": "stdout",
     "output_type": "stream",
     "text": [
      "image name CARDS_COURTYARD_T_B_hand1_frame_2133.jpg\n",
      "\n",
      "0: 288x640 1 hand, 15.1ms\n",
      "Speed: 1.8ms preprocess, 15.1ms inference, 1.4ms postprocess per image at shape (1, 3, 288, 640)\n"
     ]
    },
    {
     "data": {
      "text/plain": [
       "<Figure size 640x480 with 1 Axes>"
      ]
     },
     "metadata": {},
     "output_type": "display_data"
    },
    {
     "name": "stdout",
     "output_type": "stream",
     "text": [
      "image name CARDS_COURTYARD_H_S_hand0_frame_2176.jpg\n",
      "\n",
      "0: 416x640 1 hand, 11.5ms\n",
      "Speed: 1.4ms preprocess, 11.5ms inference, 1.2ms postprocess per image at shape (1, 3, 416, 640)\n"
     ]
    },
    {
     "data": {
      "text/plain": [
       "<Figure size 640x480 with 1 Axes>"
      ]
     },
     "metadata": {},
     "output_type": "display_data"
    },
    {
     "name": "stdout",
     "output_type": "stream",
     "text": [
      "image name CARDS_COURTYARD_T_B_hand1_frame_0955.jpg\n",
      "\n",
      "0: 352x640 1 hand, 11.5ms\n",
      "Speed: 1.2ms preprocess, 11.5ms inference, 1.2ms postprocess per image at shape (1, 3, 352, 640)\n"
     ]
    },
    {
     "data": {
      "text/plain": [
       "<Figure size 640x480 with 1 Axes>"
      ]
     },
     "metadata": {},
     "output_type": "display_data"
    },
    {
     "name": "stdout",
     "output_type": "stream",
     "text": [
      "image name CARDS_COURTYARD_H_S_hand0_frame_0994.jpg\n",
      "\n",
      "0: 480x640 1 hand, 12.4ms\n",
      "Speed: 1.4ms preprocess, 12.4ms inference, 1.2ms postprocess per image at shape (1, 3, 480, 640)\n"
     ]
    },
    {
     "data": {
      "text/plain": [
       "<Figure size 640x480 with 1 Axes>"
      ]
     },
     "metadata": {},
     "output_type": "display_data"
    },
    {
     "name": "stdout",
     "output_type": "stream",
     "text": [
      "image name CARDS_COURTYARD_H_S_hand3_frame_0134.jpg\n",
      "\n",
      "0: 448x640 2 hands, 14.0ms\n",
      "Speed: 1.5ms preprocess, 14.0ms inference, 1.7ms postprocess per image at shape (1, 3, 448, 640)\n"
     ]
    },
    {
     "data": {
      "text/plain": [
       "<Figure size 640x480 with 1 Axes>"
      ]
     },
     "metadata": {},
     "output_type": "display_data"
    },
    {
     "name": "stdout",
     "output_type": "stream",
     "text": [
      "image name CARDS_COURTYARD_T_B_hand3_frame_0164.jpg\n",
      "\n",
      "0: 480x640 1 hand, 18.0ms\n",
      "Speed: 1.9ms preprocess, 18.0ms inference, 1.7ms postprocess per image at shape (1, 3, 480, 640)\n"
     ]
    },
    {
     "data": {
      "text/plain": [
       "<Figure size 640x480 with 1 Axes>"
      ]
     },
     "metadata": {},
     "output_type": "display_data"
    },
    {
     "name": "stdout",
     "output_type": "stream",
     "text": [
      "image name CARDS_COURTYARD_S_H_hand3_frame_1688.jpg\n",
      "\n",
      "0: 352x640 1 hand, 11.6ms\n",
      "Speed: 1.3ms preprocess, 11.6ms inference, 1.1ms postprocess per image at shape (1, 3, 352, 640)\n"
     ]
    },
    {
     "data": {
      "text/plain": [
       "<Figure size 640x480 with 1 Axes>"
      ]
     },
     "metadata": {},
     "output_type": "display_data"
    },
    {
     "name": "stdout",
     "output_type": "stream",
     "text": [
      "image name CARDS_COURTYARD_T_B_hand3_frame_0629.jpg\n",
      "\n",
      "0: 640x544 1 hand, 17.0ms\n",
      "Speed: 1.6ms preprocess, 17.0ms inference, 1.2ms postprocess per image at shape (1, 3, 640, 544)\n"
     ]
    },
    {
     "data": {
      "text/plain": [
       "<Figure size 640x480 with 1 Axes>"
      ]
     },
     "metadata": {},
     "output_type": "display_data"
    },
    {
     "name": "stdout",
     "output_type": "stream",
     "text": [
      "image name CARDS_COURTYARD_H_S_hand2_frame_1435.jpg\n",
      "\n",
      "0: 416x640 2 hands, 11.4ms\n",
      "Speed: 1.2ms preprocess, 11.4ms inference, 1.4ms postprocess per image at shape (1, 3, 416, 640)\n"
     ]
    },
    {
     "data": {
      "text/plain": [
       "<Figure size 640x480 with 1 Axes>"
      ]
     },
     "metadata": {},
     "output_type": "display_data"
    },
    {
     "name": "stdout",
     "output_type": "stream",
     "text": [
      "image name CARDS_COURTYARD_T_B_hand1_frame_2586.jpg\n",
      "\n",
      "0: 416x640 1 hand, 13.9ms\n",
      "Speed: 2.6ms preprocess, 13.9ms inference, 1.3ms postprocess per image at shape (1, 3, 416, 640)\n"
     ]
    },
    {
     "data": {
      "text/plain": [
       "<Figure size 640x480 with 1 Axes>"
      ]
     },
     "metadata": {},
     "output_type": "display_data"
    },
    {
     "name": "stdout",
     "output_type": "stream",
     "text": [
      "image name CARDS_COURTYARD_T_B_hand3_frame_1276.jpg\n",
      "\n",
      "0: 640x640 1 hand, 15.7ms\n",
      "Speed: 1.9ms preprocess, 15.7ms inference, 1.3ms postprocess per image at shape (1, 3, 640, 640)\n"
     ]
    },
    {
     "data": {
      "text/plain": [
       "<Figure size 640x480 with 1 Axes>"
      ]
     },
     "metadata": {},
     "output_type": "display_data"
    },
    {
     "name": "stdout",
     "output_type": "stream",
     "text": [
      "image name CARDS_COURTYARD_H_S_hand1_frame_2190.jpg\n",
      "\n",
      "0: 416x640 1 hand, 11.1ms\n",
      "Speed: 2.0ms preprocess, 11.1ms inference, 1.2ms postprocess per image at shape (1, 3, 416, 640)\n"
     ]
    },
    {
     "data": {
      "text/plain": [
       "<Figure size 640x480 with 1 Axes>"
      ]
     },
     "metadata": {},
     "output_type": "display_data"
    },
    {
     "name": "stdout",
     "output_type": "stream",
     "text": [
      "image name CARDS_COURTYARD_T_B_hand3_frame_1937.jpg\n",
      "\n",
      "0: 448x640 2 hands, 27.6ms\n",
      "Speed: 4.2ms preprocess, 27.6ms inference, 1.8ms postprocess per image at shape (1, 3, 448, 640)\n"
     ]
    },
    {
     "data": {
      "text/plain": [
       "<Figure size 640x480 with 1 Axes>"
      ]
     },
     "metadata": {},
     "output_type": "display_data"
    },
    {
     "name": "stdout",
     "output_type": "stream",
     "text": [
      "image name CARDS_COURTYARD_S_H_hand0_frame_2299.jpg\n",
      "\n",
      "0: 384x640 1 hand, 11.0ms\n",
      "Speed: 1.1ms preprocess, 11.0ms inference, 1.2ms postprocess per image at shape (1, 3, 384, 640)\n"
     ]
    },
    {
     "data": {
      "text/plain": [
       "<Figure size 640x480 with 1 Axes>"
      ]
     },
     "metadata": {},
     "output_type": "display_data"
    },
    {
     "name": "stdout",
     "output_type": "stream",
     "text": [
      "image name CARDS_COURTYARD_H_S_hand3_frame_0994.jpg\n",
      "\n",
      "0: 416x640 2 hands, 11.6ms\n",
      "Speed: 1.2ms preprocess, 11.6ms inference, 1.2ms postprocess per image at shape (1, 3, 416, 640)\n"
     ]
    },
    {
     "data": {
      "text/plain": [
       "<Figure size 640x480 with 1 Axes>"
      ]
     },
     "metadata": {},
     "output_type": "display_data"
    },
    {
     "name": "stdout",
     "output_type": "stream",
     "text": [
      "image name CARDS_COURTYARD_T_B_hand3_frame_1203.jpg\n",
      "\n",
      "0: 416x640 1 hand, 10.5ms\n",
      "Speed: 1.2ms preprocess, 10.5ms inference, 1.2ms postprocess per image at shape (1, 3, 416, 640)\n"
     ]
    },
    {
     "data": {
      "text/plain": [
       "<Figure size 640x480 with 1 Axes>"
      ]
     },
     "metadata": {},
     "output_type": "display_data"
    },
    {
     "name": "stdout",
     "output_type": "stream",
     "text": [
      "image name CARDS_COURTYARD_T_B_hand0_frame_0858.jpg\n",
      "\n",
      "0: 320x640 1 hand, 11.4ms\n",
      "Speed: 1.0ms preprocess, 11.4ms inference, 1.2ms postprocess per image at shape (1, 3, 320, 640)\n"
     ]
    },
    {
     "data": {
      "text/plain": [
       "<Figure size 640x480 with 1 Axes>"
      ]
     },
     "metadata": {},
     "output_type": "display_data"
    },
    {
     "name": "stdout",
     "output_type": "stream",
     "text": [
      "image name CARDS_COURTYARD_H_S_hand2_frame_0141.jpg\n",
      "\n",
      "0: 416x640 2 hands, 11.2ms\n",
      "Speed: 1.3ms preprocess, 11.2ms inference, 1.4ms postprocess per image at shape (1, 3, 416, 640)\n"
     ]
    },
    {
     "data": {
      "text/plain": [
       "<Figure size 640x480 with 1 Axes>"
      ]
     },
     "metadata": {},
     "output_type": "display_data"
    },
    {
     "name": "stdout",
     "output_type": "stream",
     "text": [
      "image name CARDS_COURTYARD_H_S_hand3_frame_0390.jpg\n",
      "\n",
      "0: 480x640 1 hand, 12.5ms\n",
      "Speed: 1.3ms preprocess, 12.5ms inference, 1.2ms postprocess per image at shape (1, 3, 480, 640)\n"
     ]
    },
    {
     "data": {
      "text/plain": [
       "<Figure size 640x480 with 1 Axes>"
      ]
     },
     "metadata": {},
     "output_type": "display_data"
    },
    {
     "name": "stdout",
     "output_type": "stream",
     "text": [
      "image name CARDS_COURTYARD_T_B_hand3_frame_1373.jpg\n",
      "\n",
      "0: 640x544 1 hand, 14.4ms\n",
      "Speed: 1.6ms preprocess, 14.4ms inference, 1.2ms postprocess per image at shape (1, 3, 640, 544)\n"
     ]
    },
    {
     "data": {
      "text/plain": [
       "<Figure size 640x480 with 1 Axes>"
      ]
     },
     "metadata": {},
     "output_type": "display_data"
    },
    {
     "name": "stdout",
     "output_type": "stream",
     "text": [
      "image name CARDS_COURTYARD_T_B_hand0_frame_1298.jpg\n",
      "\n",
      "0: 416x640 1 hand, 11.3ms\n",
      "Speed: 1.2ms preprocess, 11.3ms inference, 1.3ms postprocess per image at shape (1, 3, 416, 640)\n"
     ]
    },
    {
     "data": {
      "text/plain": [
       "<Figure size 640x480 with 1 Axes>"
      ]
     },
     "metadata": {},
     "output_type": "display_data"
    },
    {
     "name": "stdout",
     "output_type": "stream",
     "text": [
      "image name CARDS_COURTYARD_S_H_hand1_frame_1689.jpg\n",
      "\n",
      "0: 224x640 1 hand, 23.1ms\n",
      "Speed: 2.1ms preprocess, 23.1ms inference, 1.6ms postprocess per image at shape (1, 3, 224, 640)\n"
     ]
    },
    {
     "data": {
      "text/plain": [
       "<Figure size 640x480 with 1 Axes>"
      ]
     },
     "metadata": {},
     "output_type": "display_data"
    },
    {
     "name": "stdout",
     "output_type": "stream",
     "text": [
      "image name CARDS_COURTYARD_H_S_hand3_frame_2452.jpg\n",
      "\n",
      "0: 480x640 2 hands, 12.5ms\n",
      "Speed: 1.4ms preprocess, 12.5ms inference, 1.2ms postprocess per image at shape (1, 3, 480, 640)\n"
     ]
    },
    {
     "data": {
      "text/plain": [
       "<Figure size 640x480 with 1 Axes>"
      ]
     },
     "metadata": {},
     "output_type": "display_data"
    },
    {
     "name": "stdout",
     "output_type": "stream",
     "text": [
      "image name CARDS_COURTYARD_S_H_hand2_frame_2299.jpg\n",
      "\n",
      "0: 416x640 1 hand, 16.2ms\n",
      "Speed: 2.2ms preprocess, 16.2ms inference, 1.5ms postprocess per image at shape (1, 3, 416, 640)\n"
     ]
    },
    {
     "data": {
      "text/plain": [
       "<Figure size 640x480 with 1 Axes>"
      ]
     },
     "metadata": {},
     "output_type": "display_data"
    },
    {
     "name": "stdout",
     "output_type": "stream",
     "text": [
      "image name CARDS_COURTYARD_H_S_hand0_frame_0553.jpg\n",
      "\n",
      "0: 384x640 1 hand, 11.6ms\n",
      "Speed: 1.1ms preprocess, 11.6ms inference, 1.2ms postprocess per image at shape (1, 3, 384, 640)\n"
     ]
    },
    {
     "data": {
      "text/plain": [
       "<Figure size 640x480 with 1 Axes>"
      ]
     },
     "metadata": {},
     "output_type": "display_data"
    },
    {
     "name": "stdout",
     "output_type": "stream",
     "text": [
      "image name CARDS_COURTYARD_T_B_hand1_frame_1913.jpg\n",
      "\n",
      "0: 416x640 1 hand, 11.1ms\n",
      "Speed: 1.4ms preprocess, 11.1ms inference, 1.5ms postprocess per image at shape (1, 3, 416, 640)\n"
     ]
    },
    {
     "data": {
      "text/plain": [
       "<Figure size 640x480 with 1 Axes>"
      ]
     },
     "metadata": {},
     "output_type": "display_data"
    },
    {
     "name": "stdout",
     "output_type": "stream",
     "text": [
      "image name CARDS_COURTYARD_H_S_hand2_frame_1195.jpg\n",
      "\n",
      "0: 352x640 1 hand, 14.7ms\n",
      "Speed: 1.7ms preprocess, 14.7ms inference, 1.6ms postprocess per image at shape (1, 3, 352, 640)\n"
     ]
    },
    {
     "data": {
      "text/plain": [
       "<Figure size 640x480 with 1 Axes>"
      ]
     },
     "metadata": {},
     "output_type": "display_data"
    },
    {
     "name": "stdout",
     "output_type": "stream",
     "text": [
      "image name CARDS_COURTYARD_T_B_hand3_frame_0804.jpg\n",
      "\n",
      "0: 416x640 1 hand, 11.2ms\n",
      "Speed: 1.3ms preprocess, 11.2ms inference, 1.2ms postprocess per image at shape (1, 3, 416, 640)\n"
     ]
    },
    {
     "data": {
      "text/plain": [
       "<Figure size 640x480 with 1 Axes>"
      ]
     },
     "metadata": {},
     "output_type": "display_data"
    },
    {
     "name": "stdout",
     "output_type": "stream",
     "text": [
      "image name CARDS_COURTYARD_H_S_hand1_frame_0672.jpg\n",
      "\n",
      "0: 288x640 1 hand, 11.1ms\n",
      "Speed: 1.0ms preprocess, 11.1ms inference, 1.2ms postprocess per image at shape (1, 3, 288, 640)\n"
     ]
    },
    {
     "data": {
      "text/plain": [
       "<Figure size 640x480 with 1 Axes>"
      ]
     },
     "metadata": {},
     "output_type": "display_data"
    },
    {
     "name": "stdout",
     "output_type": "stream",
     "text": [
      "image name CARDS_COURTYARD_S_H_hand2_frame_0536.jpg\n",
      "\n",
      "0: 320x640 1 hand, 11.2ms\n",
      "Speed: 1.0ms preprocess, 11.2ms inference, 1.2ms postprocess per image at shape (1, 3, 320, 640)\n"
     ]
    },
    {
     "data": {
      "text/plain": [
       "<Figure size 640x480 with 1 Axes>"
      ]
     },
     "metadata": {},
     "output_type": "display_data"
    },
    {
     "name": "stdout",
     "output_type": "stream",
     "text": [
      "image name CARDS_COURTYARD_H_S_hand2_frame_0073.jpg\n",
      "\n",
      "0: 448x640 2 hands, 17.3ms\n",
      "Speed: 4.6ms preprocess, 17.3ms inference, 1.3ms postprocess per image at shape (1, 3, 448, 640)\n"
     ]
    },
    {
     "data": {
      "text/plain": [
       "<Figure size 640x480 with 1 Axes>"
      ]
     },
     "metadata": {},
     "output_type": "display_data"
    },
    {
     "name": "stdout",
     "output_type": "stream",
     "text": [
      "image name CARDS_COURTYARD_S_H_hand1_frame_0805.jpg\n",
      "\n",
      "0: 384x640 (no detections), 22.3ms\n",
      "Speed: 3.0ms preprocess, 22.3ms inference, 0.5ms postprocess per image at shape (1, 3, 384, 640)\n",
      "no results for image CARDS_COURTYARD_S_H_hand1_frame_0805.jpg!\n",
      "image name CARDS_COURTYARD_S_H_hand3_frame_0935.jpg\n",
      "\n",
      "0: 512x640 1 hand, 25.0ms\n",
      "Speed: 3.5ms preprocess, 25.0ms inference, 2.0ms postprocess per image at shape (1, 3, 512, 640)\n"
     ]
    },
    {
     "data": {
      "text/plain": [
       "<Figure size 640x480 with 1 Axes>"
      ]
     },
     "metadata": {},
     "output_type": "display_data"
    },
    {
     "name": "stdout",
     "output_type": "stream",
     "text": [
      "image name CARDS_COURTYARD_T_B_hand0_frame_0562.jpg\n",
      "\n",
      "0: 352x640 1 hand, 17.3ms\n",
      "Speed: 2.0ms preprocess, 17.3ms inference, 1.5ms postprocess per image at shape (1, 3, 352, 640)\n"
     ]
    },
    {
     "data": {
      "text/plain": [
       "<Figure size 640x480 with 1 Axes>"
      ]
     },
     "metadata": {},
     "output_type": "display_data"
    },
    {
     "name": "stdout",
     "output_type": "stream",
     "text": [
      "image name CARDS_COURTYARD_H_S_hand3_frame_1195.jpg\n",
      "\n",
      "0: 448x640 2 hands, 11.5ms\n",
      "Speed: 1.5ms preprocess, 11.5ms inference, 1.2ms postprocess per image at shape (1, 3, 448, 640)\n"
     ]
    },
    {
     "data": {
      "text/plain": [
       "<Figure size 640x480 with 1 Axes>"
      ]
     },
     "metadata": {},
     "output_type": "display_data"
    },
    {
     "name": "stdout",
     "output_type": "stream",
     "text": [
      "image name CARDS_COURTYARD_S_H_hand2_frame_1951.jpg\n",
      "\n",
      "0: 288x640 1 hand, 24.3ms\n",
      "Speed: 2.3ms preprocess, 24.3ms inference, 1.9ms postprocess per image at shape (1, 3, 288, 640)\n"
     ]
    },
    {
     "data": {
      "text/plain": [
       "<Figure size 640x480 with 1 Axes>"
      ]
     },
     "metadata": {},
     "output_type": "display_data"
    },
    {
     "name": "stdout",
     "output_type": "stream",
     "text": [
      "image name CARDS_COURTYARD_S_H_hand2_frame_2098.jpg\n",
      "\n",
      "0: 288x640 1 hand, 11.6ms\n",
      "Speed: 1.0ms preprocess, 11.6ms inference, 1.5ms postprocess per image at shape (1, 3, 288, 640)\n"
     ]
    },
    {
     "data": {
      "text/plain": [
       "<Figure size 640x480 with 1 Axes>"
      ]
     },
     "metadata": {},
     "output_type": "display_data"
    },
    {
     "name": "stdout",
     "output_type": "stream",
     "text": [
      "image name CARDS_COURTYARD_H_S_hand1_frame_1185.jpg\n",
      "\n",
      "0: 384x640 1 hand, 22.1ms\n",
      "Speed: 3.2ms preprocess, 22.1ms inference, 1.5ms postprocess per image at shape (1, 3, 384, 640)\n"
     ]
    },
    {
     "data": {
      "text/plain": [
       "<Figure size 640x480 with 1 Axes>"
      ]
     },
     "metadata": {},
     "output_type": "display_data"
    },
    {
     "name": "stdout",
     "output_type": "stream",
     "text": [
      "image name CARDS_COURTYARD_S_H_hand2_frame_0896.jpg\n",
      "\n",
      "0: 320x640 1 hand, 20.7ms\n",
      "Speed: 1.1ms preprocess, 20.7ms inference, 1.8ms postprocess per image at shape (1, 3, 320, 640)\n"
     ]
    },
    {
     "data": {
      "text/plain": [
       "<Figure size 640x480 with 1 Axes>"
      ]
     },
     "metadata": {},
     "output_type": "display_data"
    },
    {
     "name": "stdout",
     "output_type": "stream",
     "text": [
      "image name CARDS_COURTYARD_T_B_hand1_frame_0283.jpg\n",
      "\n",
      "0: 320x640 1 hand, 11.1ms\n",
      "Speed: 1.2ms preprocess, 11.1ms inference, 1.2ms postprocess per image at shape (1, 3, 320, 640)\n"
     ]
    },
    {
     "data": {
      "text/plain": [
       "<Figure size 640x480 with 1 Axes>"
      ]
     },
     "metadata": {},
     "output_type": "display_data"
    },
    {
     "name": "stdout",
     "output_type": "stream",
     "text": [
      "image name CARDS_COURTYARD_H_S_hand1_frame_0958.jpg\n",
      "\n",
      "0: 544x640 1 hand, 13.8ms\n",
      "Speed: 1.7ms preprocess, 13.8ms inference, 1.3ms postprocess per image at shape (1, 3, 544, 640)\n"
     ]
    },
    {
     "data": {
      "text/plain": [
       "<Figure size 640x480 with 1 Axes>"
      ]
     },
     "metadata": {},
     "output_type": "display_data"
    },
    {
     "name": "stdout",
     "output_type": "stream",
     "text": [
      "image name CARDS_COURTYARD_H_S_hand3_frame_1376.jpg\n",
      "\n",
      "0: 448x640 1 hand, 11.5ms\n",
      "Speed: 1.3ms preprocess, 11.5ms inference, 1.2ms postprocess per image at shape (1, 3, 448, 640)\n"
     ]
    },
    {
     "data": {
      "text/plain": [
       "<Figure size 640x480 with 1 Axes>"
      ]
     },
     "metadata": {},
     "output_type": "display_data"
    },
    {
     "name": "stdout",
     "output_type": "stream",
     "text": [
      "image name CARDS_COURTYARD_S_H_hand2_frame_2499.jpg\n",
      "\n",
      "0: 384x640 2 hands, 11.0ms\n",
      "Speed: 1.2ms preprocess, 11.0ms inference, 1.2ms postprocess per image at shape (1, 3, 384, 640)\n"
     ]
    },
    {
     "data": {
      "text/plain": [
       "<Figure size 640x480 with 1 Axes>"
      ]
     },
     "metadata": {},
     "output_type": "display_data"
    },
    {
     "name": "stdout",
     "output_type": "stream",
     "text": [
      "image name CARDS_COURTYARD_T_B_hand3_frame_0411.jpg\n",
      "\n",
      "0: 480x640 1 hand, 12.5ms\n",
      "Speed: 1.5ms preprocess, 12.5ms inference, 1.2ms postprocess per image at shape (1, 3, 480, 640)\n"
     ]
    },
    {
     "data": {
      "text/plain": [
       "<Figure size 640x480 with 1 Axes>"
      ]
     },
     "metadata": {},
     "output_type": "display_data"
    },
    {
     "name": "stdout",
     "output_type": "stream",
     "text": [
      "image name CARDS_COURTYARD_T_B_hand0_frame_0557.jpg\n",
      "\n",
      "0: 384x640 1 hand, 12.8ms\n",
      "Speed: 2.4ms preprocess, 12.8ms inference, 1.3ms postprocess per image at shape (1, 3, 384, 640)\n"
     ]
    },
    {
     "data": {
      "text/plain": [
       "<Figure size 640x480 with 1 Axes>"
      ]
     },
     "metadata": {},
     "output_type": "display_data"
    },
    {
     "name": "stdout",
     "output_type": "stream",
     "text": [
      "image name CARDS_COURTYARD_H_S_hand2_frame_1837.jpg\n",
      "\n",
      "0: 384x640 1 hand, 11.1ms\n",
      "Speed: 1.1ms preprocess, 11.1ms inference, 1.2ms postprocess per image at shape (1, 3, 384, 640)\n"
     ]
    },
    {
     "data": {
      "text/plain": [
       "<Figure size 640x480 with 1 Axes>"
      ]
     },
     "metadata": {},
     "output_type": "display_data"
    },
    {
     "name": "stdout",
     "output_type": "stream",
     "text": [
      "image name CARDS_COURTYARD_T_B_hand3_frame_2321.jpg\n",
      "\n",
      "0: 576x640 1 hand, 14.3ms\n",
      "Speed: 1.7ms preprocess, 14.3ms inference, 1.5ms postprocess per image at shape (1, 3, 576, 640)\n"
     ]
    },
    {
     "data": {
      "text/plain": [
       "<Figure size 640x480 with 1 Axes>"
      ]
     },
     "metadata": {},
     "output_type": "display_data"
    },
    {
     "name": "stdout",
     "output_type": "stream",
     "text": [
      "image name CARDS_COURTYARD_T_B_hand3_frame_2571.jpg\n",
      "\n",
      "0: 448x640 1 hand, 12.4ms\n",
      "Speed: 1.4ms preprocess, 12.4ms inference, 1.2ms postprocess per image at shape (1, 3, 448, 640)\n"
     ]
    },
    {
     "data": {
      "text/plain": [
       "<Figure size 640x480 with 1 Axes>"
      ]
     },
     "metadata": {},
     "output_type": "display_data"
    },
    {
     "name": "stdout",
     "output_type": "stream",
     "text": [
      "image name CARDS_COURTYARD_S_H_hand2_frame_1164.jpg\n",
      "\n",
      "0: 416x640 1 hand, 11.1ms\n",
      "Speed: 1.2ms preprocess, 11.1ms inference, 1.3ms postprocess per image at shape (1, 3, 416, 640)\n"
     ]
    },
    {
     "data": {
      "text/plain": [
       "<Figure size 640x480 with 1 Axes>"
      ]
     },
     "metadata": {},
     "output_type": "display_data"
    },
    {
     "name": "stdout",
     "output_type": "stream",
     "text": [
      "image name CARDS_COURTYARD_S_H_hand3_frame_0903.jpg\n",
      "\n",
      "0: 448x640 1 hand, 11.7ms\n",
      "Speed: 1.3ms preprocess, 11.7ms inference, 1.2ms postprocess per image at shape (1, 3, 448, 640)\n"
     ]
    },
    {
     "data": {
      "text/plain": [
       "<Figure size 640x480 with 1 Axes>"
      ]
     },
     "metadata": {},
     "output_type": "display_data"
    },
    {
     "name": "stdout",
     "output_type": "stream",
     "text": [
      "image name CARDS_COURTYARD_H_S_hand2_frame_1000.jpg\n",
      "\n",
      "0: 384x640 2 hands, 11.3ms\n",
      "Speed: 1.2ms preprocess, 11.3ms inference, 1.3ms postprocess per image at shape (1, 3, 384, 640)\n"
     ]
    },
    {
     "data": {
      "text/plain": [
       "<Figure size 640x480 with 1 Axes>"
      ]
     },
     "metadata": {},
     "output_type": "display_data"
    },
    {
     "name": "stdout",
     "output_type": "stream",
     "text": [
      "image name CARDS_COURTYARD_T_B_hand2_frame_0276.jpg\n",
      "\n",
      "0: 320x640 1 hand, 18.7ms\n",
      "Speed: 1.2ms preprocess, 18.7ms inference, 3.2ms postprocess per image at shape (1, 3, 320, 640)\n"
     ]
    },
    {
     "data": {
      "text/plain": [
       "<Figure size 640x480 with 1 Axes>"
      ]
     },
     "metadata": {},
     "output_type": "display_data"
    },
    {
     "name": "stdout",
     "output_type": "stream",
     "text": [
      "image name CARDS_COURTYARD_H_S_hand3_frame_1674.jpg\n",
      "\n",
      "0: 480x640 1 hand, 12.5ms\n",
      "Speed: 1.6ms preprocess, 12.5ms inference, 1.2ms postprocess per image at shape (1, 3, 480, 640)\n"
     ]
    },
    {
     "data": {
      "text/plain": [
       "<Figure size 640x480 with 1 Axes>"
      ]
     },
     "metadata": {},
     "output_type": "display_data"
    },
    {
     "name": "stdout",
     "output_type": "stream",
     "text": [
      "image name CARDS_COURTYARD_H_S_hand3_frame_2296.jpg\n",
      "\n",
      "0: 512x640 1 hand, 12.6ms\n",
      "Speed: 2.0ms preprocess, 12.6ms inference, 1.2ms postprocess per image at shape (1, 3, 512, 640)\n"
     ]
    },
    {
     "data": {
      "text/plain": [
       "<Figure size 640x480 with 1 Axes>"
      ]
     },
     "metadata": {},
     "output_type": "display_data"
    },
    {
     "name": "stdout",
     "output_type": "stream",
     "text": [
      "image name CARDS_COURTYARD_S_H_hand0_frame_0306.jpg\n",
      "\n",
      "0: 640x640 1 hand, 15.9ms\n",
      "Speed: 1.9ms preprocess, 15.9ms inference, 1.2ms postprocess per image at shape (1, 3, 640, 640)\n"
     ]
    },
    {
     "data": {
      "text/plain": [
       "<Figure size 640x480 with 1 Axes>"
      ]
     },
     "metadata": {},
     "output_type": "display_data"
    },
    {
     "name": "stdout",
     "output_type": "stream",
     "text": [
      "image name CARDS_COURTYARD_S_H_hand0_frame_0388.jpg\n",
      "\n",
      "0: 288x640 1 hand, 11.3ms\n",
      "Speed: 1.0ms preprocess, 11.3ms inference, 1.7ms postprocess per image at shape (1, 3, 288, 640)\n"
     ]
    },
    {
     "data": {
      "text/plain": [
       "<Figure size 640x480 with 1 Axes>"
      ]
     },
     "metadata": {},
     "output_type": "display_data"
    },
    {
     "name": "stdout",
     "output_type": "stream",
     "text": [
      "image name CARDS_COURTYARD_H_S_hand1_frame_0174.jpg\n",
      "\n",
      "0: 256x640 1 hand, 11.9ms\n",
      "Speed: 1.0ms preprocess, 11.9ms inference, 1.2ms postprocess per image at shape (1, 3, 256, 640)\n"
     ]
    },
    {
     "data": {
      "text/plain": [
       "<Figure size 640x480 with 1 Axes>"
      ]
     },
     "metadata": {},
     "output_type": "display_data"
    },
    {
     "name": "stdout",
     "output_type": "stream",
     "text": [
      "image name CARDS_COURTYARD_S_H_hand2_frame_2138.jpg\n",
      "\n",
      "0: 384x640 1 hand, 11.9ms\n",
      "Speed: 1.2ms preprocess, 11.9ms inference, 1.3ms postprocess per image at shape (1, 3, 384, 640)\n"
     ]
    },
    {
     "data": {
      "text/plain": [
       "<Figure size 640x480 with 1 Axes>"
      ]
     },
     "metadata": {},
     "output_type": "display_data"
    },
    {
     "name": "stdout",
     "output_type": "stream",
     "text": [
      "image name CARDS_COURTYARD_H_S_hand0_frame_1924.jpg\n",
      "\n",
      "0: 384x640 1 hand, 11.3ms\n",
      "Speed: 1.6ms preprocess, 11.3ms inference, 1.3ms postprocess per image at shape (1, 3, 384, 640)\n"
     ]
    },
    {
     "data": {
      "text/plain": [
       "<Figure size 640x480 with 1 Axes>"
      ]
     },
     "metadata": {},
     "output_type": "display_data"
    },
    {
     "name": "stdout",
     "output_type": "stream",
     "text": [
      "image name CARDS_COURTYARD_H_S_hand2_frame_1680.jpg\n",
      "\n",
      "0: 416x640 1 hand, 16.0ms\n",
      "Speed: 1.5ms preprocess, 16.0ms inference, 1.3ms postprocess per image at shape (1, 3, 416, 640)\n"
     ]
    },
    {
     "data": {
      "text/plain": [
       "<Figure size 640x480 with 1 Axes>"
      ]
     },
     "metadata": {},
     "output_type": "display_data"
    },
    {
     "name": "stdout",
     "output_type": "stream",
     "text": [
      "image name CARDS_COURTYARD_H_S_hand0_frame_1675.jpg\n",
      "\n",
      "0: 384x640 1 hand, 11.7ms\n",
      "Speed: 1.3ms preprocess, 11.7ms inference, 1.3ms postprocess per image at shape (1, 3, 384, 640)\n"
     ]
    },
    {
     "data": {
      "text/plain": [
       "<Figure size 640x480 with 1 Axes>"
      ]
     },
     "metadata": {},
     "output_type": "display_data"
    },
    {
     "name": "stdout",
     "output_type": "stream",
     "text": [
      "image name CARDS_COURTYARD_H_S_hand1_frame_1021.jpg\n",
      "\n",
      "0: 256x640 1 hand, 11.1ms\n",
      "Speed: 1.4ms preprocess, 11.1ms inference, 1.2ms postprocess per image at shape (1, 3, 256, 640)\n"
     ]
    },
    {
     "data": {
      "text/plain": [
       "<Figure size 640x480 with 1 Axes>"
      ]
     },
     "metadata": {},
     "output_type": "display_data"
    },
    {
     "name": "stdout",
     "output_type": "stream",
     "text": [
      "image name CARDS_COURTYARD_H_S_hand1_frame_0682.jpg\n",
      "\n",
      "0: 352x640 1 hand, 26.3ms\n",
      "Speed: 4.5ms preprocess, 26.3ms inference, 1.9ms postprocess per image at shape (1, 3, 352, 640)\n"
     ]
    },
    {
     "data": {
      "text/plain": [
       "<Figure size 640x480 with 1 Axes>"
      ]
     },
     "metadata": {},
     "output_type": "display_data"
    },
    {
     "name": "stdout",
     "output_type": "stream",
     "text": [
      "image name CARDS_COURTYARD_S_H_hand3_frame_0093.jpg\n",
      "\n",
      "0: 320x640 2 hands, 11.2ms\n",
      "Speed: 1.1ms preprocess, 11.2ms inference, 1.2ms postprocess per image at shape (1, 3, 320, 640)\n"
     ]
    },
    {
     "data": {
      "text/plain": [
       "<Figure size 640x480 with 1 Axes>"
      ]
     },
     "metadata": {},
     "output_type": "display_data"
    },
    {
     "name": "stdout",
     "output_type": "stream",
     "text": [
      "image name CARDS_COURTYARD_T_B_hand3_frame_0823.jpg\n",
      "\n",
      "0: 352x640 1 hand, 14.2ms\n",
      "Speed: 1.7ms preprocess, 14.2ms inference, 1.2ms postprocess per image at shape (1, 3, 352, 640)\n"
     ]
    },
    {
     "data": {
      "text/plain": [
       "<Figure size 640x480 with 1 Axes>"
      ]
     },
     "metadata": {},
     "output_type": "display_data"
    },
    {
     "name": "stdout",
     "output_type": "stream",
     "text": [
      "image name CARDS_COURTYARD_H_S_hand1_frame_1284.jpg\n",
      "\n",
      "0: 384x640 1 hand, 12.2ms\n",
      "Speed: 1.8ms preprocess, 12.2ms inference, 1.2ms postprocess per image at shape (1, 3, 384, 640)\n"
     ]
    },
    {
     "data": {
      "text/plain": [
       "<Figure size 640x480 with 1 Axes>"
      ]
     },
     "metadata": {},
     "output_type": "display_data"
    },
    {
     "name": "stdout",
     "output_type": "stream",
     "text": [
      "image name CARDS_COURTYARD_H_S_hand2_frame_2190.jpg\n",
      "\n",
      "0: 448x640 1 hand, 12.0ms\n",
      "Speed: 1.8ms preprocess, 12.0ms inference, 1.3ms postprocess per image at shape (1, 3, 448, 640)\n"
     ]
    },
    {
     "data": {
      "text/plain": [
       "<Figure size 640x480 with 1 Axes>"
      ]
     },
     "metadata": {},
     "output_type": "display_data"
    },
    {
     "name": "stdout",
     "output_type": "stream",
     "text": [
      "image name CARDS_COURTYARD_S_H_hand3_frame_0299.jpg\n",
      "\n",
      "0: 640x640 1 hand, 16.0ms\n",
      "Speed: 2.8ms preprocess, 16.0ms inference, 1.2ms postprocess per image at shape (1, 3, 640, 640)\n"
     ]
    },
    {
     "data": {
      "text/plain": [
       "<Figure size 640x480 with 1 Axes>"
      ]
     },
     "metadata": {},
     "output_type": "display_data"
    },
    {
     "name": "stdout",
     "output_type": "stream",
     "text": [
      "image name CARDS_COURTYARD_H_S_hand0_frame_0659.jpg\n",
      "\n",
      "0: 288x640 1 hand, 11.4ms\n",
      "Speed: 1.0ms preprocess, 11.4ms inference, 1.2ms postprocess per image at shape (1, 3, 288, 640)\n"
     ]
    },
    {
     "data": {
      "text/plain": [
       "<Figure size 640x480 with 1 Axes>"
      ]
     },
     "metadata": {},
     "output_type": "display_data"
    },
    {
     "name": "stdout",
     "output_type": "stream",
     "text": [
      "image name CARDS_COURTYARD_H_S_hand3_frame_0211.jpg\n",
      "\n",
      "0: 448x640 1 hand, 11.8ms\n",
      "Speed: 1.5ms preprocess, 11.8ms inference, 1.2ms postprocess per image at shape (1, 3, 448, 640)\n"
     ]
    },
    {
     "data": {
      "text/plain": [
       "<Figure size 640x480 with 1 Axes>"
      ]
     },
     "metadata": {},
     "output_type": "display_data"
    },
    {
     "name": "stdout",
     "output_type": "stream",
     "text": [
      "image name CARDS_COURTYARD_H_S_hand1_frame_1604.jpg\n",
      "\n",
      "0: 352x640 1 hand, 12.0ms\n",
      "Speed: 1.2ms preprocess, 12.0ms inference, 1.2ms postprocess per image at shape (1, 3, 352, 640)\n"
     ]
    },
    {
     "data": {
      "text/plain": [
       "<Figure size 640x480 with 1 Axes>"
      ]
     },
     "metadata": {},
     "output_type": "display_data"
    },
    {
     "name": "stdout",
     "output_type": "stream",
     "text": [
      "image name CARDS_COURTYARD_T_B_hand1_frame_1226.jpg\n",
      "\n",
      "0: 288x640 1 hand, 12.3ms\n",
      "Speed: 1.0ms preprocess, 12.3ms inference, 1.6ms postprocess per image at shape (1, 3, 288, 640)\n"
     ]
    },
    {
     "data": {
      "text/plain": [
       "<Figure size 640x480 with 1 Axes>"
      ]
     },
     "metadata": {},
     "output_type": "display_data"
    },
    {
     "name": "stdout",
     "output_type": "stream",
     "text": [
      "image name CARDS_COURTYARD_T_B_hand3_frame_0226.jpg\n",
      "\n",
      "0: 384x640 1 hand, 11.9ms\n",
      "Speed: 1.3ms preprocess, 11.9ms inference, 1.2ms postprocess per image at shape (1, 3, 384, 640)\n"
     ]
    },
    {
     "data": {
      "text/plain": [
       "<Figure size 640x480 with 1 Axes>"
      ]
     },
     "metadata": {},
     "output_type": "display_data"
    },
    {
     "name": "stdout",
     "output_type": "stream",
     "text": [
      "image name CARDS_COURTYARD_T_B_hand3_frame_1550.jpg\n",
      "\n",
      "0: 544x640 1 hand, 13.8ms\n",
      "Speed: 1.7ms preprocess, 13.8ms inference, 1.2ms postprocess per image at shape (1, 3, 544, 640)\n"
     ]
    },
    {
     "data": {
      "text/plain": [
       "<Figure size 640x480 with 1 Axes>"
      ]
     },
     "metadata": {},
     "output_type": "display_data"
    },
    {
     "name": "stdout",
     "output_type": "stream",
     "text": [
      "image name CARDS_COURTYARD_S_H_hand0_frame_1689.jpg\n",
      "\n",
      "0: 288x640 1 hand, 11.5ms\n",
      "Speed: 1.0ms preprocess, 11.5ms inference, 1.4ms postprocess per image at shape (1, 3, 288, 640)\n"
     ]
    },
    {
     "data": {
      "text/plain": [
       "<Figure size 640x480 with 1 Axes>"
      ]
     },
     "metadata": {},
     "output_type": "display_data"
    },
    {
     "name": "stdout",
     "output_type": "stream",
     "text": [
      "image name CARDS_COURTYARD_H_S_hand2_frame_0849.jpg\n",
      "\n",
      "0: 480x640 2 hands, 12.5ms\n",
      "Speed: 2.3ms preprocess, 12.5ms inference, 1.3ms postprocess per image at shape (1, 3, 480, 640)\n"
     ]
    },
    {
     "data": {
      "text/plain": [
       "<Figure size 640x480 with 1 Axes>"
      ]
     },
     "metadata": {},
     "output_type": "display_data"
    },
    {
     "name": "stdout",
     "output_type": "stream",
     "text": [
      "image name CARDS_COURTYARD_S_H_hand1_frame_0016.jpg\n",
      "\n",
      "0: 384x640 (no detections), 11.6ms\n",
      "Speed: 1.1ms preprocess, 11.6ms inference, 0.3ms postprocess per image at shape (1, 3, 384, 640)\n",
      "no results for image CARDS_COURTYARD_S_H_hand1_frame_0016.jpg!\n",
      "image name CARDS_COURTYARD_T_B_hand0_frame_0914.jpg\n",
      "\n",
      "0: 480x640 1 hand, 12.5ms\n",
      "Speed: 1.4ms preprocess, 12.5ms inference, 1.2ms postprocess per image at shape (1, 3, 480, 640)\n"
     ]
    },
    {
     "data": {
      "text/plain": [
       "<Figure size 640x480 with 1 Axes>"
      ]
     },
     "metadata": {},
     "output_type": "display_data"
    },
    {
     "name": "stdout",
     "output_type": "stream",
     "text": [
      "image name CARDS_COURTYARD_T_B_hand0_frame_0632.jpg\n",
      "\n",
      "0: 320x640 1 hand, 10.7ms\n",
      "Speed: 1.2ms preprocess, 10.7ms inference, 1.2ms postprocess per image at shape (1, 3, 320, 640)\n"
     ]
    },
    {
     "data": {
      "text/plain": [
       "<Figure size 640x480 with 1 Axes>"
      ]
     },
     "metadata": {},
     "output_type": "display_data"
    },
    {
     "name": "stdout",
     "output_type": "stream",
     "text": [
      "image name CARDS_COURTYARD_H_S_hand3_frame_0853.jpg\n",
      "\n",
      "0: 512x640 1 hand, 16.0ms\n",
      "Speed: 1.8ms preprocess, 16.0ms inference, 2.5ms postprocess per image at shape (1, 3, 512, 640)\n"
     ]
    },
    {
     "data": {
      "text/plain": [
       "<Figure size 640x480 with 1 Axes>"
      ]
     },
     "metadata": {},
     "output_type": "display_data"
    },
    {
     "name": "stdout",
     "output_type": "stream",
     "text": [
      "image name CARDS_COURTYARD_T_B_hand3_frame_1585.jpg\n",
      "\n",
      "0: 608x640 2 hands, 20.1ms\n",
      "Speed: 2.1ms preprocess, 20.1ms inference, 1.2ms postprocess per image at shape (1, 3, 608, 640)\n"
     ]
    },
    {
     "data": {
      "text/plain": [
       "<Figure size 640x480 with 1 Axes>"
      ]
     },
     "metadata": {},
     "output_type": "display_data"
    },
    {
     "name": "stdout",
     "output_type": "stream",
     "text": [
      "image name CARDS_COURTYARD_T_B_hand2_frame_1462.jpg\n",
      "\n",
      "0: 544x640 1 hand, 14.0ms\n",
      "Speed: 1.6ms preprocess, 14.0ms inference, 1.5ms postprocess per image at shape (1, 3, 544, 640)\n"
     ]
    },
    {
     "data": {
      "text/plain": [
       "<Figure size 640x480 with 1 Axes>"
      ]
     },
     "metadata": {},
     "output_type": "display_data"
    },
    {
     "name": "stdout",
     "output_type": "stream",
     "text": [
      "image name CARDS_COURTYARD_H_S_hand0_frame_2662.jpg\n",
      "\n",
      "0: 384x640 1 hand, 22.4ms\n",
      "Speed: 3.5ms preprocess, 22.4ms inference, 1.9ms postprocess per image at shape (1, 3, 384, 640)\n"
     ]
    },
    {
     "data": {
      "text/plain": [
       "<Figure size 640x480 with 1 Axes>"
      ]
     },
     "metadata": {},
     "output_type": "display_data"
    },
    {
     "name": "stdout",
     "output_type": "stream",
     "text": [
      "image name CARDS_COURTYARD_T_B_hand3_frame_0638.jpg\n",
      "\n",
      "0: 512x640 1 hand, 12.7ms\n",
      "Speed: 1.5ms preprocess, 12.7ms inference, 1.4ms postprocess per image at shape (1, 3, 512, 640)\n"
     ]
    },
    {
     "data": {
      "text/plain": [
       "<Figure size 640x480 with 1 Axes>"
      ]
     },
     "metadata": {},
     "output_type": "display_data"
    },
    {
     "name": "stdout",
     "output_type": "stream",
     "text": [
      "image name CARDS_COURTYARD_T_B_hand1_frame_0164.jpg\n",
      "\n",
      "0: 352x640 1 hand, 11.8ms\n",
      "Speed: 1.2ms preprocess, 11.8ms inference, 1.4ms postprocess per image at shape (1, 3, 352, 640)\n"
     ]
    },
    {
     "data": {
      "text/plain": [
       "<Figure size 640x480 with 1 Axes>"
      ]
     },
     "metadata": {},
     "output_type": "display_data"
    },
    {
     "name": "stdout",
     "output_type": "stream",
     "text": [
      "image name CARDS_COURTYARD_S_H_hand3_frame_2680.jpg\n",
      "\n",
      "0: 608x640 1 hand, 15.0ms\n",
      "Speed: 1.7ms preprocess, 15.0ms inference, 1.2ms postprocess per image at shape (1, 3, 608, 640)\n"
     ]
    },
    {
     "data": {
      "text/plain": [
       "<Figure size 640x480 with 1 Axes>"
      ]
     },
     "metadata": {},
     "output_type": "display_data"
    },
    {
     "name": "stdout",
     "output_type": "stream",
     "text": [
      "image name CARDS_COURTYARD_S_H_hand0_frame_1991.jpg\n",
      "\n",
      "0: 288x640 1 hand, 11.7ms\n",
      "Speed: 1.0ms preprocess, 11.7ms inference, 1.7ms postprocess per image at shape (1, 3, 288, 640)\n"
     ]
    },
    {
     "data": {
      "text/plain": [
       "<Figure size 640x480 with 1 Axes>"
      ]
     },
     "metadata": {},
     "output_type": "display_data"
    },
    {
     "name": "stdout",
     "output_type": "stream",
     "text": [
      "image name CARDS_COURTYARD_S_H_hand3_frame_2090.jpg\n",
      "\n",
      "0: 384x640 1 hand, 16.3ms\n",
      "Speed: 2.9ms preprocess, 16.3ms inference, 1.4ms postprocess per image at shape (1, 3, 384, 640)\n"
     ]
    },
    {
     "data": {
      "text/plain": [
       "<Figure size 640x480 with 1 Axes>"
      ]
     },
     "metadata": {},
     "output_type": "display_data"
    },
    {
     "name": "stdout",
     "output_type": "stream",
     "text": [
      "image name CARDS_COURTYARD_S_H_hand3_frame_1220.jpg\n",
      "\n",
      "0: 448x640 1 hand, 12.0ms\n",
      "Speed: 1.3ms preprocess, 12.0ms inference, 1.2ms postprocess per image at shape (1, 3, 448, 640)\n"
     ]
    },
    {
     "data": {
      "text/plain": [
       "<Figure size 640x480 with 1 Axes>"
      ]
     },
     "metadata": {},
     "output_type": "display_data"
    },
    {
     "name": "stdout",
     "output_type": "stream",
     "text": [
      "image name CARDS_COURTYARD_H_S_hand1_frame_1514.jpg\n",
      "\n",
      "0: 320x640 1 hand, 11.2ms\n",
      "Speed: 1.2ms preprocess, 11.2ms inference, 1.6ms postprocess per image at shape (1, 3, 320, 640)\n"
     ]
    },
    {
     "data": {
      "text/plain": [
       "<Figure size 640x480 with 1 Axes>"
      ]
     },
     "metadata": {},
     "output_type": "display_data"
    },
    {
     "name": "stdout",
     "output_type": "stream",
     "text": [
      "image name CARDS_COURTYARD_T_B_hand2_frame_2207.jpg\n",
      "\n",
      "0: 352x640 1 hand, 14.0ms\n",
      "Speed: 1.1ms preprocess, 14.0ms inference, 1.5ms postprocess per image at shape (1, 3, 352, 640)\n"
     ]
    },
    {
     "data": {
      "text/plain": [
       "<Figure size 640x480 with 1 Axes>"
      ]
     },
     "metadata": {},
     "output_type": "display_data"
    },
    {
     "name": "stdout",
     "output_type": "stream",
     "text": [
      "image name CARDS_COURTYARD_S_H_hand3_frame_1951.jpg\n",
      "\n",
      "0: 448x640 1 hand, 17.2ms\n",
      "Speed: 3.0ms preprocess, 17.2ms inference, 1.8ms postprocess per image at shape (1, 3, 448, 640)\n"
     ]
    },
    {
     "data": {
      "text/plain": [
       "<Figure size 640x480 with 1 Axes>"
      ]
     },
     "metadata": {},
     "output_type": "display_data"
    },
    {
     "name": "stdout",
     "output_type": "stream",
     "text": [
      "image name CARDS_COURTYARD_S_H_hand1_frame_0743.jpg\n",
      "\n",
      "0: 544x640 1 hand, 13.9ms\n",
      "Speed: 2.5ms preprocess, 13.9ms inference, 1.3ms postprocess per image at shape (1, 3, 544, 640)\n"
     ]
    },
    {
     "data": {
      "text/plain": [
       "<Figure size 640x480 with 1 Axes>"
      ]
     },
     "metadata": {},
     "output_type": "display_data"
    },
    {
     "name": "stdout",
     "output_type": "stream",
     "text": [
      "image name CARDS_COURTYARD_S_H_hand3_frame_0037.jpg\n",
      "\n",
      "0: 416x640 1 hand, 11.8ms\n",
      "Speed: 1.2ms preprocess, 11.8ms inference, 1.2ms postprocess per image at shape (1, 3, 416, 640)\n"
     ]
    },
    {
     "data": {
      "text/plain": [
       "<Figure size 640x480 with 1 Axes>"
      ]
     },
     "metadata": {},
     "output_type": "display_data"
    },
    {
     "name": "stdout",
     "output_type": "stream",
     "text": [
      "image name CARDS_COURTYARD_T_B_hand2_frame_1784.jpg\n",
      "\n",
      "0: 256x640 1 hand, 13.2ms\n",
      "Speed: 1.4ms preprocess, 13.2ms inference, 1.2ms postprocess per image at shape (1, 3, 256, 640)\n"
     ]
    },
    {
     "data": {
      "text/plain": [
       "<Figure size 640x480 with 1 Axes>"
      ]
     },
     "metadata": {},
     "output_type": "display_data"
    },
    {
     "name": "stdout",
     "output_type": "stream",
     "text": [
      "image name CARDS_COURTYARD_S_H_hand3_frame_0388.jpg\n",
      "\n",
      "0: 640x640 1 hand, 15.8ms\n",
      "Speed: 1.7ms preprocess, 15.8ms inference, 1.2ms postprocess per image at shape (1, 3, 640, 640)\n"
     ]
    },
    {
     "data": {
      "text/plain": [
       "<Figure size 640x480 with 1 Axes>"
      ]
     },
     "metadata": {},
     "output_type": "display_data"
    },
    {
     "name": "stdout",
     "output_type": "stream",
     "text": [
      "image name CARDS_COURTYARD_H_S_hand3_frame_2194.jpg\n",
      "\n",
      "0: 448x640 1 hand, 11.5ms\n",
      "Speed: 1.3ms preprocess, 11.5ms inference, 1.3ms postprocess per image at shape (1, 3, 448, 640)\n"
     ]
    },
    {
     "data": {
      "text/plain": [
       "<Figure size 640x480 with 1 Axes>"
      ]
     },
     "metadata": {},
     "output_type": "display_data"
    },
    {
     "name": "stdout",
     "output_type": "stream",
     "text": [
      "image name CARDS_COURTYARD_T_B_hand3_frame_0016.jpg\n",
      "\n",
      "0: 480x640 2 hands, 13.0ms\n",
      "Speed: 1.9ms preprocess, 13.0ms inference, 1.2ms postprocess per image at shape (1, 3, 480, 640)\n"
     ]
    },
    {
     "data": {
      "text/plain": [
       "<Figure size 640x480 with 1 Axes>"
      ]
     },
     "metadata": {},
     "output_type": "display_data"
    },
    {
     "name": "stdout",
     "output_type": "stream",
     "text": [
      "image name CARDS_COURTYARD_H_S_hand2_frame_0726.jpg\n",
      "\n",
      "0: 352x640 1 hand, 11.9ms\n",
      "Speed: 1.1ms preprocess, 11.9ms inference, 1.6ms postprocess per image at shape (1, 3, 352, 640)\n"
     ]
    },
    {
     "data": {
      "text/plain": [
       "<Figure size 640x480 with 1 Axes>"
      ]
     },
     "metadata": {},
     "output_type": "display_data"
    },
    {
     "name": "stdout",
     "output_type": "stream",
     "text": [
      "image name CARDS_COURTYARD_H_S_hand2_frame_0549.jpg\n",
      "\n",
      "0: 384x640 1 hand, 11.0ms\n",
      "Speed: 1.7ms preprocess, 11.0ms inference, 1.2ms postprocess per image at shape (1, 3, 384, 640)\n"
     ]
    },
    {
     "data": {
      "text/plain": [
       "<Figure size 640x480 with 1 Axes>"
      ]
     },
     "metadata": {},
     "output_type": "display_data"
    },
    {
     "name": "stdout",
     "output_type": "stream",
     "text": [
      "image name CARDS_COURTYARD_S_H_hand2_frame_2154.jpg\n",
      "\n",
      "0: 416x640 1 hand, 11.4ms\n",
      "Speed: 1.3ms preprocess, 11.4ms inference, 1.7ms postprocess per image at shape (1, 3, 416, 640)\n"
     ]
    },
    {
     "data": {
      "text/plain": [
       "<Figure size 640x480 with 1 Axes>"
      ]
     },
     "metadata": {},
     "output_type": "display_data"
    },
    {
     "name": "stdout",
     "output_type": "stream",
     "text": [
      "image name CARDS_COURTYARD_H_S_hand3_frame_1335.jpg\n",
      "\n",
      "0: 416x640 1 hand, 11.4ms\n",
      "Speed: 1.3ms preprocess, 11.4ms inference, 1.3ms postprocess per image at shape (1, 3, 416, 640)\n"
     ]
    },
    {
     "data": {
      "text/plain": [
       "<Figure size 640x480 with 1 Axes>"
      ]
     },
     "metadata": {},
     "output_type": "display_data"
    },
    {
     "name": "stdout",
     "output_type": "stream",
     "text": [
      "image name CARDS_COURTYARD_T_B_hand1_frame_1190.jpg\n",
      "\n",
      "0: 320x640 1 hand, 21.4ms\n",
      "Speed: 2.6ms preprocess, 21.4ms inference, 1.9ms postprocess per image at shape (1, 3, 320, 640)\n"
     ]
    },
    {
     "data": {
      "text/plain": [
       "<Figure size 640x480 with 1 Axes>"
      ]
     },
     "metadata": {},
     "output_type": "display_data"
    },
    {
     "name": "stdout",
     "output_type": "stream",
     "text": [
      "image name CARDS_COURTYARD_T_B_hand0_frame_2238.jpg\n",
      "\n",
      "0: 352x640 1 hand, 11.6ms\n",
      "Speed: 1.4ms preprocess, 11.6ms inference, 1.2ms postprocess per image at shape (1, 3, 352, 640)\n"
     ]
    },
    {
     "data": {
      "text/plain": [
       "<Figure size 640x480 with 1 Axes>"
      ]
     },
     "metadata": {},
     "output_type": "display_data"
    },
    {
     "name": "stdout",
     "output_type": "stream",
     "text": [
      "image name CARDS_COURTYARD_S_H_hand2_frame_0577.jpg\n",
      "\n",
      "0: 384x640 2 hands, 14.4ms\n",
      "Speed: 3.0ms preprocess, 14.4ms inference, 1.6ms postprocess per image at shape (1, 3, 384, 640)\n"
     ]
    },
    {
     "data": {
      "text/plain": [
       "<Figure size 640x480 with 1 Axes>"
      ]
     },
     "metadata": {},
     "output_type": "display_data"
    },
    {
     "name": "stdout",
     "output_type": "stream",
     "text": [
      "image name CARDS_COURTYARD_S_H_hand2_frame_2000.jpg\n",
      "\n",
      "0: 384x640 1 hand, 12.1ms\n",
      "Speed: 5.6ms preprocess, 12.1ms inference, 1.3ms postprocess per image at shape (1, 3, 384, 640)\n"
     ]
    },
    {
     "data": {
      "text/plain": [
       "<Figure size 640x480 with 1 Axes>"
      ]
     },
     "metadata": {},
     "output_type": "display_data"
    },
    {
     "name": "stdout",
     "output_type": "stream",
     "text": [
      "image name CARDS_COURTYARD_T_B_hand1_frame_0805.jpg\n",
      "\n",
      "0: 480x640 1 hand, 12.5ms\n",
      "Speed: 1.5ms preprocess, 12.5ms inference, 1.2ms postprocess per image at shape (1, 3, 480, 640)\n"
     ]
    },
    {
     "data": {
      "text/plain": [
       "<Figure size 640x480 with 1 Axes>"
      ]
     },
     "metadata": {},
     "output_type": "display_data"
    },
    {
     "name": "stdout",
     "output_type": "stream",
     "text": [
      "image name CARDS_COURTYARD_H_S_hand0_frame_0682.jpg\n",
      "\n",
      "0: 352x640 1 hand, 11.3ms\n",
      "Speed: 1.1ms preprocess, 11.3ms inference, 1.4ms postprocess per image at shape (1, 3, 352, 640)\n"
     ]
    },
    {
     "data": {
      "text/plain": [
       "<Figure size 640x480 with 1 Axes>"
      ]
     },
     "metadata": {},
     "output_type": "display_data"
    },
    {
     "name": "stdout",
     "output_type": "stream",
     "text": [
      "image name CARDS_COURTYARD_S_H_hand1_frame_0873.jpg\n",
      "\n",
      "0: 352x640 1 hand, 11.2ms\n",
      "Speed: 1.4ms preprocess, 11.2ms inference, 1.2ms postprocess per image at shape (1, 3, 352, 640)\n"
     ]
    },
    {
     "data": {
      "text/plain": [
       "<Figure size 640x480 with 1 Axes>"
      ]
     },
     "metadata": {},
     "output_type": "display_data"
    },
    {
     "name": "stdout",
     "output_type": "stream",
     "text": [
      "image name CARDS_COURTYARD_T_B_hand1_frame_2580.jpg\n",
      "\n",
      "0: 416x640 1 hand, 11.3ms\n",
      "Speed: 1.4ms preprocess, 11.3ms inference, 1.2ms postprocess per image at shape (1, 3, 416, 640)\n"
     ]
    },
    {
     "data": {
      "text/plain": [
       "<Figure size 640x480 with 1 Axes>"
      ]
     },
     "metadata": {},
     "output_type": "display_data"
    },
    {
     "name": "stdout",
     "output_type": "stream",
     "text": [
      "image name CARDS_COURTYARD_S_H_hand2_frame_2027.jpg\n",
      "\n",
      "0: 384x640 1 hand, 11.1ms\n",
      "Speed: 1.3ms preprocess, 11.1ms inference, 1.2ms postprocess per image at shape (1, 3, 384, 640)\n"
     ]
    },
    {
     "data": {
      "text/plain": [
       "<Figure size 640x480 with 1 Axes>"
      ]
     },
     "metadata": {},
     "output_type": "display_data"
    },
    {
     "name": "stdout",
     "output_type": "stream",
     "text": [
      "image name CARDS_COURTYARD_H_S_hand3_frame_0958.jpg\n",
      "\n",
      "0: 480x640 2 hands, 12.5ms\n",
      "Speed: 1.4ms preprocess, 12.5ms inference, 1.2ms postprocess per image at shape (1, 3, 480, 640)\n"
     ]
    },
    {
     "data": {
      "text/plain": [
       "<Figure size 640x480 with 1 Axes>"
      ]
     },
     "metadata": {},
     "output_type": "display_data"
    },
    {
     "name": "stdout",
     "output_type": "stream",
     "text": [
      "image name CARDS_COURTYARD_H_S_hand1_frame_0247.jpg\n",
      "\n",
      "0: 416x640 1 hand, 16.9ms\n",
      "Speed: 2.0ms preprocess, 16.9ms inference, 1.4ms postprocess per image at shape (1, 3, 416, 640)\n"
     ]
    },
    {
     "data": {
      "text/plain": [
       "<Figure size 640x480 with 1 Axes>"
      ]
     },
     "metadata": {},
     "output_type": "display_data"
    },
    {
     "name": "stdout",
     "output_type": "stream",
     "text": [
      "image name CARDS_COURTYARD_S_H_hand1_frame_1223.jpg\n",
      "\n",
      "0: 480x640 1 hand, 12.5ms\n",
      "Speed: 1.7ms preprocess, 12.5ms inference, 1.2ms postprocess per image at shape (1, 3, 480, 640)\n"
     ]
    },
    {
     "data": {
      "text/plain": [
       "<Figure size 640x480 with 1 Axes>"
      ]
     },
     "metadata": {},
     "output_type": "display_data"
    },
    {
     "name": "stdout",
     "output_type": "stream",
     "text": [
      "image name CARDS_COURTYARD_H_S_hand3_frame_0849.jpg\n",
      "\n",
      "0: 480x640 1 hand, 12.0ms\n",
      "Speed: 1.9ms preprocess, 12.0ms inference, 1.2ms postprocess per image at shape (1, 3, 480, 640)\n"
     ]
    },
    {
     "data": {
      "text/plain": [
       "<Figure size 640x480 with 1 Axes>"
      ]
     },
     "metadata": {},
     "output_type": "display_data"
    },
    {
     "name": "stdout",
     "output_type": "stream",
     "text": [
      "image name CARDS_COURTYARD_H_S_hand1_frame_1880.jpg\n",
      "\n",
      "0: 384x640 1 hand, 24.6ms\n",
      "Speed: 4.5ms preprocess, 24.6ms inference, 2.9ms postprocess per image at shape (1, 3, 384, 640)\n"
     ]
    },
    {
     "data": {
      "text/plain": [
       "<Figure size 640x480 with 1 Axes>"
      ]
     },
     "metadata": {},
     "output_type": "display_data"
    },
    {
     "name": "stdout",
     "output_type": "stream",
     "text": [
      "image name CARDS_COURTYARD_S_H_hand0_frame_2243.jpg\n",
      "\n",
      "0: 608x640 1 hand, 15.2ms\n",
      "Speed: 1.7ms preprocess, 15.2ms inference, 1.3ms postprocess per image at shape (1, 3, 608, 640)\n"
     ]
    },
    {
     "data": {
      "text/plain": [
       "<Figure size 640x480 with 1 Axes>"
      ]
     },
     "metadata": {},
     "output_type": "display_data"
    },
    {
     "name": "stdout",
     "output_type": "stream",
     "text": [
      "image name CARDS_COURTYARD_H_S_hand3_frame_0325.jpg\n",
      "\n",
      "0: 512x640 1 hand, 12.5ms\n",
      "Speed: 1.4ms preprocess, 12.5ms inference, 1.2ms postprocess per image at shape (1, 3, 512, 640)\n"
     ]
    },
    {
     "data": {
      "text/plain": [
       "<Figure size 640x480 with 1 Axes>"
      ]
     },
     "metadata": {},
     "output_type": "display_data"
    },
    {
     "name": "stdout",
     "output_type": "stream",
     "text": [
      "image name CARDS_COURTYARD_S_H_hand2_frame_2226.jpg\n",
      "\n",
      "0: 320x640 1 hand, 11.1ms\n",
      "Speed: 1.1ms preprocess, 11.1ms inference, 1.2ms postprocess per image at shape (1, 3, 320, 640)\n"
     ]
    },
    {
     "data": {
      "text/plain": [
       "<Figure size 640x480 with 1 Axes>"
      ]
     },
     "metadata": {},
     "output_type": "display_data"
    },
    {
     "name": "stdout",
     "output_type": "stream",
     "text": [
      "image name CARDS_COURTYARD_S_H_hand0_frame_1377.jpg\n",
      "\n",
      "0: 512x640 1 hand, 20.2ms\n",
      "Speed: 3.1ms preprocess, 20.2ms inference, 1.4ms postprocess per image at shape (1, 3, 512, 640)\n"
     ]
    },
    {
     "data": {
      "text/plain": [
       "<Figure size 640x480 with 1 Axes>"
      ]
     },
     "metadata": {},
     "output_type": "display_data"
    },
    {
     "name": "stdout",
     "output_type": "stream",
     "text": [
      "image name CARDS_COURTYARD_S_H_hand3_frame_0146.jpg\n",
      "\n",
      "0: 640x640 1 hand, 16.5ms\n",
      "Speed: 2.9ms preprocess, 16.5ms inference, 1.2ms postprocess per image at shape (1, 3, 640, 640)\n"
     ]
    },
    {
     "data": {
      "text/plain": [
       "<Figure size 640x480 with 1 Axes>"
      ]
     },
     "metadata": {},
     "output_type": "display_data"
    },
    {
     "name": "stdout",
     "output_type": "stream",
     "text": [
      "image name CARDS_COURTYARD_T_B_hand3_frame_2011.jpg\n",
      "\n",
      "0: 448x640 1 hand, 12.8ms\n",
      "Speed: 1.6ms preprocess, 12.8ms inference, 1.3ms postprocess per image at shape (1, 3, 448, 640)\n"
     ]
    },
    {
     "data": {
      "text/plain": [
       "<Figure size 640x480 with 1 Axes>"
      ]
     },
     "metadata": {},
     "output_type": "display_data"
    },
    {
     "name": "stdout",
     "output_type": "stream",
     "text": [
      "image name CARDS_COURTYARD_S_H_hand2_frame_2351.jpg\n",
      "\n",
      "0: 448x640 1 hand, 10.9ms\n",
      "Speed: 1.3ms preprocess, 10.9ms inference, 1.8ms postprocess per image at shape (1, 3, 448, 640)\n"
     ]
    },
    {
     "data": {
      "text/plain": [
       "<Figure size 640x480 with 1 Axes>"
      ]
     },
     "metadata": {},
     "output_type": "display_data"
    },
    {
     "name": "stdout",
     "output_type": "stream",
     "text": [
      "image name CARDS_COURTYARD_S_H_hand3_frame_2658.jpg\n",
      "\n",
      "0: 640x544 1 hand, 21.7ms\n",
      "Speed: 3.9ms preprocess, 21.7ms inference, 1.4ms postprocess per image at shape (1, 3, 640, 544)\n"
     ]
    },
    {
     "data": {
      "text/plain": [
       "<Figure size 640x480 with 1 Axes>"
      ]
     },
     "metadata": {},
     "output_type": "display_data"
    },
    {
     "name": "stdout",
     "output_type": "stream",
     "text": [
      "image name CARDS_COURTYARD_H_S_hand1_frame_1675.jpg\n",
      "\n",
      "0: 416x640 1 hand, 15.9ms\n",
      "Speed: 2.6ms preprocess, 15.9ms inference, 1.2ms postprocess per image at shape (1, 3, 416, 640)\n"
     ]
    },
    {
     "data": {
      "text/plain": [
       "<Figure size 640x480 with 1 Axes>"
      ]
     },
     "metadata": {},
     "output_type": "display_data"
    },
    {
     "name": "stdout",
     "output_type": "stream",
     "text": [
      "image name CARDS_COURTYARD_H_S_hand3_frame_0763.jpg\n",
      "\n",
      "0: 448x640 1 hand, 11.5ms\n",
      "Speed: 1.2ms preprocess, 11.5ms inference, 1.2ms postprocess per image at shape (1, 3, 448, 640)\n"
     ]
    },
    {
     "data": {
      "text/plain": [
       "<Figure size 640x480 with 1 Axes>"
      ]
     },
     "metadata": {},
     "output_type": "display_data"
    },
    {
     "name": "stdout",
     "output_type": "stream",
     "text": [
      "image name CARDS_COURTYARD_S_H_hand2_frame_1300.jpg\n",
      "\n",
      "0: 352x640 1 hand, 10.8ms\n",
      "Speed: 1.2ms preprocess, 10.8ms inference, 1.1ms postprocess per image at shape (1, 3, 352, 640)\n"
     ]
    },
    {
     "data": {
      "text/plain": [
       "<Figure size 640x480 with 1 Axes>"
      ]
     },
     "metadata": {},
     "output_type": "display_data"
    },
    {
     "name": "stdout",
     "output_type": "stream",
     "text": [
      "image name CARDS_COURTYARD_S_H_hand0_frame_0935.jpg\n",
      "\n",
      "0: 352x640 1 hand, 13.8ms\n",
      "Speed: 1.1ms preprocess, 13.8ms inference, 1.9ms postprocess per image at shape (1, 3, 352, 640)\n"
     ]
    },
    {
     "data": {
      "text/plain": [
       "<Figure size 640x480 with 1 Axes>"
      ]
     },
     "metadata": {},
     "output_type": "display_data"
    },
    {
     "name": "stdout",
     "output_type": "stream",
     "text": [
      "image name CARDS_COURTYARD_H_S_hand0_frame_0245.jpg\n",
      "\n",
      "0: 544x640 1 hand, 13.8ms\n",
      "Speed: 1.4ms preprocess, 13.8ms inference, 1.2ms postprocess per image at shape (1, 3, 544, 640)\n"
     ]
    },
    {
     "data": {
      "text/plain": [
       "<Figure size 640x480 with 1 Axes>"
      ]
     },
     "metadata": {},
     "output_type": "display_data"
    },
    {
     "name": "stdout",
     "output_type": "stream",
     "text": [
      "image name CARDS_COURTYARD_H_S_hand2_frame_0145.jpg\n",
      "\n",
      "0: 416x640 2 hands, 11.2ms\n",
      "Speed: 1.3ms preprocess, 11.2ms inference, 1.3ms postprocess per image at shape (1, 3, 416, 640)\n"
     ]
    },
    {
     "data": {
      "text/plain": [
       "<Figure size 640x480 with 1 Axes>"
      ]
     },
     "metadata": {},
     "output_type": "display_data"
    },
    {
     "name": "stdout",
     "output_type": "stream",
     "text": [
      "image name CARDS_COURTYARD_T_B_hand2_frame_1829.jpg\n",
      "\n",
      "0: 352x640 1 hand, 12.0ms\n",
      "Speed: 1.4ms preprocess, 12.0ms inference, 1.5ms postprocess per image at shape (1, 3, 352, 640)\n"
     ]
    },
    {
     "data": {
      "text/plain": [
       "<Figure size 640x480 with 1 Axes>"
      ]
     },
     "metadata": {},
     "output_type": "display_data"
    },
    {
     "name": "stdout",
     "output_type": "stream",
     "text": [
      "image name CARDS_COURTYARD_S_H_hand3_frame_1300.jpg\n",
      "\n",
      "0: 640x576 1 hand, 18.7ms\n",
      "Speed: 1.8ms preprocess, 18.7ms inference, 1.2ms postprocess per image at shape (1, 3, 640, 576)\n"
     ]
    },
    {
     "data": {
      "text/plain": [
       "<Figure size 640x480 with 1 Axes>"
      ]
     },
     "metadata": {},
     "output_type": "display_data"
    },
    {
     "name": "stdout",
     "output_type": "stream",
     "text": [
      "image name CARDS_COURTYARD_T_B_hand2_frame_0859.jpg\n",
      "\n",
      "0: 288x640 1 hand, 11.5ms\n",
      "Speed: 1.0ms preprocess, 11.5ms inference, 1.2ms postprocess per image at shape (1, 3, 288, 640)\n"
     ]
    },
    {
     "data": {
      "text/plain": [
       "<Figure size 640x480 with 1 Axes>"
      ]
     },
     "metadata": {},
     "output_type": "display_data"
    },
    {
     "name": "stdout",
     "output_type": "stream",
     "text": [
      "image name CARDS_COURTYARD_H_S_hand2_frame_1026.jpg\n",
      "\n",
      "0: 448x640 1 hand, 12.8ms\n",
      "Speed: 1.6ms preprocess, 12.8ms inference, 1.5ms postprocess per image at shape (1, 3, 448, 640)\n"
     ]
    },
    {
     "data": {
      "text/plain": [
       "<Figure size 640x480 with 1 Axes>"
      ]
     },
     "metadata": {},
     "output_type": "display_data"
    },
    {
     "name": "stdout",
     "output_type": "stream",
     "text": [
      "image name CARDS_COURTYARD_H_S_hand3_frame_2662.jpg\n",
      "\n",
      "0: 448x640 1 hand, 10.9ms\n",
      "Speed: 1.4ms preprocess, 10.9ms inference, 1.5ms postprocess per image at shape (1, 3, 448, 640)\n"
     ]
    },
    {
     "data": {
      "text/plain": [
       "<Figure size 640x480 with 1 Axes>"
      ]
     },
     "metadata": {},
     "output_type": "display_data"
    },
    {
     "name": "stdout",
     "output_type": "stream",
     "text": [
      "image name CARDS_COURTYARD_T_B_hand1_frame_2327.jpg\n",
      "\n",
      "0: 288x640 1 hand, 15.2ms\n",
      "Speed: 1.5ms preprocess, 15.2ms inference, 1.2ms postprocess per image at shape (1, 3, 288, 640)\n"
     ]
    },
    {
     "data": {
      "text/plain": [
       "<Figure size 640x480 with 1 Axes>"
      ]
     },
     "metadata": {},
     "output_type": "display_data"
    },
    {
     "name": "stdout",
     "output_type": "stream",
     "text": [
      "image name CARDS_COURTYARD_H_S_hand0_frame_2693.jpg\n",
      "\n",
      "0: 352x640 1 hand, 11.6ms\n",
      "Speed: 1.1ms preprocess, 11.6ms inference, 1.2ms postprocess per image at shape (1, 3, 352, 640)\n"
     ]
    },
    {
     "data": {
      "text/plain": [
       "<Figure size 640x480 with 1 Axes>"
      ]
     },
     "metadata": {},
     "output_type": "display_data"
    },
    {
     "name": "stdout",
     "output_type": "stream",
     "text": [
      "image name CARDS_COURTYARD_H_S_hand0_frame_2650.jpg\n",
      "\n",
      "0: 448x640 1 hand, 11.7ms\n",
      "Speed: 1.4ms preprocess, 11.7ms inference, 1.3ms postprocess per image at shape (1, 3, 448, 640)\n"
     ]
    },
    {
     "data": {
      "text/plain": [
       "<Figure size 640x480 with 1 Axes>"
      ]
     },
     "metadata": {},
     "output_type": "display_data"
    },
    {
     "name": "stdout",
     "output_type": "stream",
     "text": [
      "image name CARDS_COURTYARD_T_B_hand0_frame_0880.jpg\n",
      "\n",
      "0: 352x640 1 hand, 11.6ms\n",
      "Speed: 1.1ms preprocess, 11.6ms inference, 1.2ms postprocess per image at shape (1, 3, 352, 640)\n"
     ]
    },
    {
     "data": {
      "text/plain": [
       "<Figure size 640x480 with 1 Axes>"
      ]
     },
     "metadata": {},
     "output_type": "display_data"
    },
    {
     "name": "stdout",
     "output_type": "stream",
     "text": [
      "image name CARDS_COURTYARD_S_H_hand2_frame_1993.jpg\n",
      "\n",
      "0: 384x640 1 hand, 12.7ms\n",
      "Speed: 1.7ms preprocess, 12.7ms inference, 1.2ms postprocess per image at shape (1, 3, 384, 640)\n"
     ]
    },
    {
     "data": {
      "text/plain": [
       "<Figure size 640x480 with 1 Axes>"
      ]
     },
     "metadata": {},
     "output_type": "display_data"
    },
    {
     "name": "stdout",
     "output_type": "stream",
     "text": [
      "image name CARDS_COURTYARD_T_B_hand0_frame_1365.jpg\n",
      "\n",
      "0: 320x640 1 hand, 23.5ms\n",
      "Speed: 2.7ms preprocess, 23.5ms inference, 1.5ms postprocess per image at shape (1, 3, 320, 640)\n"
     ]
    },
    {
     "data": {
      "text/plain": [
       "<Figure size 640x480 with 1 Axes>"
      ]
     },
     "metadata": {},
     "output_type": "display_data"
    },
    {
     "name": "stdout",
     "output_type": "stream",
     "text": [
      "image name CARDS_COURTYARD_T_B_hand3_frame_1456.jpg\n",
      "\n",
      "0: 608x640 1 hand, 16.2ms\n",
      "Speed: 4.1ms preprocess, 16.2ms inference, 1.2ms postprocess per image at shape (1, 3, 608, 640)\n"
     ]
    },
    {
     "data": {
      "text/plain": [
       "<Figure size 640x480 with 1 Axes>"
      ]
     },
     "metadata": {},
     "output_type": "display_data"
    },
    {
     "name": "stdout",
     "output_type": "stream",
     "text": [
      "image name CARDS_COURTYARD_H_S_hand2_frame_2365.jpg\n",
      "\n",
      "0: 640x640 1 hand, 23.4ms\n",
      "Speed: 4.7ms preprocess, 23.4ms inference, 1.9ms postprocess per image at shape (1, 3, 640, 640)\n"
     ]
    },
    {
     "data": {
      "text/plain": [
       "<Figure size 640x480 with 1 Axes>"
      ]
     },
     "metadata": {},
     "output_type": "display_data"
    },
    {
     "name": "stdout",
     "output_type": "stream",
     "text": [
      "image name CARDS_COURTYARD_H_S_hand0_frame_2638.jpg\n",
      "\n",
      "0: 480x640 1 hand, 13.9ms\n",
      "Speed: 2.4ms preprocess, 13.9ms inference, 1.5ms postprocess per image at shape (1, 3, 480, 640)\n"
     ]
    },
    {
     "data": {
      "text/plain": [
       "<Figure size 640x480 with 1 Axes>"
      ]
     },
     "metadata": {},
     "output_type": "display_data"
    },
    {
     "name": "stdout",
     "output_type": "stream",
     "text": [
      "image name CARDS_COURTYARD_S_H_hand0_frame_2165.jpg\n",
      "\n",
      "0: 384x640 1 hand, 12.1ms\n",
      "Speed: 1.4ms preprocess, 12.1ms inference, 1.2ms postprocess per image at shape (1, 3, 384, 640)\n"
     ]
    },
    {
     "data": {
      "text/plain": [
       "<Figure size 640x480 with 1 Axes>"
      ]
     },
     "metadata": {},
     "output_type": "display_data"
    },
    {
     "name": "stdout",
     "output_type": "stream",
     "text": [
      "image name CARDS_COURTYARD_H_S_hand2_frame_0390.jpg\n",
      "\n",
      "0: 352x640 1 hand, 12.8ms\n",
      "Speed: 1.5ms preprocess, 12.8ms inference, 1.5ms postprocess per image at shape (1, 3, 352, 640)\n"
     ]
    },
    {
     "data": {
      "text/plain": [
       "<Figure size 640x480 with 1 Axes>"
      ]
     },
     "metadata": {},
     "output_type": "display_data"
    },
    {
     "name": "stdout",
     "output_type": "stream",
     "text": [
      "image name CARDS_COURTYARD_H_S_hand0_frame_1530.jpg\n",
      "\n",
      "0: 352x640 1 hand, 20.2ms\n",
      "Speed: 2.8ms preprocess, 20.2ms inference, 1.5ms postprocess per image at shape (1, 3, 352, 640)\n"
     ]
    },
    {
     "data": {
      "text/plain": [
       "<Figure size 640x480 with 1 Axes>"
      ]
     },
     "metadata": {},
     "output_type": "display_data"
    },
    {
     "name": "stdout",
     "output_type": "stream",
     "text": [
      "image name CARDS_COURTYARD_T_B_hand1_frame_1254.jpg\n",
      "\n",
      "0: 352x640 1 hand, 11.3ms\n",
      "Speed: 2.1ms preprocess, 11.3ms inference, 1.3ms postprocess per image at shape (1, 3, 352, 640)\n"
     ]
    },
    {
     "data": {
      "text/plain": [
       "<Figure size 640x480 with 1 Axes>"
      ]
     },
     "metadata": {},
     "output_type": "display_data"
    },
    {
     "name": "stdout",
     "output_type": "stream",
     "text": [
      "image name CARDS_COURTYARD_H_S_hand1_frame_1647.jpg\n",
      "\n",
      "0: 608x640 1 hand, 21.3ms\n",
      "Speed: 4.3ms preprocess, 21.3ms inference, 1.5ms postprocess per image at shape (1, 3, 608, 640)\n"
     ]
    },
    {
     "data": {
      "text/plain": [
       "<Figure size 640x480 with 1 Axes>"
      ]
     },
     "metadata": {},
     "output_type": "display_data"
    },
    {
     "name": "stdout",
     "output_type": "stream",
     "text": [
      "image name CARDS_COURTYARD_S_H_hand3_frame_0890.jpg\n",
      "\n",
      "0: 448x640 2 hands, 11.7ms\n",
      "Speed: 1.3ms preprocess, 11.7ms inference, 1.5ms postprocess per image at shape (1, 3, 448, 640)\n"
     ]
    },
    {
     "data": {
      "text/plain": [
       "<Figure size 640x480 with 1 Axes>"
      ]
     },
     "metadata": {},
     "output_type": "display_data"
    },
    {
     "name": "stdout",
     "output_type": "stream",
     "text": [
      "image name CARDS_COURTYARD_H_S_hand1_frame_0726.jpg\n",
      "\n",
      "0: 288x640 1 hand, 11.0ms\n",
      "Speed: 1.4ms preprocess, 11.0ms inference, 1.2ms postprocess per image at shape (1, 3, 288, 640)\n"
     ]
    },
    {
     "data": {
      "text/plain": [
       "<Figure size 640x480 with 1 Axes>"
      ]
     },
     "metadata": {},
     "output_type": "display_data"
    },
    {
     "name": "stdout",
     "output_type": "stream",
     "text": [
      "image name CARDS_COURTYARD_S_H_hand3_frame_2186.jpg\n",
      "\n",
      "0: 416x640 1 hand, 12.3ms\n",
      "Speed: 1.3ms preprocess, 12.3ms inference, 1.2ms postprocess per image at shape (1, 3, 416, 640)\n"
     ]
    },
    {
     "data": {
      "text/plain": [
       "<Figure size 640x480 with 1 Axes>"
      ]
     },
     "metadata": {},
     "output_type": "display_data"
    },
    {
     "name": "stdout",
     "output_type": "stream",
     "text": [
      "image name CARDS_COURTYARD_H_S_hand3_frame_1396.jpg\n",
      "\n",
      "0: 448x640 1 hand, 11.4ms\n",
      "Speed: 1.2ms preprocess, 11.4ms inference, 1.2ms postprocess per image at shape (1, 3, 448, 640)\n"
     ]
    },
    {
     "data": {
      "text/plain": [
       "<Figure size 640x480 with 1 Axes>"
      ]
     },
     "metadata": {},
     "output_type": "display_data"
    },
    {
     "name": "stdout",
     "output_type": "stream",
     "text": [
      "image name CARDS_COURTYARD_T_B_hand0_frame_2073.jpg\n",
      "\n",
      "0: 480x640 1 hand, 12.7ms\n",
      "Speed: 1.6ms preprocess, 12.7ms inference, 1.2ms postprocess per image at shape (1, 3, 480, 640)\n"
     ]
    },
    {
     "data": {
      "text/plain": [
       "<Figure size 640x480 with 1 Axes>"
      ]
     },
     "metadata": {},
     "output_type": "display_data"
    },
    {
     "name": "stdout",
     "output_type": "stream",
     "text": [
      "image name CARDS_COURTYARD_H_S_hand3_frame_1245.jpg\n",
      "\n",
      "0: 416x640 1 hand, 11.6ms\n",
      "Speed: 1.3ms preprocess, 11.6ms inference, 1.2ms postprocess per image at shape (1, 3, 416, 640)\n"
     ]
    },
    {
     "data": {
      "text/plain": [
       "<Figure size 640x480 with 1 Axes>"
      ]
     },
     "metadata": {},
     "output_type": "display_data"
    },
    {
     "name": "stdout",
     "output_type": "stream",
     "text": [
      "image name CARDS_COURTYARD_H_S_hand2_frame_1002.jpg\n",
      "\n",
      "0: 384x640 1 hand, 22.8ms\n",
      "Speed: 2.1ms preprocess, 22.8ms inference, 2.4ms postprocess per image at shape (1, 3, 384, 640)\n"
     ]
    },
    {
     "data": {
      "text/plain": [
       "<Figure size 640x480 with 1 Axes>"
      ]
     },
     "metadata": {},
     "output_type": "display_data"
    },
    {
     "name": "stdout",
     "output_type": "stream",
     "text": [
      "image name CARDS_COURTYARD_T_B_hand0_frame_2378.jpg\n",
      "\n",
      "0: 256x640 1 hand, 23.6ms\n",
      "Speed: 2.2ms preprocess, 23.6ms inference, 1.7ms postprocess per image at shape (1, 3, 256, 640)\n"
     ]
    },
    {
     "data": {
      "text/plain": [
       "<Figure size 640x480 with 1 Axes>"
      ]
     },
     "metadata": {},
     "output_type": "display_data"
    },
    {
     "name": "stdout",
     "output_type": "stream",
     "text": [
      "image name CARDS_COURTYARD_T_B_hand0_frame_0859.jpg\n",
      "\n",
      "0: 320x640 1 hand, 19.9ms\n",
      "Speed: 3.2ms preprocess, 19.9ms inference, 1.7ms postprocess per image at shape (1, 3, 320, 640)\n"
     ]
    },
    {
     "data": {
      "text/plain": [
       "<Figure size 640x480 with 1 Axes>"
      ]
     },
     "metadata": {},
     "output_type": "display_data"
    },
    {
     "name": "stdout",
     "output_type": "stream",
     "text": [
      "image name CARDS_COURTYARD_S_H_hand3_frame_0414.jpg\n",
      "\n",
      "0: 448x640 1 hand, 11.4ms\n",
      "Speed: 1.3ms preprocess, 11.4ms inference, 1.2ms postprocess per image at shape (1, 3, 448, 640)\n"
     ]
    },
    {
     "data": {
      "text/plain": [
       "<Figure size 640x480 with 1 Axes>"
      ]
     },
     "metadata": {},
     "output_type": "display_data"
    },
    {
     "name": "stdout",
     "output_type": "stream",
     "text": [
      "image name CARDS_COURTYARD_T_B_hand2_frame_1806.jpg\n",
      "\n",
      "0: 320x640 1 hand, 14.7ms\n",
      "Speed: 1.7ms preprocess, 14.7ms inference, 1.3ms postprocess per image at shape (1, 3, 320, 640)\n"
     ]
    },
    {
     "data": {
      "text/plain": [
       "<Figure size 640x480 with 1 Axes>"
      ]
     },
     "metadata": {},
     "output_type": "display_data"
    },
    {
     "name": "stdout",
     "output_type": "stream",
     "text": [
      "image name CARDS_COURTYARD_H_S_hand3_frame_1983.jpg\n",
      "\n",
      "0: 512x640 1 hand, 12.5ms\n",
      "Speed: 1.4ms preprocess, 12.5ms inference, 1.2ms postprocess per image at shape (1, 3, 512, 640)\n"
     ]
    },
    {
     "data": {
      "text/plain": [
       "<Figure size 640x480 with 1 Axes>"
      ]
     },
     "metadata": {},
     "output_type": "display_data"
    },
    {
     "name": "stdout",
     "output_type": "stream",
     "text": [
      "image name CARDS_COURTYARD_H_S_hand0_frame_1396.jpg\n",
      "\n",
      "0: 352x640 1 hand, 11.0ms\n",
      "Speed: 1.2ms preprocess, 11.0ms inference, 1.6ms postprocess per image at shape (1, 3, 352, 640)\n"
     ]
    },
    {
     "data": {
      "text/plain": [
       "<Figure size 640x480 with 1 Axes>"
      ]
     },
     "metadata": {},
     "output_type": "display_data"
    },
    {
     "name": "stdout",
     "output_type": "stream",
     "text": [
      "image name CARDS_COURTYARD_H_S_hand3_frame_2638.jpg\n",
      "\n",
      "0: 448x640 1 hand, 12.1ms\n",
      "Speed: 1.3ms preprocess, 12.1ms inference, 1.2ms postprocess per image at shape (1, 3, 448, 640)\n"
     ]
    },
    {
     "data": {
      "text/plain": [
       "<Figure size 640x480 with 1 Axes>"
      ]
     },
     "metadata": {},
     "output_type": "display_data"
    },
    {
     "name": "stdout",
     "output_type": "stream",
     "text": [
      "image name CARDS_COURTYARD_H_S_hand2_frame_1036.jpg\n",
      "\n",
      "0: 640x640 1 hand, 15.9ms\n",
      "Speed: 1.9ms preprocess, 15.9ms inference, 1.2ms postprocess per image at shape (1, 3, 640, 640)\n"
     ]
    },
    {
     "data": {
      "text/plain": [
       "<Figure size 640x480 with 1 Axes>"
      ]
     },
     "metadata": {},
     "output_type": "display_data"
    },
    {
     "name": "stdout",
     "output_type": "stream",
     "text": [
      "image name CARDS_COURTYARD_H_S_hand1_frame_1396.jpg\n",
      "\n",
      "0: 416x640 1 hand, 11.1ms\n",
      "Speed: 1.3ms preprocess, 11.1ms inference, 1.3ms postprocess per image at shape (1, 3, 416, 640)\n"
     ]
    },
    {
     "data": {
      "text/plain": [
       "<Figure size 640x480 with 1 Axes>"
      ]
     },
     "metadata": {},
     "output_type": "display_data"
    },
    {
     "name": "stdout",
     "output_type": "stream",
     "text": [
      "image name CARDS_COURTYARD_T_B_hand1_frame_2324.jpg\n",
      "\n",
      "0: 288x640 1 hand, 14.1ms\n",
      "Speed: 1.0ms preprocess, 14.1ms inference, 1.8ms postprocess per image at shape (1, 3, 288, 640)\n"
     ]
    },
    {
     "data": {
      "text/plain": [
       "<Figure size 640x480 with 1 Axes>"
      ]
     },
     "metadata": {},
     "output_type": "display_data"
    },
    {
     "name": "stdout",
     "output_type": "stream",
     "text": [
      "image name CARDS_COURTYARD_T_B_hand3_frame_1365.jpg\n",
      "\n",
      "0: 544x640 1 hand, 13.9ms\n",
      "Speed: 1.8ms preprocess, 13.9ms inference, 1.2ms postprocess per image at shape (1, 3, 544, 640)\n"
     ]
    },
    {
     "data": {
      "text/plain": [
       "<Figure size 640x480 with 1 Axes>"
      ]
     },
     "metadata": {},
     "output_type": "display_data"
    },
    {
     "name": "stdout",
     "output_type": "stream",
     "text": [
      "image name CARDS_COURTYARD_T_B_hand0_frame_1048.jpg\n",
      "\n",
      "0: 640x640 1 hand, 19.0ms\n",
      "Speed: 4.2ms preprocess, 19.0ms inference, 1.5ms postprocess per image at shape (1, 3, 640, 640)\n"
     ]
    },
    {
     "data": {
      "text/plain": [
       "<Figure size 640x480 with 1 Axes>"
      ]
     },
     "metadata": {},
     "output_type": "display_data"
    },
    {
     "name": "stdout",
     "output_type": "stream",
     "text": [
      "image name CARDS_COURTYARD_S_H_hand2_frame_0873.jpg\n",
      "\n",
      "0: 128x640 1 hand, 17.0ms\n",
      "Speed: 1.1ms preprocess, 17.0ms inference, 1.2ms postprocess per image at shape (1, 3, 128, 640)\n"
     ]
    },
    {
     "data": {
      "text/plain": [
       "<Figure size 640x480 with 1 Axes>"
      ]
     },
     "metadata": {},
     "output_type": "display_data"
    },
    {
     "name": "stdout",
     "output_type": "stream",
     "text": [
      "image name CARDS_COURTYARD_H_S_hand3_frame_1675.jpg\n",
      "\n",
      "0: 544x640 1 hand, 15.6ms\n",
      "Speed: 2.1ms preprocess, 15.6ms inference, 1.2ms postprocess per image at shape (1, 3, 544, 640)\n"
     ]
    },
    {
     "data": {
      "text/plain": [
       "<Figure size 640x480 with 1 Axes>"
      ]
     },
     "metadata": {},
     "output_type": "display_data"
    },
    {
     "name": "stdout",
     "output_type": "stream",
     "text": [
      "image name CARDS_COURTYARD_H_S_hand3_frame_1832.jpg\n",
      "\n",
      "0: 448x640 2 hands, 11.6ms\n",
      "Speed: 1.3ms preprocess, 11.6ms inference, 1.3ms postprocess per image at shape (1, 3, 448, 640)\n"
     ]
    },
    {
     "data": {
      "text/plain": [
       "<Figure size 640x480 with 1 Axes>"
      ]
     },
     "metadata": {},
     "output_type": "display_data"
    },
    {
     "name": "stdout",
     "output_type": "stream",
     "text": [
      "image name CARDS_COURTYARD_T_B_hand3_frame_2586.jpg\n",
      "\n",
      "0: 512x640 1 hand, 12.6ms\n",
      "Speed: 1.4ms preprocess, 12.6ms inference, 1.3ms postprocess per image at shape (1, 3, 512, 640)\n"
     ]
    },
    {
     "data": {
      "text/plain": [
       "<Figure size 640x480 with 1 Axes>"
      ]
     },
     "metadata": {},
     "output_type": "display_data"
    },
    {
     "name": "stdout",
     "output_type": "stream",
     "text": [
      "image name CARDS_COURTYARD_T_B_hand3_frame_2244.jpg\n",
      "\n",
      "0: 512x640 1 hand, 12.0ms\n",
      "Speed: 1.4ms preprocess, 12.0ms inference, 1.2ms postprocess per image at shape (1, 3, 512, 640)\n"
     ]
    },
    {
     "data": {
      "text/plain": [
       "<Figure size 640x480 with 1 Axes>"
      ]
     },
     "metadata": {},
     "output_type": "display_data"
    },
    {
     "name": "stdout",
     "output_type": "stream",
     "text": [
      "image name CARDS_COURTYARD_S_H_hand2_frame_0016.jpg\n",
      "\n",
      "0: 288x640 1 hand, 10.9ms\n",
      "Speed: 1.2ms preprocess, 10.9ms inference, 1.1ms postprocess per image at shape (1, 3, 288, 640)\n"
     ]
    },
    {
     "data": {
      "text/plain": [
       "<Figure size 640x480 with 1 Axes>"
      ]
     },
     "metadata": {},
     "output_type": "display_data"
    },
    {
     "name": "stdout",
     "output_type": "stream",
     "text": [
      "image name CARDS_COURTYARD_H_S_hand3_frame_0174.jpg\n",
      "\n",
      "0: 448x640 2 hands, 11.6ms\n",
      "Speed: 1.3ms preprocess, 11.6ms inference, 1.2ms postprocess per image at shape (1, 3, 448, 640)\n"
     ]
    },
    {
     "data": {
      "text/plain": [
       "<Figure size 640x480 with 1 Axes>"
      ]
     },
     "metadata": {},
     "output_type": "display_data"
    },
    {
     "name": "stdout",
     "output_type": "stream",
     "text": [
      "image name CARDS_COURTYARD_S_H_hand0_frame_2680.jpg\n",
      "\n",
      "0: 480x640 (no detections), 12.9ms\n",
      "Speed: 1.4ms preprocess, 12.9ms inference, 0.3ms postprocess per image at shape (1, 3, 480, 640)\n",
      "no results for image CARDS_COURTYARD_S_H_hand0_frame_2680.jpg!\n",
      "image name CARDS_COURTYARD_T_B_hand0_frame_2438.jpg\n",
      "\n",
      "0: 416x640 1 hand, 11.7ms\n",
      "Speed: 1.2ms preprocess, 11.7ms inference, 1.2ms postprocess per image at shape (1, 3, 416, 640)\n"
     ]
    },
    {
     "data": {
      "text/plain": [
       "<Figure size 640x480 with 1 Axes>"
      ]
     },
     "metadata": {},
     "output_type": "display_data"
    },
    {
     "name": "stdout",
     "output_type": "stream",
     "text": [
      "image name CARDS_COURTYARD_S_H_hand0_frame_0912.jpg\n",
      "\n",
      "0: 640x640 1 hand, 15.9ms\n",
      "Speed: 1.9ms preprocess, 15.9ms inference, 1.5ms postprocess per image at shape (1, 3, 640, 640)\n"
     ]
    },
    {
     "data": {
      "text/plain": [
       "<Figure size 640x480 with 1 Axes>"
      ]
     },
     "metadata": {},
     "output_type": "display_data"
    },
    {
     "name": "stdout",
     "output_type": "stream",
     "text": [
      "image name CARDS_COURTYARD_H_S_hand1_frame_1523.jpg\n",
      "\n",
      "0: 384x640 1 hand, 13.9ms\n",
      "Speed: 1.5ms preprocess, 13.9ms inference, 1.2ms postprocess per image at shape (1, 3, 384, 640)\n"
     ]
    },
    {
     "data": {
      "text/plain": [
       "<Figure size 640x480 with 1 Axes>"
      ]
     },
     "metadata": {},
     "output_type": "display_data"
    },
    {
     "name": "stdout",
     "output_type": "stream",
     "text": [
      "image name CARDS_COURTYARD_H_S_hand3_frame_1403.jpg\n",
      "\n",
      "0: 448x640 1 hand, 11.9ms\n",
      "Speed: 1.3ms preprocess, 11.9ms inference, 1.2ms postprocess per image at shape (1, 3, 448, 640)\n"
     ]
    },
    {
     "data": {
      "text/plain": [
       "<Figure size 640x480 with 1 Axes>"
      ]
     },
     "metadata": {},
     "output_type": "display_data"
    },
    {
     "name": "stdout",
     "output_type": "stream",
     "text": [
      "image name CARDS_COURTYARD_S_H_hand2_frame_2165.jpg\n",
      "\n",
      "0: 384x640 1 hand, 11.5ms\n",
      "Speed: 1.3ms preprocess, 11.5ms inference, 1.4ms postprocess per image at shape (1, 3, 384, 640)\n"
     ]
    },
    {
     "data": {
      "text/plain": [
       "<Figure size 640x480 with 1 Axes>"
      ]
     },
     "metadata": {},
     "output_type": "display_data"
    },
    {
     "name": "stdout",
     "output_type": "stream",
     "text": [
      "image name CARDS_COURTYARD_S_H_hand0_frame_2658.jpg\n",
      "\n",
      "0: 448x640 1 hand, 11.8ms\n",
      "Speed: 1.3ms preprocess, 11.8ms inference, 1.2ms postprocess per image at shape (1, 3, 448, 640)\n"
     ]
    },
    {
     "data": {
      "text/plain": [
       "<Figure size 640x480 with 1 Axes>"
      ]
     },
     "metadata": {},
     "output_type": "display_data"
    },
    {
     "name": "stdout",
     "output_type": "stream",
     "text": [
      "image name CARDS_COURTYARD_T_B_hand2_frame_1365.jpg\n",
      "\n",
      "0: 544x640 1 hand, 13.8ms\n",
      "Speed: 1.6ms preprocess, 13.8ms inference, 1.2ms postprocess per image at shape (1, 3, 544, 640)\n"
     ]
    },
    {
     "data": {
      "text/plain": [
       "<Figure size 640x480 with 1 Axes>"
      ]
     },
     "metadata": {},
     "output_type": "display_data"
    },
    {
     "name": "stdout",
     "output_type": "stream",
     "text": [
      "image name CARDS_COURTYARD_T_B_hand2_frame_0760.jpg\n",
      "\n",
      "0: 256x640 1 hand, 10.7ms\n",
      "Speed: 1.0ms preprocess, 10.7ms inference, 1.2ms postprocess per image at shape (1, 3, 256, 640)\n"
     ]
    },
    {
     "data": {
      "text/plain": [
       "<Figure size 640x480 with 1 Axes>"
      ]
     },
     "metadata": {},
     "output_type": "display_data"
    },
    {
     "name": "stdout",
     "output_type": "stream",
     "text": [
      "image name CARDS_COURTYARD_S_H_hand2_frame_0672.jpg\n",
      "\n",
      "0: 352x640 1 hand, 11.7ms\n",
      "Speed: 1.1ms preprocess, 11.7ms inference, 1.3ms postprocess per image at shape (1, 3, 352, 640)\n"
     ]
    },
    {
     "data": {
      "text/plain": [
       "<Figure size 640x480 with 1 Axes>"
      ]
     },
     "metadata": {},
     "output_type": "display_data"
    },
    {
     "name": "stdout",
     "output_type": "stream",
     "text": [
      "image name CARDS_COURTYARD_H_S_hand2_frame_1720.jpg\n",
      "\n",
      "0: 416x640 1 hand, 11.0ms\n",
      "Speed: 1.2ms preprocess, 11.0ms inference, 1.2ms postprocess per image at shape (1, 3, 416, 640)\n"
     ]
    },
    {
     "data": {
      "text/plain": [
       "<Figure size 640x480 with 1 Axes>"
      ]
     },
     "metadata": {},
     "output_type": "display_data"
    },
    {
     "name": "stdout",
     "output_type": "stream",
     "text": [
      "image name CARDS_COURTYARD_T_B_hand1_frame_0975.jpg\n",
      "\n",
      "0: 416x640 1 hand, 10.5ms\n",
      "Speed: 1.6ms preprocess, 10.5ms inference, 1.2ms postprocess per image at shape (1, 3, 416, 640)\n"
     ]
    },
    {
     "data": {
      "text/plain": [
       "<Figure size 640x480 with 1 Axes>"
      ]
     },
     "metadata": {},
     "output_type": "display_data"
    },
    {
     "name": "stdout",
     "output_type": "stream",
     "text": [
      "image name CARDS_COURTYARD_T_B_hand2_frame_0975.jpg\n",
      "\n",
      "0: 288x640 1 hand, 11.9ms\n",
      "Speed: 1.0ms preprocess, 11.9ms inference, 1.2ms postprocess per image at shape (1, 3, 288, 640)\n"
     ]
    },
    {
     "data": {
      "text/plain": [
       "<Figure size 640x480 with 1 Axes>"
      ]
     },
     "metadata": {},
     "output_type": "display_data"
    },
    {
     "name": "stdout",
     "output_type": "stream",
     "text": [
      "image name CARDS_COURTYARD_H_S_hand2_frame_0325.jpg\n",
      "\n",
      "0: 448x640 1 hand, 17.6ms\n",
      "Speed: 1.8ms preprocess, 17.6ms inference, 2.7ms postprocess per image at shape (1, 3, 448, 640)\n"
     ]
    },
    {
     "data": {
      "text/plain": [
       "<Figure size 640x480 with 1 Axes>"
      ]
     },
     "metadata": {},
     "output_type": "display_data"
    },
    {
     "name": "stdout",
     "output_type": "stream",
     "text": [
      "image name CARDS_COURTYARD_T_B_hand0_frame_1892.jpg\n",
      "\n",
      "0: 640x640 1 hand, 15.7ms\n",
      "Speed: 1.7ms preprocess, 15.7ms inference, 1.2ms postprocess per image at shape (1, 3, 640, 640)\n"
     ]
    },
    {
     "data": {
      "text/plain": [
       "<Figure size 640x480 with 1 Axes>"
      ]
     },
     "metadata": {},
     "output_type": "display_data"
    },
    {
     "name": "stdout",
     "output_type": "stream",
     "text": [
      "image name CARDS_COURTYARD_T_B_hand3_frame_0562.jpg\n",
      "\n",
      "0: 416x640 1 hand, 11.3ms\n",
      "Speed: 1.3ms preprocess, 11.3ms inference, 1.2ms postprocess per image at shape (1, 3, 416, 640)\n"
     ]
    },
    {
     "data": {
      "text/plain": [
       "<Figure size 640x480 with 1 Axes>"
      ]
     },
     "metadata": {},
     "output_type": "display_data"
    },
    {
     "name": "stdout",
     "output_type": "stream",
     "text": [
      "image name CARDS_COURTYARD_H_S_hand0_frame_1000.jpg\n",
      "\n",
      "0: 480x640 1 hand, 12.6ms\n",
      "Speed: 1.5ms preprocess, 12.6ms inference, 1.4ms postprocess per image at shape (1, 3, 480, 640)\n"
     ]
    },
    {
     "data": {
      "text/plain": [
       "<Figure size 640x480 with 1 Axes>"
      ]
     },
     "metadata": {},
     "output_type": "display_data"
    },
    {
     "name": "stdout",
     "output_type": "stream",
     "text": [
      "image name CARDS_COURTYARD_S_H_hand3_frame_2499.jpg\n",
      "\n",
      "0: 448x640 1 hand, 12.2ms\n",
      "Speed: 1.4ms preprocess, 12.2ms inference, 1.2ms postprocess per image at shape (1, 3, 448, 640)\n"
     ]
    },
    {
     "data": {
      "text/plain": [
       "<Figure size 640x480 with 1 Axes>"
      ]
     },
     "metadata": {},
     "output_type": "display_data"
    },
    {
     "name": "stdout",
     "output_type": "stream",
     "text": [
      "image name CARDS_COURTYARD_H_S_hand3_frame_2412.jpg\n",
      "\n",
      "0: 480x640 2 hands, 12.5ms\n",
      "Speed: 1.5ms preprocess, 12.5ms inference, 1.3ms postprocess per image at shape (1, 3, 480, 640)\n"
     ]
    },
    {
     "data": {
      "text/plain": [
       "<Figure size 640x480 with 1 Axes>"
      ]
     },
     "metadata": {},
     "output_type": "display_data"
    },
    {
     "name": "stdout",
     "output_type": "stream",
     "text": [
      "image name CARDS_COURTYARD_T_B_hand2_frame_0164.jpg\n",
      "\n",
      "0: 288x640 1 hand, 11.0ms\n",
      "Speed: 1.1ms preprocess, 11.0ms inference, 1.2ms postprocess per image at shape (1, 3, 288, 640)\n"
     ]
    },
    {
     "data": {
      "text/plain": [
       "<Figure size 640x480 with 1 Axes>"
      ]
     },
     "metadata": {},
     "output_type": "display_data"
    },
    {
     "name": "stdout",
     "output_type": "stream",
     "text": [
      "image name CARDS_COURTYARD_S_H_hand3_frame_1379.jpg\n",
      "\n",
      "0: 480x640 2 hands, 12.5ms\n",
      "Speed: 1.4ms preprocess, 12.5ms inference, 1.2ms postprocess per image at shape (1, 3, 480, 640)\n"
     ]
    },
    {
     "data": {
      "text/plain": [
       "<Figure size 640x480 with 1 Axes>"
      ]
     },
     "metadata": {},
     "output_type": "display_data"
    },
    {
     "name": "stdout",
     "output_type": "stream",
     "text": [
      "image name CARDS_COURTYARD_H_S_hand3_frame_0209.jpg\n",
      "\n",
      "0: 480x640 1 hand, 12.0ms\n",
      "Speed: 1.4ms preprocess, 12.0ms inference, 1.6ms postprocess per image at shape (1, 3, 480, 640)\n"
     ]
    },
    {
     "data": {
      "text/plain": [
       "<Figure size 640x480 with 1 Axes>"
      ]
     },
     "metadata": {},
     "output_type": "display_data"
    },
    {
     "name": "stdout",
     "output_type": "stream",
     "text": [
      "image name CARDS_COURTYARD_S_H_hand2_frame_0504.jpg\n",
      "\n",
      "0: 320x640 1 hand, 21.3ms\n",
      "Speed: 2.5ms preprocess, 21.3ms inference, 1.5ms postprocess per image at shape (1, 3, 320, 640)\n"
     ]
    },
    {
     "data": {
      "text/plain": [
       "<Figure size 640x480 with 1 Axes>"
      ]
     },
     "metadata": {},
     "output_type": "display_data"
    },
    {
     "name": "stdout",
     "output_type": "stream",
     "text": [
      "image name CARDS_COURTYARD_H_S_hand0_frame_1002.jpg\n",
      "\n",
      "0: 512x640 1 hand, 13.1ms\n",
      "Speed: 1.5ms preprocess, 13.1ms inference, 1.7ms postprocess per image at shape (1, 3, 512, 640)\n"
     ]
    },
    {
     "data": {
      "text/plain": [
       "<Figure size 640x480 with 1 Axes>"
      ]
     },
     "metadata": {},
     "output_type": "display_data"
    },
    {
     "name": "stdout",
     "output_type": "stream",
     "text": [
      "image name CARDS_COURTYARD_H_S_hand0_frame_1135.jpg\n",
      "\n",
      "0: 384x640 1 hand, 10.8ms\n",
      "Speed: 1.2ms preprocess, 10.8ms inference, 1.2ms postprocess per image at shape (1, 3, 384, 640)\n"
     ]
    },
    {
     "data": {
      "text/plain": [
       "<Figure size 640x480 with 1 Axes>"
      ]
     },
     "metadata": {},
     "output_type": "display_data"
    },
    {
     "name": "stdout",
     "output_type": "stream",
     "text": [
      "image name CARDS_COURTYARD_S_H_hand3_frame_1279.jpg\n",
      "\n",
      "0: 416x640 2 hands, 12.0ms\n",
      "Speed: 1.4ms preprocess, 12.0ms inference, 1.2ms postprocess per image at shape (1, 3, 416, 640)\n"
     ]
    },
    {
     "data": {
      "text/plain": [
       "<Figure size 640x480 with 1 Axes>"
      ]
     },
     "metadata": {},
     "output_type": "display_data"
    },
    {
     "name": "stdout",
     "output_type": "stream",
     "text": [
      "image name CARDS_COURTYARD_T_B_hand1_frame_1986.jpg\n",
      "\n",
      "0: 320x640 1 hand, 11.7ms\n",
      "Speed: 1.5ms preprocess, 11.7ms inference, 1.2ms postprocess per image at shape (1, 3, 320, 640)\n"
     ]
    },
    {
     "data": {
      "text/plain": [
       "<Figure size 640x480 with 1 Axes>"
      ]
     },
     "metadata": {},
     "output_type": "display_data"
    },
    {
     "name": "stdout",
     "output_type": "stream",
     "text": [
      "image name CARDS_COURTYARD_S_H_hand3_frame_0747.jpg\n",
      "\n",
      "0: 352x640 2 hands, 11.0ms\n",
      "Speed: 1.3ms preprocess, 11.0ms inference, 1.4ms postprocess per image at shape (1, 3, 352, 640)\n"
     ]
    },
    {
     "data": {
      "text/plain": [
       "<Figure size 640x480 with 1 Axes>"
      ]
     },
     "metadata": {},
     "output_type": "display_data"
    },
    {
     "name": "stdout",
     "output_type": "stream",
     "text": [
      "image name CARDS_COURTYARD_H_S_hand2_frame_2018.jpg\n",
      "\n",
      "0: 416x640 2 hands, 11.9ms\n",
      "Speed: 1.2ms preprocess, 11.9ms inference, 1.3ms postprocess per image at shape (1, 3, 416, 640)\n"
     ]
    },
    {
     "data": {
      "text/plain": [
       "<Figure size 640x480 with 1 Axes>"
      ]
     },
     "metadata": {},
     "output_type": "display_data"
    },
    {
     "name": "stdout",
     "output_type": "stream",
     "text": [
      "image name CARDS_COURTYARD_T_B_hand0_frame_0016.jpg\n",
      "\n",
      "0: 416x640 1 hand, 10.7ms\n",
      "Speed: 1.3ms preprocess, 10.7ms inference, 1.5ms postprocess per image at shape (1, 3, 416, 640)\n"
     ]
    },
    {
     "data": {
      "text/plain": [
       "<Figure size 640x480 with 1 Axes>"
      ]
     },
     "metadata": {},
     "output_type": "display_data"
    },
    {
     "name": "stdout",
     "output_type": "stream",
     "text": [
      "image name CARDS_COURTYARD_S_H_hand3_frame_1054.jpg\n",
      "\n",
      "0: 480x640 2 hands, 12.5ms\n",
      "Speed: 1.3ms preprocess, 12.5ms inference, 1.2ms postprocess per image at shape (1, 3, 480, 640)\n"
     ]
    },
    {
     "data": {
      "text/plain": [
       "<Figure size 640x480 with 1 Axes>"
      ]
     },
     "metadata": {},
     "output_type": "display_data"
    },
    {
     "name": "stdout",
     "output_type": "stream",
     "text": [
      "image name CARDS_COURTYARD_T_B_hand3_frame_2327.jpg\n",
      "\n",
      "0: 640x576 1 hand, 14.9ms\n",
      "Speed: 1.8ms preprocess, 14.9ms inference, 1.2ms postprocess per image at shape (1, 3, 640, 576)\n"
     ]
    },
    {
     "data": {
      "text/plain": [
       "<Figure size 640x480 with 1 Axes>"
      ]
     },
     "metadata": {},
     "output_type": "display_data"
    },
    {
     "name": "stdout",
     "output_type": "stream",
     "text": [
      "image name CARDS_COURTYARD_T_B_hand1_frame_1480.jpg\n",
      "\n",
      "0: 352x640 1 hand, 11.4ms\n",
      "Speed: 1.3ms preprocess, 11.4ms inference, 1.2ms postprocess per image at shape (1, 3, 352, 640)\n"
     ]
    },
    {
     "data": {
      "text/plain": [
       "<Figure size 640x480 with 1 Axes>"
      ]
     },
     "metadata": {},
     "output_type": "display_data"
    },
    {
     "name": "stdout",
     "output_type": "stream",
     "text": [
      "image name CARDS_COURTYARD_T_B_hand0_frame_0180.jpg\n",
      "\n",
      "0: 480x640 1 hand, 12.7ms\n",
      "Speed: 1.5ms preprocess, 12.7ms inference, 1.5ms postprocess per image at shape (1, 3, 480, 640)\n"
     ]
    },
    {
     "data": {
      "text/plain": [
       "<Figure size 640x480 with 1 Axes>"
      ]
     },
     "metadata": {},
     "output_type": "display_data"
    },
    {
     "name": "stdout",
     "output_type": "stream",
     "text": [
      "image name CARDS_COURTYARD_T_B_hand3_frame_2002.jpg\n",
      "\n",
      "0: 448x640 1 hand, 19.5ms\n",
      "Speed: 1.6ms preprocess, 19.5ms inference, 1.9ms postprocess per image at shape (1, 3, 448, 640)\n"
     ]
    },
    {
     "data": {
      "text/plain": [
       "<Figure size 640x480 with 1 Axes>"
      ]
     },
     "metadata": {},
     "output_type": "display_data"
    },
    {
     "name": "stdout",
     "output_type": "stream",
     "text": [
      "image name CARDS_COURTYARD_H_S_hand2_frame_1074.jpg\n",
      "\n",
      "0: 448x640 1 hand, 11.2ms\n",
      "Speed: 1.6ms preprocess, 11.2ms inference, 1.2ms postprocess per image at shape (1, 3, 448, 640)\n"
     ]
    },
    {
     "data": {
      "text/plain": [
       "<Figure size 640x480 with 1 Axes>"
      ]
     },
     "metadata": {},
     "output_type": "display_data"
    },
    {
     "name": "stdout",
     "output_type": "stream",
     "text": [
      "image name CARDS_COURTYARD_T_B_hand2_frame_0562.jpg\n",
      "\n",
      "0: 288x640 1 hand, 11.4ms\n",
      "Speed: 1.0ms preprocess, 11.4ms inference, 1.7ms postprocess per image at shape (1, 3, 288, 640)\n"
     ]
    },
    {
     "data": {
      "text/plain": [
       "<Figure size 640x480 with 1 Axes>"
      ]
     },
     "metadata": {},
     "output_type": "display_data"
    },
    {
     "name": "stdout",
     "output_type": "stream",
     "text": [
      "image name CARDS_COURTYARD_H_S_hand0_frame_1376.jpg\n",
      "\n",
      "0: 352x640 1 hand, 17.6ms\n",
      "Speed: 3.0ms preprocess, 17.6ms inference, 1.3ms postprocess per image at shape (1, 3, 352, 640)\n"
     ]
    },
    {
     "data": {
      "text/plain": [
       "<Figure size 640x480 with 1 Axes>"
      ]
     },
     "metadata": {},
     "output_type": "display_data"
    },
    {
     "name": "stdout",
     "output_type": "stream",
     "text": [
      "image name CARDS_COURTYARD_T_B_hand0_frame_1612.jpg\n",
      "\n",
      "0: 512x640 1 hand, 17.7ms\n",
      "Speed: 2.7ms preprocess, 17.7ms inference, 1.7ms postprocess per image at shape (1, 3, 512, 640)\n"
     ]
    },
    {
     "data": {
      "text/plain": [
       "<Figure size 640x480 with 1 Axes>"
      ]
     },
     "metadata": {},
     "output_type": "display_data"
    },
    {
     "name": "stdout",
     "output_type": "stream",
     "text": [
      "image name CARDS_COURTYARD_T_B_hand0_frame_0638.jpg\n",
      "\n",
      "0: 320x640 1 hand, 10.8ms\n",
      "Speed: 1.1ms preprocess, 10.8ms inference, 1.5ms postprocess per image at shape (1, 3, 320, 640)\n"
     ]
    },
    {
     "data": {
      "text/plain": [
       "<Figure size 640x480 with 1 Axes>"
      ]
     },
     "metadata": {},
     "output_type": "display_data"
    },
    {
     "name": "stdout",
     "output_type": "stream",
     "text": [
      "image name CARDS_COURTYARD_H_S_hand1_frame_2662.jpg\n",
      "\n",
      "0: 480x640 1 hand, 17.7ms\n",
      "Speed: 3.8ms preprocess, 17.7ms inference, 1.9ms postprocess per image at shape (1, 3, 480, 640)\n"
     ]
    },
    {
     "data": {
      "text/plain": [
       "<Figure size 640x480 with 1 Axes>"
      ]
     },
     "metadata": {},
     "output_type": "display_data"
    },
    {
     "name": "stdout",
     "output_type": "stream",
     "text": [
      "image name CARDS_COURTYARD_H_S_hand1_frame_1195.jpg\n",
      "\n",
      "0: 288x640 1 hand, 11.0ms\n",
      "Speed: 1.0ms preprocess, 11.0ms inference, 1.2ms postprocess per image at shape (1, 3, 288, 640)\n"
     ]
    },
    {
     "data": {
      "text/plain": [
       "<Figure size 640x480 with 1 Axes>"
      ]
     },
     "metadata": {},
     "output_type": "display_data"
    },
    {
     "name": "stdout",
     "output_type": "stream",
     "text": [
      "image name CARDS_COURTYARD_S_H_hand1_frame_1220.jpg\n",
      "\n",
      "0: 480x640 1 hand, 13.4ms\n",
      "Speed: 1.8ms preprocess, 13.4ms inference, 1.6ms postprocess per image at shape (1, 3, 480, 640)\n"
     ]
    },
    {
     "data": {
      "text/plain": [
       "<Figure size 640x480 with 1 Axes>"
      ]
     },
     "metadata": {},
     "output_type": "display_data"
    },
    {
     "name": "stdout",
     "output_type": "stream",
     "text": [
      "image name CARDS_COURTYARD_H_S_hand2_frame_0174.jpg\n",
      "\n",
      "0: 416x640 2 hands, 12.2ms\n",
      "Speed: 1.4ms preprocess, 12.2ms inference, 1.2ms postprocess per image at shape (1, 3, 416, 640)\n"
     ]
    },
    {
     "data": {
      "text/plain": [
       "<Figure size 640x480 with 1 Axes>"
      ]
     },
     "metadata": {},
     "output_type": "display_data"
    },
    {
     "name": "stdout",
     "output_type": "stream",
     "text": [
      "image name CARDS_COURTYARD_H_S_hand1_frame_1376.jpg\n",
      "\n",
      "0: 384x640 1 hand, 16.1ms\n",
      "Speed: 2.0ms preprocess, 16.1ms inference, 1.7ms postprocess per image at shape (1, 3, 384, 640)\n"
     ]
    },
    {
     "data": {
      "text/plain": [
       "<Figure size 640x480 with 1 Axes>"
      ]
     },
     "metadata": {},
     "output_type": "display_data"
    },
    {
     "name": "stdout",
     "output_type": "stream",
     "text": [
      "image name CARDS_COURTYARD_S_H_hand0_frame_1552.jpg\n",
      "\n",
      "0: 352x640 2 hands, 10.9ms\n",
      "Speed: 1.6ms preprocess, 10.9ms inference, 1.2ms postprocess per image at shape (1, 3, 352, 640)\n"
     ]
    },
    {
     "data": {
      "text/plain": [
       "<Figure size 640x480 with 1 Axes>"
      ]
     },
     "metadata": {},
     "output_type": "display_data"
    },
    {
     "name": "stdout",
     "output_type": "stream",
     "text": [
      "image name CARDS_COURTYARD_T_B_hand2_frame_2132.jpg\n",
      "\n",
      "0: 352x640 1 hand, 10.7ms\n",
      "Speed: 1.5ms preprocess, 10.7ms inference, 2.1ms postprocess per image at shape (1, 3, 352, 640)\n"
     ]
    },
    {
     "data": {
      "text/plain": [
       "<Figure size 640x480 with 1 Axes>"
      ]
     },
     "metadata": {},
     "output_type": "display_data"
    },
    {
     "name": "stdout",
     "output_type": "stream",
     "text": [
      "image name CARDS_COURTYARD_S_H_hand2_frame_1160.jpg\n",
      "\n",
      "0: 416x640 1 hand, 12.0ms\n",
      "Speed: 1.6ms preprocess, 12.0ms inference, 1.2ms postprocess per image at shape (1, 3, 416, 640)\n"
     ]
    },
    {
     "data": {
      "text/plain": [
       "<Figure size 640x480 with 1 Axes>"
      ]
     },
     "metadata": {},
     "output_type": "display_data"
    },
    {
     "name": "stdout",
     "output_type": "stream",
     "text": [
      "image name CARDS_COURTYARD_S_H_hand2_frame_2674.jpg\n",
      "\n",
      "0: 352x640 1 hand, 11.3ms\n",
      "Speed: 1.3ms preprocess, 11.3ms inference, 1.3ms postprocess per image at shape (1, 3, 352, 640)\n"
     ]
    },
    {
     "data": {
      "text/plain": [
       "<Figure size 640x480 with 1 Axes>"
      ]
     },
     "metadata": {},
     "output_type": "display_data"
    },
    {
     "name": "stdout",
     "output_type": "stream",
     "text": [
      "image name CARDS_COURTYARD_H_S_hand2_frame_2163.jpg\n",
      "\n",
      "0: 320x640 1 hand, 11.2ms\n",
      "Speed: 1.0ms preprocess, 11.2ms inference, 1.2ms postprocess per image at shape (1, 3, 320, 640)\n"
     ]
    },
    {
     "data": {
      "text/plain": [
       "<Figure size 640x480 with 1 Axes>"
      ]
     },
     "metadata": {},
     "output_type": "display_data"
    },
    {
     "name": "stdout",
     "output_type": "stream",
     "text": [
      "image name CARDS_COURTYARD_H_S_hand3_frame_1036.jpg\n",
      "\n",
      "0: 576x640 1 hand, 15.0ms\n",
      "Speed: 1.6ms preprocess, 15.0ms inference, 2.2ms postprocess per image at shape (1, 3, 576, 640)\n"
     ]
    },
    {
     "data": {
      "text/plain": [
       "<Figure size 640x480 with 1 Axes>"
      ]
     },
     "metadata": {},
     "output_type": "display_data"
    },
    {
     "name": "stdout",
     "output_type": "stream",
     "text": [
      "image name CARDS_COURTYARD_H_S_hand3_frame_1000.jpg\n",
      "\n",
      "0: 416x640 2 hands, 21.5ms\n",
      "Speed: 1.2ms preprocess, 21.5ms inference, 2.0ms postprocess per image at shape (1, 3, 416, 640)\n"
     ]
    },
    {
     "data": {
      "text/plain": [
       "<Figure size 640x480 with 1 Axes>"
      ]
     },
     "metadata": {},
     "output_type": "display_data"
    },
    {
     "name": "stdout",
     "output_type": "stream",
     "text": [
      "image name CARDS_COURTYARD_H_S_hand0_frame_0183.jpg\n",
      "\n",
      "0: 416x640 1 hand, 20.5ms\n",
      "Speed: 5.0ms preprocess, 20.5ms inference, 1.5ms postprocess per image at shape (1, 3, 416, 640)\n"
     ]
    },
    {
     "data": {
      "text/plain": [
       "<Figure size 640x480 with 1 Axes>"
      ]
     },
     "metadata": {},
     "output_type": "display_data"
    },
    {
     "name": "stdout",
     "output_type": "stream",
     "text": [
      "image name CARDS_COURTYARD_T_B_hand1_frame_0768.jpg\n",
      "\n",
      "0: 416x640 1 hand, 10.9ms\n",
      "Speed: 1.4ms preprocess, 10.9ms inference, 1.2ms postprocess per image at shape (1, 3, 416, 640)\n"
     ]
    },
    {
     "data": {
      "text/plain": [
       "<Figure size 640x480 with 1 Axes>"
      ]
     },
     "metadata": {},
     "output_type": "display_data"
    },
    {
     "name": "stdout",
     "output_type": "stream",
     "text": [
      "image name CARDS_COURTYARD_S_H_hand0_frame_0923.jpg\n",
      "\n",
      "0: 640x608 1 hand, 15.1ms\n",
      "Speed: 2.0ms preprocess, 15.1ms inference, 1.2ms postprocess per image at shape (1, 3, 640, 608)\n"
     ]
    },
    {
     "data": {
      "text/plain": [
       "<Figure size 640x480 with 1 Axes>"
      ]
     },
     "metadata": {},
     "output_type": "display_data"
    },
    {
     "name": "stdout",
     "output_type": "stream",
     "text": [
      "image name CARDS_COURTYARD_S_H_hand3_frame_2636.jpg\n",
      "\n",
      "0: 640x640 1 hand, 15.7ms\n",
      "Speed: 1.8ms preprocess, 15.7ms inference, 1.2ms postprocess per image at shape (1, 3, 640, 640)\n"
     ]
    },
    {
     "data": {
      "text/plain": [
       "<Figure size 640x480 with 1 Axes>"
      ]
     },
     "metadata": {},
     "output_type": "display_data"
    },
    {
     "name": "stdout",
     "output_type": "stream",
     "text": [
      "image name CARDS_COURTYARD_T_B_hand3_frame_1892.jpg\n",
      "\n",
      "0: 480x640 1 hand, 12.7ms\n",
      "Speed: 1.5ms preprocess, 12.7ms inference, 1.3ms postprocess per image at shape (1, 3, 480, 640)\n"
     ]
    },
    {
     "data": {
      "text/plain": [
       "<Figure size 640x480 with 1 Axes>"
      ]
     },
     "metadata": {},
     "output_type": "display_data"
    },
    {
     "name": "stdout",
     "output_type": "stream",
     "text": [
      "image name CARDS_COURTYARD_H_S_hand0_frame_2387.jpg\n",
      "\n",
      "0: 480x640 1 hand, 12.0ms\n",
      "Speed: 1.7ms preprocess, 12.0ms inference, 1.2ms postprocess per image at shape (1, 3, 480, 640)\n"
     ]
    },
    {
     "data": {
      "text/plain": [
       "<Figure size 640x480 with 1 Axes>"
      ]
     },
     "metadata": {},
     "output_type": "display_data"
    },
    {
     "name": "stdout",
     "output_type": "stream",
     "text": [
      "image name CARDS_COURTYARD_S_H_hand3_frame_1993.jpg\n",
      "\n",
      "0: 448x640 1 hand, 11.5ms\n",
      "Speed: 1.3ms preprocess, 11.5ms inference, 1.2ms postprocess per image at shape (1, 3, 448, 640)\n"
     ]
    },
    {
     "data": {
      "text/plain": [
       "<Figure size 640x480 with 1 Axes>"
      ]
     },
     "metadata": {},
     "output_type": "display_data"
    },
    {
     "name": "stdout",
     "output_type": "stream",
     "text": [
      "image name CARDS_COURTYARD_H_S_hand2_frame_1832.jpg\n",
      "\n",
      "0: 384x640 2 hands, 11.2ms\n",
      "Speed: 1.7ms preprocess, 11.2ms inference, 1.2ms postprocess per image at shape (1, 3, 384, 640)\n"
     ]
    },
    {
     "data": {
      "text/plain": [
       "<Figure size 640x480 with 1 Axes>"
      ]
     },
     "metadata": {},
     "output_type": "display_data"
    },
    {
     "name": "stdout",
     "output_type": "stream",
     "text": [
      "image name CARDS_COURTYARD_T_B_hand0_frame_1462.jpg\n",
      "\n",
      "0: 384x640 1 hand, 11.2ms\n",
      "Speed: 1.2ms preprocess, 11.2ms inference, 1.3ms postprocess per image at shape (1, 3, 384, 640)\n"
     ]
    },
    {
     "data": {
      "text/plain": [
       "<Figure size 640x480 with 1 Axes>"
      ]
     },
     "metadata": {},
     "output_type": "display_data"
    },
    {
     "name": "stdout",
     "output_type": "stream",
     "text": [
      "image name CARDS_COURTYARD_H_S_hand1_frame_2387.jpg\n",
      "\n",
      "0: 480x640 1 hand, 12.9ms\n",
      "Speed: 1.8ms preprocess, 12.9ms inference, 1.4ms postprocess per image at shape (1, 3, 480, 640)\n"
     ]
    },
    {
     "data": {
      "text/plain": [
       "<Figure size 640x480 with 1 Axes>"
      ]
     },
     "metadata": {},
     "output_type": "display_data"
    },
    {
     "name": "stdout",
     "output_type": "stream",
     "text": [
      "image name CARDS_COURTYARD_S_H_hand0_frame_0146.jpg\n",
      "\n",
      "0: 448x640 1 hand, 12.4ms\n",
      "Speed: 1.3ms preprocess, 12.4ms inference, 1.2ms postprocess per image at shape (1, 3, 448, 640)\n"
     ]
    },
    {
     "data": {
      "text/plain": [
       "<Figure size 640x480 with 1 Axes>"
      ]
     },
     "metadata": {},
     "output_type": "display_data"
    },
    {
     "name": "stdout",
     "output_type": "stream",
     "text": [
      "image name CARDS_COURTYARD_T_B_hand3_frame_1298.jpg\n",
      "\n",
      "0: 640x448 1 hand, 14.1ms\n",
      "Speed: 3.4ms preprocess, 14.1ms inference, 1.2ms postprocess per image at shape (1, 3, 640, 448)\n"
     ]
    },
    {
     "data": {
      "text/plain": [
       "<Figure size 640x480 with 1 Axes>"
      ]
     },
     "metadata": {},
     "output_type": "display_data"
    },
    {
     "name": "stdout",
     "output_type": "stream",
     "text": [
      "image name CARDS_COURTYARD_H_S_hand1_frame_1850.jpg\n",
      "\n",
      "0: 608x640 1 hand, 15.1ms\n",
      "Speed: 2.7ms preprocess, 15.1ms inference, 1.2ms postprocess per image at shape (1, 3, 608, 640)\n"
     ]
    },
    {
     "data": {
      "text/plain": [
       "<Figure size 640x480 with 1 Axes>"
      ]
     },
     "metadata": {},
     "output_type": "display_data"
    },
    {
     "name": "stdout",
     "output_type": "stream",
     "text": [
      "image name CARDS_COURTYARD_H_S_hand3_frame_2674.jpg\n",
      "\n",
      "0: 480x640 1 hand, 12.7ms\n",
      "Speed: 1.4ms preprocess, 12.7ms inference, 1.3ms postprocess per image at shape (1, 3, 480, 640)\n"
     ]
    },
    {
     "data": {
      "text/plain": [
       "<Figure size 640x480 with 1 Axes>"
      ]
     },
     "metadata": {},
     "output_type": "display_data"
    },
    {
     "name": "stdout",
     "output_type": "stream",
     "text": [
      "image name CARDS_COURTYARD_T_B_hand0_frame_0331.jpg\n",
      "\n",
      "0: 448x640 1 hand, 11.5ms\n",
      "Speed: 1.9ms preprocess, 11.5ms inference, 1.2ms postprocess per image at shape (1, 3, 448, 640)\n"
     ]
    },
    {
     "data": {
      "text/plain": [
       "<Figure size 640x480 with 1 Axes>"
      ]
     },
     "metadata": {},
     "output_type": "display_data"
    },
    {
     "name": "stdout",
     "output_type": "stream",
     "text": [
      "image name CARDS_COURTYARD_S_H_hand0_frame_1013.jpg\n",
      "\n",
      "0: 352x640 1 hand, 11.9ms\n",
      "Speed: 1.2ms preprocess, 11.9ms inference, 1.2ms postprocess per image at shape (1, 3, 352, 640)\n"
     ]
    },
    {
     "data": {
      "text/plain": [
       "<Figure size 640x480 with 1 Axes>"
      ]
     },
     "metadata": {},
     "output_type": "display_data"
    },
    {
     "name": "stdout",
     "output_type": "stream",
     "text": [
      "image name CARDS_COURTYARD_S_H_hand1_frame_1803.jpg\n",
      "\n",
      "0: 256x640 1 hand, 12.1ms\n",
      "Speed: 0.9ms preprocess, 12.1ms inference, 1.2ms postprocess per image at shape (1, 3, 256, 640)\n"
     ]
    },
    {
     "data": {
      "text/plain": [
       "<Figure size 640x480 with 1 Axes>"
      ]
     },
     "metadata": {},
     "output_type": "display_data"
    },
    {
     "name": "stdout",
     "output_type": "stream",
     "text": [
      "image name CARDS_COURTYARD_S_H_hand2_frame_1377.jpg\n",
      "\n",
      "0: 384x640 1 hand, 11.5ms\n",
      "Speed: 1.3ms preprocess, 11.5ms inference, 1.2ms postprocess per image at shape (1, 3, 384, 640)\n"
     ]
    },
    {
     "data": {
      "text/plain": [
       "<Figure size 640x480 with 1 Axes>"
      ]
     },
     "metadata": {},
     "output_type": "display_data"
    },
    {
     "name": "stdout",
     "output_type": "stream",
     "text": [
      "image name CARDS_COURTYARD_T_B_hand2_frame_1010.jpg\n",
      "\n",
      "0: 288x640 1 hand, 17.8ms\n",
      "Speed: 2.6ms preprocess, 17.8ms inference, 1.5ms postprocess per image at shape (1, 3, 288, 640)\n"
     ]
    },
    {
     "data": {
      "text/plain": [
       "<Figure size 640x480 with 1 Axes>"
      ]
     },
     "metadata": {},
     "output_type": "display_data"
    },
    {
     "name": "stdout",
     "output_type": "stream",
     "text": [
      "image name CARDS_COURTYARD_T_B_hand2_frame_2524.jpg\n",
      "\n",
      "0: 352x640 1 hand, 11.9ms\n",
      "Speed: 1.4ms preprocess, 11.9ms inference, 1.3ms postprocess per image at shape (1, 3, 352, 640)\n"
     ]
    },
    {
     "data": {
      "text/plain": [
       "<Figure size 640x480 with 1 Axes>"
      ]
     },
     "metadata": {},
     "output_type": "display_data"
    },
    {
     "name": "stdout",
     "output_type": "stream",
     "text": [
      "image name CARDS_COURTYARD_T_B_hand1_frame_2238.jpg\n",
      "\n",
      "0: 448x640 1 hand, 11.6ms\n",
      "Speed: 1.5ms preprocess, 11.6ms inference, 1.2ms postprocess per image at shape (1, 3, 448, 640)\n"
     ]
    },
    {
     "data": {
      "text/plain": [
       "<Figure size 640x480 with 1 Axes>"
      ]
     },
     "metadata": {},
     "output_type": "display_data"
    },
    {
     "name": "stdout",
     "output_type": "stream",
     "text": [
      "image name CARDS_COURTYARD_T_B_hand1_frame_0804.jpg\n",
      "\n",
      "0: 480x640 1 hand, 12.6ms\n",
      "Speed: 1.5ms preprocess, 12.6ms inference, 1.2ms postprocess per image at shape (1, 3, 480, 640)\n"
     ]
    },
    {
     "data": {
      "text/plain": [
       "<Figure size 640x480 with 1 Axes>"
      ]
     },
     "metadata": {},
     "output_type": "display_data"
    },
    {
     "name": "stdout",
     "output_type": "stream",
     "text": [
      "image name CARDS_COURTYARD_T_B_hand0_frame_2327.jpg\n",
      "\n",
      "0: 480x640 1 hand, 12.0ms\n",
      "Speed: 1.3ms preprocess, 12.0ms inference, 1.2ms postprocess per image at shape (1, 3, 480, 640)\n"
     ]
    },
    {
     "data": {
      "text/plain": [
       "<Figure size 640x480 with 1 Axes>"
      ]
     },
     "metadata": {},
     "output_type": "display_data"
    },
    {
     "name": "stdout",
     "output_type": "stream",
     "text": [
      "image name CARDS_COURTYARD_H_S_hand2_frame_2533.jpg\n",
      "\n",
      "0: 384x640 1 hand, 11.9ms\n",
      "Speed: 1.2ms preprocess, 11.9ms inference, 1.4ms postprocess per image at shape (1, 3, 384, 640)\n"
     ]
    },
    {
     "data": {
      "text/plain": [
       "<Figure size 640x480 with 1 Axes>"
      ]
     },
     "metadata": {},
     "output_type": "display_data"
    },
    {
     "name": "stdout",
     "output_type": "stream",
     "text": [
      "image name CARDS_COURTYARD_T_B_hand2_frame_2658.jpg\n",
      "\n",
      "0: 352x640 2 hands, 12.3ms\n",
      "Speed: 1.1ms preprocess, 12.3ms inference, 1.3ms postprocess per image at shape (1, 3, 352, 640)\n"
     ]
    },
    {
     "data": {
      "text/plain": [
       "<Figure size 640x480 with 1 Axes>"
      ]
     },
     "metadata": {},
     "output_type": "display_data"
    },
    {
     "name": "stdout",
     "output_type": "stream",
     "text": [
      "image name CARDS_COURTYARD_S_H_hand2_frame_0963.jpg\n",
      "\n",
      "0: 384x640 1 hand, 11.4ms\n",
      "Speed: 1.2ms preprocess, 11.4ms inference, 1.2ms postprocess per image at shape (1, 3, 384, 640)\n"
     ]
    },
    {
     "data": {
      "text/plain": [
       "<Figure size 640x480 with 1 Axes>"
      ]
     },
     "metadata": {},
     "output_type": "display_data"
    },
    {
     "name": "stdout",
     "output_type": "stream",
     "text": [
      "image name CARDS_COURTYARD_H_S_hand0_frame_0141.jpg\n",
      "\n",
      "0: 448x640 1 hand, 20.9ms\n",
      "Speed: 3.1ms preprocess, 20.9ms inference, 1.5ms postprocess per image at shape (1, 3, 448, 640)\n"
     ]
    },
    {
     "data": {
      "text/plain": [
       "<Figure size 640x480 with 1 Axes>"
      ]
     },
     "metadata": {},
     "output_type": "display_data"
    },
    {
     "name": "stdout",
     "output_type": "stream",
     "text": [
      "image name CARDS_COURTYARD_T_B_hand1_frame_0180.jpg\n",
      "\n",
      "0: 384x640 1 hand, 10.9ms\n",
      "Speed: 1.3ms preprocess, 10.9ms inference, 1.3ms postprocess per image at shape (1, 3, 384, 640)\n"
     ]
    },
    {
     "data": {
      "text/plain": [
       "<Figure size 640x480 with 1 Axes>"
      ]
     },
     "metadata": {},
     "output_type": "display_data"
    },
    {
     "name": "stdout",
     "output_type": "stream",
     "text": [
      "image name CARDS_COURTYARD_T_B_hand0_frame_0637.jpg\n",
      "\n",
      "0: 320x640 1 hand, 12.9ms\n",
      "Speed: 1.5ms preprocess, 12.9ms inference, 1.2ms postprocess per image at shape (1, 3, 320, 640)\n"
     ]
    },
    {
     "data": {
      "text/plain": [
       "<Figure size 640x480 with 1 Axes>"
      ]
     },
     "metadata": {},
     "output_type": "display_data"
    },
    {
     "name": "stdout",
     "output_type": "stream",
     "text": [
      "image name CARDS_COURTYARD_S_H_hand2_frame_0438.jpg\n",
      "\n",
      "0: 320x640 1 hand, 15.0ms\n",
      "Speed: 1.8ms preprocess, 15.0ms inference, 1.5ms postprocess per image at shape (1, 3, 320, 640)\n"
     ]
    },
    {
     "data": {
      "text/plain": [
       "<Figure size 640x480 with 1 Axes>"
      ]
     },
     "metadata": {},
     "output_type": "display_data"
    },
    {
     "name": "stdout",
     "output_type": "stream",
     "text": [
      "image name CARDS_COURTYARD_S_H_hand2_frame_2183.jpg\n",
      "\n",
      "0: 384x640 1 hand, 11.3ms\n",
      "Speed: 1.2ms preprocess, 11.3ms inference, 1.2ms postprocess per image at shape (1, 3, 384, 640)\n"
     ]
    },
    {
     "data": {
      "text/plain": [
       "<Figure size 640x480 with 1 Axes>"
      ]
     },
     "metadata": {},
     "output_type": "display_data"
    },
    {
     "name": "stdout",
     "output_type": "stream",
     "text": [
      "image name CARDS_COURTYARD_S_H_hand3_frame_1164.jpg\n",
      "\n",
      "0: 544x640 1 hand, 14.2ms\n",
      "Speed: 2.0ms preprocess, 14.2ms inference, 1.2ms postprocess per image at shape (1, 3, 544, 640)\n"
     ]
    },
    {
     "data": {
      "text/plain": [
       "<Figure size 640x480 with 1 Axes>"
      ]
     },
     "metadata": {},
     "output_type": "display_data"
    },
    {
     "name": "stdout",
     "output_type": "stream",
     "text": [
      "image name CARDS_COURTYARD_T_B_hand1_frame_1434.jpg\n",
      "\n",
      "0: 320x640 1 hand, 11.0ms\n",
      "Speed: 1.1ms preprocess, 11.0ms inference, 1.2ms postprocess per image at shape (1, 3, 320, 640)\n"
     ]
    },
    {
     "data": {
      "text/plain": [
       "<Figure size 640x480 with 1 Axes>"
      ]
     },
     "metadata": {},
     "output_type": "display_data"
    },
    {
     "name": "stdout",
     "output_type": "stream",
     "text": [
      "image name CARDS_COURTYARD_H_S_hand1_frame_0994.jpg\n",
      "\n",
      "0: 352x640 1 hand, 12.1ms\n",
      "Speed: 1.5ms preprocess, 12.1ms inference, 1.3ms postprocess per image at shape (1, 3, 352, 640)\n"
     ]
    },
    {
     "data": {
      "text/plain": [
       "<Figure size 640x480 with 1 Axes>"
      ]
     },
     "metadata": {},
     "output_type": "display_data"
    },
    {
     "name": "stdout",
     "output_type": "stream",
     "text": [
      "image name CARDS_COURTYARD_S_H_hand0_frame_2206.jpg\n",
      "\n",
      "0: 640x480 1 hand, 17.4ms\n",
      "Speed: 1.7ms preprocess, 17.4ms inference, 1.2ms postprocess per image at shape (1, 3, 640, 480)\n"
     ]
    },
    {
     "data": {
      "text/plain": [
       "<Figure size 640x480 with 1 Axes>"
      ]
     },
     "metadata": {},
     "output_type": "display_data"
    },
    {
     "name": "stdout",
     "output_type": "stream",
     "text": [
      "image name CARDS_COURTYARD_H_S_hand3_frame_2071.jpg\n",
      "\n",
      "0: 448x640 2 hands, 11.5ms\n",
      "Speed: 1.3ms preprocess, 11.5ms inference, 1.2ms postprocess per image at shape (1, 3, 448, 640)\n"
     ]
    },
    {
     "data": {
      "text/plain": [
       "<Figure size 640x480 with 1 Axes>"
      ]
     },
     "metadata": {},
     "output_type": "display_data"
    },
    {
     "name": "stdout",
     "output_type": "stream",
     "text": [
      "image name CARDS_COURTYARD_H_S_hand3_frame_0672.jpg\n",
      "\n",
      "0: 480x640 2 hands, 13.9ms\n",
      "Speed: 1.6ms preprocess, 13.9ms inference, 1.4ms postprocess per image at shape (1, 3, 480, 640)\n"
     ]
    },
    {
     "data": {
      "text/plain": [
       "<Figure size 640x480 with 1 Axes>"
      ]
     },
     "metadata": {},
     "output_type": "display_data"
    },
    {
     "name": "stdout",
     "output_type": "stream",
     "text": [
      "image name CARDS_COURTYARD_S_H_hand3_frame_0016.jpg\n",
      "\n",
      "0: 288x640 1 hand, 20.6ms\n",
      "Speed: 0.9ms preprocess, 20.6ms inference, 2.0ms postprocess per image at shape (1, 3, 288, 640)\n"
     ]
    },
    {
     "data": {
      "text/plain": [
       "<Figure size 640x480 with 1 Axes>"
      ]
     },
     "metadata": {},
     "output_type": "display_data"
    },
    {
     "name": "stdout",
     "output_type": "stream",
     "text": [
      "image name CARDS_COURTYARD_T_B_hand0_frame_1314.jpg\n",
      "\n",
      "0: 352x640 1 hand, 14.8ms\n",
      "Speed: 1.2ms preprocess, 14.8ms inference, 1.3ms postprocess per image at shape (1, 3, 352, 640)\n"
     ]
    },
    {
     "data": {
      "text/plain": [
       "<Figure size 640x480 with 1 Axes>"
      ]
     },
     "metadata": {},
     "output_type": "display_data"
    },
    {
     "name": "stdout",
     "output_type": "stream",
     "text": [
      "image name CARDS_COURTYARD_S_H_hand2_frame_1054.jpg\n",
      "\n",
      "0: 352x640 1 hand, 10.8ms\n",
      "Speed: 1.1ms preprocess, 10.8ms inference, 1.2ms postprocess per image at shape (1, 3, 352, 640)\n"
     ]
    },
    {
     "data": {
      "text/plain": [
       "<Figure size 640x480 with 1 Axes>"
      ]
     },
     "metadata": {},
     "output_type": "display_data"
    },
    {
     "name": "stdout",
     "output_type": "stream",
     "text": [
      "image name CARDS_COURTYARD_S_H_hand3_frame_1435.jpg\n",
      "\n",
      "0: 576x640 1 hand, 14.3ms\n",
      "Speed: 1.9ms preprocess, 14.3ms inference, 1.2ms postprocess per image at shape (1, 3, 576, 640)\n"
     ]
    },
    {
     "data": {
      "text/plain": [
       "<Figure size 640x480 with 1 Axes>"
      ]
     },
     "metadata": {},
     "output_type": "display_data"
    },
    {
     "name": "stdout",
     "output_type": "stream",
     "text": [
      "image name CARDS_COURTYARD_S_H_hand2_frame_1013.jpg\n",
      "\n",
      "0: 352x640 1 hand, 11.3ms\n",
      "Speed: 1.6ms preprocess, 11.3ms inference, 1.2ms postprocess per image at shape (1, 3, 352, 640)\n"
     ]
    },
    {
     "data": {
      "text/plain": [
       "<Figure size 640x480 with 1 Axes>"
      ]
     },
     "metadata": {},
     "output_type": "display_data"
    },
    {
     "name": "stdout",
     "output_type": "stream",
     "text": [
      "image name CARDS_COURTYARD_T_B_hand1_frame_1612.jpg\n",
      "\n",
      "0: 480x640 1 hand, 16.0ms\n",
      "Speed: 2.7ms preprocess, 16.0ms inference, 1.3ms postprocess per image at shape (1, 3, 480, 640)\n"
     ]
    },
    {
     "data": {
      "text/plain": [
       "<Figure size 640x480 with 1 Axes>"
      ]
     },
     "metadata": {},
     "output_type": "display_data"
    },
    {
     "name": "stdout",
     "output_type": "stream",
     "text": [
      "image name CARDS_COURTYARD_H_S_hand1_frame_0211.jpg\n",
      "\n",
      "0: 320x640 1 hand, 10.8ms\n",
      "Speed: 1.2ms preprocess, 10.8ms inference, 1.3ms postprocess per image at shape (1, 3, 320, 640)\n"
     ]
    },
    {
     "data": {
      "text/plain": [
       "<Figure size 640x480 with 1 Axes>"
      ]
     },
     "metadata": {},
     "output_type": "display_data"
    },
    {
     "name": "stdout",
     "output_type": "stream",
     "text": [
      "image name CARDS_COURTYARD_T_B_hand1_frame_2589.jpg\n",
      "\n",
      "0: 416x640 1 hand, 11.7ms\n",
      "Speed: 1.3ms preprocess, 11.7ms inference, 1.2ms postprocess per image at shape (1, 3, 416, 640)\n"
     ]
    },
    {
     "data": {
      "text/plain": [
       "<Figure size 640x480 with 1 Axes>"
      ]
     },
     "metadata": {},
     "output_type": "display_data"
    },
    {
     "name": "stdout",
     "output_type": "stream",
     "text": [
      "image name CARDS_COURTYARD_H_S_hand1_frame_1232.jpg\n",
      "\n",
      "0: 288x640 1 hand, 12.3ms\n",
      "Speed: 1.1ms preprocess, 12.3ms inference, 1.3ms postprocess per image at shape (1, 3, 288, 640)\n"
     ]
    },
    {
     "data": {
      "text/plain": [
       "<Figure size 640x480 with 1 Axes>"
      ]
     },
     "metadata": {},
     "output_type": "display_data"
    },
    {
     "name": "stdout",
     "output_type": "stream",
     "text": [
      "image name CARDS_COURTYARD_H_S_hand2_frame_2650.jpg\n",
      "\n",
      "0: 416x640 1 hand, 11.5ms\n",
      "Speed: 1.3ms preprocess, 11.5ms inference, 1.4ms postprocess per image at shape (1, 3, 416, 640)\n"
     ]
    },
    {
     "data": {
      "text/plain": [
       "<Figure size 640x480 with 1 Axes>"
      ]
     },
     "metadata": {},
     "output_type": "display_data"
    },
    {
     "name": "stdout",
     "output_type": "stream",
     "text": [
      "image name CARDS_COURTYARD_T_B_hand2_frame_0331.jpg\n",
      "\n",
      "0: 320x640 1 hand, 13.8ms\n",
      "Speed: 1.1ms preprocess, 13.8ms inference, 1.6ms postprocess per image at shape (1, 3, 320, 640)\n"
     ]
    },
    {
     "data": {
      "text/plain": [
       "<Figure size 640x480 with 1 Axes>"
      ]
     },
     "metadata": {},
     "output_type": "display_data"
    },
    {
     "name": "stdout",
     "output_type": "stream",
     "text": [
      "image name CARDS_COURTYARD_T_B_hand1_frame_0227.jpg\n",
      "\n",
      "0: 384x640 1 hand, 11.6ms\n",
      "Speed: 1.4ms preprocess, 11.6ms inference, 1.3ms postprocess per image at shape (1, 3, 384, 640)\n"
     ]
    },
    {
     "data": {
      "text/plain": [
       "<Figure size 640x480 with 1 Axes>"
      ]
     },
     "metadata": {},
     "output_type": "display_data"
    },
    {
     "name": "stdout",
     "output_type": "stream",
     "text": [
      "image name CARDS_COURTYARD_S_H_hand2_frame_2243.jpg\n",
      "\n",
      "0: 416x640 1 hand, 15.7ms\n",
      "Speed: 3.5ms preprocess, 15.7ms inference, 1.5ms postprocess per image at shape (1, 3, 416, 640)\n"
     ]
    },
    {
     "data": {
      "text/plain": [
       "<Figure size 640x480 with 1 Axes>"
      ]
     },
     "metadata": {},
     "output_type": "display_data"
    },
    {
     "name": "stdout",
     "output_type": "stream",
     "text": [
      "image name CARDS_COURTYARD_T_B_hand0_frame_0337.jpg\n",
      "\n",
      "0: 448x640 1 hand, 12.4ms\n",
      "Speed: 1.4ms preprocess, 12.4ms inference, 1.2ms postprocess per image at shape (1, 3, 448, 640)\n"
     ]
    },
    {
     "data": {
      "text/plain": [
       "<Figure size 640x480 with 1 Axes>"
      ]
     },
     "metadata": {},
     "output_type": "display_data"
    },
    {
     "name": "stdout",
     "output_type": "stream",
     "text": [
      "image name CARDS_COURTYARD_S_H_hand0_frame_1644.jpg\n",
      "\n",
      "0: 288x640 1 hand, 11.2ms\n",
      "Speed: 1.0ms preprocess, 11.2ms inference, 1.2ms postprocess per image at shape (1, 3, 288, 640)\n"
     ]
    },
    {
     "data": {
      "text/plain": [
       "<Figure size 640x480 with 1 Axes>"
      ]
     },
     "metadata": {},
     "output_type": "display_data"
    },
    {
     "name": "stdout",
     "output_type": "stream",
     "text": [
      "image name CARDS_COURTYARD_H_S_hand0_frame_0380.jpg\n",
      "\n",
      "0: 480x640 (no detections), 12.6ms\n",
      "Speed: 1.3ms preprocess, 12.6ms inference, 0.3ms postprocess per image at shape (1, 3, 480, 640)\n",
      "no results for image CARDS_COURTYARD_H_S_hand0_frame_0380.jpg!\n",
      "image name CARDS_COURTYARD_H_S_hand1_frame_0505.jpg\n",
      "\n",
      "0: 352x640 1 hand, 11.2ms\n",
      "Speed: 1.3ms preprocess, 11.2ms inference, 1.2ms postprocess per image at shape (1, 3, 352, 640)\n"
     ]
    },
    {
     "data": {
      "text/plain": [
       "<Figure size 640x480 with 1 Axes>"
      ]
     },
     "metadata": {},
     "output_type": "display_data"
    },
    {
     "name": "stdout",
     "output_type": "stream",
     "text": [
      "image name CARDS_COURTYARD_T_B_hand0_frame_1849.jpg\n",
      "\n",
      "0: 608x640 1 hand, 15.0ms\n",
      "Speed: 1.6ms preprocess, 15.0ms inference, 1.2ms postprocess per image at shape (1, 3, 608, 640)\n"
     ]
    },
    {
     "data": {
      "text/plain": [
       "<Figure size 640x480 with 1 Axes>"
      ]
     },
     "metadata": {},
     "output_type": "display_data"
    },
    {
     "name": "stdout",
     "output_type": "stream",
     "text": [
      "image name CARDS_COURTYARD_T_B_hand0_frame_0227.jpg\n",
      "\n",
      "0: 480x640 1 hand, 12.8ms\n",
      "Speed: 1.5ms preprocess, 12.8ms inference, 1.3ms postprocess per image at shape (1, 3, 480, 640)\n"
     ]
    },
    {
     "data": {
      "text/plain": [
       "<Figure size 640x480 with 1 Axes>"
      ]
     },
     "metadata": {},
     "output_type": "display_data"
    },
    {
     "name": "stdout",
     "output_type": "stream",
     "text": [
      "image name CARDS_COURTYARD_T_B_hand3_frame_1254.jpg\n",
      "\n",
      "0: 608x640 2 hands, 15.2ms\n",
      "Speed: 2.7ms preprocess, 15.2ms inference, 1.4ms postprocess per image at shape (1, 3, 608, 640)\n"
     ]
    },
    {
     "data": {
      "text/plain": [
       "<Figure size 640x480 with 1 Axes>"
      ]
     },
     "metadata": {},
     "output_type": "display_data"
    },
    {
     "name": "stdout",
     "output_type": "stream",
     "text": [
      "image name CARDS_COURTYARD_H_S_hand1_frame_2674.jpg\n",
      "\n",
      "0: 608x640 1 hand, 14.4ms\n",
      "Speed: 3.5ms preprocess, 14.4ms inference, 1.6ms postprocess per image at shape (1, 3, 608, 640)\n"
     ]
    },
    {
     "data": {
      "text/plain": [
       "<Figure size 640x480 with 1 Axes>"
      ]
     },
     "metadata": {},
     "output_type": "display_data"
    },
    {
     "name": "stdout",
     "output_type": "stream",
     "text": [
      "image name CARDS_COURTYARD_T_B_hand2_frame_0637.jpg\n",
      "\n",
      "0: 352x640 1 hand, 11.9ms\n",
      "Speed: 1.1ms preprocess, 11.9ms inference, 1.2ms postprocess per image at shape (1, 3, 352, 640)\n"
     ]
    },
    {
     "data": {
      "text/plain": [
       "<Figure size 640x480 with 1 Axes>"
      ]
     },
     "metadata": {},
     "output_type": "display_data"
    },
    {
     "name": "stdout",
     "output_type": "stream",
     "text": [
      "image name CARDS_COURTYARD_T_B_hand1_frame_2571.jpg\n",
      "\n",
      "0: 288x640 1 hand, 11.7ms\n",
      "Speed: 1.1ms preprocess, 11.7ms inference, 1.2ms postprocess per image at shape (1, 3, 288, 640)\n"
     ]
    },
    {
     "data": {
      "text/plain": [
       "<Figure size 640x480 with 1 Axes>"
      ]
     },
     "metadata": {},
     "output_type": "display_data"
    },
    {
     "name": "stdout",
     "output_type": "stream",
     "text": [
      "image name CARDS_COURTYARD_T_B_hand0_frame_0241.jpg\n",
      "\n",
      "0: 480x640 1 hand, 12.5ms\n",
      "Speed: 1.5ms preprocess, 12.5ms inference, 1.3ms postprocess per image at shape (1, 3, 480, 640)\n"
     ]
    },
    {
     "data": {
      "text/plain": [
       "<Figure size 640x480 with 1 Axes>"
      ]
     },
     "metadata": {},
     "output_type": "display_data"
    },
    {
     "name": "stdout",
     "output_type": "stream",
     "text": [
      "image name CARDS_COURTYARD_H_S_hand1_frame_0553.jpg\n",
      "\n",
      "0: 352x640 1 hand, 10.9ms\n",
      "Speed: 1.3ms preprocess, 10.9ms inference, 1.2ms postprocess per image at shape (1, 3, 352, 640)\n"
     ]
    },
    {
     "data": {
      "text/plain": [
       "<Figure size 640x480 with 1 Axes>"
      ]
     },
     "metadata": {},
     "output_type": "display_data"
    },
    {
     "name": "stdout",
     "output_type": "stream",
     "text": [
      "image name CARDS_COURTYARD_H_S_hand0_frame_1403.jpg\n",
      "\n",
      "0: 384x640 1 hand, 20.9ms\n",
      "Speed: 3.0ms preprocess, 20.9ms inference, 1.6ms postprocess per image at shape (1, 3, 384, 640)\n"
     ]
    },
    {
     "data": {
      "text/plain": [
       "<Figure size 640x480 with 1 Axes>"
      ]
     },
     "metadata": {},
     "output_type": "display_data"
    },
    {
     "name": "stdout",
     "output_type": "stream",
     "text": [
      "image name CARDS_COURTYARD_H_S_hand3_frame_2365.jpg\n",
      "\n",
      "0: 512x640 1 hand, 13.5ms\n",
      "Speed: 1.4ms preprocess, 13.5ms inference, 1.4ms postprocess per image at shape (1, 3, 512, 640)\n"
     ]
    },
    {
     "data": {
      "text/plain": [
       "<Figure size 640x480 with 1 Axes>"
      ]
     },
     "metadata": {},
     "output_type": "display_data"
    },
    {
     "name": "stdout",
     "output_type": "stream",
     "text": [
      "image name CARDS_COURTYARD_S_H_hand2_frame_1407.jpg\n",
      "\n",
      "0: 384x640 1 hand, 11.9ms\n",
      "Speed: 1.6ms preprocess, 11.9ms inference, 1.2ms postprocess per image at shape (1, 3, 384, 640)\n"
     ]
    },
    {
     "data": {
      "text/plain": [
       "<Figure size 640x480 with 1 Axes>"
      ]
     },
     "metadata": {},
     "output_type": "display_data"
    },
    {
     "name": "stdout",
     "output_type": "stream",
     "text": [
      "image name CARDS_COURTYARD_H_S_hand3_frame_1392.jpg\n",
      "\n",
      "0: 480x640 1 hand, 12.5ms\n",
      "Speed: 1.4ms preprocess, 12.5ms inference, 1.2ms postprocess per image at shape (1, 3, 480, 640)\n"
     ]
    },
    {
     "data": {
      "text/plain": [
       "<Figure size 640x480 with 1 Axes>"
      ]
     },
     "metadata": {},
     "output_type": "display_data"
    },
    {
     "name": "stdout",
     "output_type": "stream",
     "text": [
      "image name CARDS_COURTYARD_T_B_hand0_frame_0450.jpg\n",
      "\n",
      "0: 320x640 1 hand, 11.2ms\n",
      "Speed: 1.2ms preprocess, 11.2ms inference, 1.5ms postprocess per image at shape (1, 3, 320, 640)\n"
     ]
    },
    {
     "data": {
      "text/plain": [
       "<Figure size 640x480 with 1 Axes>"
      ]
     },
     "metadata": {},
     "output_type": "display_data"
    },
    {
     "name": "stdout",
     "output_type": "stream",
     "text": [
      "image name CARDS_COURTYARD_T_B_hand2_frame_1550.jpg\n",
      "\n",
      "0: 640x640 1 hand, 15.7ms\n",
      "Speed: 1.9ms preprocess, 15.7ms inference, 1.2ms postprocess per image at shape (1, 3, 640, 640)\n"
     ]
    },
    {
     "data": {
      "text/plain": [
       "<Figure size 640x480 with 1 Axes>"
      ]
     },
     "metadata": {},
     "output_type": "display_data"
    },
    {
     "name": "stdout",
     "output_type": "stream",
     "text": [
      "image name CARDS_COURTYARD_H_S_hand3_frame_0060.jpg\n",
      "\n",
      "0: 544x640 2 hands, 14.0ms\n",
      "Speed: 1.5ms preprocess, 14.0ms inference, 1.3ms postprocess per image at shape (1, 3, 544, 640)\n"
     ]
    },
    {
     "data": {
      "text/plain": [
       "<Figure size 640x480 with 1 Axes>"
      ]
     },
     "metadata": {},
     "output_type": "display_data"
    },
    {
     "name": "stdout",
     "output_type": "stream",
     "text": [
      "image name CARDS_COURTYARD_H_S_hand3_frame_1435.jpg\n",
      "\n",
      "0: 480x640 2 hands, 12.5ms\n",
      "Speed: 1.3ms preprocess, 12.5ms inference, 1.3ms postprocess per image at shape (1, 3, 480, 640)\n"
     ]
    },
    {
     "data": {
      "text/plain": [
       "<Figure size 640x480 with 1 Axes>"
      ]
     },
     "metadata": {},
     "output_type": "display_data"
    },
    {
     "name": "stdout",
     "output_type": "stream",
     "text": [
      "image name CARDS_COURTYARD_H_S_hand0_frame_1185.jpg\n",
      "\n",
      "0: 416x640 1 hand, 11.7ms\n",
      "Speed: 1.6ms preprocess, 11.7ms inference, 1.2ms postprocess per image at shape (1, 3, 416, 640)\n"
     ]
    },
    {
     "data": {
      "text/plain": [
       "<Figure size 640x480 with 1 Axes>"
      ]
     },
     "metadata": {},
     "output_type": "display_data"
    },
    {
     "name": "stdout",
     "output_type": "stream",
     "text": [
      "image name CARDS_COURTYARD_S_H_hand2_frame_0747.jpg\n",
      "\n",
      "0: 352x640 1 hand, 20.3ms\n",
      "Speed: 2.7ms preprocess, 20.3ms inference, 1.6ms postprocess per image at shape (1, 3, 352, 640)\n"
     ]
    },
    {
     "data": {
      "text/plain": [
       "<Figure size 640x480 with 1 Axes>"
      ]
     },
     "metadata": {},
     "output_type": "display_data"
    },
    {
     "name": "stdout",
     "output_type": "stream",
     "text": [
      "image name CARDS_COURTYARD_H_S_hand3_frame_1026.jpg\n",
      "\n",
      "0: 544x640 1 hand, 14.4ms\n",
      "Speed: 1.7ms preprocess, 14.4ms inference, 1.2ms postprocess per image at shape (1, 3, 544, 640)\n"
     ]
    },
    {
     "data": {
      "text/plain": [
       "<Figure size 640x480 with 1 Axes>"
      ]
     },
     "metadata": {},
     "output_type": "display_data"
    },
    {
     "name": "stdout",
     "output_type": "stream",
     "text": [
      "image name CARDS_COURTYARD_H_S_hand3_frame_1284.jpg\n",
      "\n",
      "0: 448x640 1 hand, 24.8ms\n",
      "Speed: 4.3ms preprocess, 24.8ms inference, 1.5ms postprocess per image at shape (1, 3, 448, 640)\n"
     ]
    },
    {
     "data": {
      "text/plain": [
       "<Figure size 640x480 with 1 Axes>"
      ]
     },
     "metadata": {},
     "output_type": "display_data"
    },
    {
     "name": "stdout",
     "output_type": "stream",
     "text": [
      "image name CARDS_COURTYARD_H_S_hand1_frame_1674.jpg\n",
      "\n",
      "0: 480x640 1 hand, 12.5ms\n",
      "Speed: 1.6ms preprocess, 12.5ms inference, 1.2ms postprocess per image at shape (1, 3, 480, 640)\n"
     ]
    },
    {
     "data": {
      "text/plain": [
       "<Figure size 640x480 with 1 Axes>"
      ]
     },
     "metadata": {},
     "output_type": "display_data"
    },
    {
     "name": "stdout",
     "output_type": "stream",
     "text": [
      "image name CARDS_COURTYARD_T_B_hand1_frame_0360.jpg\n",
      "\n",
      "0: 544x640 1 hand, 13.9ms\n",
      "Speed: 1.7ms preprocess, 13.9ms inference, 1.7ms postprocess per image at shape (1, 3, 544, 640)\n"
     ]
    },
    {
     "data": {
      "text/plain": [
       "<Figure size 640x480 with 1 Axes>"
      ]
     },
     "metadata": {},
     "output_type": "display_data"
    },
    {
     "name": "stdout",
     "output_type": "stream",
     "text": [
      "image name CARDS_COURTYARD_T_B_hand1_frame_1661.jpg\n",
      "\n",
      "0: 384x640 1 hand, 10.8ms\n",
      "Speed: 1.3ms preprocess, 10.8ms inference, 1.1ms postprocess per image at shape (1, 3, 384, 640)\n"
     ]
    },
    {
     "data": {
      "text/plain": [
       "<Figure size 640x480 with 1 Axes>"
      ]
     },
     "metadata": {},
     "output_type": "display_data"
    },
    {
     "name": "stdout",
     "output_type": "stream",
     "text": [
      "image name CARDS_COURTYARD_T_B_hand2_frame_1432.jpg\n",
      "\n",
      "0: 384x640 1 hand, 12.1ms\n",
      "Speed: 1.6ms preprocess, 12.1ms inference, 1.2ms postprocess per image at shape (1, 3, 384, 640)\n"
     ]
    },
    {
     "data": {
      "text/plain": [
       "<Figure size 640x480 with 1 Axes>"
      ]
     },
     "metadata": {},
     "output_type": "display_data"
    },
    {
     "name": "stdout",
     "output_type": "stream",
     "text": [
      "image name CARDS_COURTYARD_H_S_hand1_frame_0552.jpg\n",
      "\n",
      "0: 384x640 1 hand, 13.3ms\n",
      "Speed: 2.2ms preprocess, 13.3ms inference, 1.3ms postprocess per image at shape (1, 3, 384, 640)\n"
     ]
    },
    {
     "data": {
      "text/plain": [
       "<Figure size 640x480 with 1 Axes>"
      ]
     },
     "metadata": {},
     "output_type": "display_data"
    },
    {
     "name": "stdout",
     "output_type": "stream",
     "text": [
      "image name CARDS_COURTYARD_T_B_hand0_frame_0685.jpg\n",
      "\n",
      "0: 384x640 1 hand, 10.9ms\n",
      "Speed: 1.3ms preprocess, 10.9ms inference, 1.3ms postprocess per image at shape (1, 3, 384, 640)\n"
     ]
    },
    {
     "data": {
      "text/plain": [
       "<Figure size 640x480 with 1 Axes>"
      ]
     },
     "metadata": {},
     "output_type": "display_data"
    },
    {
     "name": "stdout",
     "output_type": "stream",
     "text": [
      "image name CARDS_COURTYARD_T_B_hand1_frame_1239.jpg\n",
      "\n",
      "0: 288x640 1 hand, 11.9ms\n",
      "Speed: 1.1ms preprocess, 11.9ms inference, 1.2ms postprocess per image at shape (1, 3, 288, 640)\n"
     ]
    },
    {
     "data": {
      "text/plain": [
       "<Figure size 640x480 with 1 Axes>"
      ]
     },
     "metadata": {},
     "output_type": "display_data"
    },
    {
     "name": "stdout",
     "output_type": "stream",
     "text": [
      "image name CARDS_COURTYARD_H_S_hand0_frame_0726.jpg\n",
      "\n",
      "0: 320x640 1 hand, 10.8ms\n",
      "Speed: 1.1ms preprocess, 10.8ms inference, 1.3ms postprocess per image at shape (1, 3, 320, 640)\n"
     ]
    },
    {
     "data": {
      "text/plain": [
       "<Figure size 640x480 with 1 Axes>"
      ]
     },
     "metadata": {},
     "output_type": "display_data"
    },
    {
     "name": "stdout",
     "output_type": "stream",
     "text": [
      "image name CARDS_COURTYARD_H_S_hand0_frame_0763.jpg\n",
      "\n",
      "0: 320x640 2 hands, 10.8ms\n",
      "Speed: 1.1ms preprocess, 10.8ms inference, 1.2ms postprocess per image at shape (1, 3, 320, 640)\n"
     ]
    },
    {
     "data": {
      "text/plain": [
       "<Figure size 640x480 with 1 Axes>"
      ]
     },
     "metadata": {},
     "output_type": "display_data"
    },
    {
     "name": "stdout",
     "output_type": "stream",
     "text": [
      "image name CARDS_COURTYARD_H_S_hand0_frame_0129.jpg\n",
      "\n",
      "0: 384x640 (no detections), 11.6ms\n",
      "Speed: 1.2ms preprocess, 11.6ms inference, 0.3ms postprocess per image at shape (1, 3, 384, 640)\n",
      "no results for image CARDS_COURTYARD_H_S_hand0_frame_0129.jpg!\n",
      "image name CARDS_COURTYARD_S_H_hand2_frame_1688.jpg\n",
      "\n",
      "0: 352x640 1 hand, 10.9ms\n",
      "Speed: 1.0ms preprocess, 10.9ms inference, 1.2ms postprocess per image at shape (1, 3, 352, 640)\n"
     ]
    },
    {
     "data": {
      "text/plain": [
       "<Figure size 640x480 with 1 Axes>"
      ]
     },
     "metadata": {},
     "output_type": "display_data"
    },
    {
     "name": "stdout",
     "output_type": "stream",
     "text": [
      "image name CARDS_COURTYARD_H_S_hand0_frame_1962.jpg\n",
      "\n",
      "0: 416x640 1 hand, 23.7ms\n",
      "Speed: 3.3ms preprocess, 23.7ms inference, 1.8ms postprocess per image at shape (1, 3, 416, 640)\n"
     ]
    },
    {
     "data": {
      "text/plain": [
       "<Figure size 640x480 with 1 Axes>"
      ]
     },
     "metadata": {},
     "output_type": "display_data"
    },
    {
     "name": "stdout",
     "output_type": "stream",
     "text": [
      "image name CARDS_COURTYARD_H_S_hand0_frame_0199.jpg\n",
      "\n",
      "0: 352x640 1 hand, 18.3ms\n",
      "Speed: 1.3ms preprocess, 18.3ms inference, 2.1ms postprocess per image at shape (1, 3, 352, 640)\n"
     ]
    },
    {
     "data": {
      "text/plain": [
       "<Figure size 640x480 with 1 Axes>"
      ]
     },
     "metadata": {},
     "output_type": "display_data"
    },
    {
     "name": "stdout",
     "output_type": "stream",
     "text": [
      "image name CARDS_COURTYARD_S_H_hand3_frame_1486.jpg\n",
      "\n",
      "0: 480x640 1 hand, 18.0ms\n",
      "Speed: 3.1ms preprocess, 18.0ms inference, 1.6ms postprocess per image at shape (1, 3, 480, 640)\n"
     ]
    },
    {
     "data": {
      "text/plain": [
       "<Figure size 640x480 with 1 Axes>"
      ]
     },
     "metadata": {},
     "output_type": "display_data"
    },
    {
     "name": "stdout",
     "output_type": "stream",
     "text": [
      "image name CARDS_COURTYARD_H_S_hand1_frame_0183.jpg\n",
      "\n",
      "0: 288x640 1 hand, 12.0ms\n",
      "Speed: 1.6ms preprocess, 12.0ms inference, 1.2ms postprocess per image at shape (1, 3, 288, 640)\n"
     ]
    },
    {
     "data": {
      "text/plain": [
       "<Figure size 640x480 with 1 Axes>"
      ]
     },
     "metadata": {},
     "output_type": "display_data"
    },
    {
     "name": "stdout",
     "output_type": "stream",
     "text": [
      "image name CARDS_COURTYARD_S_H_hand3_frame_0074.jpg\n",
      "\n",
      "0: 384x640 1 hand, 15.7ms\n",
      "Speed: 2.1ms preprocess, 15.7ms inference, 1.2ms postprocess per image at shape (1, 3, 384, 640)\n"
     ]
    },
    {
     "data": {
      "text/plain": [
       "<Figure size 640x480 with 1 Axes>"
      ]
     },
     "metadata": {},
     "output_type": "display_data"
    },
    {
     "name": "stdout",
     "output_type": "stream",
     "text": [
      "image name CARDS_COURTYARD_H_S_hand0_frame_1479.jpg\n",
      "\n",
      "0: 416x640 1 hand, 11.3ms\n",
      "Speed: 1.3ms preprocess, 11.3ms inference, 1.2ms postprocess per image at shape (1, 3, 416, 640)\n"
     ]
    },
    {
     "data": {
      "text/plain": [
       "<Figure size 640x480 with 1 Axes>"
      ]
     },
     "metadata": {},
     "output_type": "display_data"
    },
    {
     "name": "stdout",
     "output_type": "stream",
     "text": [
      "image name CARDS_COURTYARD_T_B_hand2_frame_1849.jpg\n",
      "\n",
      "0: 320x640 1 hand, 13.5ms\n",
      "Speed: 1.3ms preprocess, 13.5ms inference, 1.8ms postprocess per image at shape (1, 3, 320, 640)\n"
     ]
    },
    {
     "data": {
      "text/plain": [
       "<Figure size 640x480 with 1 Axes>"
      ]
     },
     "metadata": {},
     "output_type": "display_data"
    },
    {
     "name": "stdout",
     "output_type": "stream",
     "text": [
      "image name CARDS_COURTYARD_H_S_hand0_frame_1983.jpg\n",
      "\n",
      "0: 352x640 1 hand, 20.6ms\n",
      "Speed: 2.2ms preprocess, 20.6ms inference, 1.5ms postprocess per image at shape (1, 3, 352, 640)\n"
     ]
    },
    {
     "data": {
      "text/plain": [
       "<Figure size 640x480 with 1 Axes>"
      ]
     },
     "metadata": {},
     "output_type": "display_data"
    },
    {
     "name": "stdout",
     "output_type": "stream",
     "text": [
      "image name CARDS_COURTYARD_H_S_hand3_frame_0183.jpg\n",
      "\n",
      "0: 480x640 2 hands, 13.2ms\n",
      "Speed: 1.6ms preprocess, 13.2ms inference, 1.2ms postprocess per image at shape (1, 3, 480, 640)\n"
     ]
    },
    {
     "data": {
      "text/plain": [
       "<Figure size 640x480 with 1 Axes>"
      ]
     },
     "metadata": {},
     "output_type": "display_data"
    },
    {
     "name": "stdout",
     "output_type": "stream",
     "text": [
      "image name CARDS_COURTYARD_S_H_hand1_frame_1550.jpg\n",
      "\n",
      "0: 352x640 1 hand, 11.2ms\n",
      "Speed: 1.2ms preprocess, 11.2ms inference, 1.6ms postprocess per image at shape (1, 3, 352, 640)\n"
     ]
    },
    {
     "data": {
      "text/plain": [
       "<Figure size 640x480 with 1 Axes>"
      ]
     },
     "metadata": {},
     "output_type": "display_data"
    },
    {
     "name": "stdout",
     "output_type": "stream",
     "text": [
      "image name CARDS_COURTYARD_T_B_hand2_frame_1564.jpg\n",
      "\n",
      "0: 576x640 1 hand, 14.4ms\n",
      "Speed: 2.4ms preprocess, 14.4ms inference, 1.2ms postprocess per image at shape (1, 3, 576, 640)\n"
     ]
    },
    {
     "data": {
      "text/plain": [
       "<Figure size 640x480 with 1 Axes>"
      ]
     },
     "metadata": {},
     "output_type": "display_data"
    },
    {
     "name": "stdout",
     "output_type": "stream",
     "text": [
      "image name CARDS_COURTYARD_S_H_hand3_frame_0912.jpg\n",
      "\n",
      "0: 512x640 1 hand, 12.7ms\n",
      "Speed: 1.4ms preprocess, 12.7ms inference, 1.6ms postprocess per image at shape (1, 3, 512, 640)\n"
     ]
    },
    {
     "data": {
      "text/plain": [
       "<Figure size 640x480 with 1 Axes>"
      ]
     },
     "metadata": {},
     "output_type": "display_data"
    },
    {
     "name": "stdout",
     "output_type": "stream",
     "text": [
      "image name CARDS_COURTYARD_H_S_hand1_frame_2693.jpg\n",
      "\n",
      "0: 608x640 1 hand, 15.0ms\n",
      "Speed: 1.9ms preprocess, 15.0ms inference, 1.2ms postprocess per image at shape (1, 3, 608, 640)\n"
     ]
    },
    {
     "data": {
      "text/plain": [
       "<Figure size 640x480 with 1 Axes>"
      ]
     },
     "metadata": {},
     "output_type": "display_data"
    },
    {
     "name": "stdout",
     "output_type": "stream",
     "text": [
      "image name CARDS_COURTYARD_H_S_hand3_frame_1074.jpg\n",
      "\n",
      "0: 544x640 2 hands, 13.8ms\n",
      "Speed: 1.5ms preprocess, 13.8ms inference, 1.2ms postprocess per image at shape (1, 3, 544, 640)\n"
     ]
    },
    {
     "data": {
      "text/plain": [
       "<Figure size 640x480 with 1 Axes>"
      ]
     },
     "metadata": {},
     "output_type": "display_data"
    },
    {
     "name": "stdout",
     "output_type": "stream",
     "text": [
      "image name CARDS_COURTYARD_H_S_hand1_frame_0141.jpg\n",
      "\n",
      "0: 384x640 1 hand, 11.4ms\n",
      "Speed: 1.3ms preprocess, 11.4ms inference, 1.2ms postprocess per image at shape (1, 3, 384, 640)\n"
     ]
    },
    {
     "data": {
      "text/plain": [
       "<Figure size 640x480 with 1 Axes>"
      ]
     },
     "metadata": {},
     "output_type": "display_data"
    },
    {
     "name": "stdout",
     "output_type": "stream",
     "text": [
      "image name CARDS_COURTYARD_T_B_hand2_frame_0227.jpg\n",
      "\n",
      "0: 288x640 1 hand, 23.2ms\n",
      "Speed: 2.4ms preprocess, 23.2ms inference, 2.1ms postprocess per image at shape (1, 3, 288, 640)\n"
     ]
    },
    {
     "data": {
      "text/plain": [
       "<Figure size 640x480 with 1 Axes>"
      ]
     },
     "metadata": {},
     "output_type": "display_data"
    },
    {
     "name": "stdout",
     "output_type": "stream",
     "text": [
      "image name CARDS_COURTYARD_S_H_hand2_frame_0146.jpg\n",
      "\n",
      "0: 288x640 1 hand, 22.5ms\n",
      "Speed: 5.8ms preprocess, 22.5ms inference, 1.9ms postprocess per image at shape (1, 3, 288, 640)\n"
     ]
    },
    {
     "data": {
      "text/plain": [
       "<Figure size 640x480 with 1 Axes>"
      ]
     },
     "metadata": {},
     "output_type": "display_data"
    },
    {
     "name": "stdout",
     "output_type": "stream",
     "text": [
      "image name CARDS_COURTYARD_H_S_hand1_frame_1257.jpg\n",
      "\n",
      "0: 352x640 1 hand, 11.0ms\n",
      "Speed: 1.2ms preprocess, 11.0ms inference, 1.3ms postprocess per image at shape (1, 3, 352, 640)\n"
     ]
    },
    {
     "data": {
      "text/plain": [
       "<Figure size 640x480 with 1 Axes>"
      ]
     },
     "metadata": {},
     "output_type": "display_data"
    },
    {
     "name": "stdout",
     "output_type": "stream",
     "text": [
      "image name CARDS_COURTYARD_T_B_hand3_frame_0911.jpg\n",
      "\n",
      "0: 416x640 1 hand, 11.7ms\n",
      "Speed: 1.2ms preprocess, 11.7ms inference, 1.2ms postprocess per image at shape (1, 3, 416, 640)\n"
     ]
    },
    {
     "data": {
      "text/plain": [
       "<Figure size 640x480 with 1 Axes>"
      ]
     },
     "metadata": {},
     "output_type": "display_data"
    },
    {
     "name": "stdout",
     "output_type": "stream",
     "text": [
      "image name CARDS_COURTYARD_H_S_hand1_frame_0209.jpg\n",
      "\n",
      "0: 320x640 1 hand, 11.1ms\n",
      "Speed: 1.2ms preprocess, 11.1ms inference, 1.2ms postprocess per image at shape (1, 3, 320, 640)\n"
     ]
    },
    {
     "data": {
      "text/plain": [
       "<Figure size 640x480 with 1 Axes>"
      ]
     },
     "metadata": {},
     "output_type": "display_data"
    },
    {
     "name": "stdout",
     "output_type": "stream",
     "text": [
      "image name CARDS_COURTYARD_H_S_hand1_frame_2134.jpg\n",
      "\n",
      "0: 384x640 1 hand, 11.1ms\n",
      "Speed: 1.5ms preprocess, 11.1ms inference, 1.2ms postprocess per image at shape (1, 3, 384, 640)\n"
     ]
    },
    {
     "data": {
      "text/plain": [
       "<Figure size 640x480 with 1 Axes>"
      ]
     },
     "metadata": {},
     "output_type": "display_data"
    },
    {
     "name": "stdout",
     "output_type": "stream",
     "text": [
      "image name CARDS_COURTYARD_H_S_hand3_frame_2163.jpg\n",
      "\n",
      "0: 384x640 1 hand, 10.8ms\n",
      "Speed: 1.1ms preprocess, 10.8ms inference, 1.2ms postprocess per image at shape (1, 3, 384, 640)\n"
     ]
    },
    {
     "data": {
      "text/plain": [
       "<Figure size 640x480 with 1 Axes>"
      ]
     },
     "metadata": {},
     "output_type": "display_data"
    },
    {
     "name": "stdout",
     "output_type": "stream",
     "text": [
      "image name CARDS_COURTYARD_H_S_hand2_frame_1830.jpg\n",
      "\n",
      "0: 384x640 2 hands, 10.5ms\n",
      "Speed: 1.2ms preprocess, 10.5ms inference, 1.2ms postprocess per image at shape (1, 3, 384, 640)\n"
     ]
    },
    {
     "data": {
      "text/plain": [
       "<Figure size 640x480 with 1 Axes>"
      ]
     },
     "metadata": {},
     "output_type": "display_data"
    },
    {
     "name": "stdout",
     "output_type": "stream",
     "text": [
      "image name CARDS_COURTYARD_T_B_hand3_frame_0412.jpg\n",
      "\n",
      "0: 416x640 1 hand, 11.8ms\n",
      "Speed: 1.3ms preprocess, 11.8ms inference, 1.4ms postprocess per image at shape (1, 3, 416, 640)\n"
     ]
    },
    {
     "data": {
      "text/plain": [
       "<Figure size 640x480 with 1 Axes>"
      ]
     },
     "metadata": {},
     "output_type": "display_data"
    },
    {
     "name": "stdout",
     "output_type": "stream",
     "text": [
      "image name CARDS_COURTYARD_H_S_hand1_frame_2533.jpg\n",
      "\n",
      "0: 480x640 1 hand, 12.6ms\n",
      "Speed: 1.5ms preprocess, 12.6ms inference, 1.3ms postprocess per image at shape (1, 3, 480, 640)\n"
     ]
    },
    {
     "data": {
      "text/plain": [
       "<Figure size 640x480 with 1 Axes>"
      ]
     },
     "metadata": {},
     "output_type": "display_data"
    },
    {
     "name": "stdout",
     "output_type": "stream",
     "text": [
      "image name CARDS_COURTYARD_T_B_hand1_frame_0638.jpg\n",
      "\n",
      "0: 288x640 1 hand, 11.9ms\n",
      "Speed: 1.1ms preprocess, 11.9ms inference, 1.2ms postprocess per image at shape (1, 3, 288, 640)\n"
     ]
    },
    {
     "data": {
      "text/plain": [
       "<Figure size 640x480 with 1 Axes>"
      ]
     },
     "metadata": {},
     "output_type": "display_data"
    },
    {
     "name": "stdout",
     "output_type": "stream",
     "text": [
      "image name CARDS_COURTYARD_T_B_hand0_frame_1564.jpg\n",
      "\n",
      "0: 384x640 1 hand, 11.5ms\n",
      "Speed: 1.3ms preprocess, 11.5ms inference, 1.2ms postprocess per image at shape (1, 3, 384, 640)\n"
     ]
    },
    {
     "data": {
      "text/plain": [
       "<Figure size 640x480 with 1 Axes>"
      ]
     },
     "metadata": {},
     "output_type": "display_data"
    },
    {
     "name": "stdout",
     "output_type": "stream",
     "text": [
      "image name CARDS_COURTYARD_S_H_hand2_frame_1223.jpg\n",
      "\n",
      "0: 384x640 1 hand, 11.0ms\n",
      "Speed: 1.3ms preprocess, 11.0ms inference, 1.2ms postprocess per image at shape (1, 3, 384, 640)\n"
     ]
    },
    {
     "data": {
      "text/plain": [
       "<Figure size 640x480 with 1 Axes>"
      ]
     },
     "metadata": {},
     "output_type": "display_data"
    },
    {
     "name": "stdout",
     "output_type": "stream",
     "text": [
      "image name CARDS_COURTYARD_T_B_hand1_frame_2132.jpg\n",
      "\n",
      "0: 288x640 1 hand, 17.8ms\n",
      "Speed: 2.2ms preprocess, 17.8ms inference, 1.5ms postprocess per image at shape (1, 3, 288, 640)\n"
     ]
    },
    {
     "data": {
      "text/plain": [
       "<Figure size 640x480 with 1 Axes>"
      ]
     },
     "metadata": {},
     "output_type": "display_data"
    },
    {
     "name": "stdout",
     "output_type": "stream",
     "text": [
      "image name CARDS_COURTYARD_H_S_hand3_frame_1939.jpg\n",
      "\n",
      "0: 544x640 1 hand, 14.7ms\n",
      "Speed: 1.6ms preprocess, 14.7ms inference, 2.7ms postprocess per image at shape (1, 3, 544, 640)\n"
     ]
    },
    {
     "data": {
      "text/plain": [
       "<Figure size 640x480 with 1 Axes>"
      ]
     },
     "metadata": {},
     "output_type": "display_data"
    },
    {
     "name": "stdout",
     "output_type": "stream",
     "text": [
      "image name CARDS_COURTYARD_H_S_hand2_frame_1514.jpg\n",
      "\n",
      "0: 416x640 2 hands, 11.4ms\n",
      "Speed: 1.3ms preprocess, 11.4ms inference, 1.2ms postprocess per image at shape (1, 3, 416, 640)\n"
     ]
    },
    {
     "data": {
      "text/plain": [
       "<Figure size 640x480 with 1 Axes>"
      ]
     },
     "metadata": {},
     "output_type": "display_data"
    },
    {
     "name": "stdout",
     "output_type": "stream",
     "text": [
      "image name CARDS_COURTYARD_S_H_hand0_frame_1951.jpg\n",
      "\n",
      "0: 416x640 1 hand, 10.5ms\n",
      "Speed: 1.2ms preprocess, 10.5ms inference, 1.3ms postprocess per image at shape (1, 3, 416, 640)\n"
     ]
    },
    {
     "data": {
      "text/plain": [
       "<Figure size 640x480 with 1 Axes>"
      ]
     },
     "metadata": {},
     "output_type": "display_data"
    },
    {
     "name": "stdout",
     "output_type": "stream",
     "text": [
      "image name CARDS_COURTYARD_S_H_hand3_frame_0324.jpg\n",
      "\n",
      "0: 608x640 1 hand, 15.1ms\n",
      "Speed: 1.9ms preprocess, 15.1ms inference, 1.2ms postprocess per image at shape (1, 3, 608, 640)\n"
     ]
    },
    {
     "data": {
      "text/plain": [
       "<Figure size 640x480 with 1 Axes>"
      ]
     },
     "metadata": {},
     "output_type": "display_data"
    },
    {
     "name": "stdout",
     "output_type": "stream",
     "text": [
      "image name CARDS_COURTYARD_H_S_hand0_frame_1392.jpg\n",
      "\n",
      "0: 352x640 1 hand, 13.4ms\n",
      "Speed: 3.3ms preprocess, 13.4ms inference, 1.2ms postprocess per image at shape (1, 3, 352, 640)\n"
     ]
    },
    {
     "data": {
      "text/plain": [
       "<Figure size 640x480 with 1 Axes>"
      ]
     },
     "metadata": {},
     "output_type": "display_data"
    },
    {
     "name": "stdout",
     "output_type": "stream",
     "text": [
      "image name CARDS_COURTYARD_H_S_hand0_frame_0549.jpg\n",
      "\n",
      "0: 416x640 1 hand, 17.2ms\n",
      "Speed: 1.4ms preprocess, 17.2ms inference, 2.7ms postprocess per image at shape (1, 3, 416, 640)\n"
     ]
    },
    {
     "data": {
      "text/plain": [
       "<Figure size 640x480 with 1 Axes>"
      ]
     },
     "metadata": {},
     "output_type": "display_data"
    },
    {
     "name": "stdout",
     "output_type": "stream",
     "text": [
      "image name CARDS_COURTYARD_H_S_hand1_frame_0325.jpg\n",
      "\n",
      "0: 320x640 1 hand, 13.4ms\n",
      "Speed: 1.5ms preprocess, 13.4ms inference, 1.4ms postprocess per image at shape (1, 3, 320, 640)\n"
     ]
    },
    {
     "data": {
      "text/plain": [
       "<Figure size 640x480 with 1 Axes>"
      ]
     },
     "metadata": {},
     "output_type": "display_data"
    },
    {
     "name": "stdout",
     "output_type": "stream",
     "text": [
      "image name CARDS_COURTYARD_H_S_hand3_frame_0611.jpg\n",
      "\n",
      "0: 576x640 1 hand, 19.0ms\n",
      "Speed: 3.9ms preprocess, 19.0ms inference, 1.7ms postprocess per image at shape (1, 3, 576, 640)\n"
     ]
    },
    {
     "data": {
      "text/plain": [
       "<Figure size 640x480 with 1 Axes>"
      ]
     },
     "metadata": {},
     "output_type": "display_data"
    },
    {
     "name": "stdout",
     "output_type": "stream",
     "text": [
      "image name CARDS_COURTYARD_H_S_hand3_frame_1962.jpg\n",
      "\n",
      "0: 544x640 1 hand, 13.8ms\n",
      "Speed: 1.6ms preprocess, 13.8ms inference, 1.2ms postprocess per image at shape (1, 3, 544, 640)\n"
     ]
    },
    {
     "data": {
      "text/plain": [
       "<Figure size 640x480 with 1 Axes>"
      ]
     },
     "metadata": {},
     "output_type": "display_data"
    },
    {
     "name": "stdout",
     "output_type": "stream",
     "text": [
      "image name CARDS_COURTYARD_T_B_hand2_frame_0360.jpg\n",
      "\n",
      "0: 320x640 1 hand, 12.5ms\n",
      "Speed: 1.1ms preprocess, 12.5ms inference, 2.7ms postprocess per image at shape (1, 3, 320, 640)\n"
     ]
    },
    {
     "data": {
      "text/plain": [
       "<Figure size 640x480 with 1 Axes>"
      ]
     },
     "metadata": {},
     "output_type": "display_data"
    },
    {
     "name": "stdout",
     "output_type": "stream",
     "text": [
      "image name CARDS_COURTYARD_T_B_hand1_frame_2175.jpg\n",
      "\n",
      "0: 256x640 1 hand, 11.9ms\n",
      "Speed: 1.1ms preprocess, 11.9ms inference, 1.2ms postprocess per image at shape (1, 3, 256, 640)\n"
     ]
    },
    {
     "data": {
      "text/plain": [
       "<Figure size 640x480 with 1 Axes>"
      ]
     },
     "metadata": {},
     "output_type": "display_data"
    },
    {
     "name": "stdout",
     "output_type": "stream",
     "text": [
      "image name CARDS_COURTYARD_H_S_hand1_frame_0861.jpg\n",
      "\n",
      "0: 352x640 1 hand, 11.0ms\n",
      "Speed: 1.3ms preprocess, 11.0ms inference, 1.2ms postprocess per image at shape (1, 3, 352, 640)\n"
     ]
    },
    {
     "data": {
      "text/plain": [
       "<Figure size 640x480 with 1 Axes>"
      ]
     },
     "metadata": {},
     "output_type": "display_data"
    },
    {
     "name": "stdout",
     "output_type": "stream",
     "text": [
      "image name CARDS_COURTYARD_S_H_hand2_frame_2206.jpg\n",
      "\n",
      "0: 384x640 1 hand, 14.2ms\n",
      "Speed: 1.9ms preprocess, 14.2ms inference, 1.3ms postprocess per image at shape (1, 3, 384, 640)\n"
     ]
    },
    {
     "data": {
      "text/plain": [
       "<Figure size 640x480 with 1 Axes>"
      ]
     },
     "metadata": {},
     "output_type": "display_data"
    },
    {
     "name": "stdout",
     "output_type": "stream",
     "text": [
      "image name CARDS_COURTYARD_S_H_hand2_frame_0469.jpg\n",
      "\n",
      "0: 320x640 1 hand, 11.1ms\n",
      "Speed: 1.0ms preprocess, 11.1ms inference, 1.2ms postprocess per image at shape (1, 3, 320, 640)\n"
     ]
    },
    {
     "data": {
      "text/plain": [
       "<Figure size 640x480 with 1 Axes>"
      ]
     },
     "metadata": {},
     "output_type": "display_data"
    },
    {
     "name": "stdout",
     "output_type": "stream",
     "text": [
      "image name CARDS_COURTYARD_T_B_hand2_frame_2002.jpg\n",
      "\n",
      "0: 352x640 2 hands, 11.0ms\n",
      "Speed: 1.2ms preprocess, 11.0ms inference, 1.2ms postprocess per image at shape (1, 3, 352, 640)\n"
     ]
    },
    {
     "data": {
      "text/plain": [
       "<Figure size 640x480 with 1 Axes>"
      ]
     },
     "metadata": {},
     "output_type": "display_data"
    },
    {
     "name": "stdout",
     "output_type": "stream",
     "text": [
      "image name CARDS_COURTYARD_S_H_hand3_frame_2556.jpg\n",
      "\n",
      "0: 640x480 1 hand, 12.6ms\n",
      "Speed: 1.4ms preprocess, 12.6ms inference, 1.3ms postprocess per image at shape (1, 3, 640, 480)\n"
     ]
    },
    {
     "data": {
      "text/plain": [
       "<Figure size 640x480 with 1 Axes>"
      ]
     },
     "metadata": {},
     "output_type": "display_data"
    },
    {
     "name": "stdout",
     "output_type": "stream",
     "text": [
      "image name CARDS_COURTYARD_H_S_hand1_frame_2452.jpg\n",
      "\n",
      "0: 416x640 1 hand, 20.7ms\n",
      "Speed: 3.5ms preprocess, 20.7ms inference, 1.5ms postprocess per image at shape (1, 3, 416, 640)\n"
     ]
    },
    {
     "data": {
      "text/plain": [
       "<Figure size 640x480 with 1 Axes>"
      ]
     },
     "metadata": {},
     "output_type": "display_data"
    },
    {
     "name": "stdout",
     "output_type": "stream",
     "text": [
      "image name CARDS_COURTYARD_H_S_hand1_frame_0199.jpg\n",
      "\n",
      "0: 320x640 1 hand, 11.6ms\n",
      "Speed: 1.1ms preprocess, 11.6ms inference, 1.2ms postprocess per image at shape (1, 3, 320, 640)\n"
     ]
    },
    {
     "data": {
      "text/plain": [
       "<Figure size 640x480 with 1 Axes>"
      ]
     },
     "metadata": {},
     "output_type": "display_data"
    },
    {
     "name": "stdout",
     "output_type": "stream",
     "text": [
      "image name CARDS_COURTYARD_S_H_hand2_frame_1353.jpg\n",
      "\n",
      "0: 416x640 1 hand, 11.3ms\n",
      "Speed: 1.3ms preprocess, 11.3ms inference, 1.2ms postprocess per image at shape (1, 3, 416, 640)\n"
     ]
    },
    {
     "data": {
      "text/plain": [
       "<Figure size 640x480 with 1 Axes>"
      ]
     },
     "metadata": {},
     "output_type": "display_data"
    },
    {
     "name": "stdout",
     "output_type": "stream",
     "text": [
      "image name CARDS_COURTYARD_T_B_hand3_frame_1564.jpg\n",
      "\n",
      "0: 448x640 1 hand, 11.5ms\n",
      "Speed: 1.4ms preprocess, 11.5ms inference, 1.2ms postprocess per image at shape (1, 3, 448, 640)\n"
     ]
    },
    {
     "data": {
      "text/plain": [
       "<Figure size 640x480 with 1 Axes>"
      ]
     },
     "metadata": {},
     "output_type": "display_data"
    },
    {
     "name": "stdout",
     "output_type": "stream",
     "text": [
      "image name CARDS_COURTYARD_T_B_hand0_frame_2272.jpg\n",
      "\n",
      "0: 384x640 1 hand, 11.4ms\n",
      "Speed: 1.2ms preprocess, 11.4ms inference, 1.2ms postprocess per image at shape (1, 3, 384, 640)\n"
     ]
    },
    {
     "data": {
      "text/plain": [
       "<Figure size 640x480 with 1 Axes>"
      ]
     },
     "metadata": {},
     "output_type": "display_data"
    },
    {
     "name": "stdout",
     "output_type": "stream",
     "text": [
      "image name CARDS_COURTYARD_S_H_hand0_frame_0903.jpg\n",
      "\n",
      "0: 640x576 1 hand, 14.9ms\n",
      "Speed: 2.5ms preprocess, 14.9ms inference, 1.2ms postprocess per image at shape (1, 3, 640, 576)\n"
     ]
    },
    {
     "data": {
      "text/plain": [
       "<Figure size 640x480 with 1 Axes>"
      ]
     },
     "metadata": {},
     "output_type": "display_data"
    },
    {
     "name": "stdout",
     "output_type": "stream",
     "text": [
      "image name CARDS_COURTYARD_T_B_hand2_frame_0629.jpg\n",
      "\n",
      "0: 320x640 1 hand, 10.7ms\n",
      "Speed: 1.0ms preprocess, 10.7ms inference, 1.1ms postprocess per image at shape (1, 3, 320, 640)\n"
     ]
    },
    {
     "data": {
      "text/plain": [
       "<Figure size 640x480 with 1 Axes>"
      ]
     },
     "metadata": {},
     "output_type": "display_data"
    },
    {
     "name": "stdout",
     "output_type": "stream",
     "text": [
      "image name CARDS_COURTYARD_S_H_hand3_frame_0743.jpg\n",
      "\n",
      "0: 288x640 1 hand, 23.3ms\n",
      "Speed: 2.3ms preprocess, 23.3ms inference, 1.5ms postprocess per image at shape (1, 3, 288, 640)\n"
     ]
    },
    {
     "data": {
      "text/plain": [
       "<Figure size 640x480 with 1 Axes>"
      ]
     },
     "metadata": {},
     "output_type": "display_data"
    },
    {
     "name": "stdout",
     "output_type": "stream",
     "text": [
      "image name CARDS_COURTYARD_T_B_hand0_frame_2321.jpg\n",
      "\n",
      "0: 480x640 1 hand, 12.6ms\n",
      "Speed: 1.4ms preprocess, 12.6ms inference, 1.9ms postprocess per image at shape (1, 3, 480, 640)\n"
     ]
    },
    {
     "data": {
      "text/plain": [
       "<Figure size 640x480 with 1 Axes>"
      ]
     },
     "metadata": {},
     "output_type": "display_data"
    },
    {
     "name": "stdout",
     "output_type": "stream",
     "text": [
      "image name CARDS_COURTYARD_T_B_hand3_frame_2371.jpg\n",
      "\n",
      "0: 512x640 1 hand, 12.8ms\n",
      "Speed: 1.6ms preprocess, 12.8ms inference, 1.2ms postprocess per image at shape (1, 3, 512, 640)\n"
     ]
    },
    {
     "data": {
      "text/plain": [
       "<Figure size 640x480 with 1 Axes>"
      ]
     },
     "metadata": {},
     "output_type": "display_data"
    },
    {
     "name": "stdout",
     "output_type": "stream",
     "text": [
      "image name CARDS_COURTYARD_T_B_hand2_frame_0419.jpg\n",
      "\n",
      "0: 352x640 1 hand, 11.7ms\n",
      "Speed: 1.2ms preprocess, 11.7ms inference, 1.2ms postprocess per image at shape (1, 3, 352, 640)\n"
     ]
    },
    {
     "data": {
      "text/plain": [
       "<Figure size 640x480 with 1 Axes>"
      ]
     },
     "metadata": {},
     "output_type": "display_data"
    },
    {
     "name": "stdout",
     "output_type": "stream",
     "text": [
      "image name CARDS_COURTYARD_H_S_hand3_frame_2018.jpg\n",
      "\n",
      "0: 480x640 2 hands, 13.3ms\n",
      "Speed: 1.4ms preprocess, 13.3ms inference, 1.5ms postprocess per image at shape (1, 3, 480, 640)\n"
     ]
    },
    {
     "data": {
      "text/plain": [
       "<Figure size 640x480 with 1 Axes>"
      ]
     },
     "metadata": {},
     "output_type": "display_data"
    },
    {
     "name": "stdout",
     "output_type": "stream",
     "text": [
      "image name CARDS_COURTYARD_T_B_hand1_frame_1520.jpg\n",
      "\n",
      "0: 352x640 1 hand, 21.9ms\n",
      "Speed: 2.4ms preprocess, 21.9ms inference, 1.8ms postprocess per image at shape (1, 3, 352, 640)\n"
     ]
    },
    {
     "data": {
      "text/plain": [
       "<Figure size 640x480 with 1 Axes>"
      ]
     },
     "metadata": {},
     "output_type": "display_data"
    },
    {
     "name": "stdout",
     "output_type": "stream",
     "text": [
      "image name CARDS_COURTYARD_T_B_hand0_frame_2658.jpg\n",
      "\n",
      "0: 352x640 1 hand, 10.3ms\n",
      "Speed: 1.2ms preprocess, 10.3ms inference, 1.3ms postprocess per image at shape (1, 3, 352, 640)\n"
     ]
    },
    {
     "data": {
      "text/plain": [
       "<Figure size 640x480 with 1 Axes>"
      ]
     },
     "metadata": {},
     "output_type": "display_data"
    },
    {
     "name": "stdout",
     "output_type": "stream",
     "text": [
      "image name CARDS_COURTYARD_H_S_hand0_frame_2327.jpg\n",
      "\n",
      "0: 416x640 1 hand, 11.8ms\n",
      "Speed: 1.3ms preprocess, 11.8ms inference, 1.2ms postprocess per image at shape (1, 3, 416, 640)\n"
     ]
    },
    {
     "data": {
      "text/plain": [
       "<Figure size 640x480 with 1 Axes>"
      ]
     },
     "metadata": {},
     "output_type": "display_data"
    },
    {
     "name": "stdout",
     "output_type": "stream",
     "text": [
      "image name CARDS_COURTYARD_T_B_hand2_frame_1612.jpg\n",
      "\n",
      "0: 256x640 1 hand, 11.0ms\n",
      "Speed: 0.9ms preprocess, 11.0ms inference, 1.2ms postprocess per image at shape (1, 3, 256, 640)\n"
     ]
    },
    {
     "data": {
      "text/plain": [
       "<Figure size 640x480 with 1 Axes>"
      ]
     },
     "metadata": {},
     "output_type": "display_data"
    },
    {
     "name": "stdout",
     "output_type": "stream",
     "text": [
      "image name CARDS_COURTYARD_S_H_hand2_frame_1218.jpg\n",
      "\n",
      "0: 352x640 1 hand, 12.0ms\n",
      "Speed: 1.2ms preprocess, 12.0ms inference, 1.3ms postprocess per image at shape (1, 3, 352, 640)\n"
     ]
    },
    {
     "data": {
      "text/plain": [
       "<Figure size 640x480 with 1 Axes>"
      ]
     },
     "metadata": {},
     "output_type": "display_data"
    },
    {
     "name": "stdout",
     "output_type": "stream",
     "text": [
      "image name CARDS_COURTYARD_T_B_hand3_frame_2580.jpg\n",
      "\n",
      "0: 480x640 1 hand, 12.5ms\n",
      "Speed: 1.4ms preprocess, 12.5ms inference, 1.5ms postprocess per image at shape (1, 3, 480, 640)\n"
     ]
    },
    {
     "data": {
      "text/plain": [
       "<Figure size 640x480 with 1 Axes>"
      ]
     },
     "metadata": {},
     "output_type": "display_data"
    },
    {
     "name": "stdout",
     "output_type": "stream",
     "text": [
      "image name CARDS_COURTYARD_H_S_hand2_frame_0779.jpg\n",
      "\n",
      "0: 416x640 2 hands, 11.4ms\n",
      "Speed: 1.2ms preprocess, 11.4ms inference, 1.2ms postprocess per image at shape (1, 3, 416, 640)\n"
     ]
    },
    {
     "data": {
      "text/plain": [
       "<Figure size 640x480 with 1 Axes>"
      ]
     },
     "metadata": {},
     "output_type": "display_data"
    },
    {
     "name": "stdout",
     "output_type": "stream",
     "text": [
      "image name CARDS_COURTYARD_T_B_hand2_frame_0337.jpg\n",
      "\n",
      "0: 320x640 1 hand, 16.5ms\n",
      "Speed: 2.4ms preprocess, 16.5ms inference, 1.5ms postprocess per image at shape (1, 3, 320, 640)\n"
     ]
    },
    {
     "data": {
      "text/plain": [
       "<Figure size 640x480 with 1 Axes>"
      ]
     },
     "metadata": {},
     "output_type": "display_data"
    },
    {
     "name": "stdout",
     "output_type": "stream",
     "text": [
      "image name CARDS_COURTYARD_H_S_hand0_frame_2533.jpg\n",
      "\n",
      "0: 352x640 1 hand, 11.7ms\n",
      "Speed: 1.3ms preprocess, 11.7ms inference, 1.2ms postprocess per image at shape (1, 3, 352, 640)\n"
     ]
    },
    {
     "data": {
      "text/plain": [
       "<Figure size 640x480 with 1 Axes>"
      ]
     },
     "metadata": {},
     "output_type": "display_data"
    },
    {
     "name": "stdout",
     "output_type": "stream",
     "text": [
      "image name CARDS_COURTYARD_H_S_hand1_frame_0245.jpg\n",
      "\n",
      "0: 416x640 1 hand, 12.5ms\n",
      "Speed: 1.4ms preprocess, 12.5ms inference, 1.2ms postprocess per image at shape (1, 3, 416, 640)\n"
     ]
    },
    {
     "data": {
      "text/plain": [
       "<Figure size 640x480 with 1 Axes>"
      ]
     },
     "metadata": {},
     "output_type": "display_data"
    },
    {
     "name": "stdout",
     "output_type": "stream",
     "text": [
      "image name CARDS_COURTYARD_S_H_hand1_frame_2296.jpg\n",
      "\n",
      "0: 256x640 1 hand, 13.4ms\n",
      "Speed: 1.3ms preprocess, 13.4ms inference, 1.2ms postprocess per image at shape (1, 3, 256, 640)\n"
     ]
    },
    {
     "data": {
      "text/plain": [
       "<Figure size 640x480 with 1 Axes>"
      ]
     },
     "metadata": {},
     "output_type": "display_data"
    },
    {
     "name": "stdout",
     "output_type": "stream",
     "text": [
      "image name CARDS_COURTYARD_H_S_hand2_frame_1392.jpg\n",
      "\n",
      "0: 448x640 2 hands, 11.5ms\n",
      "Speed: 1.3ms preprocess, 11.5ms inference, 1.2ms postprocess per image at shape (1, 3, 448, 640)\n"
     ]
    },
    {
     "data": {
      "text/plain": [
       "<Figure size 640x480 with 1 Axes>"
      ]
     },
     "metadata": {},
     "output_type": "display_data"
    },
    {
     "name": "stdout",
     "output_type": "stream",
     "text": [
      "image name CARDS_COURTYARD_S_H_hand3_frame_1815.jpg\n",
      "\n",
      "0: 640x512 1 hand, 20.1ms\n",
      "Speed: 2.1ms preprocess, 20.1ms inference, 1.2ms postprocess per image at shape (1, 3, 640, 512)\n"
     ]
    },
    {
     "data": {
      "text/plain": [
       "<Figure size 640x480 with 1 Axes>"
      ]
     },
     "metadata": {},
     "output_type": "display_data"
    },
    {
     "name": "stdout",
     "output_type": "stream",
     "text": [
      "image name CARDS_COURTYARD_H_S_hand1_frame_1530.jpg\n",
      "\n",
      "0: 384x640 1 hand, 11.1ms\n",
      "Speed: 1.3ms preprocess, 11.1ms inference, 1.7ms postprocess per image at shape (1, 3, 384, 640)\n"
     ]
    },
    {
     "data": {
      "text/plain": [
       "<Figure size 640x480 with 1 Axes>"
      ]
     },
     "metadata": {},
     "output_type": "display_data"
    },
    {
     "name": "stdout",
     "output_type": "stream",
     "text": [
      "image name CARDS_COURTYARD_S_H_hand2_frame_2332.jpg\n",
      "\n",
      "0: 384x640 1 hand, 11.4ms\n",
      "Speed: 1.2ms preprocess, 11.4ms inference, 1.2ms postprocess per image at shape (1, 3, 384, 640)\n"
     ]
    },
    {
     "data": {
      "text/plain": [
       "<Figure size 640x480 with 1 Axes>"
      ]
     },
     "metadata": {},
     "output_type": "display_data"
    },
    {
     "name": "stdout",
     "output_type": "stream",
     "text": [
      "image name CARDS_COURTYARD_H_S_hand0_frame_1195.jpg\n",
      "\n",
      "0: 384x640 1 hand, 10.9ms\n",
      "Speed: 1.2ms preprocess, 10.9ms inference, 1.2ms postprocess per image at shape (1, 3, 384, 640)\n"
     ]
    },
    {
     "data": {
      "text/plain": [
       "<Figure size 640x480 with 1 Axes>"
      ]
     },
     "metadata": {},
     "output_type": "display_data"
    },
    {
     "name": "stdout",
     "output_type": "stream",
     "text": [
      "image name CARDS_COURTYARD_T_B_hand0_frame_1254.jpg\n",
      "\n",
      "0: 480x640 1 hand, 12.5ms\n",
      "Speed: 1.5ms preprocess, 12.5ms inference, 1.2ms postprocess per image at shape (1, 3, 480, 640)\n"
     ]
    },
    {
     "data": {
      "text/plain": [
       "<Figure size 640x480 with 1 Axes>"
      ]
     },
     "metadata": {},
     "output_type": "display_data"
    },
    {
     "name": "stdout",
     "output_type": "stream",
     "text": [
      "image name CARDS_COURTYARD_H_S_hand3_frame_2650.jpg\n",
      "\n",
      "0: 480x640 1 hand, 12.0ms\n",
      "Speed: 1.4ms preprocess, 12.0ms inference, 1.2ms postprocess per image at shape (1, 3, 480, 640)\n"
     ]
    },
    {
     "data": {
      "text/plain": [
       "<Figure size 640x480 with 1 Axes>"
      ]
     },
     "metadata": {},
     "output_type": "display_data"
    },
    {
     "name": "stdout",
     "output_type": "stream",
     "text": [
      "image name CARDS_COURTYARD_T_B_hand3_frame_0450.jpg\n",
      "\n",
      "0: 416x640 1 hand, 11.6ms\n",
      "Speed: 1.2ms preprocess, 11.6ms inference, 1.2ms postprocess per image at shape (1, 3, 416, 640)\n"
     ]
    },
    {
     "data": {
      "text/plain": [
       "<Figure size 640x480 with 1 Axes>"
      ]
     },
     "metadata": {},
     "output_type": "display_data"
    },
    {
     "name": "stdout",
     "output_type": "stream",
     "text": [
      "image name CARDS_COURTYARD_H_S_hand1_frame_0134.jpg\n",
      "\n",
      "0: 352x640 1 hand, 11.0ms\n",
      "Speed: 1.2ms preprocess, 11.0ms inference, 1.6ms postprocess per image at shape (1, 3, 352, 640)\n"
     ]
    },
    {
     "data": {
      "text/plain": [
       "<Figure size 640x480 with 1 Axes>"
      ]
     },
     "metadata": {},
     "output_type": "display_data"
    },
    {
     "name": "stdout",
     "output_type": "stream",
     "text": [
      "image name CARDS_COURTYARD_S_H_hand3_frame_2138.jpg\n",
      "\n",
      "0: 448x640 1 hand, 11.9ms\n",
      "Speed: 1.3ms preprocess, 11.9ms inference, 1.2ms postprocess per image at shape (1, 3, 448, 640)\n"
     ]
    },
    {
     "data": {
      "text/plain": [
       "<Figure size 640x480 with 1 Axes>"
      ]
     },
     "metadata": {},
     "output_type": "display_data"
    },
    {
     "name": "stdout",
     "output_type": "stream",
     "text": [
      "image name CARDS_COURTYARD_S_H_hand3_frame_1609.jpg\n",
      "\n",
      "0: 544x640 1 hand, 13.9ms\n",
      "Speed: 2.1ms preprocess, 13.9ms inference, 1.2ms postprocess per image at shape (1, 3, 544, 640)\n"
     ]
    },
    {
     "data": {
      "text/plain": [
       "<Figure size 640x480 with 1 Axes>"
      ]
     },
     "metadata": {},
     "output_type": "display_data"
    },
    {
     "name": "stdout",
     "output_type": "stream",
     "text": [
      "image name CARDS_COURTYARD_S_H_hand2_frame_2148.jpg\n",
      "\n",
      "0: 384x640 1 hand, 11.0ms\n",
      "Speed: 1.2ms preprocess, 11.0ms inference, 1.2ms postprocess per image at shape (1, 3, 384, 640)\n"
     ]
    },
    {
     "data": {
      "text/plain": [
       "<Figure size 640x480 with 1 Axes>"
      ]
     },
     "metadata": {},
     "output_type": "display_data"
    },
    {
     "name": "stdout",
     "output_type": "stream",
     "text": [
      "image name CARDS_COURTYARD_H_S_hand1_frame_1830.jpg\n",
      "\n",
      "0: 480x640 1 hand, 12.5ms\n",
      "Speed: 1.5ms preprocess, 12.5ms inference, 1.2ms postprocess per image at shape (1, 3, 480, 640)\n"
     ]
    },
    {
     "data": {
      "text/plain": [
       "<Figure size 640x480 with 1 Axes>"
      ]
     },
     "metadata": {},
     "output_type": "display_data"
    },
    {
     "name": "stdout",
     "output_type": "stream",
     "text": [
      "image name CARDS_COURTYARD_T_B_hand0_frame_1585.jpg\n",
      "\n",
      "0: 448x640 1 hand, 11.7ms\n",
      "Speed: 1.4ms preprocess, 11.7ms inference, 1.2ms postprocess per image at shape (1, 3, 448, 640)\n"
     ]
    },
    {
     "data": {
      "text/plain": [
       "<Figure size 640x480 with 1 Axes>"
      ]
     },
     "metadata": {},
     "output_type": "display_data"
    },
    {
     "name": "stdout",
     "output_type": "stream",
     "text": [
      "image name CARDS_COURTYARD_S_H_hand3_frame_1803.jpg\n",
      "\n",
      "0: 640x576 1 hand, 15.5ms\n",
      "Speed: 1.8ms preprocess, 15.5ms inference, 1.2ms postprocess per image at shape (1, 3, 640, 576)\n"
     ]
    },
    {
     "data": {
      "text/plain": [
       "<Figure size 640x480 with 1 Axes>"
      ]
     },
     "metadata": {},
     "output_type": "display_data"
    },
    {
     "name": "stdout",
     "output_type": "stream",
     "text": [
      "image name CARDS_COURTYARD_H_S_hand2_frame_2674.jpg\n",
      "\n",
      "0: 416x640 1 hand, 11.8ms\n",
      "Speed: 1.2ms preprocess, 11.8ms inference, 1.6ms postprocess per image at shape (1, 3, 416, 640)\n"
     ]
    },
    {
     "data": {
      "text/plain": [
       "<Figure size 640x480 with 1 Axes>"
      ]
     },
     "metadata": {},
     "output_type": "display_data"
    },
    {
     "name": "stdout",
     "output_type": "stream",
     "text": [
      "image name CARDS_COURTYARD_T_B_hand0_frame_0276.jpg\n",
      "\n",
      "0: 384x640 1 hand, 11.5ms\n",
      "Speed: 1.4ms preprocess, 11.5ms inference, 1.2ms postprocess per image at shape (1, 3, 384, 640)\n"
     ]
    },
    {
     "data": {
      "text/plain": [
       "<Figure size 640x480 with 1 Axes>"
      ]
     },
     "metadata": {},
     "output_type": "display_data"
    },
    {
     "name": "stdout",
     "output_type": "stream",
     "text": [
      "image name CARDS_COURTYARD_S_H_hand2_frame_1689.jpg\n",
      "\n",
      "0: 352x640 1 hand, 11.8ms\n",
      "Speed: 1.2ms preprocess, 11.8ms inference, 1.2ms postprocess per image at shape (1, 3, 352, 640)\n"
     ]
    },
    {
     "data": {
      "text/plain": [
       "<Figure size 640x480 with 1 Axes>"
      ]
     },
     "metadata": {},
     "output_type": "display_data"
    },
    {
     "name": "stdout",
     "output_type": "stream",
     "text": [
      "image name CARDS_COURTYARD_S_H_hand2_frame_0414.jpg\n",
      "\n",
      "0: 288x640 1 hand, 11.0ms\n",
      "Speed: 1.1ms preprocess, 11.0ms inference, 1.3ms postprocess per image at shape (1, 3, 288, 640)\n"
     ]
    },
    {
     "data": {
      "text/plain": [
       "<Figure size 640x480 with 1 Axes>"
      ]
     },
     "metadata": {},
     "output_type": "display_data"
    },
    {
     "name": "stdout",
     "output_type": "stream",
     "text": [
      "image name CARDS_COURTYARD_H_S_hand2_frame_2452.jpg\n",
      "\n",
      "0: 416x640 1 hand, 11.6ms\n",
      "Speed: 1.2ms preprocess, 11.6ms inference, 1.2ms postprocess per image at shape (1, 3, 416, 640)\n"
     ]
    },
    {
     "data": {
      "text/plain": [
       "<Figure size 640x480 with 1 Axes>"
      ]
     },
     "metadata": {},
     "output_type": "display_data"
    },
    {
     "name": "stdout",
     "output_type": "stream",
     "text": [
      "image name CARDS_COURTYARD_S_H_hand3_frame_1551.jpg\n",
      "\n",
      "0: 544x640 1 hand, 13.8ms\n",
      "Speed: 1.6ms preprocess, 13.8ms inference, 1.2ms postprocess per image at shape (1, 3, 544, 640)\n"
     ]
    },
    {
     "data": {
      "text/plain": [
       "<Figure size 640x480 with 1 Axes>"
      ]
     },
     "metadata": {},
     "output_type": "display_data"
    },
    {
     "name": "stdout",
     "output_type": "stream",
     "text": [
      "image name CARDS_COURTYARD_H_S_hand2_frame_1284.jpg\n",
      "\n",
      "0: 384x640 2 hands, 11.3ms\n",
      "Speed: 1.1ms preprocess, 11.3ms inference, 1.2ms postprocess per image at shape (1, 3, 384, 640)\n"
     ]
    },
    {
     "data": {
      "text/plain": [
       "<Figure size 640x480 with 1 Axes>"
      ]
     },
     "metadata": {},
     "output_type": "display_data"
    },
    {
     "name": "stdout",
     "output_type": "stream",
     "text": [
      "image name CARDS_COURTYARD_S_H_hand3_frame_0559.jpg\n",
      "\n",
      "0: 416x640 1 hand, 11.2ms\n",
      "Speed: 1.2ms preprocess, 11.2ms inference, 1.2ms postprocess per image at shape (1, 3, 416, 640)\n"
     ]
    },
    {
     "data": {
      "text/plain": [
       "<Figure size 640x480 with 1 Axes>"
      ]
     },
     "metadata": {},
     "output_type": "display_data"
    },
    {
     "name": "stdout",
     "output_type": "stream",
     "text": [
      "image name CARDS_COURTYARD_S_H_hand2_frame_0537.jpg\n",
      "\n",
      "0: 320x640 1 hand, 10.9ms\n",
      "Speed: 1.1ms preprocess, 10.9ms inference, 1.2ms postprocess per image at shape (1, 3, 320, 640)\n"
     ]
    },
    {
     "data": {
      "text/plain": [
       "<Figure size 640x480 with 1 Axes>"
      ]
     },
     "metadata": {},
     "output_type": "display_data"
    },
    {
     "name": "stdout",
     "output_type": "stream",
     "text": [
      "image name CARDS_COURTYARD_H_S_hand3_frame_1530.jpg\n",
      "\n",
      "0: 480x640 1 hand, 21.1ms\n",
      "Speed: 3.2ms preprocess, 21.1ms inference, 1.4ms postprocess per image at shape (1, 3, 480, 640)\n"
     ]
    },
    {
     "data": {
      "text/plain": [
       "<Figure size 640x480 with 1 Axes>"
      ]
     },
     "metadata": {},
     "output_type": "display_data"
    },
    {
     "name": "stdout",
     "output_type": "stream",
     "text": [
      "image name CARDS_COURTYARD_S_H_hand3_frame_1160.jpg\n",
      "\n",
      "0: 608x640 1 hand, 15.1ms\n",
      "Speed: 1.7ms preprocess, 15.1ms inference, 1.2ms postprocess per image at shape (1, 3, 608, 640)\n"
     ]
    },
    {
     "data": {
      "text/plain": [
       "<Figure size 640x480 with 1 Axes>"
      ]
     },
     "metadata": {},
     "output_type": "display_data"
    },
    {
     "name": "stdout",
     "output_type": "stream",
     "text": [
      "image name CARDS_COURTYARD_H_S_hand2_frame_2662.jpg\n",
      "\n",
      "0: 384x640 1 hand, 11.2ms\n",
      "Speed: 1.2ms preprocess, 11.2ms inference, 1.2ms postprocess per image at shape (1, 3, 384, 640)\n"
     ]
    },
    {
     "data": {
      "text/plain": [
       "<Figure size 640x480 with 1 Axes>"
      ]
     },
     "metadata": {},
     "output_type": "display_data"
    },
    {
     "name": "stdout",
     "output_type": "stream",
     "text": [
      "image name CARDS_COURTYARD_H_S_hand1_frame_1024.jpg\n",
      "\n",
      "0: 288x640 1 hand, 11.0ms\n",
      "Speed: 0.9ms preprocess, 11.0ms inference, 1.2ms postprocess per image at shape (1, 3, 288, 640)\n"
     ]
    },
    {
     "data": {
      "text/plain": [
       "<Figure size 640x480 with 1 Axes>"
      ]
     },
     "metadata": {},
     "output_type": "display_data"
    },
    {
     "name": "stdout",
     "output_type": "stream",
     "text": [
      "image name CARDS_COURTYARD_T_B_hand2_frame_0016.jpg\n",
      "\n",
      "0: 352x640 2 hands, 11.0ms\n",
      "Speed: 1.3ms preprocess, 11.0ms inference, 1.3ms postprocess per image at shape (1, 3, 352, 640)\n"
     ]
    },
    {
     "data": {
      "text/plain": [
       "<Figure size 640x480 with 1 Axes>"
      ]
     },
     "metadata": {},
     "output_type": "display_data"
    },
    {
     "name": "stdout",
     "output_type": "stream",
     "text": [
      "image name CARDS_COURTYARD_T_B_hand1_frame_2438.jpg\n",
      "\n",
      "0: 256x640 1 hand, 11.4ms\n",
      "Speed: 1.0ms preprocess, 11.4ms inference, 1.2ms postprocess per image at shape (1, 3, 256, 640)\n"
     ]
    },
    {
     "data": {
      "text/plain": [
       "<Figure size 640x480 with 1 Axes>"
      ]
     },
     "metadata": {},
     "output_type": "display_data"
    },
    {
     "name": "stdout",
     "output_type": "stream",
     "text": [
      "image name CARDS_COURTYARD_T_B_hand1_frame_1432.jpg\n",
      "\n",
      "0: 320x640 1 hand, 10.6ms\n",
      "Speed: 1.0ms preprocess, 10.6ms inference, 1.2ms postprocess per image at shape (1, 3, 320, 640)\n"
     ]
    },
    {
     "data": {
      "text/plain": [
       "<Figure size 640x480 with 1 Axes>"
      ]
     },
     "metadata": {},
     "output_type": "display_data"
    },
    {
     "name": "stdout",
     "output_type": "stream",
     "text": [
      "image name CARDS_COURTYARD_S_H_hand2_frame_2296.jpg\n",
      "\n",
      "0: 384x640 1 hand, 18.4ms\n",
      "Speed: 2.8ms preprocess, 18.4ms inference, 1.9ms postprocess per image at shape (1, 3, 384, 640)\n"
     ]
    },
    {
     "data": {
      "text/plain": [
       "<Figure size 640x480 with 1 Axes>"
      ]
     },
     "metadata": {},
     "output_type": "display_data"
    },
    {
     "name": "stdout",
     "output_type": "stream",
     "text": [
      "image name CARDS_COURTYARD_S_H_hand2_frame_1486.jpg\n",
      "\n",
      "0: 384x640 1 hand, 10.6ms\n",
      "Speed: 1.4ms preprocess, 10.6ms inference, 1.6ms postprocess per image at shape (1, 3, 384, 640)\n"
     ]
    },
    {
     "data": {
      "text/plain": [
       "<Figure size 640x480 with 1 Axes>"
      ]
     },
     "metadata": {},
     "output_type": "display_data"
    },
    {
     "name": "stdout",
     "output_type": "stream",
     "text": [
      "image name CARDS_COURTYARD_H_S_hand0_frame_0779.jpg\n",
      "\n",
      "0: 384x640 1 hand, 18.8ms\n",
      "Speed: 1.1ms preprocess, 18.8ms inference, 1.6ms postprocess per image at shape (1, 3, 384, 640)\n"
     ]
    },
    {
     "data": {
      "text/plain": [
       "<Figure size 640x480 with 1 Axes>"
      ]
     },
     "metadata": {},
     "output_type": "display_data"
    },
    {
     "name": "stdout",
     "output_type": "stream",
     "text": [
      "image name CARDS_COURTYARD_S_H_hand3_frame_2226.jpg\n",
      "\n",
      "0: 416x640 1 hand, 12.2ms\n",
      "Speed: 1.7ms preprocess, 12.2ms inference, 1.2ms postprocess per image at shape (1, 3, 416, 640)\n"
     ]
    },
    {
     "data": {
      "text/plain": [
       "<Figure size 640x480 with 1 Axes>"
      ]
     },
     "metadata": {},
     "output_type": "display_data"
    },
    {
     "name": "stdout",
     "output_type": "stream",
     "text": [
      "image name CARDS_COURTYARD_S_H_hand3_frame_1043.jpg\n",
      "\n",
      "0: 512x640 1 hand, 13.7ms\n",
      "Speed: 2.2ms preprocess, 13.7ms inference, 1.2ms postprocess per image at shape (1, 3, 512, 640)\n"
     ]
    },
    {
     "data": {
      "text/plain": [
       "<Figure size 640x480 with 1 Axes>"
      ]
     },
     "metadata": {},
     "output_type": "display_data"
    },
    {
     "name": "stdout",
     "output_type": "stream",
     "text": [
      "image name CARDS_COURTYARD_H_S_hand0_frame_1335.jpg\n",
      "\n",
      "0: 416x640 1 hand, 11.1ms\n",
      "Speed: 1.4ms preprocess, 11.1ms inference, 1.5ms postprocess per image at shape (1, 3, 416, 640)\n"
     ]
    },
    {
     "data": {
      "text/plain": [
       "<Figure size 640x480 with 1 Axes>"
      ]
     },
     "metadata": {},
     "output_type": "display_data"
    },
    {
     "name": "stdout",
     "output_type": "stream",
     "text": [
      "image name CARDS_COURTYARD_T_B_hand2_frame_0557.jpg\n",
      "\n",
      "0: 288x640 1 hand, 11.0ms\n",
      "Speed: 1.7ms preprocess, 11.0ms inference, 1.2ms postprocess per image at shape (1, 3, 288, 640)\n"
     ]
    },
    {
     "data": {
      "text/plain": [
       "<Figure size 640x480 with 1 Axes>"
      ]
     },
     "metadata": {},
     "output_type": "display_data"
    },
    {
     "name": "stdout",
     "output_type": "stream",
     "text": [
      "image name CARDS_COURTYARD_H_S_hand3_frame_1232.jpg\n",
      "\n",
      "0: 512x640 1 hand, 22.6ms\n",
      "Speed: 3.4ms preprocess, 22.6ms inference, 1.9ms postprocess per image at shape (1, 3, 512, 640)\n"
     ]
    },
    {
     "data": {
      "text/plain": [
       "<Figure size 640x480 with 1 Axes>"
      ]
     },
     "metadata": {},
     "output_type": "display_data"
    },
    {
     "name": "stdout",
     "output_type": "stream",
     "text": [
      "image name CARDS_COURTYARD_H_S_hand2_frame_0245.jpg\n",
      "\n",
      "0: 448x640 1 hand, 20.6ms\n",
      "Speed: 2.5ms preprocess, 20.6ms inference, 1.4ms postprocess per image at shape (1, 3, 448, 640)\n"
     ]
    },
    {
     "data": {
      "text/plain": [
       "<Figure size 640x480 with 1 Axes>"
      ]
     },
     "metadata": {},
     "output_type": "display_data"
    },
    {
     "name": "stdout",
     "output_type": "stream",
     "text": [
      "image name CARDS_COURTYARD_T_B_hand1_frame_0450.jpg\n",
      "\n",
      "0: 320x640 1 hand, 11.2ms\n",
      "Speed: 1.1ms preprocess, 11.2ms inference, 1.2ms postprocess per image at shape (1, 3, 320, 640)\n"
     ]
    },
    {
     "data": {
      "text/plain": [
       "<Figure size 640x480 with 1 Axes>"
      ]
     },
     "metadata": {},
     "output_type": "display_data"
    },
    {
     "name": "stdout",
     "output_type": "stream",
     "text": [
      "image name CARDS_COURTYARD_S_H_hand0_frame_0890.jpg\n",
      "\n",
      "0: 288x640 1 hand, 11.2ms\n",
      "Speed: 1.3ms preprocess, 11.2ms inference, 1.2ms postprocess per image at shape (1, 3, 288, 640)\n"
     ]
    },
    {
     "data": {
      "text/plain": [
       "<Figure size 640x480 with 1 Axes>"
      ]
     },
     "metadata": {},
     "output_type": "display_data"
    },
    {
     "name": "stdout",
     "output_type": "stream",
     "text": [
      "image name CARDS_COURTYARD_H_S_hand3_frame_1647.jpg\n",
      "\n",
      "0: 448x640 2 hands, 11.5ms\n",
      "Speed: 1.3ms preprocess, 11.5ms inference, 1.2ms postprocess per image at shape (1, 3, 448, 640)\n"
     ]
    },
    {
     "data": {
      "text/plain": [
       "<Figure size 640x480 with 1 Axes>"
      ]
     },
     "metadata": {},
     "output_type": "display_data"
    },
    {
     "name": "stdout",
     "output_type": "stream",
     "text": [
      "image name CARDS_COURTYARD_H_S_hand2_frame_0060.jpg\n",
      "\n",
      "0: 416x640 2 hands, 12.9ms\n",
      "Speed: 1.3ms preprocess, 12.9ms inference, 1.2ms postprocess per image at shape (1, 3, 416, 640)\n"
     ]
    },
    {
     "data": {
      "text/plain": [
       "<Figure size 640x480 with 1 Axes>"
      ]
     },
     "metadata": {},
     "output_type": "display_data"
    },
    {
     "name": "stdout",
     "output_type": "stream",
     "text": [
      "image name CARDS_COURTYARD_S_H_hand3_frame_1452.jpg\n",
      "\n",
      "0: 608x640 1 hand, 15.1ms\n",
      "Speed: 1.7ms preprocess, 15.1ms inference, 1.2ms postprocess per image at shape (1, 3, 608, 640)\n"
     ]
    },
    {
     "data": {
      "text/plain": [
       "<Figure size 640x480 with 1 Axes>"
      ]
     },
     "metadata": {},
     "output_type": "display_data"
    },
    {
     "name": "stdout",
     "output_type": "stream",
     "text": [
      "image name CARDS_COURTYARD_S_H_hand3_frame_0963.jpg\n",
      "\n",
      "0: 640x608 1 hand, 15.1ms\n",
      "Speed: 1.7ms preprocess, 15.1ms inference, 1.2ms postprocess per image at shape (1, 3, 640, 608)\n"
     ]
    },
    {
     "data": {
      "text/plain": [
       "<Figure size 640x480 with 1 Axes>"
      ]
     },
     "metadata": {},
     "output_type": "display_data"
    },
    {
     "name": "stdout",
     "output_type": "stream",
     "text": [
      "image name CARDS_COURTYARD_S_H_hand3_frame_0482.jpg\n",
      "\n",
      "0: 320x640 2 hands, 10.9ms\n",
      "Speed: 1.0ms preprocess, 10.9ms inference, 1.5ms postprocess per image at shape (1, 3, 320, 640)\n"
     ]
    },
    {
     "data": {
      "text/plain": [
       "<Figure size 640x480 with 1 Axes>"
      ]
     },
     "metadata": {},
     "output_type": "display_data"
    },
    {
     "name": "stdout",
     "output_type": "stream",
     "text": [
      "image name CARDS_COURTYARD_S_H_hand2_frame_0306.jpg\n",
      "\n",
      "0: 320x640 1 hand, 10.9ms\n",
      "Speed: 1.0ms preprocess, 10.9ms inference, 1.2ms postprocess per image at shape (1, 3, 320, 640)\n"
     ]
    },
    {
     "data": {
      "text/plain": [
       "<Figure size 640x480 with 1 Axes>"
      ]
     },
     "metadata": {},
     "output_type": "display_data"
    },
    {
     "name": "stdout",
     "output_type": "stream",
     "text": [
      "image name CARDS_COURTYARD_S_H_hand1_frame_1218.jpg\n",
      "\n",
      "0: 512x640 1 hand, 12.6ms\n",
      "Speed: 1.6ms preprocess, 12.6ms inference, 1.2ms postprocess per image at shape (1, 3, 512, 640)\n"
     ]
    },
    {
     "data": {
      "text/plain": [
       "<Figure size 640x480 with 1 Axes>"
      ]
     },
     "metadata": {},
     "output_type": "display_data"
    },
    {
     "name": "stdout",
     "output_type": "stream",
     "text": [
      "image name CARDS_COURTYARD_H_S_hand3_frame_1135.jpg\n",
      "\n",
      "0: 480x640 1 hand, 14.3ms\n",
      "Speed: 2.1ms preprocess, 14.3ms inference, 1.6ms postprocess per image at shape (1, 3, 480, 640)\n"
     ]
    },
    {
     "data": {
      "text/plain": [
       "<Figure size 640x480 with 1 Axes>"
      ]
     },
     "metadata": {},
     "output_type": "display_data"
    },
    {
     "name": "stdout",
     "output_type": "stream",
     "text": [
      "image name CARDS_COURTYARD_S_H_hand2_frame_1815.jpg\n",
      "\n",
      "0: 352x640 1 hand, 12.0ms\n",
      "Speed: 1.1ms preprocess, 12.0ms inference, 1.3ms postprocess per image at shape (1, 3, 352, 640)\n"
     ]
    },
    {
     "data": {
      "text/plain": [
       "<Figure size 640x480 with 1 Axes>"
      ]
     },
     "metadata": {},
     "output_type": "display_data"
    },
    {
     "name": "stdout",
     "output_type": "stream",
     "text": [
      "image name CARDS_COURTYARD_T_B_hand3_frame_0914.jpg\n",
      "\n",
      "0: 416x640 1 hand, 12.1ms\n",
      "Speed: 1.6ms preprocess, 12.1ms inference, 1.2ms postprocess per image at shape (1, 3, 416, 640)\n"
     ]
    },
    {
     "data": {
      "text/plain": [
       "<Figure size 640x480 with 1 Axes>"
      ]
     },
     "metadata": {},
     "output_type": "display_data"
    },
    {
     "name": "stdout",
     "output_type": "stream",
     "text": [
      "image name CARDS_COURTYARD_H_S_hand1_frame_0611.jpg\n",
      "\n",
      "0: 256x640 (no detections), 12.0ms\n",
      "Speed: 1.1ms preprocess, 12.0ms inference, 0.5ms postprocess per image at shape (1, 3, 256, 640)\n",
      "no results for image CARDS_COURTYARD_H_S_hand1_frame_0611.jpg!\n",
      "image name CARDS_COURTYARD_T_B_hand3_frame_2658.jpg\n",
      "\n",
      "0: 448x640 1 hand, 11.3ms\n",
      "Speed: 1.2ms preprocess, 11.3ms inference, 1.2ms postprocess per image at shape (1, 3, 448, 640)\n"
     ]
    },
    {
     "data": {
      "text/plain": [
       "<Figure size 640x480 with 1 Axes>"
      ]
     },
     "metadata": {},
     "output_type": "display_data"
    },
    {
     "name": "stdout",
     "output_type": "stream",
     "text": [
      "image name CARDS_COURTYARD_T_B_hand0_frame_2011.jpg\n",
      "\n",
      "0: 480x640 1 hand, 12.6ms\n",
      "Speed: 1.6ms preprocess, 12.6ms inference, 1.2ms postprocess per image at shape (1, 3, 480, 640)\n"
     ]
    },
    {
     "data": {
      "text/plain": [
       "<Figure size 640x480 with 1 Axes>"
      ]
     },
     "metadata": {},
     "output_type": "display_data"
    },
    {
     "name": "stdout",
     "output_type": "stream",
     "text": [
      "image name CARDS_COURTYARD_H_S_hand2_frame_2296.jpg\n",
      "\n",
      "0: 384x640 1 hand, 11.6ms\n",
      "Speed: 1.4ms preprocess, 11.6ms inference, 1.2ms postprocess per image at shape (1, 3, 384, 640)\n"
     ]
    },
    {
     "data": {
      "text/plain": [
       "<Figure size 640x480 with 1 Axes>"
      ]
     },
     "metadata": {},
     "output_type": "display_data"
    },
    {
     "name": "stdout",
     "output_type": "stream",
     "text": [
      "image name CARDS_COURTYARD_H_S_hand1_frame_2296.jpg\n",
      "\n",
      "0: 384x640 1 hand, 10.5ms\n",
      "Speed: 1.3ms preprocess, 10.5ms inference, 1.3ms postprocess per image at shape (1, 3, 384, 640)\n"
     ]
    },
    {
     "data": {
      "text/plain": [
       "<Figure size 640x480 with 1 Axes>"
      ]
     },
     "metadata": {},
     "output_type": "display_data"
    },
    {
     "name": "stdout",
     "output_type": "stream",
     "text": [
      "image name CARDS_COURTYARD_H_S_hand3_frame_2423.jpg\n",
      "\n",
      "0: 512x640 1 hand, 23.5ms\n",
      "Speed: 3.6ms preprocess, 23.5ms inference, 2.3ms postprocess per image at shape (1, 3, 512, 640)\n"
     ]
    },
    {
     "data": {
      "text/plain": [
       "<Figure size 640x480 with 1 Axes>"
      ]
     },
     "metadata": {},
     "output_type": "display_data"
    },
    {
     "name": "stdout",
     "output_type": "stream",
     "text": [
      "image name CARDS_COURTYARD_T_B_hand2_frame_0283.jpg\n",
      "\n",
      "0: 320x640 1 hand, 11.0ms\n",
      "Speed: 1.2ms preprocess, 11.0ms inference, 1.3ms postprocess per image at shape (1, 3, 320, 640)\n"
     ]
    },
    {
     "data": {
      "text/plain": [
       "<Figure size 640x480 with 1 Axes>"
      ]
     },
     "metadata": {},
     "output_type": "display_data"
    },
    {
     "name": "stdout",
     "output_type": "stream",
     "text": [
      "image name CARDS_COURTYARD_H_S_hand3_frame_1770.jpg\n",
      "\n",
      "0: 512x640 1 hand, 12.5ms\n",
      "Speed: 1.5ms preprocess, 12.5ms inference, 1.2ms postprocess per image at shape (1, 3, 512, 640)\n"
     ]
    },
    {
     "data": {
      "text/plain": [
       "<Figure size 640x480 with 1 Axes>"
      ]
     },
     "metadata": {},
     "output_type": "display_data"
    },
    {
     "name": "stdout",
     "output_type": "stream",
     "text": [
      "image name CARDS_COURTYARD_S_H_hand0_frame_0577.jpg\n",
      "\n",
      "0: 640x640 1 hand, 15.8ms\n",
      "Speed: 1.9ms preprocess, 15.8ms inference, 1.2ms postprocess per image at shape (1, 3, 640, 640)\n"
     ]
    },
    {
     "data": {
      "text/plain": [
       "<Figure size 640x480 with 1 Axes>"
      ]
     },
     "metadata": {},
     "output_type": "display_data"
    },
    {
     "name": "stdout",
     "output_type": "stream",
     "text": [
      "image name CARDS_COURTYARD_H_S_hand3_frame_0682.jpg\n",
      "\n",
      "0: 544x640 2 hands, 13.8ms\n",
      "Speed: 1.5ms preprocess, 13.8ms inference, 1.2ms postprocess per image at shape (1, 3, 544, 640)\n"
     ]
    },
    {
     "data": {
      "text/plain": [
       "<Figure size 640x480 with 1 Axes>"
      ]
     },
     "metadata": {},
     "output_type": "display_data"
    },
    {
     "name": "stdout",
     "output_type": "stream",
     "text": [
      "image name CARDS_COURTYARD_H_S_hand0_frame_2163.jpg\n",
      "\n",
      "0: 576x640 1 hand, 14.3ms\n",
      "Speed: 1.8ms preprocess, 14.3ms inference, 1.2ms postprocess per image at shape (1, 3, 576, 640)\n"
     ]
    },
    {
     "data": {
      "text/plain": [
       "<Figure size 640x480 with 1 Axes>"
      ]
     },
     "metadata": {},
     "output_type": "display_data"
    },
    {
     "name": "stdout",
     "output_type": "stream",
     "text": [
      "image name CARDS_COURTYARD_H_S_hand2_frame_0611.jpg\n",
      "\n",
      "0: 480x640 2 hands, 12.7ms\n",
      "Speed: 1.3ms preprocess, 12.7ms inference, 1.5ms postprocess per image at shape (1, 3, 480, 640)\n"
     ]
    },
    {
     "data": {
      "text/plain": [
       "<Figure size 640x480 with 1 Axes>"
      ]
     },
     "metadata": {},
     "output_type": "display_data"
    },
    {
     "name": "stdout",
     "output_type": "stream",
     "text": [
      "image name CARDS_COURTYARD_H_S_hand3_frame_0199.jpg\n",
      "\n",
      "0: 480x640 1 hand, 12.1ms\n",
      "Speed: 1.3ms preprocess, 12.1ms inference, 1.2ms postprocess per image at shape (1, 3, 480, 640)\n"
     ]
    },
    {
     "data": {
      "text/plain": [
       "<Figure size 640x480 with 1 Axes>"
      ]
     },
     "metadata": {},
     "output_type": "display_data"
    },
    {
     "name": "stdout",
     "output_type": "stream",
     "text": [
      "image name CARDS_COURTYARD_T_B_hand3_frame_2524.jpg\n",
      "\n",
      "0: 448x640 1 hand, 11.8ms\n",
      "Speed: 1.3ms preprocess, 11.8ms inference, 1.2ms postprocess per image at shape (1, 3, 448, 640)\n"
     ]
    },
    {
     "data": {
      "text/plain": [
       "<Figure size 640x480 with 1 Axes>"
      ]
     },
     "metadata": {},
     "output_type": "display_data"
    },
    {
     "name": "stdout",
     "output_type": "stream",
     "text": [
      "image name CARDS_COURTYARD_H_S_hand3_frame_1002.jpg\n",
      "\n",
      "0: 448x640 2 hands, 10.9ms\n",
      "Speed: 1.2ms preprocess, 10.9ms inference, 1.2ms postprocess per image at shape (1, 3, 448, 640)\n"
     ]
    },
    {
     "data": {
      "text/plain": [
       "<Figure size 640x480 with 1 Axes>"
      ]
     },
     "metadata": {},
     "output_type": "display_data"
    },
    {
     "name": "stdout",
     "output_type": "stream",
     "text": [
      "image name CARDS_COURTYARD_T_B_hand1_frame_0629.jpg\n",
      "\n",
      "0: 320x640 1 hand, 11.3ms\n",
      "Speed: 1.2ms preprocess, 11.3ms inference, 1.2ms postprocess per image at shape (1, 3, 320, 640)\n"
     ]
    },
    {
     "data": {
      "text/plain": [
       "<Figure size 640x480 with 1 Axes>"
      ]
     },
     "metadata": {},
     "output_type": "display_data"
    },
    {
     "name": "stdout",
     "output_type": "stream",
     "text": [
      "image name CARDS_COURTYARD_T_B_hand1_frame_0412.jpg\n",
      "\n",
      "0: 320x640 1 hand, 12.9ms\n",
      "Speed: 1.6ms preprocess, 12.9ms inference, 1.4ms postprocess per image at shape (1, 3, 320, 640)\n"
     ]
    },
    {
     "data": {
      "text/plain": [
       "<Figure size 640x480 with 1 Axes>"
      ]
     },
     "metadata": {},
     "output_type": "display_data"
    },
    {
     "name": "stdout",
     "output_type": "stream",
     "text": [
      "image name CARDS_COURTYARD_S_H_hand0_frame_2183.jpg\n",
      "\n",
      "0: 320x640 1 hand, 10.2ms\n",
      "Speed: 1.4ms preprocess, 10.2ms inference, 1.2ms postprocess per image at shape (1, 3, 320, 640)\n"
     ]
    },
    {
     "data": {
      "text/plain": [
       "<Figure size 640x480 with 1 Axes>"
      ]
     },
     "metadata": {},
     "output_type": "display_data"
    },
    {
     "name": "stdout",
     "output_type": "stream",
     "text": [
      "image name CARDS_COURTYARD_T_B_hand0_frame_0768.jpg\n",
      "\n",
      "0: 448x640 1 hand, 13.3ms\n",
      "Speed: 2.2ms preprocess, 13.3ms inference, 1.2ms postprocess per image at shape (1, 3, 448, 640)\n"
     ]
    },
    {
     "data": {
      "text/plain": [
       "<Figure size 640x480 with 1 Axes>"
      ]
     },
     "metadata": {},
     "output_type": "display_data"
    },
    {
     "name": "stdout",
     "output_type": "stream",
     "text": [
      "image name CARDS_COURTYARD_S_H_hand0_frame_2296.jpg\n",
      "\n",
      "0: 320x640 1 hand, 12.7ms\n",
      "Speed: 1.3ms preprocess, 12.7ms inference, 1.2ms postprocess per image at shape (1, 3, 320, 640)\n"
     ]
    },
    {
     "data": {
      "text/plain": [
       "<Figure size 640x480 with 1 Axes>"
      ]
     },
     "metadata": {},
     "output_type": "display_data"
    },
    {
     "name": "stdout",
     "output_type": "stream",
     "text": [
      "image name CARDS_COURTYARD_H_S_hand1_frame_2650.jpg\n",
      "\n",
      "0: 544x640 1 hand, 13.8ms\n",
      "Speed: 1.7ms preprocess, 13.8ms inference, 1.2ms postprocess per image at shape (1, 3, 544, 640)\n"
     ]
    },
    {
     "data": {
      "text/plain": [
       "<Figure size 640x480 with 1 Axes>"
      ]
     },
     "metadata": {},
     "output_type": "display_data"
    },
    {
     "name": "stdout",
     "output_type": "stream",
     "text": [
      "image name CARDS_COURTYARD_T_B_hand3_frame_0768.jpg\n",
      "\n",
      "0: 384x640 1 hand, 12.8ms\n",
      "Speed: 1.5ms preprocess, 12.8ms inference, 1.5ms postprocess per image at shape (1, 3, 384, 640)\n"
     ]
    },
    {
     "data": {
      "text/plain": [
       "<Figure size 640x480 with 1 Axes>"
      ]
     },
     "metadata": {},
     "output_type": "display_data"
    },
    {
     "name": "stdout",
     "output_type": "stream",
     "text": [
      "image name CARDS_COURTYARD_T_B_hand1_frame_2272.jpg\n",
      "\n",
      "0: 384x640 1 hand, 11.0ms\n",
      "Speed: 1.3ms preprocess, 11.0ms inference, 1.2ms postprocess per image at shape (1, 3, 384, 640)\n"
     ]
    },
    {
     "data": {
      "text/plain": [
       "<Figure size 640x480 with 1 Axes>"
      ]
     },
     "metadata": {},
     "output_type": "display_data"
    },
    {
     "name": "stdout",
     "output_type": "stream",
     "text": [
      "image name CARDS_COURTYARD_H_S_hand1_frame_1335.jpg\n",
      "\n",
      "0: 384x640 1 hand, 22.1ms\n",
      "Speed: 3.6ms preprocess, 22.1ms inference, 2.0ms postprocess per image at shape (1, 3, 384, 640)\n"
     ]
    },
    {
     "data": {
      "text/plain": [
       "<Figure size 640x480 with 1 Axes>"
      ]
     },
     "metadata": {},
     "output_type": "display_data"
    },
    {
     "name": "stdout",
     "output_type": "stream",
     "text": [
      "image name CARDS_COURTYARD_H_S_hand0_frame_0849.jpg\n",
      "\n",
      "0: 352x640 (no detections), 19.7ms\n",
      "Speed: 1.3ms preprocess, 19.7ms inference, 0.5ms postprocess per image at shape (1, 3, 352, 640)\n",
      "no results for image CARDS_COURTYARD_H_S_hand0_frame_0849.jpg!\n",
      "image name CARDS_COURTYARD_H_S_hand2_frame_0994.jpg\n",
      "\n",
      "0: 384x640 2 hands, 13.8ms\n",
      "Speed: 1.9ms preprocess, 13.8ms inference, 1.3ms postprocess per image at shape (1, 3, 384, 640)\n"
     ]
    },
    {
     "data": {
      "text/plain": [
       "<Figure size 640x480 with 1 Axes>"
      ]
     },
     "metadata": {},
     "output_type": "display_data"
    },
    {
     "name": "stdout",
     "output_type": "stream",
     "text": [
      "image name CARDS_COURTYARD_T_B_hand2_frame_0450.jpg\n",
      "\n",
      "0: 352x640 1 hand, 11.0ms\n",
      "Speed: 1.3ms preprocess, 11.0ms inference, 1.2ms postprocess per image at shape (1, 3, 352, 640)\n"
     ]
    },
    {
     "data": {
      "text/plain": [
       "<Figure size 640x480 with 1 Axes>"
      ]
     },
     "metadata": {},
     "output_type": "display_data"
    },
    {
     "name": "stdout",
     "output_type": "stream",
     "text": [
      "image name CARDS_COURTYARD_S_H_hand2_frame_2108.jpg\n",
      "\n",
      "0: 320x640 1 hand, 11.2ms\n",
      "Speed: 1.1ms preprocess, 11.2ms inference, 1.3ms postprocess per image at shape (1, 3, 320, 640)\n"
     ]
    },
    {
     "data": {
      "text/plain": [
       "<Figure size 640x480 with 1 Axes>"
      ]
     },
     "metadata": {},
     "output_type": "display_data"
    },
    {
     "name": "stdout",
     "output_type": "stream",
     "text": [
      "image name CARDS_COURTYARD_H_S_hand2_frame_0958.jpg\n",
      "\n",
      "0: 384x640 2 hands, 11.1ms\n",
      "Speed: 1.2ms preprocess, 11.1ms inference, 1.6ms postprocess per image at shape (1, 3, 384, 640)\n"
     ]
    },
    {
     "data": {
      "text/plain": [
       "<Figure size 640x480 with 1 Axes>"
      ]
     },
     "metadata": {},
     "output_type": "display_data"
    },
    {
     "name": "stdout",
     "output_type": "stream",
     "text": [
      "image name CARDS_COURTYARD_S_H_hand3_frame_0438.jpg\n",
      "\n",
      "0: 384x640 1 hand, 22.9ms\n",
      "Speed: 2.8ms preprocess, 22.9ms inference, 1.7ms postprocess per image at shape (1, 3, 384, 640)\n"
     ]
    },
    {
     "data": {
      "text/plain": [
       "<Figure size 640x480 with 1 Axes>"
      ]
     },
     "metadata": {},
     "output_type": "display_data"
    },
    {
     "name": "stdout",
     "output_type": "stream",
     "text": [
      "image name CARDS_COURTYARD_T_B_hand3_frame_0859.jpg\n",
      "\n",
      "0: 576x640 1 hand, 14.3ms\n",
      "Speed: 1.7ms preprocess, 14.3ms inference, 1.2ms postprocess per image at shape (1, 3, 576, 640)\n"
     ]
    },
    {
     "data": {
      "text/plain": [
       "<Figure size 640x480 with 1 Axes>"
      ]
     },
     "metadata": {},
     "output_type": "display_data"
    },
    {
     "name": "stdout",
     "output_type": "stream",
     "text": [
      "image name CARDS_COURTYARD_H_S_hand2_frame_0505.jpg\n",
      "\n",
      "0: 448x640 1 hand, 12.4ms\n",
      "Speed: 1.6ms preprocess, 12.4ms inference, 1.2ms postprocess per image at shape (1, 3, 448, 640)\n"
     ]
    },
    {
     "data": {
      "text/plain": [
       "<Figure size 640x480 with 1 Axes>"
      ]
     },
     "metadata": {},
     "output_type": "display_data"
    },
    {
     "name": "stdout",
     "output_type": "stream",
     "text": [
      "image name CARDS_COURTYARD_S_H_hand2_frame_1609.jpg\n",
      "\n",
      "0: 416x640 1 hand, 18.2ms\n",
      "Speed: 2.6ms preprocess, 18.2ms inference, 1.4ms postprocess per image at shape (1, 3, 416, 640)\n"
     ]
    },
    {
     "data": {
      "text/plain": [
       "<Figure size 640x480 with 1 Axes>"
      ]
     },
     "metadata": {},
     "output_type": "display_data"
    },
    {
     "name": "stdout",
     "output_type": "stream",
     "text": [
      "image name CARDS_COURTYARD_T_B_hand3_frame_0805.jpg\n",
      "\n",
      "0: 416x640 1 hand, 10.9ms\n",
      "Speed: 1.4ms preprocess, 10.9ms inference, 1.2ms postprocess per image at shape (1, 3, 416, 640)\n"
     ]
    },
    {
     "data": {
      "text/plain": [
       "<Figure size 640x480 with 1 Axes>"
      ]
     },
     "metadata": {},
     "output_type": "display_data"
    },
    {
     "name": "stdout",
     "output_type": "stream",
     "text": [
      "image name CARDS_COURTYARD_T_B_hand3_frame_2133.jpg\n",
      "\n",
      "0: 416x640 1 hand, 10.6ms\n",
      "Speed: 1.4ms preprocess, 10.6ms inference, 1.2ms postprocess per image at shape (1, 3, 416, 640)\n"
     ]
    },
    {
     "data": {
      "text/plain": [
       "<Figure size 640x480 with 1 Axes>"
      ]
     },
     "metadata": {},
     "output_type": "display_data"
    },
    {
     "name": "stdout",
     "output_type": "stream",
     "text": [
      "image name CARDS_COURTYARD_H_S_hand0_frame_1660.jpg\n",
      "\n",
      "0: 448x640 1 hand, 11.5ms\n",
      "Speed: 1.4ms preprocess, 11.5ms inference, 1.2ms postprocess per image at shape (1, 3, 448, 640)\n"
     ]
    },
    {
     "data": {
      "text/plain": [
       "<Figure size 640x480 with 1 Axes>"
      ]
     },
     "metadata": {},
     "output_type": "display_data"
    },
    {
     "name": "stdout",
     "output_type": "stream",
     "text": [
      "image name CARDS_COURTYARD_T_B_hand1_frame_2434.jpg\n",
      "\n",
      "0: 256x640 1 hand, 10.7ms\n",
      "Speed: 1.0ms preprocess, 10.7ms inference, 1.2ms postprocess per image at shape (1, 3, 256, 640)\n"
     ]
    },
    {
     "data": {
      "text/plain": [
       "<Figure size 640x480 with 1 Axes>"
      ]
     },
     "metadata": {},
     "output_type": "display_data"
    },
    {
     "name": "stdout",
     "output_type": "stream",
     "text": [
      "image name CARDS_COURTYARD_T_B_hand3_frame_2207.jpg\n",
      "\n",
      "0: 480x640 1 hand, 12.5ms\n",
      "Speed: 1.4ms preprocess, 12.5ms inference, 1.2ms postprocess per image at shape (1, 3, 480, 640)\n"
     ]
    },
    {
     "data": {
      "text/plain": [
       "<Figure size 640x480 with 1 Axes>"
      ]
     },
     "metadata": {},
     "output_type": "display_data"
    },
    {
     "name": "stdout",
     "output_type": "stream",
     "text": [
      "image name CARDS_COURTYARD_S_H_hand1_frame_2090.jpg\n",
      "\n",
      "0: 224x640 1 hand, 10.7ms\n",
      "Speed: 0.9ms preprocess, 10.7ms inference, 1.3ms postprocess per image at shape (1, 3, 224, 640)\n"
     ]
    },
    {
     "data": {
      "text/plain": [
       "<Figure size 640x480 with 1 Axes>"
      ]
     },
     "metadata": {},
     "output_type": "display_data"
    },
    {
     "name": "stdout",
     "output_type": "stream",
     "text": [
      "image name CARDS_COURTYARD_T_B_hand0_frame_2002.jpg\n",
      "\n",
      "0: 448x640 1 hand, 11.8ms\n",
      "Speed: 1.7ms preprocess, 11.8ms inference, 1.3ms postprocess per image at shape (1, 3, 448, 640)\n"
     ]
    },
    {
     "data": {
      "text/plain": [
       "<Figure size 640x480 with 1 Axes>"
      ]
     },
     "metadata": {},
     "output_type": "display_data"
    },
    {
     "name": "stdout",
     "output_type": "stream",
     "text": [
      "image name CARDS_COURTYARD_S_H_hand0_frame_1803.jpg\n",
      "\n",
      "0: 416x640 1 hand, 11.1ms\n",
      "Speed: 1.2ms preprocess, 11.1ms inference, 1.2ms postprocess per image at shape (1, 3, 416, 640)\n"
     ]
    },
    {
     "data": {
      "text/plain": [
       "<Figure size 640x480 with 1 Axes>"
      ]
     },
     "metadata": {},
     "output_type": "display_data"
    },
    {
     "name": "stdout",
     "output_type": "stream",
     "text": [
      "image name CARDS_COURTYARD_S_H_hand3_frame_2165.jpg\n",
      "\n",
      "0: 384x640 1 hand, 12.3ms\n",
      "Speed: 1.5ms preprocess, 12.3ms inference, 1.3ms postprocess per image at shape (1, 3, 384, 640)\n"
     ]
    },
    {
     "data": {
      "text/plain": [
       "<Figure size 640x480 with 1 Axes>"
      ]
     },
     "metadata": {},
     "output_type": "display_data"
    },
    {
     "name": "stdout",
     "output_type": "stream",
     "text": [
      "image name CARDS_COURTYARD_H_S_hand1_frame_0659.jpg\n",
      "\n",
      "0: 288x640 1 hand, 23.8ms\n",
      "Speed: 2.8ms preprocess, 23.8ms inference, 1.9ms postprocess per image at shape (1, 3, 288, 640)\n"
     ]
    },
    {
     "data": {
      "text/plain": [
       "<Figure size 640x480 with 1 Axes>"
      ]
     },
     "metadata": {},
     "output_type": "display_data"
    },
    {
     "name": "stdout",
     "output_type": "stream",
     "text": [
      "image name CARDS_COURTYARD_S_H_hand0_frame_0438.jpg\n",
      "\n",
      "0: 256x640 1 hand, 11.5ms\n",
      "Speed: 1.0ms preprocess, 11.5ms inference, 1.2ms postprocess per image at shape (1, 3, 256, 640)\n"
     ]
    },
    {
     "data": {
      "text/plain": [
       "<Figure size 640x480 with 1 Axes>"
      ]
     },
     "metadata": {},
     "output_type": "display_data"
    },
    {
     "name": "stdout",
     "output_type": "stream",
     "text": [
      "image name CARDS_COURTYARD_S_H_hand2_frame_0074.jpg\n",
      "\n",
      "0: 256x640 1 hand, 10.3ms\n",
      "Speed: 1.0ms preprocess, 10.3ms inference, 1.2ms postprocess per image at shape (1, 3, 256, 640)\n"
     ]
    },
    {
     "data": {
      "text/plain": [
       "<Figure size 640x480 with 1 Axes>"
      ]
     },
     "metadata": {},
     "output_type": "display_data"
    },
    {
     "name": "stdout",
     "output_type": "stream",
     "text": [
      "image name CARDS_COURTYARD_S_H_hand2_frame_2556.jpg\n",
      "\n",
      "0: 384x640 1 hand, 11.3ms\n",
      "Speed: 1.2ms preprocess, 11.3ms inference, 1.2ms postprocess per image at shape (1, 3, 384, 640)\n"
     ]
    },
    {
     "data": {
      "text/plain": [
       "<Figure size 640x480 with 1 Axes>"
      ]
     },
     "metadata": {},
     "output_type": "display_data"
    },
    {
     "name": "stdout",
     "output_type": "stream",
     "text": [
      "image name CARDS_COURTYARD_S_H_hand2_frame_1279.jpg\n",
      "\n",
      "0: 352x640 1 hand, 11.5ms\n",
      "Speed: 1.4ms preprocess, 11.5ms inference, 1.3ms postprocess per image at shape (1, 3, 352, 640)\n"
     ]
    },
    {
     "data": {
      "text/plain": [
       "<Figure size 640x480 with 1 Axes>"
      ]
     },
     "metadata": {},
     "output_type": "display_data"
    },
    {
     "name": "stdout",
     "output_type": "stream",
     "text": [
      "image name CARDS_COURTYARD_T_B_hand2_frame_1048.jpg\n",
      "\n",
      "0: 256x640 1 hand, 10.6ms\n",
      "Speed: 1.2ms preprocess, 10.6ms inference, 1.2ms postprocess per image at shape (1, 3, 256, 640)\n"
     ]
    },
    {
     "data": {
      "text/plain": [
       "<Figure size 640x480 with 1 Axes>"
      ]
     },
     "metadata": {},
     "output_type": "display_data"
    },
    {
     "name": "stdout",
     "output_type": "stream",
     "text": [
      "image name CARDS_COURTYARD_T_B_hand2_frame_1456.jpg\n",
      "\n",
      "0: 512x640 1 hand, 12.5ms\n",
      "Speed: 1.5ms preprocess, 12.5ms inference, 1.2ms postprocess per image at shape (1, 3, 512, 640)\n"
     ]
    },
    {
     "data": {
      "text/plain": [
       "<Figure size 640x480 with 1 Axes>"
      ]
     },
     "metadata": {},
     "output_type": "display_data"
    },
    {
     "name": "stdout",
     "output_type": "stream",
     "text": [
      "image name CARDS_COURTYARD_T_B_hand3_frame_1048.jpg\n",
      "\n",
      "0: 640x640 1 hand, 15.7ms\n",
      "Speed: 2.4ms preprocess, 15.7ms inference, 1.2ms postprocess per image at shape (1, 3, 640, 640)\n"
     ]
    },
    {
     "data": {
      "text/plain": [
       "<Figure size 640x480 with 1 Axes>"
      ]
     },
     "metadata": {},
     "output_type": "display_data"
    },
    {
     "name": "stdout",
     "output_type": "stream",
     "text": [
      "image name CARDS_COURTYARD_H_S_hand0_frame_2365.jpg\n",
      "\n",
      "0: 416x640 1 hand, 12.0ms\n",
      "Speed: 1.5ms preprocess, 12.0ms inference, 1.2ms postprocess per image at shape (1, 3, 416, 640)\n"
     ]
    },
    {
     "data": {
      "text/plain": [
       "<Figure size 640x480 with 1 Axes>"
      ]
     },
     "metadata": {},
     "output_type": "display_data"
    },
    {
     "name": "stdout",
     "output_type": "stream",
     "text": [
      "image name CARDS_COURTYARD_T_B_hand2_frame_2378.jpg\n",
      "\n",
      "0: 320x640 1 hand, 10.8ms\n",
      "Speed: 1.0ms preprocess, 10.8ms inference, 1.2ms postprocess per image at shape (1, 3, 320, 640)\n"
     ]
    },
    {
     "data": {
      "text/plain": [
       "<Figure size 640x480 with 1 Axes>"
      ]
     },
     "metadata": {},
     "output_type": "display_data"
    },
    {
     "name": "stdout",
     "output_type": "stream",
     "text": [
      "image name CARDS_COURTYARD_H_S_hand1_frame_0129.jpg\n",
      "\n",
      "0: 384x640 1 hand, 11.6ms\n",
      "Speed: 1.3ms preprocess, 11.6ms inference, 1.2ms postprocess per image at shape (1, 3, 384, 640)\n"
     ]
    },
    {
     "data": {
      "text/plain": [
       "<Figure size 640x480 with 1 Axes>"
      ]
     },
     "metadata": {},
     "output_type": "display_data"
    },
    {
     "name": "stdout",
     "output_type": "stream",
     "text": [
      "image name CARDS_COURTYARD_T_B_hand1_frame_2371.jpg\n",
      "\n",
      "0: 352x640 1 hand, 11.3ms\n",
      "Speed: 1.3ms preprocess, 11.3ms inference, 1.2ms postprocess per image at shape (1, 3, 352, 640)\n"
     ]
    },
    {
     "data": {
      "text/plain": [
       "<Figure size 640x480 with 1 Axes>"
      ]
     },
     "metadata": {},
     "output_type": "display_data"
    },
    {
     "name": "stdout",
     "output_type": "stream",
     "text": [
      "image name CARDS_COURTYARD_H_S_hand0_frame_2674.jpg\n",
      "\n",
      "0: 352x640 1 hand, 20.5ms\n",
      "Speed: 2.7ms preprocess, 20.5ms inference, 1.6ms postprocess per image at shape (1, 3, 352, 640)\n"
     ]
    },
    {
     "data": {
      "text/plain": [
       "<Figure size 640x480 with 1 Axes>"
      ]
     },
     "metadata": {},
     "output_type": "display_data"
    },
    {
     "name": "stdout",
     "output_type": "stream",
     "text": [
      "image name CARDS_COURTYARD_T_B_hand2_frame_0685.jpg\n",
      "\n",
      "0: 256x640 1 hand, 12.1ms\n",
      "Speed: 1.2ms preprocess, 12.1ms inference, 1.2ms postprocess per image at shape (1, 3, 256, 640)\n"
     ]
    },
    {
     "data": {
      "text/plain": [
       "<Figure size 640x480 with 1 Axes>"
      ]
     },
     "metadata": {},
     "output_type": "display_data"
    },
    {
     "name": "stdout",
     "output_type": "stream",
     "text": [
      "image name CARDS_COURTYARD_S_H_hand2_frame_0093.jpg\n",
      "\n",
      "0: 288x640 1 hand, 24.1ms\n",
      "Speed: 2.3ms preprocess, 24.1ms inference, 1.9ms postprocess per image at shape (1, 3, 288, 640)\n"
     ]
    },
    {
     "data": {
      "text/plain": [
       "<Figure size 640x480 with 1 Axes>"
      ]
     },
     "metadata": {},
     "output_type": "display_data"
    },
    {
     "name": "stdout",
     "output_type": "stream",
     "text": [
      "image name CARDS_COURTYARD_H_S_hand0_frame_1850.jpg\n",
      "\n",
      "0: 384x640 1 hand, 20.5ms\n",
      "Speed: 3.0ms preprocess, 20.5ms inference, 1.5ms postprocess per image at shape (1, 3, 384, 640)\n"
     ]
    },
    {
     "data": {
      "text/plain": [
       "<Figure size 640x480 with 1 Axes>"
      ]
     },
     "metadata": {},
     "output_type": "display_data"
    },
    {
     "name": "stdout",
     "output_type": "stream",
     "text": [
      "image name CARDS_COURTYARD_T_B_hand3_frame_2175.jpg\n",
      "\n",
      "0: 480x640 1 hand, 12.5ms\n",
      "Speed: 1.4ms preprocess, 12.5ms inference, 1.2ms postprocess per image at shape (1, 3, 480, 640)\n"
     ]
    },
    {
     "data": {
      "text/plain": [
       "<Figure size 640x480 with 1 Axes>"
      ]
     },
     "metadata": {},
     "output_type": "display_data"
    },
    {
     "name": "stdout",
     "output_type": "stream",
     "text": [
      "image name CARDS_COURTYARD_S_H_hand3_frame_0947.jpg\n",
      "\n",
      "0: 576x640 1 hand, 15.7ms\n",
      "Speed: 2.3ms preprocess, 15.7ms inference, 1.3ms postprocess per image at shape (1, 3, 576, 640)\n"
     ]
    },
    {
     "data": {
      "text/plain": [
       "<Figure size 640x480 with 1 Axes>"
      ]
     },
     "metadata": {},
     "output_type": "display_data"
    },
    {
     "name": "stdout",
     "output_type": "stream",
     "text": [
      "image name CARDS_COURTYARD_T_B_hand2_frame_2580.jpg\n",
      "\n",
      "0: 320x640 1 hand, 11.2ms\n",
      "Speed: 1.3ms preprocess, 11.2ms inference, 1.2ms postprocess per image at shape (1, 3, 320, 640)\n"
     ]
    },
    {
     "data": {
      "text/plain": [
       "<Figure size 640x480 with 1 Axes>"
      ]
     },
     "metadata": {},
     "output_type": "display_data"
    },
    {
     "name": "stdout",
     "output_type": "stream",
     "text": [
      "image name CARDS_COURTYARD_T_B_hand1_frame_0276.jpg\n",
      "\n",
      "0: 352x640 1 hand, 11.5ms\n",
      "Speed: 1.2ms preprocess, 11.5ms inference, 1.2ms postprocess per image at shape (1, 3, 352, 640)\n"
     ]
    },
    {
     "data": {
      "text/plain": [
       "<Figure size 640x480 with 1 Axes>"
      ]
     },
     "metadata": {},
     "output_type": "display_data"
    },
    {
     "name": "stdout",
     "output_type": "stream",
     "text": [
      "image name CARDS_COURTYARD_S_H_hand3_frame_1412.jpg\n",
      "\n",
      "0: 512x640 1 hand, 12.5ms\n",
      "Speed: 1.4ms preprocess, 12.5ms inference, 1.2ms postprocess per image at shape (1, 3, 512, 640)\n"
     ]
    },
    {
     "data": {
      "text/plain": [
       "<Figure size 640x480 with 1 Axes>"
      ]
     },
     "metadata": {},
     "output_type": "display_data"
    },
    {
     "name": "stdout",
     "output_type": "stream",
     "text": [
      "image name CARDS_COURTYARD_T_B_hand3_frame_0427.jpg\n",
      "\n",
      "0: 288x640 1 hand, 11.7ms\n",
      "Speed: 1.1ms preprocess, 11.7ms inference, 1.2ms postprocess per image at shape (1, 3, 288, 640)\n"
     ]
    },
    {
     "data": {
      "text/plain": [
       "<Figure size 640x480 with 1 Axes>"
      ]
     },
     "metadata": {},
     "output_type": "display_data"
    },
    {
     "name": "stdout",
     "output_type": "stream",
     "text": [
      "image name CARDS_COURTYARD_H_S_hand0_frame_2369.jpg\n",
      "\n",
      "0: 480x640 1 hand, 12.5ms\n",
      "Speed: 1.4ms preprocess, 12.5ms inference, 1.2ms postprocess per image at shape (1, 3, 480, 640)\n"
     ]
    },
    {
     "data": {
      "text/plain": [
       "<Figure size 640x480 with 1 Axes>"
      ]
     },
     "metadata": {},
     "output_type": "display_data"
    },
    {
     "name": "stdout",
     "output_type": "stream",
     "text": [
      "image name CARDS_COURTYARD_H_S_hand2_frame_1924.jpg\n",
      "\n",
      "0: 384x640 1 hand, 11.0ms\n",
      "Speed: 1.2ms preprocess, 11.0ms inference, 1.2ms postprocess per image at shape (1, 3, 384, 640)\n"
     ]
    },
    {
     "data": {
      "text/plain": [
       "<Figure size 640x480 with 1 Axes>"
      ]
     },
     "metadata": {},
     "output_type": "display_data"
    },
    {
     "name": "stdout",
     "output_type": "stream",
     "text": [
      "image name CARDS_COURTYARD_S_H_hand1_frame_1552.jpg\n",
      "\n",
      "0: 352x640 1 hand, 11.2ms\n",
      "Speed: 1.5ms preprocess, 11.2ms inference, 1.2ms postprocess per image at shape (1, 3, 352, 640)\n"
     ]
    },
    {
     "data": {
      "text/plain": [
       "<Figure size 640x480 with 1 Axes>"
      ]
     },
     "metadata": {},
     "output_type": "display_data"
    },
    {
     "name": "stdout",
     "output_type": "stream",
     "text": [
      "image name CARDS_COURTYARD_T_B_hand3_frame_0937.jpg\n",
      "\n",
      "0: 416x640 1 hand, 11.0ms\n",
      "Speed: 1.8ms preprocess, 11.0ms inference, 1.1ms postprocess per image at shape (1, 3, 416, 640)\n"
     ]
    },
    {
     "data": {
      "text/plain": [
       "<Figure size 640x480 with 1 Axes>"
      ]
     },
     "metadata": {},
     "output_type": "display_data"
    },
    {
     "name": "stdout",
     "output_type": "stream",
     "text": [
      "image name CARDS_COURTYARD_H_S_hand2_frame_2327.jpg\n",
      "\n",
      "0: 384x640 1 hand, 14.3ms\n",
      "Speed: 1.4ms preprocess, 14.3ms inference, 2.6ms postprocess per image at shape (1, 3, 384, 640)\n"
     ]
    },
    {
     "data": {
      "text/plain": [
       "<Figure size 640x480 with 1 Axes>"
      ]
     },
     "metadata": {},
     "output_type": "display_data"
    },
    {
     "name": "stdout",
     "output_type": "stream",
     "text": [
      "image name CARDS_COURTYARD_S_H_hand1_frame_1644.jpg\n",
      "\n",
      "0: 256x640 1 hand, 12.1ms\n",
      "Speed: 1.1ms preprocess, 12.1ms inference, 1.2ms postprocess per image at shape (1, 3, 256, 640)\n"
     ]
    },
    {
     "data": {
      "text/plain": [
       "<Figure size 640x480 with 1 Axes>"
      ]
     },
     "metadata": {},
     "output_type": "display_data"
    },
    {
     "name": "stdout",
     "output_type": "stream",
     "text": [
      "image name CARDS_COURTYARD_S_H_hand0_frame_1412.jpg\n",
      "\n",
      "0: 480x640 1 hand, 12.5ms\n",
      "Speed: 1.3ms preprocess, 12.5ms inference, 1.2ms postprocess per image at shape (1, 3, 480, 640)\n"
     ]
    },
    {
     "data": {
      "text/plain": [
       "<Figure size 640x480 with 1 Axes>"
      ]
     },
     "metadata": {},
     "output_type": "display_data"
    },
    {
     "name": "stdout",
     "output_type": "stream",
     "text": [
      "image name CARDS_COURTYARD_T_B_hand3_frame_0707.jpg\n",
      "\n",
      "0: 416x640 1 hand, 11.5ms\n",
      "Speed: 1.7ms preprocess, 11.5ms inference, 1.2ms postprocess per image at shape (1, 3, 416, 640)\n"
     ]
    },
    {
     "data": {
      "text/plain": [
       "<Figure size 640x480 with 1 Axes>"
      ]
     },
     "metadata": {},
     "output_type": "display_data"
    },
    {
     "name": "stdout",
     "output_type": "stream",
     "text": [
      "image name CARDS_COURTYARD_H_S_hand3_frame_1021.jpg\n",
      "\n",
      "0: 416x640 1 hand, 20.7ms\n",
      "Speed: 2.9ms preprocess, 20.7ms inference, 1.7ms postprocess per image at shape (1, 3, 416, 640)\n"
     ]
    },
    {
     "data": {
      "text/plain": [
       "<Figure size 640x480 with 1 Axes>"
      ]
     },
     "metadata": {},
     "output_type": "display_data"
    },
    {
     "name": "stdout",
     "output_type": "stream",
     "text": [
      "image name CARDS_COURTYARD_S_H_hand0_frame_1114.jpg\n",
      "\n",
      "0: 448x640 (no detections), 13.0ms\n",
      "Speed: 1.3ms preprocess, 13.0ms inference, 0.3ms postprocess per image at shape (1, 3, 448, 640)\n",
      "no results for image CARDS_COURTYARD_S_H_hand0_frame_1114.jpg!\n",
      "image name CARDS_COURTYARD_H_S_hand3_frame_2016.jpg\n",
      "\n",
      "0: 480x640 2 hands, 12.7ms\n",
      "Speed: 1.3ms preprocess, 12.7ms inference, 1.3ms postprocess per image at shape (1, 3, 480, 640)\n"
     ]
    },
    {
     "data": {
      "text/plain": [
       "<Figure size 640x480 with 1 Axes>"
      ]
     },
     "metadata": {},
     "output_type": "display_data"
    },
    {
     "name": "stdout",
     "output_type": "stream",
     "text": [
      "image name CARDS_COURTYARD_S_H_hand2_frame_0667.jpg\n",
      "\n",
      "0: 352x640 1 hand, 11.8ms\n",
      "Speed: 1.1ms preprocess, 11.8ms inference, 1.3ms postprocess per image at shape (1, 3, 352, 640)\n"
     ]
    },
    {
     "data": {
      "text/plain": [
       "<Figure size 640x480 with 1 Axes>"
      ]
     },
     "metadata": {},
     "output_type": "display_data"
    },
    {
     "name": "stdout",
     "output_type": "stream",
     "text": [
      "image name CARDS_COURTYARD_S_H_hand2_frame_1913.jpg\n",
      "\n",
      "0: 384x640 1 hand, 19.9ms\n",
      "Speed: 1.8ms preprocess, 19.9ms inference, 2.8ms postprocess per image at shape (1, 3, 384, 640)\n"
     ]
    },
    {
     "data": {
      "text/plain": [
       "<Figure size 640x480 with 1 Axes>"
      ]
     },
     "metadata": {},
     "output_type": "display_data"
    },
    {
     "name": "stdout",
     "output_type": "stream",
     "text": [
      "image name CARDS_COURTYARD_H_S_hand1_frame_0073.jpg\n",
      "\n",
      "0: 288x640 1 hand, 11.1ms\n",
      "Speed: 1.1ms preprocess, 11.1ms inference, 1.3ms postprocess per image at shape (1, 3, 288, 640)\n"
     ]
    },
    {
     "data": {
      "text/plain": [
       "<Figure size 640x480 with 1 Axes>"
      ]
     },
     "metadata": {},
     "output_type": "display_data"
    },
    {
     "name": "stdout",
     "output_type": "stream",
     "text": [
      "image name CARDS_COURTYARD_S_H_hand3_frame_2332.jpg\n",
      "\n",
      "0: 544x640 1 hand, 13.8ms\n",
      "Speed: 1.6ms preprocess, 13.8ms inference, 1.2ms postprocess per image at shape (1, 3, 544, 640)\n"
     ]
    },
    {
     "data": {
      "text/plain": [
       "<Figure size 640x480 with 1 Axes>"
      ]
     },
     "metadata": {},
     "output_type": "display_data"
    },
    {
     "name": "stdout",
     "output_type": "stream",
     "text": [
      "image name CARDS_COURTYARD_T_B_hand0_frame_1480.jpg\n",
      "\n",
      "0: 352x640 1 hand, 11.5ms\n",
      "Speed: 1.2ms preprocess, 11.5ms inference, 1.4ms postprocess per image at shape (1, 3, 352, 640)\n"
     ]
    },
    {
     "data": {
      "text/plain": [
       "<Figure size 640x480 with 1 Axes>"
      ]
     },
     "metadata": {},
     "output_type": "display_data"
    },
    {
     "name": "stdout",
     "output_type": "stream",
     "text": [
      "image name CARDS_COURTYARD_S_H_hand0_frame_0504.jpg\n",
      "\n",
      "0: 448x640 1 hand, 11.7ms\n",
      "Speed: 1.3ms preprocess, 11.7ms inference, 1.2ms postprocess per image at shape (1, 3, 448, 640)\n"
     ]
    },
    {
     "data": {
      "text/plain": [
       "<Figure size 640x480 with 1 Axes>"
      ]
     },
     "metadata": {},
     "output_type": "display_data"
    },
    {
     "name": "stdout",
     "output_type": "stream",
     "text": [
      "image name CARDS_COURTYARD_T_B_hand1_frame_2524.jpg\n",
      "\n",
      "0: 512x640 1 hand, 12.5ms\n",
      "Speed: 1.5ms preprocess, 12.5ms inference, 1.2ms postprocess per image at shape (1, 3, 512, 640)\n"
     ]
    },
    {
     "data": {
      "text/plain": [
       "<Figure size 640x480 with 1 Axes>"
      ]
     },
     "metadata": {},
     "output_type": "display_data"
    },
    {
     "name": "stdout",
     "output_type": "stream",
     "text": [
      "image name CARDS_COURTYARD_T_B_hand1_frame_0859.jpg\n",
      "\n",
      "0: 320x640 1 hand, 12.7ms\n",
      "Speed: 1.1ms preprocess, 12.7ms inference, 1.4ms postprocess per image at shape (1, 3, 320, 640)\n"
     ]
    },
    {
     "data": {
      "text/plain": [
       "<Figure size 640x480 with 1 Axes>"
      ]
     },
     "metadata": {},
     "output_type": "display_data"
    },
    {
     "name": "stdout",
     "output_type": "stream",
     "text": [
      "image name CARDS_COURTYARD_T_B_hand2_frame_1314.jpg\n",
      "\n",
      "0: 640x480 1 hand, 12.6ms\n",
      "Speed: 1.4ms preprocess, 12.6ms inference, 1.2ms postprocess per image at shape (1, 3, 640, 480)\n"
     ]
    },
    {
     "data": {
      "text/plain": [
       "<Figure size 640x480 with 1 Axes>"
      ]
     },
     "metadata": {},
     "output_type": "display_data"
    },
    {
     "name": "stdout",
     "output_type": "stream",
     "text": [
      "image name CARDS_COURTYARD_H_S_hand0_frame_1021.jpg\n",
      "\n",
      "0: 416x640 1 hand, 12.3ms\n",
      "Speed: 1.3ms preprocess, 12.3ms inference, 1.2ms postprocess per image at shape (1, 3, 416, 640)\n"
     ]
    },
    {
     "data": {
      "text/plain": [
       "<Figure size 640x480 with 1 Axes>"
      ]
     },
     "metadata": {},
     "output_type": "display_data"
    },
    {
     "name": "stdout",
     "output_type": "stream",
     "text": [
      "image name CARDS_COURTYARD_H_S_hand0_frame_2423.jpg\n",
      "\n",
      "0: 320x640 1 hand, 11.0ms\n",
      "Speed: 1.1ms preprocess, 11.0ms inference, 1.7ms postprocess per image at shape (1, 3, 320, 640)\n"
     ]
    },
    {
     "data": {
      "text/plain": [
       "<Figure size 640x480 with 1 Axes>"
      ]
     },
     "metadata": {},
     "output_type": "display_data"
    },
    {
     "name": "stdout",
     "output_type": "stream",
     "text": [
      "image name CARDS_COURTYARD_S_H_hand3_frame_1377.jpg\n",
      "\n",
      "0: 480x640 2 hands, 12.6ms\n",
      "Speed: 1.6ms preprocess, 12.6ms inference, 1.2ms postprocess per image at shape (1, 3, 480, 640)\n"
     ]
    },
    {
     "data": {
      "text/plain": [
       "<Figure size 640x480 with 1 Axes>"
      ]
     },
     "metadata": {},
     "output_type": "display_data"
    },
    {
     "name": "stdout",
     "output_type": "stream",
     "text": [
      "image name CARDS_COURTYARD_T_B_hand3_frame_1829.jpg\n",
      "\n",
      "0: 416x640 1 hand, 11.4ms\n",
      "Speed: 1.2ms preprocess, 11.4ms inference, 1.5ms postprocess per image at shape (1, 3, 416, 640)\n"
     ]
    },
    {
     "data": {
      "text/plain": [
       "<Figure size 640x480 with 1 Axes>"
      ]
     },
     "metadata": {},
     "output_type": "display_data"
    },
    {
     "name": "stdout",
     "output_type": "stream",
     "text": [
      "image name CARDS_COURTYARD_T_B_hand3_frame_2073.jpg\n",
      "\n",
      "0: 448x640 2 hands, 11.5ms\n",
      "Speed: 1.3ms preprocess, 11.5ms inference, 1.2ms postprocess per image at shape (1, 3, 448, 640)\n"
     ]
    },
    {
     "data": {
      "text/plain": [
       "<Figure size 640x480 with 1 Axes>"
      ]
     },
     "metadata": {},
     "output_type": "display_data"
    },
    {
     "name": "stdout",
     "output_type": "stream",
     "text": [
      "image name CARDS_COURTYARD_S_H_hand3_frame_1552.jpg\n",
      "\n",
      "0: 512x640 1 hand, 12.6ms\n",
      "Speed: 1.5ms preprocess, 12.6ms inference, 1.2ms postprocess per image at shape (1, 3, 512, 640)\n"
     ]
    },
    {
     "data": {
      "text/plain": [
       "<Figure size 640x480 with 1 Axes>"
      ]
     },
     "metadata": {},
     "output_type": "display_data"
    },
    {
     "name": "stdout",
     "output_type": "stream",
     "text": [
      "image name CARDS_COURTYARD_S_H_hand0_frame_2674.jpg\n",
      "\n",
      "0: 320x640 1 hand, 13.1ms\n",
      "Speed: 1.4ms preprocess, 13.1ms inference, 1.2ms postprocess per image at shape (1, 3, 320, 640)\n"
     ]
    },
    {
     "data": {
      "text/plain": [
       "<Figure size 640x480 with 1 Axes>"
      ]
     },
     "metadata": {},
     "output_type": "display_data"
    },
    {
     "name": "stdout",
     "output_type": "stream",
     "text": [
      "image name CARDS_COURTYARD_T_B_hand1_frame_1373.jpg\n",
      "\n",
      "0: 320x640 1 hand, 12.8ms\n",
      "Speed: 1.4ms preprocess, 12.8ms inference, 1.6ms postprocess per image at shape (1, 3, 320, 640)\n"
     ]
    },
    {
     "data": {
      "text/plain": [
       "<Figure size 640x480 with 1 Axes>"
      ]
     },
     "metadata": {},
     "output_type": "display_data"
    },
    {
     "name": "stdout",
     "output_type": "stream",
     "text": [
      "image name CARDS_COURTYARD_S_H_hand2_frame_2090.jpg\n",
      "\n",
      "0: 288x640 1 hand, 13.3ms\n",
      "Speed: 1.3ms preprocess, 13.3ms inference, 1.6ms postprocess per image at shape (1, 3, 288, 640)\n"
     ]
    },
    {
     "data": {
      "text/plain": [
       "<Figure size 640x480 with 1 Axes>"
      ]
     },
     "metadata": {},
     "output_type": "display_data"
    },
    {
     "name": "stdout",
     "output_type": "stream",
     "text": [
      "image name CARDS_COURTYARD_T_B_hand2_frame_2073.jpg\n",
      "\n",
      "0: 352x640 1 hand, 11.4ms\n",
      "Speed: 1.4ms preprocess, 11.4ms inference, 1.3ms postprocess per image at shape (1, 3, 352, 640)\n"
     ]
    },
    {
     "data": {
      "text/plain": [
       "<Figure size 640x480 with 1 Axes>"
      ]
     },
     "metadata": {},
     "output_type": "display_data"
    },
    {
     "name": "stdout",
     "output_type": "stream",
     "text": [
      "image name CARDS_COURTYARD_T_B_hand0_frame_1913.jpg\n",
      "\n",
      "0: 608x640 1 hand, 15.3ms\n",
      "Speed: 1.7ms preprocess, 15.3ms inference, 1.3ms postprocess per image at shape (1, 3, 608, 640)\n"
     ]
    },
    {
     "data": {
      "text/plain": [
       "<Figure size 640x480 with 1 Axes>"
      ]
     },
     "metadata": {},
     "output_type": "display_data"
    },
    {
     "name": "stdout",
     "output_type": "stream",
     "text": [
      "image name CARDS_COURTYARD_H_S_hand3_frame_0552.jpg\n",
      "\n",
      "0: 480x640 1 hand, 12.7ms\n",
      "Speed: 1.4ms preprocess, 12.7ms inference, 1.2ms postprocess per image at shape (1, 3, 480, 640)\n"
     ]
    },
    {
     "data": {
      "text/plain": [
       "<Figure size 640x480 with 1 Axes>"
      ]
     },
     "metadata": {},
     "output_type": "display_data"
    },
    {
     "name": "stdout",
     "output_type": "stream",
     "text": [
      "image name CARDS_COURTYARD_H_S_hand1_frame_1983.jpg\n",
      "\n",
      "0: 416x640 1 hand, 12.4ms\n",
      "Speed: 1.5ms preprocess, 12.4ms inference, 1.3ms postprocess per image at shape (1, 3, 416, 640)\n"
     ]
    },
    {
     "data": {
      "text/plain": [
       "<Figure size 640x480 with 1 Axes>"
      ]
     },
     "metadata": {},
     "output_type": "display_data"
    },
    {
     "name": "stdout",
     "output_type": "stream",
     "text": [
      "image name CARDS_COURTYARD_T_B_hand0_frame_1969.jpg\n",
      "\n",
      "0: 320x640 1 hand, 22.5ms\n",
      "Speed: 2.7ms preprocess, 22.5ms inference, 2.6ms postprocess per image at shape (1, 3, 320, 640)\n"
     ]
    },
    {
     "data": {
      "text/plain": [
       "<Figure size 640x480 with 1 Axes>"
      ]
     },
     "metadata": {},
     "output_type": "display_data"
    },
    {
     "name": "stdout",
     "output_type": "stream",
     "text": [
      "image name CARDS_COURTYARD_H_S_hand2_frame_1674.jpg\n",
      "\n",
      "0: 384x640 1 hand, 11.3ms\n",
      "Speed: 1.3ms preprocess, 11.3ms inference, 1.2ms postprocess per image at shape (1, 3, 384, 640)\n"
     ]
    },
    {
     "data": {
      "text/plain": [
       "<Figure size 640x480 with 1 Axes>"
      ]
     },
     "metadata": {},
     "output_type": "display_data"
    },
    {
     "name": "stdout",
     "output_type": "stream",
     "text": [
      "image name CARDS_COURTYARD_T_B_hand0_frame_1239.jpg\n",
      "\n",
      "0: 352x640 1 hand, 11.1ms\n",
      "Speed: 1.1ms preprocess, 11.1ms inference, 1.2ms postprocess per image at shape (1, 3, 352, 640)\n"
     ]
    },
    {
     "data": {
      "text/plain": [
       "<Figure size 640x480 with 1 Axes>"
      ]
     },
     "metadata": {},
     "output_type": "display_data"
    },
    {
     "name": "stdout",
     "output_type": "stream",
     "text": [
      "image name CARDS_COURTYARD_T_B_hand2_frame_1480.jpg\n",
      "\n",
      "0: 480x640 1 hand, 13.5ms\n",
      "Speed: 2.1ms preprocess, 13.5ms inference, 1.5ms postprocess per image at shape (1, 3, 480, 640)\n"
     ]
    },
    {
     "data": {
      "text/plain": [
       "<Figure size 640x480 with 1 Axes>"
      ]
     },
     "metadata": {},
     "output_type": "display_data"
    },
    {
     "name": "stdout",
     "output_type": "stream",
     "text": [
      "image name CARDS_COURTYARD_T_B_hand1_frame_2073.jpg\n",
      "\n",
      "0: 288x640 1 hand, 11.5ms\n",
      "Speed: 1.1ms preprocess, 11.5ms inference, 1.2ms postprocess per image at shape (1, 3, 288, 640)\n"
     ]
    },
    {
     "data": {
      "text/plain": [
       "<Figure size 640x480 with 1 Axes>"
      ]
     },
     "metadata": {},
     "output_type": "display_data"
    },
    {
     "name": "stdout",
     "output_type": "stream",
     "text": [
      "image name CARDS_COURTYARD_H_S_hand2_frame_1479.jpg\n",
      "\n",
      "0: 384x640 1 hand, 11.6ms\n",
      "Speed: 1.1ms preprocess, 11.6ms inference, 1.2ms postprocess per image at shape (1, 3, 384, 640)\n"
     ]
    },
    {
     "data": {
      "text/plain": [
       "<Figure size 640x480 with 1 Axes>"
      ]
     },
     "metadata": {},
     "output_type": "display_data"
    },
    {
     "name": "stdout",
     "output_type": "stream",
     "text": [
      "image name CARDS_COURTYARD_T_B_hand0_frame_1784.jpg\n",
      "\n",
      "0: 352x640 1 hand, 11.5ms\n",
      "Speed: 1.2ms preprocess, 11.5ms inference, 1.3ms postprocess per image at shape (1, 3, 352, 640)\n"
     ]
    },
    {
     "data": {
      "text/plain": [
       "<Figure size 640x480 with 1 Axes>"
      ]
     },
     "metadata": {},
     "output_type": "display_data"
    },
    {
     "name": "stdout",
     "output_type": "stream",
     "text": [
      "image name CARDS_COURTYARD_H_S_hand0_frame_0325.jpg\n",
      "\n",
      "0: 384x640 1 hand, 15.3ms\n",
      "Speed: 1.8ms preprocess, 15.3ms inference, 1.3ms postprocess per image at shape (1, 3, 384, 640)\n"
     ]
    },
    {
     "data": {
      "text/plain": [
       "<Figure size 640x480 with 1 Axes>"
      ]
     },
     "metadata": {},
     "output_type": "display_data"
    },
    {
     "name": "stdout",
     "output_type": "stream",
     "text": [
      "image name CARDS_COURTYARD_T_B_hand2_frame_1986.jpg\n",
      "\n",
      "0: 320x640 1 hand, 11.2ms\n",
      "Speed: 1.1ms preprocess, 11.2ms inference, 1.2ms postprocess per image at shape (1, 3, 320, 640)\n"
     ]
    },
    {
     "data": {
      "text/plain": [
       "<Figure size 640x480 with 1 Axes>"
      ]
     },
     "metadata": {},
     "output_type": "display_data"
    },
    {
     "name": "stdout",
     "output_type": "stream",
     "text": [
      "image name CARDS_COURTYARD_S_H_hand3_frame_0504.jpg\n",
      "\n",
      "0: 160x640 1 hand, 18.5ms\n",
      "Speed: 0.7ms preprocess, 18.5ms inference, 1.2ms postprocess per image at shape (1, 3, 160, 640)\n"
     ]
    },
    {
     "data": {
      "text/plain": [
       "<Figure size 640x480 with 1 Axes>"
      ]
     },
     "metadata": {},
     "output_type": "display_data"
    },
    {
     "name": "stdout",
     "output_type": "stream",
     "text": [
      "image name CARDS_COURTYARD_S_H_hand3_frame_2674.jpg\n",
      "\n",
      "0: 608x640 1 hand, 18.4ms\n",
      "Speed: 3.7ms preprocess, 18.4ms inference, 1.4ms postprocess per image at shape (1, 3, 608, 640)\n"
     ]
    },
    {
     "data": {
      "text/plain": [
       "<Figure size 640x480 with 1 Axes>"
      ]
     },
     "metadata": {},
     "output_type": "display_data"
    },
    {
     "name": "stdout",
     "output_type": "stream",
     "text": [
      "image name CARDS_COURTYARD_S_H_hand3_frame_1343.jpg\n",
      "\n",
      "0: 480x640 2 hands, 12.6ms\n",
      "Speed: 1.4ms preprocess, 12.6ms inference, 1.2ms postprocess per image at shape (1, 3, 480, 640)\n"
     ]
    },
    {
     "data": {
      "text/plain": [
       "<Figure size 640x480 with 1 Axes>"
      ]
     },
     "metadata": {},
     "output_type": "display_data"
    },
    {
     "name": "stdout",
     "output_type": "stream",
     "text": [
      "image name CARDS_COURTYARD_H_S_hand1_frame_0266.jpg\n",
      "\n",
      "0: 320x640 1 hand, 11.1ms\n",
      "Speed: 1.2ms preprocess, 11.1ms inference, 1.2ms postprocess per image at shape (1, 3, 320, 640)\n"
     ]
    },
    {
     "data": {
      "text/plain": [
       "<Figure size 640x480 with 1 Axes>"
      ]
     },
     "metadata": {},
     "output_type": "display_data"
    },
    {
     "name": "stdout",
     "output_type": "stream",
     "text": [
      "image name CARDS_COURTYARD_H_S_hand0_frame_1341.jpg\n",
      "\n",
      "0: 384x640 1 hand, 10.9ms\n",
      "Speed: 1.6ms preprocess, 10.9ms inference, 1.2ms postprocess per image at shape (1, 3, 384, 640)\n"
     ]
    },
    {
     "data": {
      "text/plain": [
       "<Figure size 640x480 with 1 Axes>"
      ]
     },
     "metadata": {},
     "output_type": "display_data"
    },
    {
     "name": "stdout",
     "output_type": "stream",
     "text": [
      "image name CARDS_COURTYARD_H_S_hand1_frame_2163.jpg\n",
      "\n",
      "0: 384x640 1 hand, 11.0ms\n",
      "Speed: 1.3ms preprocess, 11.0ms inference, 1.2ms postprocess per image at shape (1, 3, 384, 640)\n"
     ]
    },
    {
     "data": {
      "text/plain": [
       "<Figure size 640x480 with 1 Axes>"
      ]
     },
     "metadata": {},
     "output_type": "display_data"
    },
    {
     "name": "stdout",
     "output_type": "stream",
     "text": [
      "image name CARDS_COURTYARD_S_H_hand0_frame_0299.jpg\n",
      "\n",
      "0: 576x640 1 hand, 14.4ms\n",
      "Speed: 1.8ms preprocess, 14.4ms inference, 1.2ms postprocess per image at shape (1, 3, 576, 640)\n"
     ]
    },
    {
     "data": {
      "text/plain": [
       "<Figure size 640x480 with 1 Axes>"
      ]
     },
     "metadata": {},
     "output_type": "display_data"
    },
    {
     "name": "stdout",
     "output_type": "stream",
     "text": [
      "image name CARDS_COURTYARD_T_B_hand0_frame_2586.jpg\n",
      "\n",
      "0: 544x640 1 hand, 13.7ms\n",
      "Speed: 1.4ms preprocess, 13.7ms inference, 1.1ms postprocess per image at shape (1, 3, 544, 640)\n"
     ]
    },
    {
     "data": {
      "text/plain": [
       "<Figure size 640x480 with 1 Axes>"
      ]
     },
     "metadata": {},
     "output_type": "display_data"
    },
    {
     "name": "stdout",
     "output_type": "stream",
     "text": [
      "image name CARDS_COURTYARD_S_H_hand2_frame_1027.jpg\n",
      "\n",
      "0: 384x640 1 hand, 10.9ms\n",
      "Speed: 1.1ms preprocess, 10.9ms inference, 1.2ms postprocess per image at shape (1, 3, 384, 640)\n"
     ]
    },
    {
     "data": {
      "text/plain": [
       "<Figure size 640x480 with 1 Axes>"
      ]
     },
     "metadata": {},
     "output_type": "display_data"
    },
    {
     "name": "stdout",
     "output_type": "stream",
     "text": [
      "image name CARDS_COURTYARD_S_H_hand2_frame_2464.jpg\n",
      "\n",
      "0: 320x640 1 hand, 10.6ms\n",
      "Speed: 1.0ms preprocess, 10.6ms inference, 1.2ms postprocess per image at shape (1, 3, 320, 640)\n"
     ]
    },
    {
     "data": {
      "text/plain": [
       "<Figure size 640x480 with 1 Axes>"
      ]
     },
     "metadata": {},
     "output_type": "display_data"
    },
    {
     "name": "stdout",
     "output_type": "stream",
     "text": [
      "image name CARDS_COURTYARD_T_B_hand2_frame_1892.jpg\n",
      "\n",
      "0: 352x640 1 hand, 11.4ms\n",
      "Speed: 1.2ms preprocess, 11.4ms inference, 1.2ms postprocess per image at shape (1, 3, 352, 640)\n"
     ]
    },
    {
     "data": {
      "text/plain": [
       "<Figure size 640x480 with 1 Axes>"
      ]
     },
     "metadata": {},
     "output_type": "display_data"
    },
    {
     "name": "stdout",
     "output_type": "stream",
     "text": [
      "image name CARDS_COURTYARD_T_B_hand3_frame_0632.jpg\n",
      "\n",
      "0: 640x640 1 hand, 16.8ms\n",
      "Speed: 1.8ms preprocess, 16.8ms inference, 2.9ms postprocess per image at shape (1, 3, 640, 640)\n"
     ]
    },
    {
     "data": {
      "text/plain": [
       "<Figure size 640x480 with 1 Axes>"
      ]
     },
     "metadata": {},
     "output_type": "display_data"
    },
    {
     "name": "stdout",
     "output_type": "stream",
     "text": [
      "image name CARDS_COURTYARD_S_H_hand0_frame_2292.jpg\n",
      "\n",
      "0: 352x640 1 hand, 11.7ms\n",
      "Speed: 1.5ms preprocess, 11.7ms inference, 1.2ms postprocess per image at shape (1, 3, 352, 640)\n"
     ]
    },
    {
     "data": {
      "text/plain": [
       "<Figure size 640x480 with 1 Axes>"
      ]
     },
     "metadata": {},
     "output_type": "display_data"
    },
    {
     "name": "stdout",
     "output_type": "stream",
     "text": [
      "image name CARDS_COURTYARD_T_B_hand0_frame_1520.jpg\n",
      "\n",
      "0: 384x640 1 hand, 22.4ms\n",
      "Speed: 2.7ms preprocess, 22.4ms inference, 1.2ms postprocess per image at shape (1, 3, 384, 640)\n"
     ]
    },
    {
     "data": {
      "text/plain": [
       "<Figure size 640x480 with 1 Axes>"
      ]
     },
     "metadata": {},
     "output_type": "display_data"
    },
    {
     "name": "stdout",
     "output_type": "stream",
     "text": [
      "image name CARDS_COURTYARD_H_S_hand0_frame_2194.jpg\n",
      "\n",
      "0: 384x640 1 hand, 10.3ms\n",
      "Speed: 1.2ms preprocess, 10.3ms inference, 1.2ms postprocess per image at shape (1, 3, 384, 640)\n"
     ]
    },
    {
     "data": {
      "text/plain": [
       "<Figure size 640x480 with 1 Axes>"
      ]
     },
     "metadata": {},
     "output_type": "display_data"
    },
    {
     "name": "stdout",
     "output_type": "stream",
     "text": [
      "image name CARDS_COURTYARD_S_H_hand2_frame_1043.jpg\n",
      "\n",
      "0: 416x640 1 hand, 12.1ms\n",
      "Speed: 1.2ms preprocess, 12.1ms inference, 1.2ms postprocess per image at shape (1, 3, 416, 640)\n"
     ]
    },
    {
     "data": {
      "text/plain": [
       "<Figure size 640x480 with 1 Axes>"
      ]
     },
     "metadata": {},
     "output_type": "display_data"
    },
    {
     "name": "stdout",
     "output_type": "stream",
     "text": [
      "image name CARDS_COURTYARD_S_H_hand3_frame_0536.jpg\n",
      "\n",
      "0: 256x640 1 hand, 11.8ms\n",
      "Speed: 1.0ms preprocess, 11.8ms inference, 1.3ms postprocess per image at shape (1, 3, 256, 640)\n"
     ]
    },
    {
     "data": {
      "text/plain": [
       "<Figure size 640x480 with 1 Axes>"
      ]
     },
     "metadata": {},
     "output_type": "display_data"
    },
    {
     "name": "stdout",
     "output_type": "stream",
     "text": [
      "image name CARDS_COURTYARD_S_H_hand3_frame_2243.jpg\n",
      "\n",
      "0: 448x640 1 hand, 14.2ms\n",
      "Speed: 2.0ms preprocess, 14.2ms inference, 1.3ms postprocess per image at shape (1, 3, 448, 640)\n"
     ]
    },
    {
     "data": {
      "text/plain": [
       "<Figure size 640x480 with 1 Axes>"
      ]
     },
     "metadata": {},
     "output_type": "display_data"
    },
    {
     "name": "stdout",
     "output_type": "stream",
     "text": [
      "image name CARDS_COURTYARD_H_S_hand2_frame_2016.jpg\n",
      "\n",
      "0: 416x640 2 hands, 11.0ms\n",
      "Speed: 1.2ms preprocess, 11.0ms inference, 1.2ms postprocess per image at shape (1, 3, 416, 640)\n"
     ]
    },
    {
     "data": {
      "text/plain": [
       "<Figure size 640x480 with 1 Axes>"
      ]
     },
     "metadata": {},
     "output_type": "display_data"
    },
    {
     "name": "stdout",
     "output_type": "stream",
     "text": [
      "image name CARDS_COURTYARD_S_H_hand2_frame_0559.jpg\n",
      "\n",
      "0: 352x640 1 hand, 11.5ms\n",
      "Speed: 1.1ms preprocess, 11.5ms inference, 1.2ms postprocess per image at shape (1, 3, 352, 640)\n"
     ]
    },
    {
     "data": {
      "text/plain": [
       "<Figure size 640x480 with 1 Axes>"
      ]
     },
     "metadata": {},
     "output_type": "display_data"
    },
    {
     "name": "stdout",
     "output_type": "stream",
     "text": [
      "image name CARDS_COURTYARD_H_S_hand0_frame_0174.jpg\n",
      "\n",
      "0: 320x640 1 hand, 10.5ms\n",
      "Speed: 1.0ms preprocess, 10.5ms inference, 1.1ms postprocess per image at shape (1, 3, 320, 640)\n"
     ]
    },
    {
     "data": {
      "text/plain": [
       "<Figure size 640x480 with 1 Axes>"
      ]
     },
     "metadata": {},
     "output_type": "display_data"
    },
    {
     "name": "stdout",
     "output_type": "stream",
     "text": [
      "image name CARDS_COURTYARD_H_S_hand0_frame_0073.jpg\n",
      "\n",
      "0: 288x640 1 hand, 11.9ms\n",
      "Speed: 1.1ms preprocess, 11.9ms inference, 1.2ms postprocess per image at shape (1, 3, 288, 640)\n"
     ]
    },
    {
     "data": {
      "text/plain": [
       "<Figure size 640x480 with 1 Axes>"
      ]
     },
     "metadata": {},
     "output_type": "display_data"
    },
    {
     "name": "stdout",
     "output_type": "stream",
     "text": [
      "image name CARDS_COURTYARD_H_S_hand1_frame_1832.jpg\n",
      "\n",
      "0: 544x640 1 hand, 13.8ms\n",
      "Speed: 1.7ms preprocess, 13.8ms inference, 1.2ms postprocess per image at shape (1, 3, 544, 640)\n"
     ]
    },
    {
     "data": {
      "text/plain": [
       "<Figure size 640x480 with 1 Axes>"
      ]
     },
     "metadata": {},
     "output_type": "display_data"
    },
    {
     "name": "stdout",
     "output_type": "stream",
     "text": [
      "image name CARDS_COURTYARD_T_B_hand2_frame_2321.jpg\n",
      "\n",
      "0: 352x640 1 hand, 11.3ms\n",
      "Speed: 1.1ms preprocess, 11.3ms inference, 1.3ms postprocess per image at shape (1, 3, 352, 640)\n"
     ]
    },
    {
     "data": {
      "text/plain": [
       "<Figure size 640x480 with 1 Axes>"
      ]
     },
     "metadata": {},
     "output_type": "display_data"
    },
    {
     "name": "stdout",
     "output_type": "stream",
     "text": [
      "image name CARDS_COURTYARD_S_H_hand0_frame_1551.jpg\n",
      "\n",
      "0: 384x640 1 hand, 11.1ms\n",
      "Speed: 1.3ms preprocess, 11.1ms inference, 2.3ms postprocess per image at shape (1, 3, 384, 640)\n"
     ]
    },
    {
     "data": {
      "text/plain": [
       "<Figure size 640x480 with 1 Axes>"
      ]
     },
     "metadata": {},
     "output_type": "display_data"
    },
    {
     "name": "stdout",
     "output_type": "stream",
     "text": [
      "image name CARDS_COURTYARD_T_B_hand3_frame_1010.jpg\n",
      "\n",
      "0: 416x640 1 hand, 11.5ms\n",
      "Speed: 1.4ms preprocess, 11.5ms inference, 1.2ms postprocess per image at shape (1, 3, 416, 640)\n"
     ]
    },
    {
     "data": {
      "text/plain": [
       "<Figure size 640x480 with 1 Axes>"
      ]
     },
     "metadata": {},
     "output_type": "display_data"
    },
    {
     "name": "stdout",
     "output_type": "stream",
     "text": [
      "image name CARDS_COURTYARD_T_B_hand2_frame_2175.jpg\n",
      "\n",
      "0: 352x640 2 hands, 22.3ms\n",
      "Speed: 2.0ms preprocess, 22.3ms inference, 2.0ms postprocess per image at shape (1, 3, 352, 640)\n"
     ]
    },
    {
     "data": {
      "text/plain": [
       "<Figure size 640x480 with 1 Axes>"
      ]
     },
     "metadata": {},
     "output_type": "display_data"
    },
    {
     "name": "stdout",
     "output_type": "stream",
     "text": [
      "image name CARDS_COURTYARD_T_B_hand3_frame_0360.jpg\n",
      "\n",
      "0: 448x640 1 hand, 19.9ms\n",
      "Speed: 3.4ms preprocess, 19.9ms inference, 1.5ms postprocess per image at shape (1, 3, 448, 640)\n"
     ]
    },
    {
     "data": {
      "text/plain": [
       "<Figure size 640x480 with 1 Axes>"
      ]
     },
     "metadata": {},
     "output_type": "display_data"
    },
    {
     "name": "stdout",
     "output_type": "stream",
     "text": [
      "image name CARDS_COURTYARD_H_S_hand0_frame_1830.jpg\n",
      "\n",
      "0: 384x640 1 hand, 14.1ms\n",
      "Speed: 1.5ms preprocess, 14.1ms inference, 1.2ms postprocess per image at shape (1, 3, 384, 640)\n"
     ]
    },
    {
     "data": {
      "text/plain": [
       "<Figure size 640x480 with 1 Axes>"
      ]
     },
     "metadata": {},
     "output_type": "display_data"
    },
    {
     "name": "stdout",
     "output_type": "stream",
     "text": [
      "image name CARDS_COURTYARD_T_B_hand3_frame_1969.jpg\n",
      "\n",
      "0: 512x640 1 hand, 13.2ms\n",
      "Speed: 1.9ms preprocess, 13.2ms inference, 1.2ms postprocess per image at shape (1, 3, 512, 640)\n"
     ]
    },
    {
     "data": {
      "text/plain": [
       "<Figure size 640x480 with 1 Axes>"
      ]
     },
     "metadata": {},
     "output_type": "display_data"
    },
    {
     "name": "stdout",
     "output_type": "stream",
     "text": [
      "image name CARDS_COURTYARD_S_H_hand3_frame_1352.jpg\n",
      "\n",
      "0: 480x640 1 hand, 12.7ms\n",
      "Speed: 1.4ms preprocess, 12.7ms inference, 1.2ms postprocess per image at shape (1, 3, 480, 640)\n"
     ]
    },
    {
     "data": {
      "text/plain": [
       "<Figure size 640x480 with 1 Axes>"
      ]
     },
     "metadata": {},
     "output_type": "display_data"
    },
    {
     "name": "stdout",
     "output_type": "stream",
     "text": [
      "image name CARDS_COURTYARD_T_B_hand2_frame_1434.jpg\n",
      "\n",
      "0: 416x640 1 hand, 20.0ms\n",
      "Speed: 3.3ms preprocess, 20.0ms inference, 1.5ms postprocess per image at shape (1, 3, 416, 640)\n"
     ]
    },
    {
     "data": {
      "text/plain": [
       "<Figure size 640x480 with 1 Axes>"
      ]
     },
     "metadata": {},
     "output_type": "display_data"
    },
    {
     "name": "stdout",
     "output_type": "stream",
     "text": [
      "image name CARDS_COURTYARD_H_S_hand2_frame_0199.jpg\n",
      "\n",
      "0: 384x640 1 hand, 12.8ms\n",
      "Speed: 1.5ms preprocess, 12.8ms inference, 1.2ms postprocess per image at shape (1, 3, 384, 640)\n"
     ]
    },
    {
     "data": {
      "text/plain": [
       "<Figure size 640x480 with 1 Axes>"
      ]
     },
     "metadata": {},
     "output_type": "display_data"
    },
    {
     "name": "stdout",
     "output_type": "stream",
     "text": [
      "image name CARDS_COURTYARD_S_H_hand2_frame_2391.jpg\n",
      "\n",
      "0: 416x640 2 hands, 11.6ms\n",
      "Speed: 1.2ms preprocess, 11.6ms inference, 1.2ms postprocess per image at shape (1, 3, 416, 640)\n"
     ]
    },
    {
     "data": {
      "text/plain": [
       "<Figure size 640x480 with 1 Axes>"
      ]
     },
     "metadata": {},
     "output_type": "display_data"
    },
    {
     "name": "stdout",
     "output_type": "stream",
     "text": [
      "image name CARDS_COURTYARD_T_B_hand0_frame_2324.jpg\n",
      "\n",
      "0: 480x640 1 hand, 12.7ms\n",
      "Speed: 1.5ms preprocess, 12.7ms inference, 1.3ms postprocess per image at shape (1, 3, 480, 640)\n"
     ]
    },
    {
     "data": {
      "text/plain": [
       "<Figure size 640x480 with 1 Axes>"
      ]
     },
     "metadata": {},
     "output_type": "display_data"
    },
    {
     "name": "stdout",
     "output_type": "stream",
     "text": [
      "image name CARDS_COURTYARD_T_B_hand1_frame_0637.jpg\n",
      "\n",
      "0: 320x640 1 hand, 11.3ms\n",
      "Speed: 1.2ms preprocess, 11.3ms inference, 1.3ms postprocess per image at shape (1, 3, 320, 640)\n"
     ]
    },
    {
     "data": {
      "text/plain": [
       "<Figure size 640x480 with 1 Axes>"
      ]
     },
     "metadata": {},
     "output_type": "display_data"
    },
    {
     "name": "stdout",
     "output_type": "stream",
     "text": [
      "image name CARDS_COURTYARD_S_H_hand1_frame_0388.jpg\n",
      "\n",
      "0: 192x640 (no detections), 18.0ms\n",
      "Speed: 0.8ms preprocess, 18.0ms inference, 0.3ms postprocess per image at shape (1, 3, 192, 640)\n",
      "no results for image CARDS_COURTYARD_S_H_hand1_frame_0388.jpg!\n",
      "image name CARDS_COURTYARD_T_B_hand2_frame_1905.jpg\n",
      "\n",
      "0: 384x640 1 hand, 10.9ms\n",
      "Speed: 1.1ms preprocess, 10.9ms inference, 1.2ms postprocess per image at shape (1, 3, 384, 640)\n"
     ]
    },
    {
     "data": {
      "text/plain": [
       "<Figure size 640x480 with 1 Axes>"
      ]
     },
     "metadata": {},
     "output_type": "display_data"
    },
    {
     "name": "stdout",
     "output_type": "stream",
     "text": [
      "image name CARDS_COURTYARD_T_B_hand2_frame_0914.jpg\n",
      "\n",
      "0: 288x640 1 hand, 10.8ms\n",
      "Speed: 1.0ms preprocess, 10.8ms inference, 1.2ms postprocess per image at shape (1, 3, 288, 640)\n"
     ]
    },
    {
     "data": {
      "text/plain": [
       "<Figure size 640x480 with 1 Axes>"
      ]
     },
     "metadata": {},
     "output_type": "display_data"
    },
    {
     "name": "stdout",
     "output_type": "stream",
     "text": [
      "image name CARDS_COURTYARD_H_S_hand3_frame_0549.jpg\n",
      "\n",
      "0: 480x640 1 hand, 16.9ms\n",
      "Speed: 1.4ms preprocess, 16.9ms inference, 2.5ms postprocess per image at shape (1, 3, 480, 640)\n"
     ]
    },
    {
     "data": {
      "text/plain": [
       "<Figure size 640x480 with 1 Axes>"
      ]
     },
     "metadata": {},
     "output_type": "display_data"
    },
    {
     "name": "stdout",
     "output_type": "stream",
     "text": [
      "image name CARDS_COURTYARD_T_B_hand0_frame_1672.jpg\n",
      "\n",
      "0: 352x640 1 hand, 11.6ms\n",
      "Speed: 1.2ms preprocess, 11.6ms inference, 1.2ms postprocess per image at shape (1, 3, 352, 640)\n"
     ]
    },
    {
     "data": {
      "text/plain": [
       "<Figure size 640x480 with 1 Axes>"
      ]
     },
     "metadata": {},
     "output_type": "display_data"
    },
    {
     "name": "stdout",
     "output_type": "stream",
     "text": [
      "image name CARDS_COURTYARD_H_S_hand3_frame_1341.jpg\n",
      "\n",
      "0: 416x640 1 hand, 24.3ms\n",
      "Speed: 2.9ms preprocess, 24.3ms inference, 2.8ms postprocess per image at shape (1, 3, 416, 640)\n"
     ]
    },
    {
     "data": {
      "text/plain": [
       "<Figure size 640x480 with 1 Axes>"
      ]
     },
     "metadata": {},
     "output_type": "display_data"
    },
    {
     "name": "stdout",
     "output_type": "stream",
     "text": [
      "image name CARDS_COURTYARD_S_H_hand2_frame_1220.jpg\n",
      "\n",
      "0: 352x640 1 hand, 11.3ms\n",
      "Speed: 1.2ms preprocess, 11.3ms inference, 1.2ms postprocess per image at shape (1, 3, 352, 640)\n"
     ]
    },
    {
     "data": {
      "text/plain": [
       "<Figure size 640x480 with 1 Axes>"
      ]
     },
     "metadata": {},
     "output_type": "display_data"
    },
    {
     "name": "stdout",
     "output_type": "stream",
     "text": [
      "image name CARDS_COURTYARD_T_B_hand2_frame_0937.jpg\n",
      "\n",
      "0: 256x640 1 hand, 14.3ms\n",
      "Speed: 0.9ms preprocess, 14.3ms inference, 1.7ms postprocess per image at shape (1, 3, 256, 640)\n"
     ]
    },
    {
     "data": {
      "text/plain": [
       "<Figure size 640x480 with 1 Axes>"
      ]
     },
     "metadata": {},
     "output_type": "display_data"
    },
    {
     "name": "stdout",
     "output_type": "stream",
     "text": [
      "image name CARDS_COURTYARD_H_S_hand1_frame_0380.jpg\n",
      "\n",
      "0: 384x640 1 hand, 11.2ms\n",
      "Speed: 1.3ms preprocess, 11.2ms inference, 1.7ms postprocess per image at shape (1, 3, 384, 640)\n"
     ]
    },
    {
     "data": {
      "text/plain": [
       "<Figure size 640x480 with 1 Axes>"
      ]
     },
     "metadata": {},
     "output_type": "display_data"
    },
    {
     "name": "stdout",
     "output_type": "stream",
     "text": [
      "image name CARDS_COURTYARD_S_H_hand3_frame_2292.jpg\n",
      "\n",
      "0: 640x608 1 hand, 15.2ms\n",
      "Speed: 1.8ms preprocess, 15.2ms inference, 1.5ms postprocess per image at shape (1, 3, 640, 608)\n"
     ]
    },
    {
     "data": {
      "text/plain": [
       "<Figure size 640x480 with 1 Axes>"
      ]
     },
     "metadata": {},
     "output_type": "display_data"
    },
    {
     "name": "stdout",
     "output_type": "stream",
     "text": [
      "image name CARDS_COURTYARD_T_B_hand0_frame_2175.jpg\n",
      "\n",
      "0: 448x640 1 hand, 12.1ms\n",
      "Speed: 1.3ms preprocess, 12.1ms inference, 1.2ms postprocess per image at shape (1, 3, 448, 640)\n"
     ]
    },
    {
     "data": {
      "text/plain": [
       "<Figure size 640x480 with 1 Axes>"
      ]
     },
     "metadata": {},
     "output_type": "display_data"
    },
    {
     "name": "stdout",
     "output_type": "stream",
     "text": [
      "image name CARDS_COURTYARD_H_S_hand0_frame_1232.jpg\n",
      "\n",
      "0: 320x640 1 hand, 12.3ms\n",
      "Speed: 1.3ms preprocess, 12.3ms inference, 1.2ms postprocess per image at shape (1, 3, 320, 640)\n"
     ]
    },
    {
     "data": {
      "text/plain": [
       "<Figure size 640x480 with 1 Axes>"
      ]
     },
     "metadata": {},
     "output_type": "display_data"
    },
    {
     "name": "stdout",
     "output_type": "stream",
     "text": [
      "image name CARDS_COURTYARD_T_B_hand1_frame_1456.jpg\n",
      "\n",
      "0: 352x640 1 hand, 11.3ms\n",
      "Speed: 1.1ms preprocess, 11.3ms inference, 1.4ms postprocess per image at shape (1, 3, 352, 640)\n"
     ]
    },
    {
     "data": {
      "text/plain": [
       "<Figure size 640x480 with 1 Axes>"
      ]
     },
     "metadata": {},
     "output_type": "display_data"
    },
    {
     "name": "stdout",
     "output_type": "stream",
     "text": [
      "image name CARDS_COURTYARD_H_S_hand2_frame_0659.jpg\n",
      "\n",
      "0: 384x640 1 hand, 11.3ms\n",
      "Speed: 1.2ms preprocess, 11.3ms inference, 1.2ms postprocess per image at shape (1, 3, 384, 640)\n"
     ]
    },
    {
     "data": {
      "text/plain": [
       "<Figure size 640x480 with 1 Axes>"
      ]
     },
     "metadata": {},
     "output_type": "display_data"
    },
    {
     "name": "stdout",
     "output_type": "stream",
     "text": [
      "image name CARDS_COURTYARD_S_H_hand3_frame_2148.jpg\n",
      "\n",
      "0: 448x640 1 hand, 12.3ms\n",
      "Speed: 1.7ms preprocess, 12.3ms inference, 1.3ms postprocess per image at shape (1, 3, 448, 640)\n"
     ]
    },
    {
     "data": {
      "text/plain": [
       "<Figure size 640x480 with 1 Axes>"
      ]
     },
     "metadata": {},
     "output_type": "display_data"
    },
    {
     "name": "stdout",
     "output_type": "stream",
     "text": [
      "image name CARDS_COURTYARD_T_B_hand0_frame_0955.jpg\n",
      "\n",
      "0: 320x640 1 hand, 10.7ms\n",
      "Speed: 1.3ms preprocess, 10.7ms inference, 1.2ms postprocess per image at shape (1, 3, 320, 640)\n"
     ]
    },
    {
     "data": {
      "text/plain": [
       "<Figure size 640x480 with 1 Axes>"
      ]
     },
     "metadata": {},
     "output_type": "display_data"
    },
    {
     "name": "stdout",
     "output_type": "stream",
     "text": [
      "image name CARDS_COURTYARD_S_H_hand0_frame_0537.jpg\n",
      "\n",
      "0: 544x640 1 hand, 13.9ms\n",
      "Speed: 1.6ms preprocess, 13.9ms inference, 1.2ms postprocess per image at shape (1, 3, 544, 640)\n"
     ]
    },
    {
     "data": {
      "text/plain": [
       "<Figure size 640x480 with 1 Axes>"
      ]
     },
     "metadata": {},
     "output_type": "display_data"
    },
    {
     "name": "stdout",
     "output_type": "stream",
     "text": [
      "image name CARDS_COURTYARD_H_S_hand2_frame_0763.jpg\n",
      "\n",
      "0: 352x640 2 hands, 10.9ms\n",
      "Speed: 1.1ms preprocess, 10.9ms inference, 1.2ms postprocess per image at shape (1, 3, 352, 640)\n"
     ]
    },
    {
     "data": {
      "text/plain": [
       "<Figure size 640x480 with 1 Axes>"
      ]
     },
     "metadata": {},
     "output_type": "display_data"
    },
    {
     "name": "stdout",
     "output_type": "stream",
     "text": [
      "image name CARDS_COURTYARD_H_S_hand0_frame_1284.jpg\n",
      "\n",
      "0: 416x640 1 hand, 11.9ms\n",
      "Speed: 1.2ms preprocess, 11.9ms inference, 1.2ms postprocess per image at shape (1, 3, 416, 640)\n"
     ]
    },
    {
     "data": {
      "text/plain": [
       "<Figure size 640x480 with 1 Axes>"
      ]
     },
     "metadata": {},
     "output_type": "display_data"
    },
    {
     "name": "stdout",
     "output_type": "stream",
     "text": [
      "image name CARDS_COURTYARD_T_B_hand1_frame_1672.jpg\n",
      "\n",
      "0: 416x640 1 hand, 11.2ms\n",
      "Speed: 1.4ms preprocess, 11.2ms inference, 1.2ms postprocess per image at shape (1, 3, 416, 640)\n"
     ]
    },
    {
     "data": {
      "text/plain": [
       "<Figure size 640x480 with 1 Axes>"
      ]
     },
     "metadata": {},
     "output_type": "display_data"
    },
    {
     "name": "stdout",
     "output_type": "stream",
     "text": [
      "image name CARDS_COURTYARD_S_H_hand2_frame_1644.jpg\n",
      "\n",
      "0: 384x640 1 hand, 10.9ms\n",
      "Speed: 1.3ms preprocess, 10.9ms inference, 1.2ms postprocess per image at shape (1, 3, 384, 640)\n"
     ]
    },
    {
     "data": {
      "text/plain": [
       "<Figure size 640x480 with 1 Axes>"
      ]
     },
     "metadata": {},
     "output_type": "display_data"
    },
    {
     "name": "stdout",
     "output_type": "stream",
     "text": [
      "image name CARDS_COURTYARD_S_H_hand2_frame_2658.jpg\n",
      "\n",
      "0: 352x640 1 hand, 14.7ms\n",
      "Speed: 1.2ms preprocess, 14.7ms inference, 1.3ms postprocess per image at shape (1, 3, 352, 640)\n"
     ]
    },
    {
     "data": {
      "text/plain": [
       "<Figure size 640x480 with 1 Axes>"
      ]
     },
     "metadata": {},
     "output_type": "display_data"
    },
    {
     "name": "stdout",
     "output_type": "stream",
     "text": [
      "image name CARDS_COURTYARD_T_B_hand0_frame_2022.jpg\n",
      "\n",
      "0: 512x640 1 hand, 12.5ms\n",
      "Speed: 1.4ms preprocess, 12.5ms inference, 1.2ms postprocess per image at shape (1, 3, 512, 640)\n"
     ]
    },
    {
     "data": {
      "text/plain": [
       "<Figure size 640x480 with 1 Axes>"
      ]
     },
     "metadata": {},
     "output_type": "display_data"
    },
    {
     "name": "stdout",
     "output_type": "stream",
     "text": [
      "image name CARDS_COURTYARD_T_B_hand2_frame_1276.jpg\n",
      "\n",
      "0: 640x608 1 hand, 15.6ms\n",
      "Speed: 1.7ms preprocess, 15.6ms inference, 1.5ms postprocess per image at shape (1, 3, 640, 608)\n"
     ]
    },
    {
     "data": {
      "text/plain": [
       "<Figure size 640x480 with 1 Axes>"
      ]
     },
     "metadata": {},
     "output_type": "display_data"
    },
    {
     "name": "stdout",
     "output_type": "stream",
     "text": [
      "image name CARDS_COURTYARD_H_S_hand2_frame_1341.jpg\n",
      "\n",
      "0: 480x640 1 hand, 13.1ms\n",
      "Speed: 1.8ms preprocess, 13.1ms inference, 1.2ms postprocess per image at shape (1, 3, 480, 640)\n"
     ]
    },
    {
     "data": {
      "text/plain": [
       "<Figure size 640x480 with 1 Axes>"
      ]
     },
     "metadata": {},
     "output_type": "display_data"
    },
    {
     "name": "stdout",
     "output_type": "stream",
     "text": [
      "image name CARDS_COURTYARD_S_H_hand3_frame_1991.jpg\n",
      "\n",
      "0: 416x640 1 hand, 14.2ms\n",
      "Speed: 2.1ms preprocess, 14.2ms inference, 1.2ms postprocess per image at shape (1, 3, 416, 640)\n"
     ]
    },
    {
     "data": {
      "text/plain": [
       "<Figure size 640x480 with 1 Axes>"
      ]
     },
     "metadata": {},
     "output_type": "display_data"
    },
    {
     "name": "stdout",
     "output_type": "stream",
     "text": [
      "image name CARDS_COURTYARD_H_S_hand1_frame_2194.jpg\n",
      "\n",
      "0: 416x640 1 hand, 11.9ms\n",
      "Speed: 1.4ms preprocess, 11.9ms inference, 1.2ms postprocess per image at shape (1, 3, 416, 640)\n"
     ]
    },
    {
     "data": {
      "text/plain": [
       "<Figure size 640x480 with 1 Axes>"
      ]
     },
     "metadata": {},
     "output_type": "display_data"
    },
    {
     "name": "stdout",
     "output_type": "stream",
     "text": [
      "image name CARDS_COURTYARD_T_B_hand3_frame_1924.jpg\n",
      "\n",
      "0: 576x640 1 hand, 14.4ms\n",
      "Speed: 1.7ms preprocess, 14.4ms inference, 1.2ms postprocess per image at shape (1, 3, 576, 640)\n"
     ]
    },
    {
     "data": {
      "text/plain": [
       "<Figure size 640x480 with 1 Axes>"
      ]
     },
     "metadata": {},
     "output_type": "display_data"
    },
    {
     "name": "stdout",
     "output_type": "stream",
     "text": [
      "image name CARDS_COURTYARD_T_B_hand2_frame_0334.jpg\n",
      "\n",
      "0: 352x640 1 hand, 10.8ms\n",
      "Speed: 1.1ms preprocess, 10.8ms inference, 1.2ms postprocess per image at shape (1, 3, 352, 640)\n"
     ]
    },
    {
     "data": {
      "text/plain": [
       "<Figure size 640x480 with 1 Axes>"
      ]
     },
     "metadata": {},
     "output_type": "display_data"
    },
    {
     "name": "stdout",
     "output_type": "stream",
     "text": [
      "image name CARDS_COURTYARD_H_S_hand3_frame_0553.jpg\n",
      "\n",
      "0: 480x640 1 hand, 12.5ms\n",
      "Speed: 1.3ms preprocess, 12.5ms inference, 1.2ms postprocess per image at shape (1, 3, 480, 640)\n"
     ]
    },
    {
     "data": {
      "text/plain": [
       "<Figure size 640x480 with 1 Axes>"
      ]
     },
     "metadata": {},
     "output_type": "display_data"
    },
    {
     "name": "stdout",
     "output_type": "stream",
     "text": [
      "image name CARDS_COURTYARD_T_B_hand1_frame_2649.jpg\n",
      "\n",
      "0: 448x640 1 hand, 11.5ms\n",
      "Speed: 2.0ms preprocess, 11.5ms inference, 1.2ms postprocess per image at shape (1, 3, 448, 640)\n"
     ]
    },
    {
     "data": {
      "text/plain": [
       "<Figure size 640x480 with 1 Axes>"
      ]
     },
     "metadata": {},
     "output_type": "display_data"
    },
    {
     "name": "stdout",
     "output_type": "stream",
     "text": [
      "image name CARDS_COURTYARD_S_H_hand2_frame_0890.jpg\n",
      "\n",
      "0: 320x640 1 hand, 11.1ms\n",
      "Speed: 1.0ms preprocess, 11.1ms inference, 1.2ms postprocess per image at shape (1, 3, 320, 640)\n"
     ]
    },
    {
     "data": {
      "text/plain": [
       "<Figure size 640x480 with 1 Axes>"
      ]
     },
     "metadata": {},
     "output_type": "display_data"
    },
    {
     "name": "stdout",
     "output_type": "stream",
     "text": [
      "image name CARDS_COURTYARD_T_B_hand3_frame_1986.jpg\n",
      "\n",
      "0: 416x640 1 hand, 22.5ms\n",
      "Speed: 2.9ms preprocess, 22.5ms inference, 1.8ms postprocess per image at shape (1, 3, 416, 640)\n"
     ]
    },
    {
     "data": {
      "text/plain": [
       "<Figure size 640x480 with 1 Axes>"
      ]
     },
     "metadata": {},
     "output_type": "display_data"
    },
    {
     "name": "stdout",
     "output_type": "stream",
     "text": [
      "image name CARDS_COURTYARD_S_H_hand1_frame_1435.jpg\n",
      "\n",
      "0: 256x640 1 hand, 12.4ms\n",
      "Speed: 1.2ms preprocess, 12.4ms inference, 1.2ms postprocess per image at shape (1, 3, 256, 640)\n"
     ]
    },
    {
     "data": {
      "text/plain": [
       "<Figure size 640x480 with 1 Axes>"
      ]
     },
     "metadata": {},
     "output_type": "display_data"
    },
    {
     "name": "stdout",
     "output_type": "stream",
     "text": [
      "image name CARDS_COURTYARD_H_S_hand0_frame_1514.jpg\n",
      "\n",
      "0: 416x640 1 hand, 11.5ms\n",
      "Speed: 1.2ms preprocess, 11.5ms inference, 1.6ms postprocess per image at shape (1, 3, 416, 640)\n"
     ]
    },
    {
     "data": {
      "text/plain": [
       "<Figure size 640x480 with 1 Axes>"
      ]
     },
     "metadata": {},
     "output_type": "display_data"
    },
    {
     "name": "stdout",
     "output_type": "stream",
     "text": [
      "image name CARDS_COURTYARD_H_S_hand1_frame_1924.jpg\n",
      "\n",
      "0: 480x640 1 hand, 12.7ms\n",
      "Speed: 1.9ms preprocess, 12.7ms inference, 1.4ms postprocess per image at shape (1, 3, 480, 640)\n"
     ]
    },
    {
     "data": {
      "text/plain": [
       "<Figure size 640x480 with 1 Axes>"
      ]
     },
     "metadata": {},
     "output_type": "display_data"
    },
    {
     "name": "stdout",
     "output_type": "stream",
     "text": [
      "image name CARDS_COURTYARD_T_B_hand0_frame_0411.jpg\n",
      "\n",
      "0: 608x640 1 hand, 15.0ms\n",
      "Speed: 1.6ms preprocess, 15.0ms inference, 1.2ms postprocess per image at shape (1, 3, 608, 640)\n"
     ]
    },
    {
     "data": {
      "text/plain": [
       "<Figure size 640x480 with 1 Axes>"
      ]
     },
     "metadata": {},
     "output_type": "display_data"
    },
    {
     "name": "stdout",
     "output_type": "stream",
     "text": [
      "image name CARDS_COURTYARD_T_B_hand2_frame_2589.jpg\n",
      "\n",
      "0: 352x640 1 hand, 12.8ms\n",
      "Speed: 1.1ms preprocess, 12.8ms inference, 1.6ms postprocess per image at shape (1, 3, 352, 640)\n"
     ]
    },
    {
     "data": {
      "text/plain": [
       "<Figure size 640x480 with 1 Axes>"
      ]
     },
     "metadata": {},
     "output_type": "display_data"
    },
    {
     "name": "stdout",
     "output_type": "stream",
     "text": [
      "image name CARDS_COURTYARD_S_H_hand3_frame_2299.jpg\n",
      "\n",
      "0: 640x544 1 hand, 14.4ms\n",
      "Speed: 1.7ms preprocess, 14.4ms inference, 1.2ms postprocess per image at shape (1, 3, 640, 544)\n"
     ]
    },
    {
     "data": {
      "text/plain": [
       "<Figure size 640x480 with 1 Axes>"
      ]
     },
     "metadata": {},
     "output_type": "display_data"
    },
    {
     "name": "stdout",
     "output_type": "stream",
     "text": [
      "image name CARDS_COURTYARD_S_H_hand2_frame_1991.jpg\n",
      "\n",
      "0: 352x640 1 hand, 11.3ms\n",
      "Speed: 1.5ms preprocess, 11.3ms inference, 1.2ms postprocess per image at shape (1, 3, 352, 640)\n"
     ]
    },
    {
     "data": {
      "text/plain": [
       "<Figure size 640x480 with 1 Axes>"
      ]
     },
     "metadata": {},
     "output_type": "display_data"
    },
    {
     "name": "stdout",
     "output_type": "stream",
     "text": [
      "image name CARDS_COURTYARD_H_S_hand3_frame_0659.jpg\n",
      "\n",
      "0: 448x640 2 hands, 12.4ms\n",
      "Speed: 1.3ms preprocess, 12.4ms inference, 1.2ms postprocess per image at shape (1, 3, 448, 640)\n"
     ]
    },
    {
     "data": {
      "text/plain": [
       "<Figure size 640x480 with 1 Axes>"
      ]
     },
     "metadata": {},
     "output_type": "display_data"
    },
    {
     "name": "stdout",
     "output_type": "stream",
     "text": [
      "image name CARDS_COURTYARD_H_S_hand0_frame_1604.jpg\n",
      "\n",
      "0: 384x640 1 hand, 11.2ms\n",
      "Speed: 1.3ms preprocess, 11.2ms inference, 1.7ms postprocess per image at shape (1, 3, 384, 640)\n"
     ]
    },
    {
     "data": {
      "text/plain": [
       "<Figure size 640x480 with 1 Axes>"
      ]
     },
     "metadata": {},
     "output_type": "display_data"
    },
    {
     "name": "stdout",
     "output_type": "stream",
     "text": [
      "image name CARDS_COURTYARD_H_S_hand2_frame_1983.jpg\n",
      "\n",
      "0: 448x640 1 hand, 11.5ms\n",
      "Speed: 1.3ms preprocess, 11.5ms inference, 1.2ms postprocess per image at shape (1, 3, 448, 640)\n"
     ]
    },
    {
     "data": {
      "text/plain": [
       "<Figure size 640x480 with 1 Axes>"
      ]
     },
     "metadata": {},
     "output_type": "display_data"
    },
    {
     "name": "stdout",
     "output_type": "stream",
     "text": [
      "image name CARDS_COURTYARD_T_B_hand1_frame_1550.jpg\n",
      "\n",
      "0: 352x640 1 hand, 11.0ms\n",
      "Speed: 1.2ms preprocess, 11.0ms inference, 1.2ms postprocess per image at shape (1, 3, 352, 640)\n"
     ]
    },
    {
     "data": {
      "text/plain": [
       "<Figure size 640x480 with 1 Axes>"
      ]
     },
     "metadata": {},
     "output_type": "display_data"
    },
    {
     "name": "stdout",
     "output_type": "stream",
     "text": [
      "image name CARDS_COURTYARD_T_B_hand3_frame_1806.jpg\n",
      "\n",
      "0: 416x640 1 hand, 12.0ms\n",
      "Speed: 1.3ms preprocess, 12.0ms inference, 1.2ms postprocess per image at shape (1, 3, 416, 640)\n"
     ]
    },
    {
     "data": {
      "text/plain": [
       "<Figure size 640x480 with 1 Axes>"
      ]
     },
     "metadata": {},
     "output_type": "display_data"
    },
    {
     "name": "stdout",
     "output_type": "stream",
     "text": [
      "image name CARDS_COURTYARD_S_H_hand0_frame_0016.jpg\n",
      "\n",
      "0: 224x640 1 hand, 12.1ms\n",
      "Speed: 0.8ms preprocess, 12.1ms inference, 1.2ms postprocess per image at shape (1, 3, 224, 640)\n"
     ]
    },
    {
     "data": {
      "text/plain": [
       "<Figure size 640x480 with 1 Axes>"
      ]
     },
     "metadata": {},
     "output_type": "display_data"
    },
    {
     "name": "stdout",
     "output_type": "stream",
     "text": [
      "image name CARDS_COURTYARD_T_B_hand2_frame_0858.jpg\n",
      "\n",
      "0: 288x640 1 hand, 15.9ms\n",
      "Speed: 1.4ms preprocess, 15.9ms inference, 2.6ms postprocess per image at shape (1, 3, 288, 640)\n"
     ]
    },
    {
     "data": {
      "text/plain": [
       "<Figure size 640x480 with 1 Axes>"
      ]
     },
     "metadata": {},
     "output_type": "display_data"
    },
    {
     "name": "stdout",
     "output_type": "stream",
     "text": [
      "image name CARDS_COURTYARD_T_B_hand3_frame_0241.jpg\n",
      "\n",
      "0: 384x640 1 hand, 11.9ms\n",
      "Speed: 1.6ms preprocess, 11.9ms inference, 1.2ms postprocess per image at shape (1, 3, 384, 640)\n"
     ]
    },
    {
     "data": {
      "text/plain": [
       "<Figure size 640x480 with 1 Axes>"
      ]
     },
     "metadata": {},
     "output_type": "display_data"
    },
    {
     "name": "stdout",
     "output_type": "stream",
     "text": [
      "image name CARDS_COURTYARD_T_B_hand0_frame_0419.jpg\n",
      "\n",
      "0: 288x640 1 hand, 11.5ms\n",
      "Speed: 1.4ms preprocess, 11.5ms inference, 1.2ms postprocess per image at shape (1, 3, 288, 640)\n"
     ]
    },
    {
     "data": {
      "text/plain": [
       "<Figure size 640x480 with 1 Axes>"
      ]
     },
     "metadata": {},
     "output_type": "display_data"
    },
    {
     "name": "stdout",
     "output_type": "stream",
     "text": [
      "image name CARDS_COURTYARD_S_H_hand2_frame_0923.jpg\n",
      "\n",
      "0: 384x640 1 hand, 11.7ms\n",
      "Speed: 1.2ms preprocess, 11.7ms inference, 1.2ms postprocess per image at shape (1, 3, 384, 640)\n"
     ]
    },
    {
     "data": {
      "text/plain": [
       "<Figure size 640x480 with 1 Axes>"
      ]
     },
     "metadata": {},
     "output_type": "display_data"
    },
    {
     "name": "stdout",
     "output_type": "stream",
     "text": [
      "image name CARDS_COURTYARD_H_S_hand2_frame_1850.jpg\n",
      "\n",
      "0: 384x640 2 hands, 16.9ms\n",
      "Speed: 2.4ms preprocess, 16.9ms inference, 1.3ms postprocess per image at shape (1, 3, 384, 640)\n"
     ]
    },
    {
     "data": {
      "text/plain": [
       "<Figure size 640x480 with 1 Axes>"
      ]
     },
     "metadata": {},
     "output_type": "display_data"
    },
    {
     "name": "stdout",
     "output_type": "stream",
     "text": [
      "image name CARDS_COURTYARD_T_B_hand2_frame_2438.jpg\n",
      "\n",
      "0: 320x640 1 hand, 10.9ms\n",
      "Speed: 1.6ms preprocess, 10.9ms inference, 1.2ms postprocess per image at shape (1, 3, 320, 640)\n"
     ]
    },
    {
     "data": {
      "text/plain": [
       "<Figure size 640x480 with 1 Axes>"
      ]
     },
     "metadata": {},
     "output_type": "display_data"
    },
    {
     "name": "stdout",
     "output_type": "stream",
     "text": [
      "image name CARDS_COURTYARD_T_B_hand1_frame_0016.jpg\n",
      "\n",
      "0: 512x640 1 hand, 12.6ms\n",
      "Speed: 1.5ms preprocess, 12.6ms inference, 1.2ms postprocess per image at shape (1, 3, 512, 640)\n"
     ]
    },
    {
     "data": {
      "text/plain": [
       "<Figure size 640x480 with 1 Axes>"
      ]
     },
     "metadata": {},
     "output_type": "display_data"
    },
    {
     "name": "stdout",
     "output_type": "stream",
     "text": [
      "image name CARDS_COURTYARD_S_H_hand0_frame_1343.jpg\n",
      "\n",
      "0: 384x640 1 hand, 18.3ms\n",
      "Speed: 3.6ms preprocess, 18.3ms inference, 1.6ms postprocess per image at shape (1, 3, 384, 640)\n"
     ]
    },
    {
     "data": {
      "text/plain": [
       "<Figure size 640x480 with 1 Axes>"
      ]
     },
     "metadata": {},
     "output_type": "display_data"
    },
    {
     "name": "stdout",
     "output_type": "stream",
     "text": [
      "image name CARDS_COURTYARD_S_H_hand0_frame_2027.jpg\n",
      "\n",
      "0: 352x640 1 hand, 13.3ms\n",
      "Speed: 1.2ms preprocess, 13.3ms inference, 1.3ms postprocess per image at shape (1, 3, 352, 640)\n"
     ]
    },
    {
     "data": {
      "text/plain": [
       "<Figure size 640x480 with 1 Axes>"
      ]
     },
     "metadata": {},
     "output_type": "display_data"
    },
    {
     "name": "stdout",
     "output_type": "stream",
     "text": [
      "image name CARDS_COURTYARD_T_B_hand1_frame_1937.jpg\n",
      "\n",
      "0: 320x640 1 hand, 10.6ms\n",
      "Speed: 1.1ms preprocess, 10.6ms inference, 1.2ms postprocess per image at shape (1, 3, 320, 640)\n"
     ]
    },
    {
     "data": {
      "text/plain": [
       "<Figure size 640x480 with 1 Axes>"
      ]
     },
     "metadata": {},
     "output_type": "display_data"
    },
    {
     "name": "stdout",
     "output_type": "stream",
     "text": [
      "image name CARDS_COURTYARD_H_S_hand3_frame_2369.jpg\n",
      "\n",
      "0: 512x640 2 hands, 12.6ms\n",
      "Speed: 1.5ms preprocess, 12.6ms inference, 1.2ms postprocess per image at shape (1, 3, 512, 640)\n"
     ]
    },
    {
     "data": {
      "text/plain": [
       "<Figure size 640x480 with 1 Axes>"
      ]
     },
     "metadata": {},
     "output_type": "display_data"
    },
    {
     "name": "stdout",
     "output_type": "stream",
     "text": [
      "image name CARDS_COURTYARD_T_B_hand0_frame_1432.jpg\n",
      "\n",
      "0: 416x640 1 hand, 21.8ms\n",
      "Speed: 2.4ms preprocess, 21.8ms inference, 1.5ms postprocess per image at shape (1, 3, 416, 640)\n"
     ]
    },
    {
     "data": {
      "text/plain": [
       "<Figure size 640x480 with 1 Axes>"
      ]
     },
     "metadata": {},
     "output_type": "display_data"
    },
    {
     "name": "stdout",
     "output_type": "stream",
     "text": [
      "image name CARDS_COURTYARD_T_B_hand1_frame_1892.jpg\n",
      "\n",
      "0: 352x640 1 hand, 11.1ms\n",
      "Speed: 1.4ms preprocess, 11.1ms inference, 1.2ms postprocess per image at shape (1, 3, 352, 640)\n"
     ]
    },
    {
     "data": {
      "text/plain": [
       "<Figure size 640x480 with 1 Axes>"
      ]
     },
     "metadata": {},
     "output_type": "display_data"
    },
    {
     "name": "stdout",
     "output_type": "stream",
     "text": [
      "image name CARDS_COURTYARD_S_H_hand0_frame_2154.jpg\n",
      "\n",
      "0: 448x640 1 hand, 11.5ms\n",
      "Speed: 1.2ms preprocess, 11.5ms inference, 1.6ms postprocess per image at shape (1, 3, 448, 640)\n"
     ]
    },
    {
     "data": {
      "text/plain": [
       "<Figure size 640x480 with 1 Axes>"
      ]
     },
     "metadata": {},
     "output_type": "display_data"
    },
    {
     "name": "stdout",
     "output_type": "stream",
     "text": [
      "image name CARDS_COURTYARD_S_H_hand1_frame_1452.jpg\n",
      "\n",
      "0: 224x640 1 hand, 15.0ms\n",
      "Speed: 1.1ms preprocess, 15.0ms inference, 1.3ms postprocess per image at shape (1, 3, 224, 640)\n"
     ]
    },
    {
     "data": {
      "text/plain": [
       "<Figure size 640x480 with 1 Axes>"
      ]
     },
     "metadata": {},
     "output_type": "display_data"
    },
    {
     "name": "stdout",
     "output_type": "stream",
     "text": [
      "image name CARDS_COURTYARD_S_H_hand1_frame_1486.jpg\n",
      "\n",
      "0: 544x640 1 hand, 13.9ms\n",
      "Speed: 1.6ms preprocess, 13.9ms inference, 1.4ms postprocess per image at shape (1, 3, 544, 640)\n"
     ]
    },
    {
     "data": {
      "text/plain": [
       "<Figure size 640x480 with 1 Axes>"
      ]
     },
     "metadata": {},
     "output_type": "display_data"
    },
    {
     "name": "stdout",
     "output_type": "stream",
     "text": [
      "image name CARDS_COURTYARD_H_S_hand0_frame_0266.jpg\n",
      "\n",
      "0: 480x640 1 hand, 12.5ms\n",
      "Speed: 1.8ms preprocess, 12.5ms inference, 1.2ms postprocess per image at shape (1, 3, 480, 640)\n"
     ]
    },
    {
     "data": {
      "text/plain": [
       "<Figure size 640x480 with 1 Axes>"
      ]
     },
     "metadata": {},
     "output_type": "display_data"
    },
    {
     "name": "stdout",
     "output_type": "stream",
     "text": [
      "image name CARDS_COURTYARD_S_H_hand2_frame_1550.jpg\n",
      "\n",
      "0: 288x640 1 hand, 12.4ms\n",
      "Speed: 1.1ms preprocess, 12.4ms inference, 1.3ms postprocess per image at shape (1, 3, 288, 640)\n"
     ]
    },
    {
     "data": {
      "text/plain": [
       "<Figure size 640x480 with 1 Axes>"
      ]
     },
     "metadata": {},
     "output_type": "display_data"
    },
    {
     "name": "stdout",
     "output_type": "stream",
     "text": [
      "image name CARDS_COURTYARD_S_H_hand2_frame_1441.jpg\n",
      "\n",
      "0: 384x640 1 hand, 21.3ms\n",
      "Speed: 3.6ms preprocess, 21.3ms inference, 2.3ms postprocess per image at shape (1, 3, 384, 640)\n"
     ]
    },
    {
     "data": {
      "text/plain": [
       "<Figure size 640x480 with 1 Axes>"
      ]
     },
     "metadata": {},
     "output_type": "display_data"
    },
    {
     "name": "stdout",
     "output_type": "stream",
     "text": [
      "image name CARDS_COURTYARD_H_S_hand2_frame_0129.jpg\n",
      "\n",
      "0: 384x640 1 hand, 21.1ms\n",
      "Speed: 2.8ms preprocess, 21.1ms inference, 1.6ms postprocess per image at shape (1, 3, 384, 640)\n"
     ]
    },
    {
     "data": {
      "text/plain": [
       "<Figure size 640x480 with 1 Axes>"
      ]
     },
     "metadata": {},
     "output_type": "display_data"
    },
    {
     "name": "stdout",
     "output_type": "stream",
     "text": [
      "image name CARDS_COURTYARD_S_H_hand0_frame_0324.jpg\n",
      "\n",
      "0: 640x512 1 hand, 12.8ms\n",
      "Speed: 1.5ms preprocess, 12.8ms inference, 1.2ms postprocess per image at shape (1, 3, 640, 512)\n"
     ]
    },
    {
     "data": {
      "text/plain": [
       "<Figure size 640x480 with 1 Axes>"
      ]
     },
     "metadata": {},
     "output_type": "display_data"
    },
    {
     "name": "stdout",
     "output_type": "stream",
     "text": [
      "image name CARDS_COURTYARD_S_H_hand3_frame_1013.jpg\n",
      "\n",
      "0: 480x640 2 hands, 18.4ms\n",
      "Speed: 3.1ms preprocess, 18.4ms inference, 1.5ms postprocess per image at shape (1, 3, 480, 640)\n"
     ]
    },
    {
     "data": {
      "text/plain": [
       "<Figure size 640x480 with 1 Axes>"
      ]
     },
     "metadata": {},
     "output_type": "display_data"
    },
    {
     "name": "stdout",
     "output_type": "stream",
     "text": [
      "image name CARDS_COURTYARD_S_H_hand0_frame_1993.jpg\n",
      "\n",
      "0: 320x640 1 hand, 11.6ms\n",
      "Speed: 1.0ms preprocess, 11.6ms inference, 1.2ms postprocess per image at shape (1, 3, 320, 640)\n"
     ]
    },
    {
     "data": {
      "text/plain": [
       "<Figure size 640x480 with 1 Axes>"
      ]
     },
     "metadata": {},
     "output_type": "display_data"
    },
    {
     "name": "stdout",
     "output_type": "stream",
     "text": [
      "image name CARDS_COURTYARD_S_H_hand1_frame_0747.jpg\n",
      "\n",
      "0: 448x640 1 hand, 11.5ms\n",
      "Speed: 1.4ms preprocess, 11.5ms inference, 1.3ms postprocess per image at shape (1, 3, 448, 640)\n"
     ]
    },
    {
     "data": {
      "text/plain": [
       "<Figure size 640x480 with 1 Axes>"
      ]
     },
     "metadata": {},
     "output_type": "display_data"
    },
    {
     "name": "stdout",
     "output_type": "stream",
     "text": [
      "image name CARDS_COURTYARD_T_B_hand3_frame_1226.jpg\n",
      "\n",
      "0: 576x640 1 hand, 14.3ms\n",
      "Speed: 1.7ms preprocess, 14.3ms inference, 1.2ms postprocess per image at shape (1, 3, 576, 640)\n"
     ]
    },
    {
     "data": {
      "text/plain": [
       "<Figure size 640x480 with 1 Axes>"
      ]
     },
     "metadata": {},
     "output_type": "display_data"
    },
    {
     "name": "stdout",
     "output_type": "stream",
     "text": [
      "image name CARDS_COURTYARD_H_S_hand2_frame_1962.jpg\n",
      "\n",
      "0: 384x640 1 hand, 13.0ms\n",
      "Speed: 1.5ms preprocess, 13.0ms inference, 1.7ms postprocess per image at shape (1, 3, 384, 640)\n"
     ]
    },
    {
     "data": {
      "text/plain": [
       "<Figure size 640x480 with 1 Axes>"
      ]
     },
     "metadata": {},
     "output_type": "display_data"
    },
    {
     "name": "stdout",
     "output_type": "stream",
     "text": [
      "image name CARDS_COURTYARD_H_S_hand0_frame_1832.jpg\n",
      "\n",
      "0: 416x640 1 hand, 18.7ms\n",
      "Speed: 3.1ms preprocess, 18.7ms inference, 1.6ms postprocess per image at shape (1, 3, 416, 640)\n"
     ]
    },
    {
     "data": {
      "text/plain": [
       "<Figure size 640x480 with 1 Axes>"
      ]
     },
     "metadata": {},
     "output_type": "display_data"
    },
    {
     "name": "stdout",
     "output_type": "stream",
     "text": [
      "image name CARDS_COURTYARD_H_S_hand2_frame_1396.jpg\n",
      "\n",
      "0: 384x640 1 hand, 11.1ms\n",
      "Speed: 1.2ms preprocess, 11.1ms inference, 1.3ms postprocess per image at shape (1, 3, 384, 640)\n"
     ]
    },
    {
     "data": {
      "text/plain": [
       "<Figure size 640x480 with 1 Axes>"
      ]
     },
     "metadata": {},
     "output_type": "display_data"
    },
    {
     "name": "stdout",
     "output_type": "stream",
     "text": [
      "image name CARDS_COURTYARD_T_B_hand0_frame_0804.jpg\n",
      "\n",
      "0: 576x640 1 hand, 14.3ms\n",
      "Speed: 1.6ms preprocess, 14.3ms inference, 1.2ms postprocess per image at shape (1, 3, 576, 640)\n"
     ]
    },
    {
     "data": {
      "text/plain": [
       "<Figure size 640x480 with 1 Axes>"
      ]
     },
     "metadata": {},
     "output_type": "display_data"
    },
    {
     "name": "stdout",
     "output_type": "stream",
     "text": [
      "image name CARDS_COURTYARD_T_B_hand2_frame_0632.jpg\n",
      "\n",
      "0: 352x640 1 hand, 11.2ms\n",
      "Speed: 1.1ms preprocess, 11.2ms inference, 1.2ms postprocess per image at shape (1, 3, 352, 640)\n"
     ]
    },
    {
     "data": {
      "text/plain": [
       "<Figure size 640x480 with 1 Axes>"
      ]
     },
     "metadata": {},
     "output_type": "display_data"
    },
    {
     "name": "stdout",
     "output_type": "stream",
     "text": [
      "image name CARDS_COURTYARD_T_B_hand3_frame_0858.jpg\n",
      "\n",
      "0: 512x640 1 hand, 12.8ms\n",
      "Speed: 1.6ms preprocess, 12.8ms inference, 1.2ms postprocess per image at shape (1, 3, 512, 640)\n"
     ]
    },
    {
     "data": {
      "text/plain": [
       "<Figure size 640x480 with 1 Axes>"
      ]
     },
     "metadata": {},
     "output_type": "display_data"
    },
    {
     "name": "stdout",
     "output_type": "stream",
     "text": [
      "image name CARDS_COURTYARD_H_S_hand3_frame_1523.jpg\n",
      "\n",
      "0: 480x640 1 hand, 12.5ms\n",
      "Speed: 1.3ms preprocess, 12.5ms inference, 1.2ms postprocess per image at shape (1, 3, 480, 640)\n"
     ]
    },
    {
     "data": {
      "text/plain": [
       "<Figure size 640x480 with 1 Axes>"
      ]
     },
     "metadata": {},
     "output_type": "display_data"
    },
    {
     "name": "stdout",
     "output_type": "stream",
     "text": [
      "image name CARDS_COURTYARD_S_H_hand3_frame_2402.jpg\n",
      "\n",
      "0: 416x640 1 hand, 11.2ms\n",
      "Speed: 1.3ms preprocess, 11.2ms inference, 1.3ms postprocess per image at shape (1, 3, 416, 640)\n"
     ]
    },
    {
     "data": {
      "text/plain": [
       "<Figure size 640x480 with 1 Axes>"
      ]
     },
     "metadata": {},
     "output_type": "display_data"
    },
    {
     "name": "stdout",
     "output_type": "stream",
     "text": [
      "image name CARDS_COURTYARD_T_B_hand0_frame_2434.jpg\n",
      "\n",
      "0: 416x640 1 hand, 13.0ms\n",
      "Speed: 1.8ms preprocess, 13.0ms inference, 1.4ms postprocess per image at shape (1, 3, 416, 640)\n"
     ]
    },
    {
     "data": {
      "text/plain": [
       "<Figure size 640x480 with 1 Axes>"
      ]
     },
     "metadata": {},
     "output_type": "display_data"
    },
    {
     "name": "stdout",
     "output_type": "stream",
     "text": [
      "image name CARDS_COURTYARD_T_B_hand2_frame_0805.jpg\n",
      "\n",
      "0: 320x640 1 hand, 11.0ms\n",
      "Speed: 1.1ms preprocess, 11.0ms inference, 1.2ms postprocess per image at shape (1, 3, 320, 640)\n"
     ]
    },
    {
     "data": {
      "text/plain": [
       "<Figure size 640x480 with 1 Axes>"
      ]
     },
     "metadata": {},
     "output_type": "display_data"
    },
    {
     "name": "stdout",
     "output_type": "stream",
     "text": [
      "image name CARDS_COURTYARD_T_B_hand2_frame_1239.jpg\n",
      "\n",
      "0: 384x640 1 hand, 11.2ms\n",
      "Speed: 1.2ms preprocess, 11.2ms inference, 1.2ms postprocess per image at shape (1, 3, 384, 640)\n"
     ]
    },
    {
     "data": {
      "text/plain": [
       "<Figure size 640x480 with 1 Axes>"
      ]
     },
     "metadata": {},
     "output_type": "display_data"
    },
    {
     "name": "stdout",
     "output_type": "stream",
     "text": [
      "image name CARDS_COURTYARD_H_S_hand2_frame_0211.jpg\n",
      "\n",
      "0: 608x640 1 hand, 15.2ms\n",
      "Speed: 2.3ms preprocess, 15.2ms inference, 1.2ms postprocess per image at shape (1, 3, 608, 640)\n"
     ]
    },
    {
     "data": {
      "text/plain": [
       "<Figure size 640x480 with 1 Axes>"
      ]
     },
     "metadata": {},
     "output_type": "display_data"
    },
    {
     "name": "stdout",
     "output_type": "stream",
     "text": [
      "image name CARDS_COURTYARD_H_S_hand0_frame_1770.jpg\n",
      "\n",
      "0: 416x640 1 hand, 11.6ms\n",
      "Speed: 1.4ms preprocess, 11.6ms inference, 1.2ms postprocess per image at shape (1, 3, 416, 640)\n"
     ]
    },
    {
     "data": {
      "text/plain": [
       "<Figure size 640x480 with 1 Axes>"
      ]
     },
     "metadata": {},
     "output_type": "display_data"
    },
    {
     "name": "stdout",
     "output_type": "stream",
     "text": [
      "image name CARDS_COURTYARD_H_S_hand2_frame_2176.jpg\n",
      "\n",
      "0: 352x640 1 hand, 12.3ms\n",
      "Speed: 1.3ms preprocess, 12.3ms inference, 1.2ms postprocess per image at shape (1, 3, 352, 640)\n"
     ]
    },
    {
     "data": {
      "text/plain": [
       "<Figure size 640x480 with 1 Axes>"
      ]
     },
     "metadata": {},
     "output_type": "display_data"
    },
    {
     "name": "stdout",
     "output_type": "stream",
     "text": [
      "image name CARDS_COURTYARD_S_H_hand1_frame_0896.jpg\n",
      "\n",
      "0: 384x640 (no detections), 20.1ms\n",
      "Speed: 2.7ms preprocess, 20.1ms inference, 0.5ms postprocess per image at shape (1, 3, 384, 640)\n",
      "no results for image CARDS_COURTYARD_S_H_hand1_frame_0896.jpg!\n",
      "image name CARDS_COURTYARD_H_S_hand2_frame_2387.jpg\n",
      "\n",
      "0: 352x640 1 hand, 14.7ms\n",
      "Speed: 1.4ms preprocess, 14.7ms inference, 1.2ms postprocess per image at shape (1, 3, 352, 640)\n"
     ]
    },
    {
     "data": {
      "text/plain": [
       "<Figure size 640x480 with 1 Axes>"
      ]
     },
     "metadata": {},
     "output_type": "display_data"
    },
    {
     "name": "stdout",
     "output_type": "stream",
     "text": [
      "image name CARDS_COURTYARD_T_B_hand2_frame_2327.jpg\n",
      "\n",
      "0: 352x640 1 hand, 12.0ms\n",
      "Speed: 1.4ms preprocess, 12.0ms inference, 1.3ms postprocess per image at shape (1, 3, 352, 640)\n"
     ]
    },
    {
     "data": {
      "text/plain": [
       "<Figure size 640x480 with 1 Axes>"
      ]
     },
     "metadata": {},
     "output_type": "display_data"
    },
    {
     "name": "stdout",
     "output_type": "stream",
     "text": [
      "image name CARDS_COURTYARD_H_S_hand2_frame_1604.jpg\n",
      "\n",
      "0: 480x640 1 hand, 12.5ms\n",
      "Speed: 1.3ms preprocess, 12.5ms inference, 1.2ms postprocess per image at shape (1, 3, 480, 640)\n"
     ]
    },
    {
     "data": {
      "text/plain": [
       "<Figure size 640x480 with 1 Axes>"
      ]
     },
     "metadata": {},
     "output_type": "display_data"
    },
    {
     "name": "stdout",
     "output_type": "stream",
     "text": [
      "image name CARDS_COURTYARD_S_H_hand2_frame_1343.jpg\n",
      "\n",
      "0: 416x640 1 hand, 11.3ms\n",
      "Speed: 1.3ms preprocess, 11.3ms inference, 1.6ms postprocess per image at shape (1, 3, 416, 640)\n"
     ]
    },
    {
     "data": {
      "text/plain": [
       "<Figure size 640x480 with 1 Axes>"
      ]
     },
     "metadata": {},
     "output_type": "display_data"
    },
    {
     "name": "stdout",
     "output_type": "stream",
     "text": [
      "image name CARDS_COURTYARD_T_B_hand0_frame_1806.jpg\n",
      "\n",
      "0: 512x640 1 hand, 12.6ms\n",
      "Speed: 1.7ms preprocess, 12.6ms inference, 1.3ms postprocess per image at shape (1, 3, 512, 640)\n"
     ]
    },
    {
     "data": {
      "text/plain": [
       "<Figure size 640x480 with 1 Axes>"
      ]
     },
     "metadata": {},
     "output_type": "display_data"
    },
    {
     "name": "stdout",
     "output_type": "stream",
     "text": [
      "image name CARDS_COURTYARD_T_B_hand0_frame_2132.jpg\n",
      "\n",
      "0: 544x640 1 hand, 16.8ms\n",
      "Speed: 3.4ms preprocess, 16.8ms inference, 1.5ms postprocess per image at shape (1, 3, 544, 640)\n"
     ]
    },
    {
     "data": {
      "text/plain": [
       "<Figure size 640x480 with 1 Axes>"
      ]
     },
     "metadata": {},
     "output_type": "display_data"
    },
    {
     "name": "stdout",
     "output_type": "stream",
     "text": [
      "image name CARDS_COURTYARD_T_B_hand1_frame_1365.jpg\n",
      "\n",
      "0: 320x640 1 hand, 12.1ms\n",
      "Speed: 1.2ms preprocess, 12.1ms inference, 1.3ms postprocess per image at shape (1, 3, 320, 640)\n"
     ]
    },
    {
     "data": {
      "text/plain": [
       "<Figure size 640x480 with 1 Axes>"
      ]
     },
     "metadata": {},
     "output_type": "display_data"
    },
    {
     "name": "stdout",
     "output_type": "stream",
     "text": [
      "image name CARDS_COURTYARD_T_B_hand3_frame_0337.jpg\n",
      "\n",
      "0: 352x640 1 hand, 11.3ms\n",
      "Speed: 1.6ms preprocess, 11.3ms inference, 1.2ms postprocess per image at shape (1, 3, 352, 640)\n"
     ]
    },
    {
     "data": {
      "text/plain": [
       "<Figure size 640x480 with 1 Axes>"
      ]
     },
     "metadata": {},
     "output_type": "display_data"
    },
    {
     "name": "stdout",
     "output_type": "stream",
     "text": [
      "image name CARDS_COURTYARD_S_H_hand0_frame_1160.jpg\n",
      "\n",
      "0: 384x640 (no detections), 18.2ms\n",
      "Speed: 1.4ms preprocess, 18.2ms inference, 0.4ms postprocess per image at shape (1, 3, 384, 640)\n",
      "no results for image CARDS_COURTYARD_S_H_hand0_frame_1160.jpg!\n",
      "image name CARDS_COURTYARD_S_H_hand2_frame_0912.jpg\n",
      "\n",
      "0: 352x640 1 hand, 13.8ms\n",
      "Speed: 1.6ms preprocess, 13.8ms inference, 1.4ms postprocess per image at shape (1, 3, 352, 640)\n"
     ]
    },
    {
     "data": {
      "text/plain": [
       "<Figure size 640x480 with 1 Axes>"
      ]
     },
     "metadata": {},
     "output_type": "display_data"
    },
    {
     "name": "stdout",
     "output_type": "stream",
     "text": [
      "image name CARDS_COURTYARD_T_B_hand3_frame_1642.jpg\n",
      "\n",
      "0: 512x640 1 hand, 12.6ms\n",
      "Speed: 1.4ms preprocess, 12.6ms inference, 1.2ms postprocess per image at shape (1, 3, 512, 640)\n"
     ]
    },
    {
     "data": {
      "text/plain": [
       "<Figure size 640x480 with 1 Axes>"
      ]
     },
     "metadata": {},
     "output_type": "display_data"
    },
    {
     "name": "stdout",
     "output_type": "stream",
     "text": [
      "image name CARDS_COURTYARD_H_S_hand2_frame_0672.jpg\n",
      "\n",
      "0: 384x640 1 hand, 19.0ms\n",
      "Speed: 2.8ms preprocess, 19.0ms inference, 1.5ms postprocess per image at shape (1, 3, 384, 640)\n"
     ]
    },
    {
     "data": {
      "text/plain": [
       "<Figure size 640x480 with 1 Axes>"
      ]
     },
     "metadata": {},
     "output_type": "display_data"
    },
    {
     "name": "stdout",
     "output_type": "stream",
     "text": [
      "image name CARDS_COURTYARD_S_H_hand3_frame_1223.jpg\n",
      "\n",
      "0: 448x640 2 hands, 11.8ms\n",
      "Speed: 1.3ms preprocess, 11.8ms inference, 1.2ms postprocess per image at shape (1, 3, 448, 640)\n"
     ]
    },
    {
     "data": {
      "text/plain": [
       "<Figure size 640x480 with 1 Axes>"
      ]
     },
     "metadata": {},
     "output_type": "display_data"
    },
    {
     "name": "stdout",
     "output_type": "stream",
     "text": [
      "image name CARDS_COURTYARD_T_B_hand3_frame_1905.jpg\n",
      "\n",
      "0: 416x640 1 hand, 11.1ms\n",
      "Speed: 1.2ms preprocess, 11.1ms inference, 1.2ms postprocess per image at shape (1, 3, 416, 640)\n"
     ]
    },
    {
     "data": {
      "text/plain": [
       "<Figure size 640x480 with 1 Axes>"
      ]
     },
     "metadata": {},
     "output_type": "display_data"
    },
    {
     "name": "stdout",
     "output_type": "stream",
     "text": [
      "image name CARDS_COURTYARD_H_S_hand2_frame_0183.jpg\n",
      "\n",
      "0: 416x640 1 hand, 11.8ms\n",
      "Speed: 1.3ms preprocess, 11.8ms inference, 1.2ms postprocess per image at shape (1, 3, 416, 640)\n"
     ]
    },
    {
     "data": {
      "text/plain": [
       "<Figure size 640x480 with 1 Axes>"
      ]
     },
     "metadata": {},
     "output_type": "display_data"
    },
    {
     "name": "stdout",
     "output_type": "stream",
     "text": [
      "image name CARDS_COURTYARD_H_S_hand1_frame_2071.jpg\n",
      "\n",
      "0: 608x640 1 hand, 15.1ms\n",
      "Speed: 1.9ms preprocess, 15.1ms inference, 1.2ms postprocess per image at shape (1, 3, 608, 640)\n"
     ]
    },
    {
     "data": {
      "text/plain": [
       "<Figure size 640x480 with 1 Axes>"
      ]
     },
     "metadata": {},
     "output_type": "display_data"
    },
    {
     "name": "stdout",
     "output_type": "stream",
     "text": [
      "image name CARDS_COURTYARD_S_H_hand3_frame_2027.jpg\n",
      "\n",
      "0: 640x512 1 hand, 13.0ms\n",
      "Speed: 1.5ms preprocess, 13.0ms inference, 1.2ms postprocess per image at shape (1, 3, 640, 512)\n"
     ]
    },
    {
     "data": {
      "text/plain": [
       "<Figure size 640x480 with 1 Axes>"
      ]
     },
     "metadata": {},
     "output_type": "display_data"
    },
    {
     "name": "stdout",
     "output_type": "stream",
     "text": [
      "image name CARDS_COURTYARD_S_H_hand3_frame_2000.jpg\n",
      "\n",
      "0: 416x640 1 hand, 15.3ms\n",
      "Speed: 1.9ms preprocess, 15.3ms inference, 1.2ms postprocess per image at shape (1, 3, 416, 640)\n"
     ]
    },
    {
     "data": {
      "text/plain": [
       "<Figure size 640x480 with 1 Axes>"
      ]
     },
     "metadata": {},
     "output_type": "display_data"
    },
    {
     "name": "stdout",
     "output_type": "stream",
     "text": [
      "image name CARDS_COURTYARD_H_S_hand0_frame_2412.jpg\n",
      "\n",
      "0: 256x640 2 hands, 13.6ms\n",
      "Speed: 0.9ms preprocess, 13.6ms inference, 2.0ms postprocess per image at shape (1, 3, 256, 640)\n"
     ]
    },
    {
     "data": {
      "text/plain": [
       "<Figure size 640x480 with 1 Axes>"
      ]
     },
     "metadata": {},
     "output_type": "display_data"
    },
    {
     "name": "stdout",
     "output_type": "stream",
     "text": [
      "image name CARDS_COURTYARD_H_S_hand2_frame_1770.jpg\n",
      "\n",
      "0: 512x640 1 hand, 15.5ms\n",
      "Speed: 1.6ms preprocess, 15.5ms inference, 1.2ms postprocess per image at shape (1, 3, 512, 640)\n"
     ]
    },
    {
     "data": {
      "text/plain": [
       "<Figure size 640x480 with 1 Axes>"
      ]
     },
     "metadata": {},
     "output_type": "display_data"
    },
    {
     "name": "stdout",
     "output_type": "stream",
     "text": [
      "image name CARDS_COURTYARD_H_S_hand2_frame_0853.jpg\n",
      "\n",
      "0: 480x640 1 hand, 13.9ms\n",
      "Speed: 1.6ms preprocess, 13.9ms inference, 1.2ms postprocess per image at shape (1, 3, 480, 640)\n"
     ]
    },
    {
     "data": {
      "text/plain": [
       "<Figure size 640x480 with 1 Axes>"
      ]
     },
     "metadata": {},
     "output_type": "display_data"
    },
    {
     "name": "stdout",
     "output_type": "stream",
     "text": [
      "image name CARDS_COURTYARD_S_H_hand1_frame_2292.jpg\n",
      "\n",
      "0: 288x640 1 hand, 11.8ms\n",
      "Speed: 1.0ms preprocess, 11.8ms inference, 1.4ms postprocess per image at shape (1, 3, 288, 640)\n"
     ]
    },
    {
     "data": {
      "text/plain": [
       "<Figure size 640x480 with 1 Axes>"
      ]
     },
     "metadata": {},
     "output_type": "display_data"
    },
    {
     "name": "stdout",
     "output_type": "stream",
     "text": [
      "image name CARDS_COURTYARD_T_B_hand2_frame_0955.jpg\n",
      "\n",
      "0: 288x640 1 hand, 11.1ms\n",
      "Speed: 1.1ms preprocess, 11.1ms inference, 1.6ms postprocess per image at shape (1, 3, 288, 640)\n"
     ]
    },
    {
     "data": {
      "text/plain": [
       "<Figure size 640x480 with 1 Axes>"
      ]
     },
     "metadata": {},
     "output_type": "display_data"
    },
    {
     "name": "stdout",
     "output_type": "stream",
     "text": [
      "image name CARDS_COURTYARD_H_S_hand3_frame_2693.jpg\n",
      "\n",
      "0: 544x640 1 hand, 20.6ms\n",
      "Speed: 3.1ms preprocess, 20.6ms inference, 2.2ms postprocess per image at shape (1, 3, 544, 640)\n"
     ]
    },
    {
     "data": {
      "text/plain": [
       "<Figure size 640x480 with 1 Axes>"
      ]
     },
     "metadata": {},
     "output_type": "display_data"
    },
    {
     "name": "stdout",
     "output_type": "stream",
     "text": [
      "image name CARDS_COURTYARD_H_S_hand1_frame_0763.jpg\n",
      "\n",
      "0: 416x640 1 hand, 11.5ms\n",
      "Speed: 1.5ms preprocess, 11.5ms inference, 1.6ms postprocess per image at shape (1, 3, 416, 640)\n"
     ]
    },
    {
     "data": {
      "text/plain": [
       "<Figure size 640x480 with 1 Axes>"
      ]
     },
     "metadata": {},
     "output_type": "display_data"
    },
    {
     "name": "stdout",
     "output_type": "stream",
     "text": [
      "image name CARDS_COURTYARD_T_B_hand2_frame_1203.jpg\n",
      "\n",
      "0: 288x640 (no detections), 11.2ms\n",
      "Speed: 1.1ms preprocess, 11.2ms inference, 0.3ms postprocess per image at shape (1, 3, 288, 640)\n",
      "no results for image CARDS_COURTYARD_T_B_hand2_frame_1203.jpg!\n",
      "image name CARDS_COURTYARD_T_B_hand2_frame_1585.jpg\n",
      "\n",
      "0: 448x640 1 hand, 11.4ms\n",
      "Speed: 1.2ms preprocess, 11.4ms inference, 1.2ms postprocess per image at shape (1, 3, 448, 640)\n"
     ]
    },
    {
     "data": {
      "text/plain": [
       "<Figure size 640x480 with 1 Axes>"
      ]
     },
     "metadata": {},
     "output_type": "display_data"
    },
    {
     "name": "stdout",
     "output_type": "stream",
     "text": [
      "image name CARDS_COURTYARD_H_S_hand3_frame_2533.jpg\n",
      "\n",
      "0: 480x640 2 hands, 12.7ms\n",
      "Speed: 1.4ms preprocess, 12.7ms inference, 1.7ms postprocess per image at shape (1, 3, 480, 640)\n"
     ]
    },
    {
     "data": {
      "text/plain": [
       "<Figure size 640x480 with 1 Axes>"
      ]
     },
     "metadata": {},
     "output_type": "display_data"
    },
    {
     "name": "stdout",
     "output_type": "stream",
     "text": [
      "image name CARDS_COURTYARD_T_B_hand0_frame_1226.jpg\n",
      "\n",
      "0: 320x640 1 hand, 12.0ms\n",
      "Speed: 1.2ms preprocess, 12.0ms inference, 1.2ms postprocess per image at shape (1, 3, 320, 640)\n"
     ]
    },
    {
     "data": {
      "text/plain": [
       "<Figure size 640x480 with 1 Axes>"
      ]
     },
     "metadata": {},
     "output_type": "display_data"
    },
    {
     "name": "stdout",
     "output_type": "stream",
     "text": [
      "image name CARDS_COURTYARD_H_S_hand2_frame_1232.jpg\n",
      "\n",
      "0: 384x640 1 hand, 26.2ms\n",
      "Speed: 3.0ms preprocess, 26.2ms inference, 1.8ms postprocess per image at shape (1, 3, 384, 640)\n"
     ]
    },
    {
     "data": {
      "text/plain": [
       "<Figure size 640x480 with 1 Axes>"
      ]
     },
     "metadata": {},
     "output_type": "display_data"
    },
    {
     "name": "stdout",
     "output_type": "stream",
     "text": [
      "image name CARDS_COURTYARD_S_H_hand1_frame_1407.jpg\n",
      "\n",
      "0: 224x640 1 hand, 11.6ms\n",
      "Speed: 1.0ms preprocess, 11.6ms inference, 1.3ms postprocess per image at shape (1, 3, 224, 640)\n"
     ]
    },
    {
     "data": {
      "text/plain": [
       "<Figure size 640x480 with 1 Axes>"
      ]
     },
     "metadata": {},
     "output_type": "display_data"
    },
    {
     "name": "stdout",
     "output_type": "stream",
     "text": [
      "image name CARDS_COURTYARD_S_H_hand0_frame_1340.jpg\n",
      "\n",
      "0: 416x640 1 hand, 21.1ms\n",
      "Speed: 3.3ms preprocess, 21.1ms inference, 1.4ms postprocess per image at shape (1, 3, 416, 640)\n"
     ]
    },
    {
     "data": {
      "text/plain": [
       "<Figure size 640x480 with 1 Axes>"
      ]
     },
     "metadata": {},
     "output_type": "display_data"
    },
    {
     "name": "stdout",
     "output_type": "stream",
     "text": [
      "image name CARDS_COURTYARD_T_B_hand3_frame_0331.jpg\n",
      "\n",
      "0: 480x640 1 hand, 22.9ms\n",
      "Speed: 1.4ms preprocess, 22.9ms inference, 1.8ms postprocess per image at shape (1, 3, 480, 640)\n"
     ]
    },
    {
     "data": {
      "text/plain": [
       "<Figure size 640x480 with 1 Axes>"
      ]
     },
     "metadata": {},
     "output_type": "display_data"
    },
    {
     "name": "stdout",
     "output_type": "stream",
     "text": [
      "image name CARDS_COURTYARD_S_H_hand0_frame_1688.jpg\n",
      "\n",
      "0: 288x640 1 hand, 11.5ms\n",
      "Speed: 1.0ms preprocess, 11.5ms inference, 1.7ms postprocess per image at shape (1, 3, 288, 640)\n"
     ]
    },
    {
     "data": {
      "text/plain": [
       "<Figure size 640x480 with 1 Axes>"
      ]
     },
     "metadata": {},
     "output_type": "display_data"
    },
    {
     "name": "stdout",
     "output_type": "stream",
     "text": [
      "image name CARDS_COURTYARD_H_S_hand1_frame_1660.jpg\n",
      "\n",
      "0: 608x640 1 hand, 22.3ms\n",
      "Speed: 4.1ms preprocess, 22.3ms inference, 2.3ms postprocess per image at shape (1, 3, 608, 640)\n"
     ]
    },
    {
     "data": {
      "text/plain": [
       "<Figure size 640x480 with 1 Axes>"
      ]
     },
     "metadata": {},
     "output_type": "display_data"
    },
    {
     "name": "stdout",
     "output_type": "stream",
     "text": [
      "image name CARDS_COURTYARD_H_S_hand3_frame_1924.jpg\n",
      "\n",
      "0: 512x640 1 hand, 12.6ms\n",
      "Speed: 2.1ms preprocess, 12.6ms inference, 1.2ms postprocess per image at shape (1, 3, 512, 640)\n"
     ]
    },
    {
     "data": {
      "text/plain": [
       "<Figure size 640x480 with 1 Axes>"
      ]
     },
     "metadata": {},
     "output_type": "display_data"
    },
    {
     "name": "stdout",
     "output_type": "stream",
     "text": [
      "image name CARDS_COURTYARD_T_B_hand3_frame_1432.jpg\n",
      "\n",
      "0: 640x640 1 hand, 15.8ms\n",
      "Speed: 1.9ms preprocess, 15.8ms inference, 1.2ms postprocess per image at shape (1, 3, 640, 640)\n"
     ]
    },
    {
     "data": {
      "text/plain": [
       "<Figure size 640x480 with 1 Axes>"
      ]
     },
     "metadata": {},
     "output_type": "display_data"
    },
    {
     "name": "stdout",
     "output_type": "stream",
     "text": [
      "image name CARDS_COURTYARD_H_S_hand0_frame_1523.jpg\n",
      "\n",
      "0: 320x640 1 hand, 12.0ms\n",
      "Speed: 1.1ms preprocess, 12.0ms inference, 1.3ms postprocess per image at shape (1, 3, 320, 640)\n"
     ]
    },
    {
     "data": {
      "text/plain": [
       "<Figure size 640x480 with 1 Axes>"
      ]
     },
     "metadata": {},
     "output_type": "display_data"
    },
    {
     "name": "stdout",
     "output_type": "stream",
     "text": [
      "image name CARDS_COURTYARD_H_S_hand0_frame_1880.jpg\n",
      "\n",
      "0: 416x640 1 hand, 11.1ms\n",
      "Speed: 1.4ms preprocess, 11.1ms inference, 1.2ms postprocess per image at shape (1, 3, 416, 640)\n"
     ]
    },
    {
     "data": {
      "text/plain": [
       "<Figure size 640x480 with 1 Axes>"
      ]
     },
     "metadata": {},
     "output_type": "display_data"
    },
    {
     "name": "stdout",
     "output_type": "stream",
     "text": [
      "image name CARDS_COURTYARD_H_S_hand2_frame_1376.jpg\n",
      "\n",
      "0: 384x640 1 hand, 12.1ms\n",
      "Speed: 1.5ms preprocess, 12.1ms inference, 1.2ms postprocess per image at shape (1, 3, 384, 640)\n"
     ]
    },
    {
     "data": {
      "text/plain": [
       "<Figure size 640x480 with 1 Axes>"
      ]
     },
     "metadata": {},
     "output_type": "display_data"
    },
    {
     "name": "stdout",
     "output_type": "stream",
     "text": [
      "image name CARDS_COURTYARD_H_S_hand0_frame_0390.jpg\n",
      "\n",
      "0: 320x640 1 hand, 10.5ms\n",
      "Speed: 1.1ms preprocess, 10.5ms inference, 1.2ms postprocess per image at shape (1, 3, 320, 640)\n"
     ]
    },
    {
     "data": {
      "text/plain": [
       "<Figure size 640x480 with 1 Axes>"
      ]
     },
     "metadata": {},
     "output_type": "display_data"
    },
    {
     "name": "stdout",
     "output_type": "stream",
     "text": [
      "image name CARDS_COURTYARD_H_S_hand2_frame_1530.jpg\n",
      "\n",
      "0: 416x640 1 hand, 11.8ms\n",
      "Speed: 1.3ms preprocess, 11.8ms inference, 1.5ms postprocess per image at shape (1, 3, 416, 640)\n"
     ]
    },
    {
     "data": {
      "text/plain": [
       "<Figure size 640x480 with 1 Axes>"
      ]
     },
     "metadata": {},
     "output_type": "display_data"
    },
    {
     "name": "stdout",
     "output_type": "stream",
     "text": [
      "image name CARDS_COURTYARD_S_H_hand2_frame_2591.jpg\n",
      "\n",
      "0: 416x640 1 hand, 11.7ms\n",
      "Speed: 1.6ms preprocess, 11.7ms inference, 1.2ms postprocess per image at shape (1, 3, 416, 640)\n"
     ]
    },
    {
     "data": {
      "text/plain": [
       "<Figure size 640x480 with 1 Axes>"
      ]
     },
     "metadata": {},
     "output_type": "display_data"
    },
    {
     "name": "stdout",
     "output_type": "stream",
     "text": [
      "image name CARDS_COURTYARD_T_B_hand1_frame_0411.jpg\n",
      "\n",
      "0: 320x640 1 hand, 19.7ms\n",
      "Speed: 1.9ms preprocess, 19.7ms inference, 1.5ms postprocess per image at shape (1, 3, 320, 640)\n"
     ]
    },
    {
     "data": {
      "text/plain": [
       "<Figure size 640x480 with 1 Axes>"
      ]
     },
     "metadata": {},
     "output_type": "display_data"
    },
    {
     "name": "stdout",
     "output_type": "stream",
     "text": [
      "image name CARDS_COURTYARD_T_B_hand2_frame_0427.jpg\n",
      "\n",
      "0: 320x640 1 hand, 23.5ms\n",
      "Speed: 2.4ms preprocess, 23.5ms inference, 2.0ms postprocess per image at shape (1, 3, 320, 640)\n"
     ]
    },
    {
     "data": {
      "text/plain": [
       "<Figure size 640x480 with 1 Axes>"
      ]
     },
     "metadata": {},
     "output_type": "display_data"
    },
    {
     "name": "stdout",
     "output_type": "stream",
     "text": [
      "image name CARDS_COURTYARD_S_H_hand0_frame_1407.jpg\n",
      "\n",
      "0: 384x640 1 hand, 18.8ms\n",
      "Speed: 2.8ms preprocess, 18.8ms inference, 1.7ms postprocess per image at shape (1, 3, 384, 640)\n"
     ]
    },
    {
     "data": {
      "text/plain": [
       "<Figure size 640x480 with 1 Axes>"
      ]
     },
     "metadata": {},
     "output_type": "display_data"
    },
    {
     "name": "stdout",
     "output_type": "stream",
     "text": [
      "image name CARDS_COURTYARD_H_S_hand1_frame_0853.jpg\n",
      "\n",
      "0: 320x640 1 hand, 16.0ms\n",
      "Speed: 2.2ms preprocess, 16.0ms inference, 1.4ms postprocess per image at shape (1, 3, 320, 640)\n"
     ]
    },
    {
     "data": {
      "text/plain": [
       "<Figure size 640x480 with 1 Axes>"
      ]
     },
     "metadata": {},
     "output_type": "display_data"
    },
    {
     "name": "stdout",
     "output_type": "stream",
     "text": [
      "image name CARDS_COURTYARD_T_B_hand2_frame_2272.jpg\n",
      "\n",
      "0: 352x640 1 hand, 11.6ms\n",
      "Speed: 1.9ms preprocess, 11.6ms inference, 1.2ms postprocess per image at shape (1, 3, 352, 640)\n"
     ]
    },
    {
     "data": {
      "text/plain": [
       "<Figure size 640x480 with 1 Axes>"
      ]
     },
     "metadata": {},
     "output_type": "display_data"
    },
    {
     "name": "stdout",
     "output_type": "stream",
     "text": [
      "image name CARDS_COURTYARD_T_B_hand1_frame_1924.jpg\n",
      "\n",
      "0: 448x640 1 hand, 13.7ms\n",
      "Speed: 1.4ms preprocess, 13.7ms inference, 1.2ms postprocess per image at shape (1, 3, 448, 640)\n"
     ]
    },
    {
     "data": {
      "text/plain": [
       "<Figure size 640x480 with 1 Axes>"
      ]
     },
     "metadata": {},
     "output_type": "display_data"
    },
    {
     "name": "stdout",
     "output_type": "stream",
     "text": [
      "image name CARDS_COURTYARD_S_H_hand2_frame_0947.jpg\n",
      "\n",
      "0: 416x640 1 hand, 11.6ms\n",
      "Speed: 1.2ms preprocess, 11.6ms inference, 1.2ms postprocess per image at shape (1, 3, 416, 640)\n"
     ]
    },
    {
     "data": {
      "text/plain": [
       "<Figure size 640x480 with 1 Axes>"
      ]
     },
     "metadata": {},
     "output_type": "display_data"
    },
    {
     "name": "stdout",
     "output_type": "stream",
     "text": [
      "image name CARDS_COURTYARD_T_B_hand2_frame_0638.jpg\n",
      "\n",
      "0: 320x640 1 hand, 22.2ms\n",
      "Speed: 2.5ms preprocess, 22.2ms inference, 1.5ms postprocess per image at shape (1, 3, 320, 640)\n"
     ]
    },
    {
     "data": {
      "text/plain": [
       "<Figure size 640x480 with 1 Axes>"
      ]
     },
     "metadata": {},
     "output_type": "display_data"
    },
    {
     "name": "stdout",
     "output_type": "stream",
     "text": [
      "image name CARDS_COURTYARD_T_B_hand0_frame_0427.jpg\n",
      "\n",
      "0: 352x640 1 hand, 12.4ms\n",
      "Speed: 1.6ms preprocess, 12.4ms inference, 1.6ms postprocess per image at shape (1, 3, 352, 640)\n"
     ]
    },
    {
     "data": {
      "text/plain": [
       "<Figure size 640x480 with 1 Axes>"
      ]
     },
     "metadata": {},
     "output_type": "display_data"
    },
    {
     "name": "stdout",
     "output_type": "stream",
     "text": [
      "image name CARDS_COURTYARD_H_S_hand3_frame_0129.jpg\n",
      "\n",
      "0: 480x640 2 hands, 12.5ms\n",
      "Speed: 1.6ms preprocess, 12.5ms inference, 1.2ms postprocess per image at shape (1, 3, 480, 640)\n"
     ]
    },
    {
     "data": {
      "text/plain": [
       "<Figure size 640x480 with 1 Axes>"
      ]
     },
     "metadata": {},
     "output_type": "display_data"
    },
    {
     "name": "stdout",
     "output_type": "stream",
     "text": [
      "image name CARDS_COURTYARD_H_S_hand0_frame_0861.jpg\n",
      "\n",
      "0: 416x640 1 hand, 11.1ms\n",
      "Speed: 1.2ms preprocess, 11.1ms inference, 1.3ms postprocess per image at shape (1, 3, 416, 640)\n"
     ]
    },
    {
     "data": {
      "text/plain": [
       "<Figure size 640x480 with 1 Axes>"
      ]
     },
     "metadata": {},
     "output_type": "display_data"
    },
    {
     "name": "stdout",
     "output_type": "stream",
     "text": [
      "image name CARDS_COURTYARD_T_B_hand2_frame_2586.jpg\n",
      "\n",
      "0: 320x640 1 hand, 22.9ms\n",
      "Speed: 3.6ms preprocess, 22.9ms inference, 2.5ms postprocess per image at shape (1, 3, 320, 640)\n"
     ]
    },
    {
     "data": {
      "text/plain": [
       "<Figure size 640x480 with 1 Axes>"
      ]
     },
     "metadata": {},
     "output_type": "display_data"
    },
    {
     "name": "stdout",
     "output_type": "stream",
     "text": [
      "image name CARDS_COURTYARD_T_B_hand0_frame_0164.jpg\n",
      "\n",
      "0: 448x640 1 hand, 12.4ms\n",
      "Speed: 1.8ms preprocess, 12.4ms inference, 1.2ms postprocess per image at shape (1, 3, 448, 640)\n"
     ]
    },
    {
     "data": {
      "text/plain": [
       "<Figure size 640x480 with 1 Axes>"
      ]
     },
     "metadata": {},
     "output_type": "display_data"
    },
    {
     "name": "stdout",
     "output_type": "stream",
     "text": [
      "image name CARDS_COURTYARD_T_B_hand2_frame_0411.jpg\n",
      "\n",
      "0: 352x640 1 hand, 11.2ms\n",
      "Speed: 1.1ms preprocess, 11.2ms inference, 1.2ms postprocess per image at shape (1, 3, 352, 640)\n"
     ]
    },
    {
     "data": {
      "text/plain": [
       "<Figure size 640x480 with 1 Axes>"
      ]
     },
     "metadata": {},
     "output_type": "display_data"
    },
    {
     "name": "stdout",
     "output_type": "stream",
     "text": [
      "image name CARDS_COURTYARD_S_H_hand0_frame_1609.jpg\n",
      "\n",
      "0: 544x640 1 hand, 14.0ms\n",
      "Speed: 2.1ms preprocess, 14.0ms inference, 1.2ms postprocess per image at shape (1, 3, 544, 640)\n"
     ]
    },
    {
     "data": {
      "text/plain": [
       "<Figure size 640x480 with 1 Axes>"
      ]
     },
     "metadata": {},
     "output_type": "display_data"
    },
    {
     "name": "stdout",
     "output_type": "stream",
     "text": [
      "image name CARDS_COURTYARD_T_B_hand0_frame_0283.jpg\n",
      "\n",
      "0: 416x640 1 hand, 12.0ms\n",
      "Speed: 1.3ms preprocess, 12.0ms inference, 1.2ms postprocess per image at shape (1, 3, 416, 640)\n"
     ]
    },
    {
     "data": {
      "text/plain": [
       "<Figure size 640x480 with 1 Axes>"
      ]
     },
     "metadata": {},
     "output_type": "display_data"
    },
    {
     "name": "stdout",
     "output_type": "stream",
     "text": [
      "image name CARDS_COURTYARD_T_B_hand0_frame_1010.jpg\n",
      "\n",
      "0: 352x640 1 hand, 12.3ms\n",
      "Speed: 1.2ms preprocess, 12.3ms inference, 1.2ms postprocess per image at shape (1, 3, 352, 640)\n"
     ]
    },
    {
     "data": {
      "text/plain": [
       "<Figure size 640x480 with 1 Axes>"
      ]
     },
     "metadata": {},
     "output_type": "display_data"
    },
    {
     "name": "stdout",
     "output_type": "stream",
     "text": [
      "image name CARDS_COURTYARD_H_S_hand2_frame_0861.jpg\n",
      "\n",
      "0: 224x640 1 hand, 13.7ms\n",
      "Speed: 1.2ms preprocess, 13.7ms inference, 1.3ms postprocess per image at shape (1, 3, 224, 640)\n"
     ]
    },
    {
     "data": {
      "text/plain": [
       "<Figure size 640x480 with 1 Axes>"
      ]
     },
     "metadata": {},
     "output_type": "display_data"
    },
    {
     "name": "stdout",
     "output_type": "stream",
     "text": [
      "image name CARDS_COURTYARD_H_S_hand0_frame_1245.jpg\n",
      "\n",
      "0: 352x640 1 hand, 11.4ms\n",
      "Speed: 1.1ms preprocess, 11.4ms inference, 1.2ms postprocess per image at shape (1, 3, 352, 640)\n"
     ]
    },
    {
     "data": {
      "text/plain": [
       "<Figure size 640x480 with 1 Axes>"
      ]
     },
     "metadata": {},
     "output_type": "display_data"
    },
    {
     "name": "stdout",
     "output_type": "stream",
     "text": [
      "image name CARDS_COURTYARD_S_H_hand3_frame_1027.jpg\n",
      "\n",
      "0: 448x640 1 hand, 21.0ms\n",
      "Speed: 3.0ms preprocess, 21.0ms inference, 1.5ms postprocess per image at shape (1, 3, 448, 640)\n"
     ]
    },
    {
     "data": {
      "text/plain": [
       "<Figure size 640x480 with 1 Axes>"
      ]
     },
     "metadata": {},
     "output_type": "display_data"
    },
    {
     "name": "stdout",
     "output_type": "stream",
     "text": [
      "image name CARDS_COURTYARD_T_B_hand3_frame_2324.jpg\n",
      "\n",
      "0: 608x640 1 hand, 15.0ms\n",
      "Speed: 1.7ms preprocess, 15.0ms inference, 1.2ms postprocess per image at shape (1, 3, 608, 640)\n"
     ]
    },
    {
     "data": {
      "text/plain": [
       "<Figure size 640x480 with 1 Axes>"
      ]
     },
     "metadata": {},
     "output_type": "display_data"
    },
    {
     "name": "stdout",
     "output_type": "stream",
     "text": [
      "image name CARDS_COURTYARD_T_B_hand3_frame_1190.jpg\n",
      "\n",
      "0: 544x640 1 hand, 13.9ms\n",
      "Speed: 1.5ms preprocess, 13.9ms inference, 3.2ms postprocess per image at shape (1, 3, 544, 640)\n"
     ]
    },
    {
     "data": {
      "text/plain": [
       "<Figure size 640x480 with 1 Axes>"
      ]
     },
     "metadata": {},
     "output_type": "display_data"
    },
    {
     "name": "stdout",
     "output_type": "stream",
     "text": [
      "image name CARDS_COURTYARD_H_S_hand2_frame_0247.jpg\n",
      "\n",
      "0: 448x640 2 hands, 16.7ms\n",
      "Speed: 1.6ms preprocess, 16.7ms inference, 2.8ms postprocess per image at shape (1, 3, 448, 640)\n"
     ]
    },
    {
     "data": {
      "text/plain": [
       "<Figure size 640x480 with 1 Axes>"
      ]
     },
     "metadata": {},
     "output_type": "display_data"
    },
    {
     "name": "stdout",
     "output_type": "stream",
     "text": [
      "image name CARDS_COURTYARD_H_S_hand2_frame_0134.jpg\n",
      "\n",
      "0: 416x640 2 hands, 17.0ms\n",
      "Speed: 3.0ms preprocess, 17.0ms inference, 1.6ms postprocess per image at shape (1, 3, 416, 640)\n"
     ]
    },
    {
     "data": {
      "text/plain": [
       "<Figure size 640x480 with 1 Axes>"
      ]
     },
     "metadata": {},
     "output_type": "display_data"
    },
    {
     "name": "stdout",
     "output_type": "stream",
     "text": [
      "image name CARDS_COURTYARD_S_H_hand0_frame_2636.jpg\n",
      "\n",
      "0: 352x640 1 hand, 11.3ms\n",
      "Speed: 1.2ms preprocess, 11.3ms inference, 1.2ms postprocess per image at shape (1, 3, 352, 640)\n"
     ]
    },
    {
     "data": {
      "text/plain": [
       "<Figure size 640x480 with 1 Axes>"
      ]
     },
     "metadata": {},
     "output_type": "display_data"
    },
    {
     "name": "stdout",
     "output_type": "stream",
     "text": [
      "image name CARDS_COURTYARD_T_B_hand2_frame_2244.jpg\n",
      "\n",
      "0: 320x640 1 hand, 11.1ms\n",
      "Speed: 1.2ms preprocess, 11.1ms inference, 1.2ms postprocess per image at shape (1, 3, 320, 640)\n"
     ]
    },
    {
     "data": {
      "text/plain": [
       "<Figure size 640x480 with 1 Axes>"
      ]
     },
     "metadata": {},
     "output_type": "display_data"
    },
    {
     "name": "stdout",
     "output_type": "stream",
     "text": [
      "image name CARDS_COURTYARD_H_S_hand3_frame_0145.jpg\n",
      "\n",
      "0: 480x640 2 hands, 12.5ms\n",
      "Speed: 1.9ms preprocess, 12.5ms inference, 1.2ms postprocess per image at shape (1, 3, 480, 640)\n"
     ]
    },
    {
     "data": {
      "text/plain": [
       "<Figure size 640x480 with 1 Axes>"
      ]
     },
     "metadata": {},
     "output_type": "display_data"
    },
    {
     "name": "stdout",
     "output_type": "stream",
     "text": [
      "image name CARDS_COURTYARD_H_S_hand2_frame_1257.jpg\n",
      "\n",
      "0: 352x640 1 hand, 22.0ms\n",
      "Speed: 2.9ms preprocess, 22.0ms inference, 1.6ms postprocess per image at shape (1, 3, 352, 640)\n"
     ]
    },
    {
     "data": {
      "text/plain": [
       "<Figure size 640x480 with 1 Axes>"
      ]
     },
     "metadata": {},
     "output_type": "display_data"
    },
    {
     "name": "stdout",
     "output_type": "stream",
     "text": [
      "image name CARDS_COURTYARD_H_S_hand1_frame_1720.jpg\n",
      "\n",
      "0: 288x640 1 hand, 15.7ms\n",
      "Speed: 2.4ms preprocess, 15.7ms inference, 1.4ms postprocess per image at shape (1, 3, 288, 640)\n"
     ]
    },
    {
     "data": {
      "text/plain": [
       "<Figure size 640x480 with 1 Axes>"
      ]
     },
     "metadata": {},
     "output_type": "display_data"
    },
    {
     "name": "stdout",
     "output_type": "stream",
     "text": [
      "image name CARDS_COURTYARD_T_B_hand3_frame_0955.jpg\n",
      "\n",
      "0: 352x640 1 hand, 21.0ms\n",
      "Speed: 2.6ms preprocess, 21.0ms inference, 1.6ms postprocess per image at shape (1, 3, 352, 640)\n"
     ]
    },
    {
     "data": {
      "text/plain": [
       "<Figure size 640x480 with 1 Axes>"
      ]
     },
     "metadata": {},
     "output_type": "display_data"
    },
    {
     "name": "stdout",
     "output_type": "stream",
     "text": [
      "image name CARDS_COURTYARD_T_B_hand0_frame_1661.jpg\n",
      "\n",
      "0: 448x640 1 hand, 12.1ms\n",
      "Speed: 1.4ms preprocess, 12.1ms inference, 1.2ms postprocess per image at shape (1, 3, 448, 640)\n"
     ]
    },
    {
     "data": {
      "text/plain": [
       "<Figure size 640x480 with 1 Axes>"
      ]
     },
     "metadata": {},
     "output_type": "display_data"
    },
    {
     "name": "stdout",
     "output_type": "stream",
     "text": [
      "image name CARDS_COURTYARD_S_H_hand2_frame_0903.jpg\n",
      "\n",
      "0: 320x640 1 hand, 10.9ms\n",
      "Speed: 1.0ms preprocess, 10.9ms inference, 1.5ms postprocess per image at shape (1, 3, 320, 640)\n"
     ]
    },
    {
     "data": {
      "text/plain": [
       "<Figure size 640x480 with 1 Axes>"
      ]
     },
     "metadata": {},
     "output_type": "display_data"
    },
    {
     "name": "stdout",
     "output_type": "stream",
     "text": [
      "image name CARDS_COURTYARD_T_B_hand1_frame_2002.jpg\n",
      "\n",
      "0: 224x640 1 hand, 15.6ms\n",
      "Speed: 2.4ms preprocess, 15.6ms inference, 1.5ms postprocess per image at shape (1, 3, 224, 640)\n"
     ]
    },
    {
     "data": {
      "text/plain": [
       "<Figure size 640x480 with 1 Axes>"
      ]
     },
     "metadata": {},
     "output_type": "display_data"
    },
    {
     "name": "stdout",
     "output_type": "stream",
     "text": [
      "image name CARDS_COURTYARD_H_S_hand3_frame_0247.jpg\n",
      "\n",
      "0: 544x640 2 hands, 13.8ms\n",
      "Speed: 1.6ms preprocess, 13.8ms inference, 1.2ms postprocess per image at shape (1, 3, 544, 640)\n"
     ]
    },
    {
     "data": {
      "text/plain": [
       "<Figure size 640x480 with 1 Axes>"
      ]
     },
     "metadata": {},
     "output_type": "display_data"
    },
    {
     "name": "stdout",
     "output_type": "stream",
     "text": [
      "image name CARDS_COURTYARD_S_H_hand3_frame_0805.jpg\n",
      "\n",
      "0: 448x640 1 hand, 11.5ms\n",
      "Speed: 1.3ms preprocess, 11.5ms inference, 1.2ms postprocess per image at shape (1, 3, 448, 640)\n"
     ]
    },
    {
     "data": {
      "text/plain": [
       "<Figure size 640x480 with 1 Axes>"
      ]
     },
     "metadata": {},
     "output_type": "display_data"
    },
    {
     "name": "stdout",
     "output_type": "stream",
     "text": [
      "image name CARDS_COURTYARD_T_B_hand0_frame_2207.jpg\n",
      "\n",
      "0: 352x640 1 hand, 10.8ms\n",
      "Speed: 1.3ms preprocess, 10.8ms inference, 1.4ms postprocess per image at shape (1, 3, 352, 640)\n"
     ]
    },
    {
     "data": {
      "text/plain": [
       "<Figure size 640x480 with 1 Axes>"
      ]
     },
     "metadata": {},
     "output_type": "display_data"
    },
    {
     "name": "stdout",
     "output_type": "stream",
     "text": [
      "image name CARDS_COURTYARD_T_B_hand2_frame_2238.jpg\n",
      "\n",
      "0: 320x640 1 hand, 12.1ms\n",
      "Speed: 1.3ms preprocess, 12.1ms inference, 1.3ms postprocess per image at shape (1, 3, 320, 640)\n"
     ]
    },
    {
     "data": {
      "text/plain": [
       "<Figure size 640x480 with 1 Axes>"
      ]
     },
     "metadata": {},
     "output_type": "display_data"
    },
    {
     "name": "stdout",
     "output_type": "stream",
     "text": [
      "image name CARDS_COURTYARD_H_S_hand3_frame_0505.jpg\n",
      "\n",
      "0: 576x640 1 hand, 21.3ms\n",
      "Speed: 3.7ms preprocess, 21.3ms inference, 1.5ms postprocess per image at shape (1, 3, 576, 640)\n"
     ]
    },
    {
     "data": {
      "text/plain": [
       "<Figure size 640x480 with 1 Axes>"
      ]
     },
     "metadata": {},
     "output_type": "display_data"
    },
    {
     "name": "stdout",
     "output_type": "stream",
     "text": [
      "image name CARDS_COURTYARD_S_H_hand3_frame_1340.jpg\n",
      "\n",
      "0: 480x640 2 hands, 12.8ms\n",
      "Speed: 1.3ms preprocess, 12.8ms inference, 1.5ms postprocess per image at shape (1, 3, 480, 640)\n"
     ]
    },
    {
     "data": {
      "text/plain": [
       "<Figure size 640x480 with 1 Axes>"
      ]
     },
     "metadata": {},
     "output_type": "display_data"
    },
    {
     "name": "stdout",
     "output_type": "stream",
     "text": [
      "image name CARDS_COURTYARD_T_B_hand2_frame_2324.jpg\n",
      "\n",
      "0: 352x640 1 hand, 10.9ms\n",
      "Speed: 1.6ms preprocess, 10.9ms inference, 1.2ms postprocess per image at shape (1, 3, 352, 640)\n"
     ]
    },
    {
     "data": {
      "text/plain": [
       "<Figure size 640x480 with 1 Axes>"
      ]
     },
     "metadata": {},
     "output_type": "display_data"
    },
    {
     "name": "stdout",
     "output_type": "stream",
     "text": [
      "image name CARDS_COURTYARD_S_H_hand0_frame_2138.jpg\n",
      "\n",
      "0: 416x640 1 hand, 11.7ms\n",
      "Speed: 1.2ms preprocess, 11.7ms inference, 1.2ms postprocess per image at shape (1, 3, 416, 640)\n"
     ]
    },
    {
     "data": {
      "text/plain": [
       "<Figure size 640x480 with 1 Axes>"
      ]
     },
     "metadata": {},
     "output_type": "display_data"
    },
    {
     "name": "stdout",
     "output_type": "stream",
     "text": [
      "image name CARDS_COURTYARD_T_B_hand3_frame_1480.jpg\n",
      "\n",
      "0: 640x640 1 hand, 15.9ms\n",
      "Speed: 1.8ms preprocess, 15.9ms inference, 1.2ms postprocess per image at shape (1, 3, 640, 640)\n"
     ]
    },
    {
     "data": {
      "text/plain": [
       "<Figure size 640x480 with 1 Axes>"
      ]
     },
     "metadata": {},
     "output_type": "display_data"
    },
    {
     "name": "stdout",
     "output_type": "stream",
     "text": [
      "image name CARDS_COURTYARD_S_H_hand2_frame_2292.jpg\n",
      "\n",
      "0: 416x640 1 hand, 11.1ms\n",
      "Speed: 1.2ms preprocess, 11.1ms inference, 1.2ms postprocess per image at shape (1, 3, 416, 640)\n"
     ]
    },
    {
     "data": {
      "text/plain": [
       "<Figure size 640x480 with 1 Axes>"
      ]
     },
     "metadata": {},
     "output_type": "display_data"
    },
    {
     "name": "stdout",
     "output_type": "stream",
     "text": [
      "image name CARDS_COURTYARD_H_S_hand2_frame_1403.jpg\n",
      "\n",
      "0: 384x640 1 hand, 12.6ms\n",
      "Speed: 1.6ms preprocess, 12.6ms inference, 1.3ms postprocess per image at shape (1, 3, 384, 640)\n"
     ]
    },
    {
     "data": {
      "text/plain": [
       "<Figure size 640x480 with 1 Axes>"
      ]
     },
     "metadata": {},
     "output_type": "display_data"
    },
    {
     "name": "stdout",
     "output_type": "stream",
     "text": [
      "image name CARDS_COURTYARD_H_S_hand2_frame_1185.jpg\n",
      "\n",
      "0: 352x640 1 hand, 20.1ms\n",
      "Speed: 2.7ms preprocess, 20.1ms inference, 1.6ms postprocess per image at shape (1, 3, 352, 640)\n"
     ]
    },
    {
     "data": {
      "text/plain": [
       "<Figure size 640x480 with 1 Axes>"
      ]
     },
     "metadata": {},
     "output_type": "display_data"
    },
    {
     "name": "stdout",
     "output_type": "stream",
     "text": [
      "image name CARDS_COURTYARD_H_S_hand0_frame_2071.jpg\n",
      "\n",
      "0: 384x640 1 hand, 11.7ms\n",
      "Speed: 1.3ms preprocess, 11.7ms inference, 1.2ms postprocess per image at shape (1, 3, 384, 640)\n"
     ]
    },
    {
     "data": {
      "text/plain": [
       "<Figure size 640x480 with 1 Axes>"
      ]
     },
     "metadata": {},
     "output_type": "display_data"
    },
    {
     "name": "stdout",
     "output_type": "stream",
     "text": [
      "image name CARDS_COURTYARD_H_S_hand1_frame_2369.jpg\n",
      "\n",
      "0: 512x640 1 hand, 12.5ms\n",
      "Speed: 1.7ms preprocess, 12.5ms inference, 1.3ms postprocess per image at shape (1, 3, 512, 640)\n"
     ]
    },
    {
     "data": {
      "text/plain": [
       "<Figure size 640x480 with 1 Axes>"
      ]
     },
     "metadata": {},
     "output_type": "display_data"
    },
    {
     "name": "stdout",
     "output_type": "stream",
     "text": [
      "image name CARDS_COURTYARD_T_B_hand2_frame_2371.jpg\n",
      "\n",
      "0: 320x640 1 hand, 30.0ms\n",
      "Speed: 2.2ms preprocess, 30.0ms inference, 2.9ms postprocess per image at shape (1, 3, 320, 640)\n"
     ]
    },
    {
     "data": {
      "text/plain": [
       "<Figure size 640x480 with 1 Axes>"
      ]
     },
     "metadata": {},
     "output_type": "display_data"
    },
    {
     "name": "stdout",
     "output_type": "stream",
     "text": [
      "image name CARDS_COURTYARD_T_B_hand0_frame_0975.jpg\n",
      "\n",
      "0: 448x640 1 hand, 11.6ms\n",
      "Speed: 1.4ms preprocess, 11.6ms inference, 1.2ms postprocess per image at shape (1, 3, 448, 640)\n"
     ]
    },
    {
     "data": {
      "text/plain": [
       "<Figure size 640x480 with 1 Axes>"
      ]
     },
     "metadata": {},
     "output_type": "display_data"
    },
    {
     "name": "stdout",
     "output_type": "stream",
     "text": [
      "image name CARDS_COURTYARD_H_S_hand2_frame_0553.jpg\n",
      "\n",
      "0: 384x640 1 hand, 10.8ms\n",
      "Speed: 1.3ms preprocess, 10.8ms inference, 1.2ms postprocess per image at shape (1, 3, 384, 640)\n"
     ]
    },
    {
     "data": {
      "text/plain": [
       "<Figure size 640x480 with 1 Axes>"
      ]
     },
     "metadata": {},
     "output_type": "display_data"
    },
    {
     "name": "stdout",
     "output_type": "stream",
     "text": [
      "image name CARDS_COURTYARD_H_S_hand1_frame_0849.jpg\n",
      "\n",
      "0: 320x640 1 hand, 20.7ms\n",
      "Speed: 2.8ms preprocess, 20.7ms inference, 1.4ms postprocess per image at shape (1, 3, 320, 640)\n"
     ]
    },
    {
     "data": {
      "text/plain": [
       "<Figure size 640x480 with 1 Axes>"
      ]
     },
     "metadata": {},
     "output_type": "display_data"
    },
    {
     "name": "stdout",
     "output_type": "stream",
     "text": [
      "image name CARDS_COURTYARD_H_S_hand3_frame_1604.jpg\n",
      "\n",
      "0: 480x640 1 hand, 12.6ms\n",
      "Speed: 1.3ms preprocess, 12.6ms inference, 1.2ms postprocess per image at shape (1, 3, 480, 640)\n"
     ]
    },
    {
     "data": {
      "text/plain": [
       "<Figure size 640x480 with 1 Axes>"
      ]
     },
     "metadata": {},
     "output_type": "display_data"
    },
    {
     "name": "stdout",
     "output_type": "stream",
     "text": [
      "image name CARDS_COURTYARD_H_S_hand0_frame_1647.jpg\n",
      "\n",
      "0: 416x640 1 hand, 11.1ms\n",
      "Speed: 1.4ms preprocess, 11.1ms inference, 1.2ms postprocess per image at shape (1, 3, 416, 640)\n"
     ]
    },
    {
     "data": {
      "text/plain": [
       "<Figure size 640x480 with 1 Axes>"
      ]
     },
     "metadata": {},
     "output_type": "display_data"
    },
    {
     "name": "stdout",
     "output_type": "stream",
     "text": [
      "image name CARDS_COURTYARD_T_B_hand2_frame_1924.jpg\n",
      "\n",
      "0: 384x640 1 hand, 11.5ms\n",
      "Speed: 1.2ms preprocess, 11.5ms inference, 1.2ms postprocess per image at shape (1, 3, 384, 640)\n"
     ]
    },
    {
     "data": {
      "text/plain": [
       "<Figure size 640x480 with 1 Axes>"
      ]
     },
     "metadata": {},
     "output_type": "display_data"
    },
    {
     "name": "stdout",
     "output_type": "stream",
     "text": [
      "image name CARDS_COURTYARD_H_S_hand2_frame_0209.jpg\n",
      "\n",
      "0: 512x640 1 hand, 12.5ms\n",
      "Speed: 1.5ms preprocess, 12.5ms inference, 1.4ms postprocess per image at shape (1, 3, 512, 640)\n"
     ]
    },
    {
     "data": {
      "text/plain": [
       "<Figure size 640x480 with 1 Axes>"
      ]
     },
     "metadata": {},
     "output_type": "display_data"
    },
    {
     "name": "stdout",
     "output_type": "stream",
     "text": [
      "image name CARDS_COURTYARD_T_B_hand1_frame_2011.jpg\n",
      "\n",
      "0: 256x640 1 hand, 12.3ms\n",
      "Speed: 1.6ms preprocess, 12.3ms inference, 1.2ms postprocess per image at shape (1, 3, 256, 640)\n"
     ]
    },
    {
     "data": {
      "text/plain": [
       "<Figure size 640x480 with 1 Axes>"
      ]
     },
     "metadata": {},
     "output_type": "display_data"
    },
    {
     "name": "stdout",
     "output_type": "stream",
     "text": [
      "image name CARDS_COURTYARD_S_H_hand2_frame_2636.jpg\n",
      "\n",
      "0: 288x640 1 hand, 11.3ms\n",
      "Speed: 1.0ms preprocess, 11.3ms inference, 1.2ms postprocess per image at shape (1, 3, 288, 640)\n"
     ]
    },
    {
     "data": {
      "text/plain": [
       "<Figure size 640x480 with 1 Axes>"
      ]
     },
     "metadata": {},
     "output_type": "display_data"
    },
    {
     "name": "stdout",
     "output_type": "stream",
     "text": [
      "image name CARDS_COURTYARD_T_B_hand1_frame_0427.jpg\n",
      "\n",
      "0: 320x640 1 hand, 24.5ms\n",
      "Speed: 2.8ms preprocess, 24.5ms inference, 1.9ms postprocess per image at shape (1, 3, 320, 640)\n"
     ]
    },
    {
     "data": {
      "text/plain": [
       "<Figure size 640x480 with 1 Axes>"
      ]
     },
     "metadata": {},
     "output_type": "display_data"
    },
    {
     "name": "stdout",
     "output_type": "stream",
     "text": [
      "image name CARDS_COURTYARD_T_B_hand0_frame_2524.jpg\n",
      "\n",
      "0: 416x640 1 hand, 25.9ms\n",
      "Speed: 3.0ms preprocess, 25.9ms inference, 2.0ms postprocess per image at shape (1, 3, 416, 640)\n"
     ]
    },
    {
     "data": {
      "text/plain": [
       "<Figure size 640x480 with 1 Axes>"
      ]
     },
     "metadata": {},
     "output_type": "display_data"
    },
    {
     "name": "stdout",
     "output_type": "stream",
     "text": [
      "image name CARDS_COURTYARD_S_H_hand2_frame_0324.jpg\n",
      "\n",
      "0: 352x640 1 hand, 11.4ms\n",
      "Speed: 1.4ms preprocess, 11.4ms inference, 1.2ms postprocess per image at shape (1, 3, 352, 640)\n"
     ]
    },
    {
     "data": {
      "text/plain": [
       "<Figure size 640x480 with 1 Axes>"
      ]
     },
     "metadata": {},
     "output_type": "display_data"
    },
    {
     "name": "stdout",
     "output_type": "stream",
     "text": [
      "image name CARDS_COURTYARD_H_S_hand0_frame_1939.jpg\n",
      "\n",
      "0: 352x640 1 hand, 19.6ms\n",
      "Speed: 2.8ms preprocess, 19.6ms inference, 1.5ms postprocess per image at shape (1, 3, 352, 640)\n"
     ]
    },
    {
     "data": {
      "text/plain": [
       "<Figure size 640x480 with 1 Axes>"
      ]
     },
     "metadata": {},
     "output_type": "display_data"
    },
    {
     "name": "stdout",
     "output_type": "stream",
     "text": [
      "image name CARDS_COURTYARD_H_S_hand3_frame_0073.jpg\n",
      "\n",
      "0: 512x640 2 hands, 12.8ms\n",
      "Speed: 1.4ms preprocess, 12.8ms inference, 1.2ms postprocess per image at shape (1, 3, 512, 640)\n"
     ]
    },
    {
     "data": {
      "text/plain": [
       "<Figure size 640x480 with 1 Axes>"
      ]
     },
     "metadata": {},
     "output_type": "display_data"
    },
    {
     "name": "stdout",
     "output_type": "stream",
     "text": [
      "image name CARDS_COURTYARD_T_B_hand3_frame_1434.jpg\n",
      "\n",
      "0: 576x640 1 hand, 14.3ms\n",
      "Speed: 1.6ms preprocess, 14.3ms inference, 1.2ms postprocess per image at shape (1, 3, 576, 640)\n"
     ]
    },
    {
     "data": {
      "text/plain": [
       "<Figure size 640x480 with 1 Axes>"
      ]
     },
     "metadata": {},
     "output_type": "display_data"
    },
    {
     "name": "stdout",
     "output_type": "stream",
     "text": [
      "image name CARDS_COURTYARD_H_S_hand2_frame_1021.jpg\n",
      "\n",
      "0: 352x640 1 hand, 21.2ms\n",
      "Speed: 2.7ms preprocess, 21.2ms inference, 2.3ms postprocess per image at shape (1, 3, 352, 640)\n"
     ]
    },
    {
     "data": {
      "text/plain": [
       "<Figure size 640x480 with 1 Axes>"
      ]
     },
     "metadata": {},
     "output_type": "display_data"
    },
    {
     "name": "stdout",
     "output_type": "stream",
     "text": [
      "image name CARDS_COURTYARD_H_S_hand1_frame_1245.jpg\n",
      "\n",
      "0: 320x640 1 hand, 11.3ms\n",
      "Speed: 1.2ms preprocess, 11.3ms inference, 1.2ms postprocess per image at shape (1, 3, 320, 640)\n"
     ]
    },
    {
     "data": {
      "text/plain": [
       "<Figure size 640x480 with 1 Axes>"
      ]
     },
     "metadata": {},
     "output_type": "display_data"
    },
    {
     "name": "stdout",
     "output_type": "stream",
     "text": [
      "image name CARDS_COURTYARD_S_H_hand0_frame_1043.jpg\n",
      "\n",
      "0: 480x640 1 hand, 12.7ms\n",
      "Speed: 1.4ms preprocess, 12.7ms inference, 1.3ms postprocess per image at shape (1, 3, 480, 640)\n"
     ]
    },
    {
     "data": {
      "text/plain": [
       "<Figure size 640x480 with 1 Axes>"
      ]
     },
     "metadata": {},
     "output_type": "display_data"
    },
    {
     "name": "stdout",
     "output_type": "stream",
     "text": [
      "image name CARDS_COURTYARD_H_S_hand3_frame_1115.jpg\n",
      "\n",
      "0: 608x640 1 hand, 15.2ms\n",
      "Speed: 1.8ms preprocess, 15.2ms inference, 1.5ms postprocess per image at shape (1, 3, 608, 640)\n"
     ]
    },
    {
     "data": {
      "text/plain": [
       "<Figure size 640x480 with 1 Axes>"
      ]
     },
     "metadata": {},
     "output_type": "display_data"
    },
    {
     "name": "stdout",
     "output_type": "stream",
     "text": [
      "image name CARDS_COURTYARD_T_B_hand1_frame_1784.jpg\n",
      "\n",
      "0: 288x640 1 hand, 10.8ms\n",
      "Speed: 1.1ms preprocess, 10.8ms inference, 1.2ms postprocess per image at shape (1, 3, 288, 640)\n"
     ]
    },
    {
     "data": {
      "text/plain": [
       "<Figure size 640x480 with 1 Axes>"
      ]
     },
     "metadata": {},
     "output_type": "display_data"
    },
    {
     "name": "stdout",
     "output_type": "stream",
     "text": [
      "image name CARDS_COURTYARD_S_H_hand1_frame_0414.jpg\n",
      "\n",
      "0: 384x640 1 hand, 11.1ms\n",
      "Speed: 1.0ms preprocess, 11.1ms inference, 1.2ms postprocess per image at shape (1, 3, 384, 640)\n"
     ]
    },
    {
     "data": {
      "text/plain": [
       "<Figure size 640x480 with 1 Axes>"
      ]
     },
     "metadata": {},
     "output_type": "display_data"
    },
    {
     "name": "stdout",
     "output_type": "stream",
     "text": [
      "image name CARDS_COURTYARD_T_B_hand1_frame_1276.jpg\n",
      "\n",
      "0: 288x640 1 hand, 10.9ms\n",
      "Speed: 1.1ms preprocess, 10.9ms inference, 1.2ms postprocess per image at shape (1, 3, 288, 640)\n"
     ]
    },
    {
     "data": {
      "text/plain": [
       "<Figure size 640x480 with 1 Axes>"
      ]
     },
     "metadata": {},
     "output_type": "display_data"
    },
    {
     "name": "stdout",
     "output_type": "stream",
     "text": [
      "image name CARDS_COURTYARD_T_B_hand1_frame_0823.jpg\n",
      "\n",
      "0: 352x640 1 hand, 11.4ms\n",
      "Speed: 1.3ms preprocess, 11.4ms inference, 1.2ms postprocess per image at shape (1, 3, 352, 640)\n"
     ]
    },
    {
     "data": {
      "text/plain": [
       "<Figure size 640x480 with 1 Axes>"
      ]
     },
     "metadata": {},
     "output_type": "display_data"
    },
    {
     "name": "stdout",
     "output_type": "stream",
     "text": [
      "image name CARDS_COURTYARD_T_B_hand2_frame_2571.jpg\n",
      "\n",
      "0: 320x640 1 hand, 10.8ms\n",
      "Speed: 1.1ms preprocess, 10.8ms inference, 1.2ms postprocess per image at shape (1, 3, 320, 640)\n"
     ]
    },
    {
     "data": {
      "text/plain": [
       "<Figure size 640x480 with 1 Axes>"
      ]
     },
     "metadata": {},
     "output_type": "display_data"
    },
    {
     "name": "stdout",
     "output_type": "stream",
     "text": [
      "image name CARDS_COURTYARD_H_S_hand0_frame_1680.jpg\n",
      "\n",
      "0: 352x640 1 hand, 11.4ms\n",
      "Speed: 1.1ms preprocess, 11.4ms inference, 1.2ms postprocess per image at shape (1, 3, 352, 640)\n"
     ]
    },
    {
     "data": {
      "text/plain": [
       "<Figure size 640x480 with 1 Axes>"
      ]
     },
     "metadata": {},
     "output_type": "display_data"
    },
    {
     "name": "stdout",
     "output_type": "stream",
     "text": [
      "image name CARDS_COURTYARD_T_B_hand2_frame_0823.jpg\n",
      "\n",
      "0: 288x640 1 hand, 11.3ms\n",
      "Speed: 0.9ms preprocess, 11.3ms inference, 1.4ms postprocess per image at shape (1, 3, 288, 640)\n"
     ]
    },
    {
     "data": {
      "text/plain": [
       "<Figure size 640x480 with 1 Axes>"
      ]
     },
     "metadata": {},
     "output_type": "display_data"
    },
    {
     "name": "stdout",
     "output_type": "stream",
     "text": [
      "image name CARDS_COURTYARD_T_B_hand0_frame_0805.jpg\n",
      "\n",
      "0: 544x640 1 hand, 13.8ms\n",
      "Speed: 1.5ms preprocess, 13.8ms inference, 1.3ms postprocess per image at shape (1, 3, 544, 640)\n"
     ]
    },
    {
     "data": {
      "text/plain": [
       "<Figure size 640x480 with 1 Axes>"
      ]
     },
     "metadata": {},
     "output_type": "display_data"
    },
    {
     "name": "stdout",
     "output_type": "stream",
     "text": [
      "image name CARDS_COURTYARD_S_H_hand3_frame_1218.jpg\n",
      "\n",
      "0: 384x640 2 hands, 11.0ms\n",
      "Speed: 1.3ms preprocess, 11.0ms inference, 1.2ms postprocess per image at shape (1, 3, 384, 640)\n"
     ]
    },
    {
     "data": {
      "text/plain": [
       "<Figure size 640x480 with 1 Axes>"
      ]
     },
     "metadata": {},
     "output_type": "display_data"
    },
    {
     "name": "stdout",
     "output_type": "stream",
     "text": [
      "image name CARDS_COURTYARD_T_B_hand3_frame_0685.jpg\n",
      "\n",
      "0: 384x640 1 hand, 13.2ms\n",
      "Speed: 1.5ms preprocess, 13.2ms inference, 1.6ms postprocess per image at shape (1, 3, 384, 640)\n"
     ]
    },
    {
     "data": {
      "text/plain": [
       "<Figure size 640x480 with 1 Axes>"
      ]
     },
     "metadata": {},
     "output_type": "display_data"
    },
    {
     "name": "stdout",
     "output_type": "stream",
     "text": [
      "image name CARDS_COURTYARD_S_H_hand0_frame_2000.jpg\n",
      "\n",
      "0: 320x640 1 hand, 11.4ms\n",
      "Speed: 1.3ms preprocess, 11.4ms inference, 1.2ms postprocess per image at shape (1, 3, 320, 640)\n"
     ]
    },
    {
     "data": {
      "text/plain": [
       "<Figure size 640x480 with 1 Axes>"
      ]
     },
     "metadata": {},
     "output_type": "display_data"
    },
    {
     "name": "stdout",
     "output_type": "stream",
     "text": [
      "image name CARDS_COURTYARD_S_H_hand3_frame_2098.jpg\n",
      "\n",
      "0: 416x640 1 hand, 11.1ms\n",
      "Speed: 1.2ms preprocess, 11.1ms inference, 1.2ms postprocess per image at shape (1, 3, 416, 640)\n"
     ]
    },
    {
     "data": {
      "text/plain": [
       "<Figure size 640x480 with 1 Axes>"
      ]
     },
     "metadata": {},
     "output_type": "display_data"
    },
    {
     "name": "stdout",
     "output_type": "stream",
     "text": [
      "image name CARDS_COURTYARD_T_B_hand1_frame_2207.jpg\n",
      "\n",
      "0: 384x640 1 hand, 11.6ms\n",
      "Speed: 1.3ms preprocess, 11.6ms inference, 1.2ms postprocess per image at shape (1, 3, 384, 640)\n"
     ]
    },
    {
     "data": {
      "text/plain": [
       "<Figure size 640x480 with 1 Axes>"
      ]
     },
     "metadata": {},
     "output_type": "display_data"
    },
    {
     "name": "stdout",
     "output_type": "stream",
     "text": [
      "image name CARDS_COURTYARD_T_B_hand2_frame_1298.jpg\n",
      "\n",
      "0: 640x480 1 hand, 12.7ms\n",
      "Speed: 1.5ms preprocess, 12.7ms inference, 1.2ms postprocess per image at shape (1, 3, 640, 480)\n"
     ]
    },
    {
     "data": {
      "text/plain": [
       "<Figure size 640x480 with 1 Axes>"
      ]
     },
     "metadata": {},
     "output_type": "display_data"
    },
    {
     "name": "stdout",
     "output_type": "stream",
     "text": [
      "image name CARDS_COURTYARD_T_B_hand1_frame_0632.jpg\n",
      "\n",
      "0: 320x640 1 hand, 10.7ms\n",
      "Speed: 1.1ms preprocess, 10.7ms inference, 1.2ms postprocess per image at shape (1, 3, 320, 640)\n"
     ]
    },
    {
     "data": {
      "text/plain": [
       "<Figure size 640x480 with 1 Axes>"
      ]
     },
     "metadata": {},
     "output_type": "display_data"
    },
    {
     "name": "stdout",
     "output_type": "stream",
     "text": [
      "image name CARDS_COURTYARD_S_H_hand3_frame_2391.jpg\n",
      "\n",
      "0: 384x640 1 hand, 12.3ms\n",
      "Speed: 1.5ms preprocess, 12.3ms inference, 1.5ms postprocess per image at shape (1, 3, 384, 640)\n"
     ]
    },
    {
     "data": {
      "text/plain": [
       "<Figure size 640x480 with 1 Axes>"
      ]
     },
     "metadata": {},
     "output_type": "display_data"
    },
    {
     "name": "stdout",
     "output_type": "stream",
     "text": [
      "image name CARDS_COURTYARD_T_B_hand3_frame_1612.jpg\n",
      "\n",
      "0: 288x640 1 hand, 11.5ms\n",
      "Speed: 1.0ms preprocess, 11.5ms inference, 1.3ms postprocess per image at shape (1, 3, 288, 640)\n"
     ]
    },
    {
     "data": {
      "text/plain": [
       "<Figure size 640x480 with 1 Axes>"
      ]
     },
     "metadata": {},
     "output_type": "display_data"
    },
    {
     "name": "stdout",
     "output_type": "stream",
     "text": [
      "image name CARDS_COURTYARD_S_H_hand3_frame_1441.jpg\n",
      "\n",
      "0: 640x640 1 hand, 15.8ms\n",
      "Speed: 3.0ms preprocess, 15.8ms inference, 1.3ms postprocess per image at shape (1, 3, 640, 640)\n"
     ]
    },
    {
     "data": {
      "text/plain": [
       "<Figure size 640x480 with 1 Axes>"
      ]
     },
     "metadata": {},
     "output_type": "display_data"
    },
    {
     "name": "stdout",
     "output_type": "stream",
     "text": [
      "image name CARDS_COURTYARD_H_S_hand1_frame_2016.jpg\n",
      "\n",
      "0: 512x640 1 hand, 13.5ms\n",
      "Speed: 2.6ms preprocess, 13.5ms inference, 1.3ms postprocess per image at shape (1, 3, 512, 640)\n"
     ]
    },
    {
     "data": {
      "text/plain": [
       "<Figure size 640x480 with 1 Axes>"
      ]
     },
     "metadata": {},
     "output_type": "display_data"
    },
    {
     "name": "stdout",
     "output_type": "stream",
     "text": [
      "image name CARDS_COURTYARD_S_H_hand0_frame_1815.jpg\n",
      "\n",
      "0: 352x640 1 hand, 11.4ms\n",
      "Speed: 1.2ms preprocess, 11.4ms inference, 1.1ms postprocess per image at shape (1, 3, 352, 640)\n"
     ]
    },
    {
     "data": {
      "text/plain": [
       "<Figure size 640x480 with 1 Axes>"
      ]
     },
     "metadata": {},
     "output_type": "display_data"
    },
    {
     "name": "stdout",
     "output_type": "stream",
     "text": [
      "image name CARDS_COURTYARD_S_H_hand3_frame_1644.jpg\n",
      "\n",
      "0: 640x576 1 hand, 14.8ms\n",
      "Speed: 1.7ms preprocess, 14.8ms inference, 1.2ms postprocess per image at shape (1, 3, 640, 576)\n"
     ]
    },
    {
     "data": {
      "text/plain": [
       "<Figure size 640x480 with 1 Axes>"
      ]
     },
     "metadata": {},
     "output_type": "display_data"
    },
    {
     "name": "stdout",
     "output_type": "stream",
     "text": [
      "image name CARDS_COURTYARD_T_B_hand1_frame_2022.jpg\n",
      "\n",
      "0: 224x640 1 hand, 11.1ms\n",
      "Speed: 1.1ms preprocess, 11.1ms inference, 1.2ms postprocess per image at shape (1, 3, 224, 640)\n"
     ]
    },
    {
     "data": {
      "text/plain": [
       "<Figure size 640x480 with 1 Axes>"
      ]
     },
     "metadata": {},
     "output_type": "display_data"
    },
    {
     "name": "stdout",
     "output_type": "stream",
     "text": [
      "image name CARDS_COURTYARD_T_B_hand0_frame_2133.jpg\n",
      "\n",
      "0: 320x640 1 hand, 11.6ms\n",
      "Speed: 1.0ms preprocess, 11.6ms inference, 1.2ms postprocess per image at shape (1, 3, 320, 640)\n"
     ]
    },
    {
     "data": {
      "text/plain": [
       "<Figure size 640x480 with 1 Axes>"
      ]
     },
     "metadata": {},
     "output_type": "display_data"
    },
    {
     "name": "stdout",
     "output_type": "stream",
     "text": [
      "image name CARDS_COURTYARD_S_H_hand2_frame_2402.jpg\n",
      "\n",
      "0: 416x640 1 hand, 11.7ms\n",
      "Speed: 1.2ms preprocess, 11.7ms inference, 1.3ms postprocess per image at shape (1, 3, 416, 640)\n"
     ]
    },
    {
     "data": {
      "text/plain": [
       "<Figure size 640x480 with 1 Axes>"
      ]
     },
     "metadata": {},
     "output_type": "display_data"
    },
    {
     "name": "stdout",
     "output_type": "stream",
     "text": [
      "image name CARDS_COURTYARD_T_B_hand2_frame_0241.jpg\n",
      "\n",
      "0: 320x640 1 hand, 20.2ms\n",
      "Speed: 2.6ms preprocess, 20.2ms inference, 1.4ms postprocess per image at shape (1, 3, 320, 640)\n"
     ]
    },
    {
     "data": {
      "text/plain": [
       "<Figure size 640x480 with 1 Axes>"
      ]
     },
     "metadata": {},
     "output_type": "display_data"
    },
    {
     "name": "stdout",
     "output_type": "stream",
     "text": [
      "image name CARDS_COURTYARD_S_H_hand2_frame_0743.jpg\n",
      "\n",
      "0: 352x640 1 hand, 18.8ms\n",
      "Speed: 2.7ms preprocess, 18.8ms inference, 1.6ms postprocess per image at shape (1, 3, 352, 640)\n"
     ]
    },
    {
     "data": {
      "text/plain": [
       "<Figure size 640x480 with 1 Axes>"
      ]
     },
     "metadata": {},
     "output_type": "display_data"
    },
    {
     "name": "stdout",
     "output_type": "stream",
     "text": [
      "image name CARDS_COURTYARD_H_S_hand0_frame_1257.jpg\n",
      "\n",
      "0: 352x640 2 hands, 19.9ms\n",
      "Speed: 1.2ms preprocess, 19.9ms inference, 2.5ms postprocess per image at shape (1, 3, 352, 640)\n"
     ]
    },
    {
     "data": {
      "text/plain": [
       "<Figure size 640x480 with 1 Axes>"
      ]
     },
     "metadata": {},
     "output_type": "display_data"
    },
    {
     "name": "stdout",
     "output_type": "stream",
     "text": [
      "image name CARDS_COURTYARD_T_B_hand1_frame_1829.jpg\n",
      "\n",
      "0: 320x640 1 hand, 11.6ms\n",
      "Speed: 1.3ms preprocess, 11.6ms inference, 1.2ms postprocess per image at shape (1, 3, 320, 640)\n"
     ]
    },
    {
     "data": {
      "text/plain": [
       "<Figure size 640x480 with 1 Axes>"
      ]
     },
     "metadata": {},
     "output_type": "display_data"
    },
    {
     "name": "stdout",
     "output_type": "stream",
     "text": [
      "image name CARDS_COURTYARD_H_S_hand0_frame_1435.jpg\n",
      "\n",
      "0: 544x640 1 hand, 13.8ms\n",
      "Speed: 2.3ms preprocess, 13.8ms inference, 1.2ms postprocess per image at shape (1, 3, 544, 640)\n"
     ]
    },
    {
     "data": {
      "text/plain": [
       "<Figure size 640x480 with 1 Axes>"
      ]
     },
     "metadata": {},
     "output_type": "display_data"
    },
    {
     "name": "stdout",
     "output_type": "stream",
     "text": [
      "image name CARDS_COURTYARD_H_S_hand1_frame_0549.jpg\n",
      "\n",
      "0: 352x640 1 hand, 11.6ms\n",
      "Speed: 1.3ms preprocess, 11.6ms inference, 1.2ms postprocess per image at shape (1, 3, 352, 640)\n"
     ]
    },
    {
     "data": {
      "text/plain": [
       "<Figure size 640x480 with 1 Axes>"
      ]
     },
     "metadata": {},
     "output_type": "display_data"
    },
    {
     "name": "stdout",
     "output_type": "stream",
     "text": [
      "image name CARDS_COURTYARD_T_B_hand0_frame_2649.jpg\n",
      "\n",
      "0: 320x640 1 hand, 11.2ms\n",
      "Speed: 1.1ms preprocess, 11.2ms inference, 1.3ms postprocess per image at shape (1, 3, 320, 640)\n"
     ]
    },
    {
     "data": {
      "text/plain": [
       "<Figure size 640x480 with 1 Axes>"
      ]
     },
     "metadata": {},
     "output_type": "display_data"
    },
    {
     "name": "stdout",
     "output_type": "stream",
     "text": [
      "image name CARDS_COURTYARD_T_B_hand1_frame_0337.jpg\n",
      "\n",
      "0: 416x640 1 hand, 11.6ms\n",
      "Speed: 1.4ms preprocess, 11.6ms inference, 1.2ms postprocess per image at shape (1, 3, 416, 640)\n"
     ]
    },
    {
     "data": {
      "text/plain": [
       "<Figure size 640x480 with 1 Axes>"
      ]
     },
     "metadata": {},
     "output_type": "display_data"
    },
    {
     "name": "stdout",
     "output_type": "stream",
     "text": [
      "image name CARDS_COURTYARD_T_B_hand1_frame_0707.jpg\n",
      "\n",
      "0: 352x640 1 hand, 12.5ms\n",
      "Speed: 1.3ms preprocess, 12.5ms inference, 3.1ms postprocess per image at shape (1, 3, 352, 640)\n"
     ]
    },
    {
     "data": {
      "text/plain": [
       "<Figure size 640x480 with 1 Axes>"
      ]
     },
     "metadata": {},
     "output_type": "display_data"
    },
    {
     "name": "stdout",
     "output_type": "stream",
     "text": [
      "image name CARDS_COURTYARD_T_B_hand0_frame_1642.jpg\n",
      "\n",
      "0: 512x640 1 hand, 25.6ms\n",
      "Speed: 3.9ms preprocess, 25.6ms inference, 2.6ms postprocess per image at shape (1, 3, 512, 640)\n"
     ]
    },
    {
     "data": {
      "text/plain": [
       "<Figure size 640x480 with 1 Axes>"
      ]
     },
     "metadata": {},
     "output_type": "display_data"
    },
    {
     "name": "stdout",
     "output_type": "stream",
     "text": [
      "image name CARDS_COURTYARD_H_S_hand3_frame_0245.jpg\n",
      "\n",
      "0: 608x640 2 hands, 21.2ms\n",
      "Speed: 3.0ms preprocess, 21.2ms inference, 1.8ms postprocess per image at shape (1, 3, 608, 640)\n"
     ]
    },
    {
     "data": {
      "text/plain": [
       "<Figure size 640x480 with 1 Axes>"
      ]
     },
     "metadata": {},
     "output_type": "display_data"
    },
    {
     "name": "stdout",
     "output_type": "stream",
     "text": [
      "image name CARDS_COURTYARD_T_B_hand0_frame_2571.jpg\n",
      "\n",
      "0: 352x640 1 hand, 11.6ms\n",
      "Speed: 1.3ms preprocess, 11.6ms inference, 1.2ms postprocess per image at shape (1, 3, 352, 640)\n"
     ]
    },
    {
     "data": {
      "text/plain": [
       "<Figure size 640x480 with 1 Axes>"
      ]
     },
     "metadata": {},
     "output_type": "display_data"
    },
    {
     "name": "stdout",
     "output_type": "stream",
     "text": [
      "image name CARDS_COURTYARD_T_B_hand0_frame_1373.jpg\n",
      "\n",
      "0: 352x640 1 hand, 12.8ms\n",
      "Speed: 1.8ms preprocess, 12.8ms inference, 1.2ms postprocess per image at shape (1, 3, 352, 640)\n"
     ]
    },
    {
     "data": {
      "text/plain": [
       "<Figure size 640x480 with 1 Axes>"
      ]
     },
     "metadata": {},
     "output_type": "display_data"
    },
    {
     "name": "stdout",
     "output_type": "stream",
     "text": [
      "image name CARDS_COURTYARD_T_B_hand3_frame_2238.jpg\n",
      "\n",
      "0: 448x640 2 hands, 12.0ms\n",
      "Speed: 1.3ms preprocess, 12.0ms inference, 1.2ms postprocess per image at shape (1, 3, 448, 640)\n"
     ]
    },
    {
     "data": {
      "text/plain": [
       "<Figure size 640x480 with 1 Axes>"
      ]
     },
     "metadata": {},
     "output_type": "display_data"
    },
    {
     "name": "stdout",
     "output_type": "stream",
     "text": [
      "image name CARDS_COURTYARD_S_H_hand0_frame_0482.jpg\n",
      "\n",
      "0: 320x640 1 hand, 14.5ms\n",
      "Speed: 2.4ms preprocess, 14.5ms inference, 1.2ms postprocess per image at shape (1, 3, 320, 640)\n"
     ]
    },
    {
     "data": {
      "text/plain": [
       "<Figure size 640x480 with 1 Axes>"
      ]
     },
     "metadata": {},
     "output_type": "display_data"
    },
    {
     "name": "stdout",
     "output_type": "stream",
     "text": [
      "image name CARDS_COURTYARD_T_B_hand0_frame_0823.jpg\n",
      "\n",
      "0: 320x640 1 hand, 11.2ms\n",
      "Speed: 1.2ms preprocess, 11.2ms inference, 1.2ms postprocess per image at shape (1, 3, 320, 640)\n"
     ]
    },
    {
     "data": {
      "text/plain": [
       "<Figure size 640x480 with 1 Axes>"
      ]
     },
     "metadata": {},
     "output_type": "display_data"
    },
    {
     "name": "stdout",
     "output_type": "stream",
     "text": [
      "image name CARDS_COURTYARD_T_B_hand3_frame_0975.jpg\n",
      "\n",
      "0: 480x640 1 hand, 12.7ms\n",
      "Speed: 1.4ms preprocess, 12.7ms inference, 1.2ms postprocess per image at shape (1, 3, 480, 640)\n"
     ]
    },
    {
     "data": {
      "text/plain": [
       "<Figure size 640x480 with 1 Axes>"
      ]
     },
     "metadata": {},
     "output_type": "display_data"
    },
    {
     "name": "stdout",
     "output_type": "stream",
     "text": [
      "image name CARDS_COURTYARD_S_H_hand3_frame_1114.jpg\n",
      "\n",
      "0: 512x640 1 hand, 12.7ms\n",
      "Speed: 1.4ms preprocess, 12.7ms inference, 1.2ms postprocess per image at shape (1, 3, 512, 640)\n"
     ]
    },
    {
     "data": {
      "text/plain": [
       "<Figure size 640x480 with 1 Axes>"
      ]
     },
     "metadata": {},
     "output_type": "display_data"
    },
    {
     "name": "stdout",
     "output_type": "stream",
     "text": [
      "image name CARDS_COURTYARD_H_S_hand1_frame_2554.jpg\n",
      "\n",
      "0: 512x640 1 hand, 12.1ms\n",
      "Speed: 1.6ms preprocess, 12.1ms inference, 1.8ms postprocess per image at shape (1, 3, 512, 640)\n"
     ]
    },
    {
     "data": {
      "text/plain": [
       "<Figure size 640x480 with 1 Axes>"
      ]
     },
     "metadata": {},
     "output_type": "display_data"
    },
    {
     "name": "stdout",
     "output_type": "stream",
     "text": [
      "image name CARDS_COURTYARD_T_B_hand2_frame_1661.jpg\n",
      "\n",
      "0: 320x640 1 hand, 11.6ms\n",
      "Speed: 1.5ms preprocess, 11.6ms inference, 1.2ms postprocess per image at shape (1, 3, 320, 640)\n"
     ]
    },
    {
     "data": {
      "text/plain": [
       "<Figure size 640x480 with 1 Axes>"
      ]
     },
     "metadata": {},
     "output_type": "display_data"
    },
    {
     "name": "stdout",
     "output_type": "stream",
     "text": [
      "image name CARDS_COURTYARD_H_S_hand3_frame_2190.jpg\n",
      "\n",
      "0: 448x640 1 hand, 12.2ms\n",
      "Speed: 1.3ms preprocess, 12.2ms inference, 1.3ms postprocess per image at shape (1, 3, 448, 640)\n"
     ]
    },
    {
     "data": {
      "text/plain": [
       "<Figure size 640x480 with 1 Axes>"
      ]
     },
     "metadata": {},
     "output_type": "display_data"
    },
    {
     "name": "stdout",
     "output_type": "stream",
     "text": [
      "image name CARDS_COURTYARD_S_H_hand3_frame_0306.jpg\n",
      "\n",
      "0: 608x640 1 hand, 15.2ms\n",
      "Speed: 1.9ms preprocess, 15.2ms inference, 1.2ms postprocess per image at shape (1, 3, 608, 640)\n"
     ]
    },
    {
     "data": {
      "text/plain": [
       "<Figure size 640x480 with 1 Axes>"
      ]
     },
     "metadata": {},
     "output_type": "display_data"
    },
    {
     "name": "stdout",
     "output_type": "stream",
     "text": [
      "image name CARDS_COURTYARD_H_S_hand2_frame_2071.jpg\n",
      "\n",
      "0: 416x640 2 hands, 11.8ms\n",
      "Speed: 1.3ms preprocess, 11.8ms inference, 1.2ms postprocess per image at shape (1, 3, 416, 640)\n"
     ]
    },
    {
     "data": {
      "text/plain": [
       "<Figure size 640x480 with 1 Axes>"
      ]
     },
     "metadata": {},
     "output_type": "display_data"
    },
    {
     "name": "stdout",
     "output_type": "stream",
     "text": [
      "image name CARDS_COURTYARD_S_H_hand3_frame_2568.jpg\n",
      "\n",
      "0: 640x512 1 hand, 13.1ms\n",
      "Speed: 1.5ms preprocess, 13.1ms inference, 1.3ms postprocess per image at shape (1, 3, 640, 512)\n"
     ]
    },
    {
     "data": {
      "text/plain": [
       "<Figure size 640x480 with 1 Axes>"
      ]
     },
     "metadata": {},
     "output_type": "display_data"
    },
    {
     "name": "stdout",
     "output_type": "stream",
     "text": [
      "image name CARDS_COURTYARD_T_B_hand1_frame_0760.jpg\n",
      "\n",
      "0: 384x640 1 hand, 10.9ms\n",
      "Speed: 1.3ms preprocess, 10.9ms inference, 1.3ms postprocess per image at shape (1, 3, 384, 640)\n"
     ]
    },
    {
     "data": {
      "text/plain": [
       "<Figure size 640x480 with 1 Axes>"
      ]
     },
     "metadata": {},
     "output_type": "display_data"
    },
    {
     "name": "stdout",
     "output_type": "stream",
     "text": [
      "image name CARDS_COURTYARD_T_B_hand3_frame_1913.jpg\n",
      "\n",
      "0: 576x640 1 hand, 14.3ms\n",
      "Speed: 1.7ms preprocess, 14.3ms inference, 1.2ms postprocess per image at shape (1, 3, 576, 640)\n"
     ]
    },
    {
     "data": {
      "text/plain": [
       "<Figure size 640x480 with 1 Axes>"
      ]
     },
     "metadata": {},
     "output_type": "display_data"
    },
    {
     "name": "stdout",
     "output_type": "stream",
     "text": [
      "image name CARDS_COURTYARD_S_H_hand2_frame_1552.jpg\n",
      "\n",
      "0: 288x640 1 hand, 21.2ms\n",
      "Speed: 2.1ms preprocess, 21.2ms inference, 1.4ms postprocess per image at shape (1, 3, 288, 640)\n"
     ]
    },
    {
     "data": {
      "text/plain": [
       "<Figure size 640x480 with 1 Axes>"
      ]
     },
     "metadata": {},
     "output_type": "display_data"
    },
    {
     "name": "stdout",
     "output_type": "stream",
     "text": [
      "image name CARDS_COURTYARD_H_S_hand3_frame_1720.jpg\n",
      "\n",
      "0: 512x640 2 hands, 13.6ms\n",
      "Speed: 1.8ms preprocess, 13.6ms inference, 1.5ms postprocess per image at shape (1, 3, 512, 640)\n"
     ]
    },
    {
     "data": {
      "text/plain": [
       "<Figure size 640x480 with 1 Axes>"
      ]
     },
     "metadata": {},
     "output_type": "display_data"
    },
    {
     "name": "stdout",
     "output_type": "stream",
     "text": [
      "image name CARDS_COURTYARD_S_H_hand0_frame_1452.jpg\n",
      "\n",
      "0: 256x640 1 hand, 11.4ms\n",
      "Speed: 1.2ms preprocess, 11.4ms inference, 1.2ms postprocess per image at shape (1, 3, 256, 640)\n"
     ]
    },
    {
     "data": {
      "text/plain": [
       "<Figure size 640x480 with 1 Axes>"
      ]
     },
     "metadata": {},
     "output_type": "display_data"
    },
    {
     "name": "stdout",
     "output_type": "stream",
     "text": [
      "image name CARDS_COURTYARD_T_B_hand1_frame_0880.jpg\n",
      "\n",
      "0: 320x640 1 hand, 12.0ms\n",
      "Speed: 1.5ms preprocess, 12.0ms inference, 1.3ms postprocess per image at shape (1, 3, 320, 640)\n"
     ]
    },
    {
     "data": {
      "text/plain": [
       "<Figure size 640x480 with 1 Axes>"
      ]
     },
     "metadata": {},
     "output_type": "display_data"
    },
    {
     "name": "stdout",
     "output_type": "stream",
     "text": [
      "image name CARDS_COURTYARD_S_H_hand0_frame_1441.jpg\n",
      "\n",
      "0: 256x640 1 hand, 11.0ms\n",
      "Speed: 1.0ms preprocess, 11.0ms inference, 1.2ms postprocess per image at shape (1, 3, 256, 640)\n"
     ]
    },
    {
     "data": {
      "text/plain": [
       "<Figure size 640x480 with 1 Axes>"
      ]
     },
     "metadata": {},
     "output_type": "display_data"
    },
    {
     "name": "stdout",
     "output_type": "stream",
     "text": [
      "image name CARDS_COURTYARD_T_B_hand1_frame_1564.jpg\n",
      "\n",
      "0: 384x640 1 hand, 11.9ms\n",
      "Speed: 1.3ms preprocess, 11.9ms inference, 1.2ms postprocess per image at shape (1, 3, 384, 640)\n"
     ]
    },
    {
     "data": {
      "text/plain": [
       "<Figure size 640x480 with 1 Axes>"
      ]
     },
     "metadata": {},
     "output_type": "display_data"
    },
    {
     "name": "stdout",
     "output_type": "stream",
     "text": [
      "image name CARDS_COURTYARD_S_H_hand1_frame_1688.jpg\n",
      "\n",
      "0: 224x640 1 hand, 11.4ms\n",
      "Speed: 1.0ms preprocess, 11.4ms inference, 1.2ms postprocess per image at shape (1, 3, 224, 640)\n"
     ]
    },
    {
     "data": {
      "text/plain": [
       "<Figure size 640x480 with 1 Axes>"
      ]
     },
     "metadata": {},
     "output_type": "display_data"
    },
    {
     "name": "stdout",
     "output_type": "stream",
     "text": [
      "image name CARDS_COURTYARD_T_B_hand3_frame_2272.jpg\n",
      "\n",
      "0: 512x640 1 hand, 13.2ms\n",
      "Speed: 2.0ms preprocess, 13.2ms inference, 1.2ms postprocess per image at shape (1, 3, 512, 640)\n"
     ]
    },
    {
     "data": {
      "text/plain": [
       "<Figure size 640x480 with 1 Axes>"
      ]
     },
     "metadata": {},
     "output_type": "display_data"
    },
    {
     "name": "stdout",
     "output_type": "stream",
     "text": [
      "image name CARDS_COURTYARD_H_S_hand2_frame_2412.jpg\n",
      "\n",
      "0: 384x640 1 hand, 11.8ms\n",
      "Speed: 1.1ms preprocess, 11.8ms inference, 1.2ms postprocess per image at shape (1, 3, 384, 640)\n"
     ]
    },
    {
     "data": {
      "text/plain": [
       "<Figure size 640x480 with 1 Axes>"
      ]
     },
     "metadata": {},
     "output_type": "display_data"
    },
    {
     "name": "stdout",
     "output_type": "stream",
     "text": [
      "image name CARDS_COURTYARD_H_S_hand1_frame_1135.jpg\n",
      "\n",
      "0: 352x640 1 hand, 11.2ms\n",
      "Speed: 1.3ms preprocess, 11.2ms inference, 1.6ms postprocess per image at shape (1, 3, 352, 640)\n"
     ]
    },
    {
     "data": {
      "text/plain": [
       "<Figure size 640x480 with 1 Axes>"
      ]
     },
     "metadata": {},
     "output_type": "display_data"
    },
    {
     "name": "stdout",
     "output_type": "stream",
     "text": [
      "image name CARDS_COURTYARD_S_H_hand0_frame_1353.jpg\n",
      "\n",
      "0: 544x640 1 hand, 13.8ms\n",
      "Speed: 1.7ms preprocess, 13.8ms inference, 1.2ms postprocess per image at shape (1, 3, 544, 640)\n"
     ]
    },
    {
     "data": {
      "text/plain": [
       "<Figure size 640x480 with 1 Axes>"
      ]
     },
     "metadata": {},
     "output_type": "display_data"
    },
    {
     "name": "stdout",
     "output_type": "stream",
     "text": [
      "image name CARDS_COURTYARD_T_B_hand0_frame_0412.jpg\n",
      "\n",
      "0: 640x640 1 hand, 15.7ms\n",
      "Speed: 1.7ms preprocess, 15.7ms inference, 1.2ms postprocess per image at shape (1, 3, 640, 640)\n"
     ]
    },
    {
     "data": {
      "text/plain": [
       "<Figure size 640x480 with 1 Axes>"
      ]
     },
     "metadata": {},
     "output_type": "display_data"
    },
    {
     "name": "stdout",
     "output_type": "stream",
     "text": [
      "image name CARDS_COURTYARD_S_H_hand3_frame_2296.jpg\n",
      "\n",
      "0: 640x544 1 hand, 14.7ms\n",
      "Speed: 1.6ms preprocess, 14.7ms inference, 1.2ms postprocess per image at shape (1, 3, 640, 544)\n"
     ]
    },
    {
     "data": {
      "text/plain": [
       "<Figure size 640x480 with 1 Axes>"
      ]
     },
     "metadata": {},
     "output_type": "display_data"
    },
    {
     "name": "stdout",
     "output_type": "stream",
     "text": [
      "image name CARDS_COURTYARD_T_B_hand0_frame_0360.jpg\n",
      "\n",
      "0: 448x640 1 hand, 13.1ms\n",
      "Speed: 2.0ms preprocess, 13.1ms inference, 1.3ms postprocess per image at shape (1, 3, 448, 640)\n"
     ]
    },
    {
     "data": {
      "text/plain": [
       "<Figure size 640x480 with 1 Axes>"
      ]
     },
     "metadata": {},
     "output_type": "display_data"
    },
    {
     "name": "stdout",
     "output_type": "stream",
     "text": [
      "image name CARDS_COURTYARD_T_B_hand3_frame_0419.jpg\n",
      "\n",
      "0: 384x640 1 hand, 11.2ms\n",
      "Speed: 1.5ms preprocess, 11.2ms inference, 1.3ms postprocess per image at shape (1, 3, 384, 640)\n"
     ]
    },
    {
     "data": {
      "text/plain": [
       "<Figure size 640x480 with 1 Axes>"
      ]
     },
     "metadata": {},
     "output_type": "display_data"
    },
    {
     "name": "stdout",
     "output_type": "stream",
     "text": [
      "image name CARDS_COURTYARD_H_S_hand1_frame_0702.jpg\n",
      "\n",
      "0: 288x640 1 hand, 11.0ms\n",
      "Speed: 1.2ms preprocess, 11.0ms inference, 1.3ms postprocess per image at shape (1, 3, 288, 640)\n"
     ]
    },
    {
     "data": {
      "text/plain": [
       "<Figure size 640x480 with 1 Axes>"
      ]
     },
     "metadata": {},
     "output_type": "display_data"
    },
    {
     "name": "stdout",
     "output_type": "stream",
     "text": [
      "image name CARDS_COURTYARD_T_B_hand1_frame_0334.jpg\n",
      "\n",
      "0: 384x640 1 hand, 11.5ms\n",
      "Speed: 1.4ms preprocess, 11.5ms inference, 1.2ms postprocess per image at shape (1, 3, 384, 640)\n"
     ]
    },
    {
     "data": {
      "text/plain": [
       "<Figure size 640x480 with 1 Axes>"
      ]
     },
     "metadata": {},
     "output_type": "display_data"
    },
    {
     "name": "stdout",
     "output_type": "stream",
     "text": [
      "image name CARDS_COURTYARD_T_B_hand1_frame_1048.jpg\n",
      "\n",
      "0: 352x640 1 hand, 11.8ms\n",
      "Speed: 1.2ms preprocess, 11.8ms inference, 1.2ms postprocess per image at shape (1, 3, 352, 640)\n"
     ]
    },
    {
     "data": {
      "text/plain": [
       "<Figure size 640x480 with 1 Axes>"
      ]
     },
     "metadata": {},
     "output_type": "display_data"
    },
    {
     "name": "stdout",
     "output_type": "stream",
     "text": [
      "image name CARDS_COURTYARD_S_H_hand2_frame_1340.jpg\n",
      "\n",
      "0: 384x640 1 hand, 11.0ms\n",
      "Speed: 1.2ms preprocess, 11.0ms inference, 1.2ms postprocess per image at shape (1, 3, 384, 640)\n"
     ]
    },
    {
     "data": {
      "text/plain": [
       "<Figure size 640x480 with 1 Axes>"
      ]
     },
     "metadata": {},
     "output_type": "display_data"
    },
    {
     "name": "stdout",
     "output_type": "stream",
     "text": [
      "image name CARDS_COURTYARD_H_S_hand2_frame_0266.jpg\n",
      "\n",
      "0: 448x640 2 hands, 11.9ms\n",
      "Speed: 1.3ms preprocess, 11.9ms inference, 1.3ms postprocess per image at shape (1, 3, 448, 640)\n"
     ]
    },
    {
     "data": {
      "text/plain": [
       "<Figure size 640x480 with 1 Axes>"
      ]
     },
     "metadata": {},
     "output_type": "display_data"
    },
    {
     "name": "stdout",
     "output_type": "stream",
     "text": [
      "image name CARDS_COURTYARD_T_B_hand2_frame_0911.jpg\n",
      "\n",
      "0: 288x640 1 hand, 19.4ms\n",
      "Speed: 2.4ms preprocess, 19.4ms inference, 1.8ms postprocess per image at shape (1, 3, 288, 640)\n"
     ]
    },
    {
     "data": {
      "text/plain": [
       "<Figure size 640x480 with 1 Axes>"
      ]
     },
     "metadata": {},
     "output_type": "display_data"
    },
    {
     "name": "stdout",
     "output_type": "stream",
     "text": [
      "image name CARDS_COURTYARD_T_B_hand1_frame_0241.jpg\n",
      "\n",
      "0: 352x640 1 hand, 16.1ms\n",
      "Speed: 3.6ms preprocess, 16.1ms inference, 1.4ms postprocess per image at shape (1, 3, 352, 640)\n"
     ]
    },
    {
     "data": {
      "text/plain": [
       "<Figure size 640x480 with 1 Axes>"
      ]
     },
     "metadata": {},
     "output_type": "display_data"
    },
    {
     "name": "stdout",
     "output_type": "stream",
     "text": [
      "image name CARDS_COURTYARD_H_S_hand3_frame_1830.jpg\n",
      "\n",
      "0: 480x640 2 hands, 12.7ms\n",
      "Speed: 1.5ms preprocess, 12.7ms inference, 1.2ms postprocess per image at shape (1, 3, 480, 640)\n"
     ]
    },
    {
     "data": {
      "text/plain": [
       "<Figure size 640x480 with 1 Axes>"
      ]
     },
     "metadata": {},
     "output_type": "display_data"
    },
    {
     "name": "stdout",
     "output_type": "stream",
     "text": [
      "image name CARDS_COURTYARD_H_S_hand1_frame_1479.jpg\n",
      "\n",
      "0: 352x640 1 hand, 15.3ms\n",
      "Speed: 3.2ms preprocess, 15.3ms inference, 1.6ms postprocess per image at shape (1, 3, 352, 640)\n"
     ]
    },
    {
     "data": {
      "text/plain": [
       "<Figure size 640x480 with 1 Axes>"
      ]
     },
     "metadata": {},
     "output_type": "display_data"
    },
    {
     "name": "stdout",
     "output_type": "stream",
     "text": [
      "image name CARDS_COURTYARD_H_S_hand3_frame_1514.jpg\n",
      "\n",
      "0: 480x640 1 hand, 13.9ms\n",
      "Speed: 1.5ms preprocess, 13.9ms inference, 1.2ms postprocess per image at shape (1, 3, 480, 640)\n"
     ]
    },
    {
     "data": {
      "text/plain": [
       "<Figure size 640x480 with 1 Axes>"
      ]
     },
     "metadata": {},
     "output_type": "display_data"
    },
    {
     "name": "stdout",
     "output_type": "stream",
     "text": [
      "image name CARDS_COURTYARD_S_H_hand0_frame_1379.jpg\n",
      "\n",
      "0: 448x640 1 hand, 13.2ms\n",
      "Speed: 1.3ms preprocess, 13.2ms inference, 1.2ms postprocess per image at shape (1, 3, 448, 640)\n"
     ]
    },
    {
     "data": {
      "text/plain": [
       "<Figure size 640x480 with 1 Axes>"
      ]
     },
     "metadata": {},
     "output_type": "display_data"
    },
    {
     "name": "stdout",
     "output_type": "stream",
     "text": [
      "image name CARDS_COURTYARD_T_B_hand2_frame_0804.jpg\n",
      "\n",
      "0: 320x640 1 hand, 11.0ms\n",
      "Speed: 1.1ms preprocess, 11.0ms inference, 1.2ms postprocess per image at shape (1, 3, 320, 640)\n"
     ]
    },
    {
     "data": {
      "text/plain": [
       "<Figure size 640x480 with 1 Axes>"
      ]
     },
     "metadata": {},
     "output_type": "display_data"
    },
    {
     "name": "stdout",
     "output_type": "stream",
     "text": [
      "image name CARDS_COURTYARD_S_H_hand0_frame_0559.jpg\n",
      "\n",
      "0: 288x640 1 hand, 11.4ms\n",
      "Speed: 1.0ms preprocess, 11.4ms inference, 1.2ms postprocess per image at shape (1, 3, 288, 640)\n"
     ]
    },
    {
     "data": {
      "text/plain": [
       "<Figure size 640x480 with 1 Axes>"
      ]
     },
     "metadata": {},
     "output_type": "display_data"
    },
    {
     "name": "stdout",
     "output_type": "stream",
     "text": [
      "image name CARDS_COURTYARD_S_H_hand3_frame_0873.jpg\n",
      "\n",
      "0: 256x640 1 hand, 21.3ms\n",
      "Speed: 2.0ms preprocess, 21.3ms inference, 1.7ms postprocess per image at shape (1, 3, 256, 640)\n"
     ]
    },
    {
     "data": {
      "text/plain": [
       "<Figure size 640x480 with 1 Axes>"
      ]
     },
     "metadata": {},
     "output_type": "display_data"
    },
    {
     "name": "stdout",
     "output_type": "stream",
     "text": [
      "image name CARDS_COURTYARD_S_H_hand0_frame_0805.jpg\n",
      "\n",
      "0: 288x640 1 hand, 11.3ms\n",
      "Speed: 0.9ms preprocess, 11.3ms inference, 1.5ms postprocess per image at shape (1, 3, 288, 640)\n"
     ]
    },
    {
     "data": {
      "text/plain": [
       "<Figure size 640x480 with 1 Axes>"
      ]
     },
     "metadata": {},
     "output_type": "display_data"
    },
    {
     "name": "stdout",
     "output_type": "stream",
     "text": [
      "image name CARDS_COURTYARD_T_B_hand1_frame_0226.jpg\n",
      "\n",
      "0: 384x640 1 hand, 10.9ms\n",
      "Speed: 1.6ms preprocess, 10.9ms inference, 1.2ms postprocess per image at shape (1, 3, 384, 640)\n"
     ]
    },
    {
     "data": {
      "text/plain": [
       "<Figure size 640x480 with 1 Axes>"
      ]
     },
     "metadata": {},
     "output_type": "display_data"
    },
    {
     "name": "stdout",
     "output_type": "stream",
     "text": [
      "image name CARDS_COURTYARD_H_S_hand1_frame_2638.jpg\n",
      "\n",
      "0: 512x640 1 hand, 12.6ms\n",
      "Speed: 1.6ms preprocess, 12.6ms inference, 1.2ms postprocess per image at shape (1, 3, 512, 640)\n"
     ]
    },
    {
     "data": {
      "text/plain": [
       "<Figure size 640x480 with 1 Axes>"
      ]
     },
     "metadata": {},
     "output_type": "display_data"
    },
    {
     "name": "stdout",
     "output_type": "stream",
     "text": [
      "image name CARDS_COURTYARD_T_B_hand3_frame_2378.jpg\n",
      "\n",
      "0: 448x640 2 hands, 11.5ms\n",
      "Speed: 1.3ms preprocess, 11.5ms inference, 1.4ms postprocess per image at shape (1, 3, 448, 640)\n"
     ]
    },
    {
     "data": {
      "text/plain": [
       "<Figure size 640x480 with 1 Axes>"
      ]
     },
     "metadata": {},
     "output_type": "display_data"
    },
    {
     "name": "stdout",
     "output_type": "stream",
     "text": [
      "image name CARDS_COURTYARD_T_B_hand1_frame_1806.jpg\n",
      "\n",
      "0: 320x640 1 hand, 10.8ms\n",
      "Speed: 1.3ms preprocess, 10.8ms inference, 1.2ms postprocess per image at shape (1, 3, 320, 640)\n"
     ]
    },
    {
     "data": {
      "text/plain": [
       "<Figure size 640x480 with 1 Axes>"
      ]
     },
     "metadata": {},
     "output_type": "display_data"
    },
    {
     "name": "stdout",
     "output_type": "stream",
     "text": [
      "image name CARDS_COURTYARD_H_S_hand1_frame_1341.jpg\n",
      "\n",
      "0: 384x640 1 hand, 11.1ms\n",
      "Speed: 1.3ms preprocess, 11.1ms inference, 1.2ms postprocess per image at shape (1, 3, 384, 640)\n"
     ]
    },
    {
     "data": {
      "text/plain": [
       "<Figure size 640x480 with 1 Axes>"
      ]
     },
     "metadata": {},
     "output_type": "display_data"
    },
    {
     "name": "stdout",
     "output_type": "stream",
     "text": [
      "image name CARDS_COURTYARD_T_B_hand1_frame_1298.jpg\n",
      "\n",
      "0: 416x640 1 hand, 11.9ms\n",
      "Speed: 1.5ms preprocess, 11.9ms inference, 1.4ms postprocess per image at shape (1, 3, 416, 640)\n"
     ]
    },
    {
     "data": {
      "text/plain": [
       "<Figure size 640x480 with 1 Axes>"
      ]
     },
     "metadata": {},
     "output_type": "display_data"
    },
    {
     "name": "stdout",
     "output_type": "stream",
     "text": [
      "image name CARDS_COURTYARD_T_B_hand0_frame_0937.jpg\n",
      "\n",
      "0: 352x640 1 hand, 11.0ms\n",
      "Speed: 1.5ms preprocess, 11.0ms inference, 1.2ms postprocess per image at shape (1, 3, 352, 640)\n"
     ]
    },
    {
     "data": {
      "text/plain": [
       "<Figure size 640x480 with 1 Axes>"
      ]
     },
     "metadata": {},
     "output_type": "display_data"
    },
    {
     "name": "stdout",
     "output_type": "stream",
     "text": [
      "image name CARDS_COURTYARD_T_B_hand1_frame_2658.jpg\n",
      "\n",
      "0: 448x640 1 hand, 12.3ms\n",
      "Speed: 1.7ms preprocess, 12.3ms inference, 1.2ms postprocess per image at shape (1, 3, 448, 640)\n"
     ]
    },
    {
     "data": {
      "text/plain": [
       "<Figure size 640x480 with 1 Axes>"
      ]
     },
     "metadata": {},
     "output_type": "display_data"
    },
    {
     "name": "stdout",
     "output_type": "stream",
     "text": [
      "image name CARDS_COURTYARD_T_B_hand1_frame_0331.jpg\n",
      "\n",
      "0: 320x640 1 hand, 18.5ms\n",
      "Speed: 2.2ms preprocess, 18.5ms inference, 1.4ms postprocess per image at shape (1, 3, 320, 640)\n"
     ]
    },
    {
     "data": {
      "text/plain": [
       "<Figure size 640x480 with 1 Axes>"
      ]
     },
     "metadata": {},
     "output_type": "display_data"
    },
    {
     "name": "stdout",
     "output_type": "stream",
     "text": [
      "image name CARDS_COURTYARD_T_B_hand0_frame_1937.jpg\n",
      "\n",
      "0: 320x640 1 hand, 10.9ms\n",
      "Speed: 1.1ms preprocess, 10.9ms inference, 1.3ms postprocess per image at shape (1, 3, 320, 640)\n"
     ]
    },
    {
     "data": {
      "text/plain": [
       "<Figure size 640x480 with 1 Axes>"
      ]
     },
     "metadata": {},
     "output_type": "display_data"
    },
    {
     "name": "stdout",
     "output_type": "stream",
     "text": [
      "image name CARDS_COURTYARD_H_S_hand3_frame_1479.jpg\n",
      "\n",
      "0: 512x640 1 hand, 12.5ms\n",
      "Speed: 1.6ms preprocess, 12.5ms inference, 1.3ms postprocess per image at shape (1, 3, 512, 640)\n"
     ]
    },
    {
     "data": {
      "text/plain": [
       "<Figure size 640x480 with 1 Axes>"
      ]
     },
     "metadata": {},
     "output_type": "display_data"
    },
    {
     "name": "stdout",
     "output_type": "stream",
     "text": [
      "image name CARDS_COURTYARD_H_S_hand2_frame_1675.jpg\n",
      "\n",
      "0: 384x640 1 hand, 13.9ms\n",
      "Speed: 2.9ms preprocess, 13.9ms inference, 1.2ms postprocess per image at shape (1, 3, 384, 640)\n"
     ]
    },
    {
     "data": {
      "text/plain": [
       "<Figure size 640x480 with 1 Axes>"
      ]
     },
     "metadata": {},
     "output_type": "display_data"
    },
    {
     "name": "stdout",
     "output_type": "stream",
     "text": [
      "image name CARDS_COURTYARD_H_S_hand3_frame_0726.jpg\n",
      "\n",
      "0: 512x640 1 hand, 13.3ms\n",
      "Speed: 2.0ms preprocess, 13.3ms inference, 1.2ms postprocess per image at shape (1, 3, 512, 640)\n"
     ]
    },
    {
     "data": {
      "text/plain": [
       "<Figure size 640x480 with 1 Axes>"
      ]
     },
     "metadata": {},
     "output_type": "display_data"
    },
    {
     "name": "stdout",
     "output_type": "stream",
     "text": [
      "image name CARDS_COURTYARD_S_H_hand2_frame_2568.jpg\n",
      "\n",
      "0: 320x640 1 hand, 11.1ms\n",
      "Speed: 1.0ms preprocess, 11.1ms inference, 1.2ms postprocess per image at shape (1, 3, 320, 640)\n"
     ]
    },
    {
     "data": {
      "text/plain": [
       "<Figure size 640x480 with 1 Axes>"
      ]
     },
     "metadata": {},
     "output_type": "display_data"
    },
    {
     "name": "stdout",
     "output_type": "stream",
     "text": [
      "image name CARDS_COURTYARD_T_B_hand3_frame_1849.jpg\n",
      "\n",
      "0: 512x640 1 hand, 12.7ms\n",
      "Speed: 1.4ms preprocess, 12.7ms inference, 1.2ms postprocess per image at shape (1, 3, 512, 640)\n"
     ]
    },
    {
     "data": {
      "text/plain": [
       "<Figure size 640x480 with 1 Axes>"
      ]
     },
     "metadata": {},
     "output_type": "display_data"
    },
    {
     "name": "stdout",
     "output_type": "stream",
     "text": [
      "image name CARDS_COURTYARD_H_S_hand1_frame_0145.jpg\n",
      "\n",
      "0: 384x640 1 hand, 18.3ms\n",
      "Speed: 2.9ms preprocess, 18.3ms inference, 1.5ms postprocess per image at shape (1, 3, 384, 640)\n"
     ]
    },
    {
     "data": {
      "text/plain": [
       "<Figure size 640x480 with 1 Axes>"
      ]
     },
     "metadata": {},
     "output_type": "display_data"
    },
    {
     "name": "stdout",
     "output_type": "stream",
     "text": [
      "image name CARDS_COURTYARD_T_B_hand3_frame_0880.jpg\n",
      "\n",
      "0: 416x640 1 hand, 11.1ms\n",
      "Speed: 1.2ms preprocess, 11.1ms inference, 1.2ms postprocess per image at shape (1, 3, 416, 640)\n"
     ]
    },
    {
     "data": {
      "text/plain": [
       "<Figure size 640x480 with 1 Axes>"
      ]
     },
     "metadata": {},
     "output_type": "display_data"
    },
    {
     "name": "stdout",
     "output_type": "stream",
     "text": [
      "image name CARDS_COURTYARD_H_S_hand3_frame_2387.jpg\n",
      "\n",
      "0: 512x640 1 hand, 12.5ms\n",
      "Speed: 1.9ms preprocess, 12.5ms inference, 1.2ms postprocess per image at shape (1, 3, 512, 640)\n"
     ]
    },
    {
     "data": {
      "text/plain": [
       "<Figure size 640x480 with 1 Axes>"
      ]
     },
     "metadata": {},
     "output_type": "display_data"
    },
    {
     "name": "stdout",
     "output_type": "stream",
     "text": [
      "image name CARDS_COURTYARD_T_B_hand1_frame_0419.jpg\n",
      "\n",
      "0: 320x640 1 hand, 18.4ms\n",
      "Speed: 2.6ms preprocess, 18.4ms inference, 1.5ms postprocess per image at shape (1, 3, 320, 640)\n"
     ]
    },
    {
     "data": {
      "text/plain": [
       "<Figure size 640x480 with 1 Axes>"
      ]
     },
     "metadata": {},
     "output_type": "display_data"
    },
    {
     "name": "stdout",
     "output_type": "stream",
     "text": [
      "image name CARDS_COURTYARD_T_B_hand3_frame_2649.jpg\n",
      "\n",
      "0: 480x640 1 hand, 12.6ms\n",
      "Speed: 1.4ms preprocess, 12.6ms inference, 1.2ms postprocess per image at shape (1, 3, 480, 640)\n"
     ]
    },
    {
     "data": {
      "text/plain": [
       "<Figure size 640x480 with 1 Axes>"
      ]
     },
     "metadata": {},
     "output_type": "display_data"
    },
    {
     "name": "stdout",
     "output_type": "stream",
     "text": [
      "image name CARDS_COURTYARD_S_H_hand2_frame_2680.jpg\n",
      "\n",
      "0: 384x640 1 hand, 14.0ms\n",
      "Speed: 1.3ms preprocess, 14.0ms inference, 2.7ms postprocess per image at shape (1, 3, 384, 640)\n"
     ]
    },
    {
     "data": {
      "text/plain": [
       "<Figure size 640x480 with 1 Axes>"
      ]
     },
     "metadata": {},
     "output_type": "display_data"
    },
    {
     "name": "stdout",
     "output_type": "stream",
     "text": [
      "image name CARDS_COURTYARD_T_B_hand3_frame_0557.jpg\n",
      "\n",
      "0: 384x640 1 hand, 12.9ms\n",
      "Speed: 1.8ms preprocess, 12.9ms inference, 1.2ms postprocess per image at shape (1, 3, 384, 640)\n"
     ]
    },
    {
     "data": {
      "text/plain": [
       "<Figure size 640x480 with 1 Axes>"
      ]
     },
     "metadata": {},
     "output_type": "display_data"
    },
    {
     "name": "stdout",
     "output_type": "stream",
     "text": [
      "image name CARDS_COURTYARD_T_B_hand2_frame_2649.jpg\n",
      "\n",
      "0: 352x640 1 hand, 13.5ms\n",
      "Speed: 1.3ms preprocess, 13.5ms inference, 1.2ms postprocess per image at shape (1, 3, 352, 640)\n"
     ]
    },
    {
     "data": {
      "text/plain": [
       "<Figure size 640x480 with 1 Axes>"
      ]
     },
     "metadata": {},
     "output_type": "display_data"
    },
    {
     "name": "stdout",
     "output_type": "stream",
     "text": [
      "image name CARDS_COURTYARD_H_S_hand2_frame_1135.jpg\n",
      "\n",
      "0: 352x640 1 hand, 12.1ms\n",
      "Speed: 1.3ms preprocess, 12.1ms inference, 1.3ms postprocess per image at shape (1, 3, 352, 640)\n"
     ]
    },
    {
     "data": {
      "text/plain": [
       "<Figure size 640x480 with 1 Axes>"
      ]
     },
     "metadata": {},
     "output_type": "display_data"
    },
    {
     "name": "stdout",
     "output_type": "stream",
     "text": [
      "image name CARDS_COURTYARD_H_S_hand3_frame_1880.jpg\n",
      "\n",
      "0: 512x640 1 hand, 13.6ms\n",
      "Speed: 1.9ms preprocess, 13.6ms inference, 1.3ms postprocess per image at shape (1, 3, 512, 640)\n"
     ]
    },
    {
     "data": {
      "text/plain": [
       "<Figure size 640x480 with 1 Axes>"
      ]
     },
     "metadata": {},
     "output_type": "display_data"
    },
    {
     "name": "stdout",
     "output_type": "stream",
     "text": [
      "image name CARDS_COURTYARD_S_H_hand3_frame_1407.jpg\n",
      "\n",
      "0: 512x640 1 hand, 12.0ms\n",
      "Speed: 1.4ms preprocess, 12.0ms inference, 1.5ms postprocess per image at shape (1, 3, 512, 640)\n"
     ]
    },
    {
     "data": {
      "text/plain": [
       "<Figure size 640x480 with 1 Axes>"
      ]
     },
     "metadata": {},
     "output_type": "display_data"
    },
    {
     "name": "stdout",
     "output_type": "stream",
     "text": [
      "image name CARDS_COURTYARD_T_B_hand1_frame_0914.jpg\n",
      "\n",
      "0: 288x640 1 hand, 16.9ms\n",
      "Speed: 1.1ms preprocess, 16.9ms inference, 2.0ms postprocess per image at shape (1, 3, 288, 640)\n"
     ]
    },
    {
     "data": {
      "text/plain": [
       "<Figure size 640x480 with 1 Axes>"
      ]
     },
     "metadata": {},
     "output_type": "display_data"
    },
    {
     "name": "stdout",
     "output_type": "stream",
     "text": [
      "image name CARDS_COURTYARD_H_S_hand0_frame_0211.jpg\n",
      "\n",
      "0: 352x640 2 hands, 11.3ms\n",
      "Speed: 1.1ms preprocess, 11.3ms inference, 1.3ms postprocess per image at shape (1, 3, 352, 640)\n"
     ]
    },
    {
     "data": {
      "text/plain": [
       "<Figure size 640x480 with 1 Axes>"
      ]
     },
     "metadata": {},
     "output_type": "display_data"
    },
    {
     "name": "stdout",
     "output_type": "stream",
     "text": [
      "image name CARDS_COURTYARD_S_H_hand3_frame_0667.jpg\n",
      "\n",
      "0: 384x640 1 hand, 12.0ms\n",
      "Speed: 1.4ms preprocess, 12.0ms inference, 1.2ms postprocess per image at shape (1, 3, 384, 640)\n"
     ]
    },
    {
     "data": {
      "text/plain": [
       "<Figure size 640x480 with 1 Axes>"
      ]
     },
     "metadata": {},
     "output_type": "display_data"
    },
    {
     "name": "stdout",
     "output_type": "stream",
     "text": [
      "image name CARDS_COURTYARD_T_B_hand3_frame_0180.jpg\n",
      "\n",
      "0: 416x640 1 hand, 11.1ms\n",
      "Speed: 1.3ms preprocess, 11.1ms inference, 1.2ms postprocess per image at shape (1, 3, 416, 640)\n"
     ]
    },
    {
     "data": {
      "text/plain": [
       "<Figure size 640x480 with 1 Axes>"
      ]
     },
     "metadata": {},
     "output_type": "display_data"
    },
    {
     "name": "stdout",
     "output_type": "stream",
     "text": [
      "image name CARDS_COURTYARD_S_H_hand1_frame_1412.jpg\n",
      "\n",
      "0: 224x640 1 hand, 13.7ms\n",
      "Speed: 2.0ms preprocess, 13.7ms inference, 1.5ms postprocess per image at shape (1, 3, 224, 640)\n"
     ]
    },
    {
     "data": {
      "text/plain": [
       "<Figure size 640x480 with 1 Axes>"
      ]
     },
     "metadata": {},
     "output_type": "display_data"
    },
    {
     "name": "stdout",
     "output_type": "stream",
     "text": [
      "image name CARDS_COURTYARD_T_B_hand0_frame_1905.jpg\n",
      "\n",
      "0: 608x640 1 hand, 15.0ms\n",
      "Speed: 2.1ms preprocess, 15.0ms inference, 1.3ms postprocess per image at shape (1, 3, 608, 640)\n"
     ]
    },
    {
     "data": {
      "text/plain": [
       "<Figure size 640x480 with 1 Axes>"
      ]
     },
     "metadata": {},
     "output_type": "display_data"
    },
    {
     "name": "stdout",
     "output_type": "stream",
     "text": [
      "image name CARDS_COURTYARD_H_S_hand2_frame_1523.jpg\n",
      "\n",
      "0: 416x640 2 hands, 11.8ms\n",
      "Speed: 1.2ms preprocess, 11.8ms inference, 1.2ms postprocess per image at shape (1, 3, 416, 640)\n"
     ]
    },
    {
     "data": {
      "text/plain": [
       "<Figure size 640x480 with 1 Axes>"
      ]
     },
     "metadata": {},
     "output_type": "display_data"
    },
    {
     "name": "stdout",
     "output_type": "stream",
     "text": [
      "image name CARDS_COURTYARD_T_B_hand1_frame_1969.jpg\n",
      "\n",
      "0: 288x640 1 hand, 11.3ms\n",
      "Speed: 1.2ms preprocess, 11.3ms inference, 1.5ms postprocess per image at shape (1, 3, 288, 640)\n"
     ]
    },
    {
     "data": {
      "text/plain": [
       "<Figure size 640x480 with 1 Axes>"
      ]
     },
     "metadata": {},
     "output_type": "display_data"
    },
    {
     "name": "stdout",
     "output_type": "stream",
     "text": [
      "image name CARDS_COURTYARD_S_H_hand0_frame_0536.jpg\n",
      "\n",
      "0: 480x640 1 hand, 12.6ms\n",
      "Speed: 1.8ms preprocess, 12.6ms inference, 1.2ms postprocess per image at shape (1, 3, 480, 640)\n"
     ]
    },
    {
     "data": {
      "text/plain": [
       "<Figure size 640x480 with 1 Axes>"
      ]
     },
     "metadata": {},
     "output_type": "display_data"
    },
    {
     "name": "stdout",
     "output_type": "stream",
     "text": [
      "image name CARDS_COURTYARD_T_B_hand2_frame_1913.jpg\n",
      "\n",
      "0: 384x640 1 hand, 11.0ms\n",
      "Speed: 1.3ms preprocess, 11.0ms inference, 1.2ms postprocess per image at shape (1, 3, 384, 640)\n"
     ]
    },
    {
     "data": {
      "text/plain": [
       "<Figure size 640x480 with 1 Axes>"
      ]
     },
     "metadata": {},
     "output_type": "display_data"
    },
    {
     "name": "stdout",
     "output_type": "stream",
     "text": [
      "image name CARDS_COURTYARD_T_B_hand0_frame_1924.jpg\n",
      "\n",
      "0: 480x640 (no detections), 12.7ms\n",
      "Speed: 1.4ms preprocess, 12.7ms inference, 0.4ms postprocess per image at shape (1, 3, 480, 640)\n",
      "no results for image CARDS_COURTYARD_T_B_hand0_frame_1924.jpg!\n",
      "image name CARDS_COURTYARD_T_B_hand1_frame_1849.jpg\n",
      "\n",
      "0: 352x640 1 hand, 10.9ms\n",
      "Speed: 1.2ms preprocess, 10.9ms inference, 1.2ms postprocess per image at shape (1, 3, 352, 640)\n"
     ]
    },
    {
     "data": {
      "text/plain": [
       "<Figure size 640x480 with 1 Axes>"
      ]
     },
     "metadata": {},
     "output_type": "display_data"
    },
    {
     "name": "stdout",
     "output_type": "stream",
     "text": [
      "image name CARDS_COURTYARD_S_H_hand2_frame_1352.jpg\n",
      "\n",
      "0: 384x640 1 hand, 23.5ms\n",
      "Speed: 3.1ms preprocess, 23.5ms inference, 1.5ms postprocess per image at shape (1, 3, 384, 640)\n"
     ]
    },
    {
     "data": {
      "text/plain": [
       "<Figure size 640x480 with 1 Axes>"
      ]
     },
     "metadata": {},
     "output_type": "display_data"
    },
    {
     "name": "stdout",
     "output_type": "stream",
     "text": [
      "image name CARDS_COURTYARD_H_S_hand1_frame_1962.jpg\n",
      "\n",
      "0: 416x640 1 hand, 13.4ms\n",
      "Speed: 2.2ms preprocess, 13.4ms inference, 1.2ms postprocess per image at shape (1, 3, 416, 640)\n"
     ]
    },
    {
     "data": {
      "text/plain": [
       "<Figure size 640x480 with 1 Axes>"
      ]
     },
     "metadata": {},
     "output_type": "display_data"
    },
    {
     "name": "stdout",
     "output_type": "stream",
     "text": [
      "image name CARDS_COURTYARD_T_B_hand0_frame_0707.jpg\n",
      "\n",
      "0: 512x640 1 hand, 13.1ms\n",
      "Speed: 1.7ms preprocess, 13.1ms inference, 1.3ms postprocess per image at shape (1, 3, 512, 640)\n"
     ]
    },
    {
     "data": {
      "text/plain": [
       "<Figure size 640x480 with 1 Axes>"
      ]
     },
     "metadata": {},
     "output_type": "display_data"
    },
    {
     "name": "stdout",
     "output_type": "stream",
     "text": [
      "image name CARDS_COURTYARD_H_S_hand1_frame_1770.jpg\n",
      "\n",
      "0: 416x640 1 hand, 12.3ms\n",
      "Speed: 1.7ms preprocess, 12.3ms inference, 1.2ms postprocess per image at shape (1, 3, 416, 640)\n"
     ]
    },
    {
     "data": {
      "text/plain": [
       "<Figure size 640x480 with 1 Axes>"
      ]
     },
     "metadata": {},
     "output_type": "display_data"
    },
    {
     "name": "stdout",
     "output_type": "stream",
     "text": [
      "image name CARDS_COURTYARD_S_H_hand0_frame_1550.jpg\n",
      "\n",
      "0: 384x640 1 hand, 20.1ms\n",
      "Speed: 3.0ms preprocess, 20.1ms inference, 1.2ms postprocess per image at shape (1, 3, 384, 640)\n"
     ]
    },
    {
     "data": {
      "text/plain": [
       "<Figure size 640x480 with 1 Axes>"
      ]
     },
     "metadata": {},
     "output_type": "display_data"
    },
    {
     "name": "stdout",
     "output_type": "stream",
     "text": [
      "image name CARDS_COURTYARD_S_H_hand0_frame_2186.jpg\n",
      "\n",
      "0: 416x640 1 hand, 11.1ms\n",
      "Speed: 1.3ms preprocess, 11.1ms inference, 1.7ms postprocess per image at shape (1, 3, 416, 640)\n"
     ]
    },
    {
     "data": {
      "text/plain": [
       "<Figure size 640x480 with 1 Axes>"
      ]
     },
     "metadata": {},
     "output_type": "display_data"
    },
    {
     "name": "stdout",
     "output_type": "stream",
     "text": [
      "image name CARDS_COURTYARD_H_S_hand1_frame_0060.jpg\n",
      "\n",
      "0: 288x640 1 hand, 11.4ms\n",
      "Speed: 1.1ms preprocess, 11.4ms inference, 1.3ms postprocess per image at shape (1, 3, 288, 640)\n"
     ]
    },
    {
     "data": {
      "text/plain": [
       "<Figure size 640x480 with 1 Axes>"
      ]
     },
     "metadata": {},
     "output_type": "display_data"
    },
    {
     "name": "stdout",
     "output_type": "stream",
     "text": [
      "image name CARDS_COURTYARD_T_B_hand2_frame_1226.jpg\n",
      "\n",
      "0: 416x640 1 hand, 11.5ms\n",
      "Speed: 1.3ms preprocess, 11.5ms inference, 1.2ms postprocess per image at shape (1, 3, 416, 640)\n"
     ]
    },
    {
     "data": {
      "text/plain": [
       "<Figure size 640x480 with 1 Axes>"
      ]
     },
     "metadata": {},
     "output_type": "display_data"
    },
    {
     "name": "stdout",
     "output_type": "stream",
     "text": [
      "image name CARDS_COURTYARD_H_S_hand2_frame_1660.jpg\n",
      "\n",
      "0: 352x640 1 hand, 10.8ms\n",
      "Speed: 1.1ms preprocess, 10.8ms inference, 1.2ms postprocess per image at shape (1, 3, 352, 640)\n"
     ]
    },
    {
     "data": {
      "text/plain": [
       "<Figure size 640x480 with 1 Axes>"
      ]
     },
     "metadata": {},
     "output_type": "display_data"
    },
    {
     "name": "stdout",
     "output_type": "stream",
     "text": [
      "image name CARDS_COURTYARD_S_H_hand3_frame_2206.jpg\n",
      "\n",
      "0: 416x640 1 hand, 11.7ms\n",
      "Speed: 1.3ms preprocess, 11.7ms inference, 1.2ms postprocess per image at shape (1, 3, 416, 640)\n"
     ]
    },
    {
     "data": {
      "text/plain": [
       "<Figure size 640x480 with 1 Axes>"
      ]
     },
     "metadata": {},
     "output_type": "display_data"
    },
    {
     "name": "stdout",
     "output_type": "stream",
     "text": [
      "image name CARDS_COURTYARD_H_S_hand2_frame_2194.jpg\n",
      "\n",
      "0: 512x640 1 hand, 18.9ms\n",
      "Speed: 3.8ms preprocess, 18.9ms inference, 1.2ms postprocess per image at shape (1, 3, 512, 640)\n"
     ]
    },
    {
     "data": {
      "text/plain": [
       "<Figure size 640x480 with 1 Axes>"
      ]
     },
     "metadata": {},
     "output_type": "display_data"
    },
    {
     "name": "stdout",
     "output_type": "stream",
     "text": [
      "image name CARDS_COURTYARD_H_S_hand2_frame_2134.jpg\n",
      "\n",
      "0: 352x640 1 hand, 10.9ms\n",
      "Speed: 1.1ms preprocess, 10.9ms inference, 1.3ms postprocess per image at shape (1, 3, 352, 640)\n"
     ]
    },
    {
     "data": {
      "text/plain": [
       "<Figure size 640x480 with 1 Axes>"
      ]
     },
     "metadata": {},
     "output_type": "display_data"
    },
    {
     "name": "stdout",
     "output_type": "stream",
     "text": [
      "image name CARDS_COURTYARD_H_S_hand2_frame_2554.jpg\n",
      "\n",
      "0: 352x640 1 hand, 11.1ms\n",
      "Speed: 1.1ms preprocess, 11.1ms inference, 1.2ms postprocess per image at shape (1, 3, 352, 640)\n"
     ]
    },
    {
     "data": {
      "text/plain": [
       "<Figure size 640x480 with 1 Axes>"
      ]
     },
     "metadata": {},
     "output_type": "display_data"
    },
    {
     "name": "stdout",
     "output_type": "stream",
     "text": [
      "image name CARDS_COURTYARD_T_B_hand2_frame_0180.jpg\n",
      "\n",
      "0: 288x640 1 hand, 11.3ms\n",
      "Speed: 1.1ms preprocess, 11.3ms inference, 1.4ms postprocess per image at shape (1, 3, 288, 640)\n"
     ]
    },
    {
     "data": {
      "text/plain": [
       "<Figure size 640x480 with 1 Axes>"
      ]
     },
     "metadata": {},
     "output_type": "display_data"
    },
    {
     "name": "stdout",
     "output_type": "stream",
     "text": [
      "image name CARDS_COURTYARD_H_S_hand0_frame_0672.jpg\n",
      "\n",
      "0: 352x640 1 hand, 11.5ms\n",
      "Speed: 1.1ms preprocess, 11.5ms inference, 1.2ms postprocess per image at shape (1, 3, 352, 640)\n"
     ]
    },
    {
     "data": {
      "text/plain": [
       "<Figure size 640x480 with 1 Axes>"
      ]
     },
     "metadata": {},
     "output_type": "display_data"
    },
    {
     "name": "stdout",
     "output_type": "stream",
     "text": [
      "image name CARDS_COURTYARD_T_B_hand2_frame_1520.jpg\n",
      "\n",
      "0: 544x640 1 hand, 15.8ms\n",
      "Speed: 3.8ms preprocess, 15.8ms inference, 1.2ms postprocess per image at shape (1, 3, 544, 640)\n"
     ]
    },
    {
     "data": {
      "text/plain": [
       "<Figure size 640x480 with 1 Axes>"
      ]
     },
     "metadata": {},
     "output_type": "display_data"
    },
    {
     "name": "stdout",
     "output_type": "stream",
     "text": [
      "image name CARDS_COURTYARD_S_H_hand3_frame_1550.jpg\n",
      "\n",
      "0: 512x640 1 hand, 12.7ms\n",
      "Speed: 1.5ms preprocess, 12.7ms inference, 1.2ms postprocess per image at shape (1, 3, 512, 640)\n"
     ]
    },
    {
     "data": {
      "text/plain": [
       "<Figure size 640x480 with 1 Axes>"
      ]
     },
     "metadata": {},
     "output_type": "display_data"
    },
    {
     "name": "stdout",
     "output_type": "stream",
     "text": [
      "image name CARDS_COURTYARD_H_S_hand1_frame_2018.jpg\n",
      "\n",
      "0: 512x640 1 hand, 12.1ms\n",
      "Speed: 2.6ms preprocess, 12.1ms inference, 1.3ms postprocess per image at shape (1, 3, 512, 640)\n"
     ]
    },
    {
     "data": {
      "text/plain": [
       "<Figure size 640x480 with 1 Axes>"
      ]
     },
     "metadata": {},
     "output_type": "display_data"
    },
    {
     "name": "stdout",
     "output_type": "stream",
     "text": [
      "image name CARDS_COURTYARD_T_B_hand0_frame_2580.jpg\n",
      "\n",
      "0: 352x640 1 hand, 11.4ms\n",
      "Speed: 1.2ms preprocess, 11.4ms inference, 1.2ms postprocess per image at shape (1, 3, 352, 640)\n"
     ]
    },
    {
     "data": {
      "text/plain": [
       "<Figure size 640x480 with 1 Axes>"
      ]
     },
     "metadata": {},
     "output_type": "display_data"
    },
    {
     "name": "stdout",
     "output_type": "stream",
     "text": [
      "image name CARDS_COURTYARD_H_S_hand0_frame_2452.jpg\n",
      "\n",
      "0: 512x640 1 hand, 12.6ms\n",
      "Speed: 1.4ms preprocess, 12.6ms inference, 1.2ms postprocess per image at shape (1, 3, 512, 640)\n"
     ]
    },
    {
     "data": {
      "text/plain": [
       "<Figure size 640x480 with 1 Axes>"
      ]
     },
     "metadata": {},
     "output_type": "display_data"
    },
    {
     "name": "stdout",
     "output_type": "stream",
     "text": [
      "image name CARDS_COURTYARD_T_B_hand3_frame_2434.jpg\n",
      "\n",
      "0: 512x640 1 hand, 12.0ms\n",
      "Speed: 1.4ms preprocess, 12.0ms inference, 1.2ms postprocess per image at shape (1, 3, 512, 640)\n"
     ]
    },
    {
     "data": {
      "text/plain": [
       "<Figure size 640x480 with 1 Axes>"
      ]
     },
     "metadata": {},
     "output_type": "display_data"
    },
    {
     "name": "stdout",
     "output_type": "stream",
     "text": [
      "image name CARDS_COURTYARD_T_B_hand1_frame_1010.jpg\n",
      "\n",
      "0: 608x640 1 hand, 15.0ms\n",
      "Speed: 2.0ms preprocess, 15.0ms inference, 1.3ms postprocess per image at shape (1, 3, 608, 640)\n"
     ]
    },
    {
     "data": {
      "text/plain": [
       "<Figure size 640x480 with 1 Axes>"
      ]
     },
     "metadata": {},
     "output_type": "display_data"
    },
    {
     "name": "stdout",
     "output_type": "stream",
     "text": [
      "image name CARDS_COURTYARD_S_H_hand0_frame_1435.jpg\n",
      "\n",
      "0: 288x640 1 hand, 11.4ms\n",
      "Speed: 1.0ms preprocess, 11.4ms inference, 1.2ms postprocess per image at shape (1, 3, 288, 640)\n"
     ]
    },
    {
     "data": {
      "text/plain": [
       "<Figure size 640x480 with 1 Axes>"
      ]
     },
     "metadata": {},
     "output_type": "display_data"
    },
    {
     "name": "stdout",
     "output_type": "stream",
     "text": [
      "image name CARDS_COURTYARD_T_B_hand2_frame_1110.jpg\n",
      "\n",
      "0: 480x640 2 hands, 12.5ms\n",
      "Speed: 1.4ms preprocess, 12.5ms inference, 1.2ms postprocess per image at shape (1, 3, 480, 640)\n"
     ]
    },
    {
     "data": {
      "text/plain": [
       "<Figure size 640x480 with 1 Axes>"
      ]
     },
     "metadata": {},
     "output_type": "display_data"
    },
    {
     "name": "stdout",
     "output_type": "stream",
     "text": [
      "image name CARDS_COURTYARD_T_B_hand0_frame_2371.jpg\n",
      "\n",
      "0: 448x640 1 hand, 19.4ms\n",
      "Speed: 3.0ms preprocess, 19.4ms inference, 1.4ms postprocess per image at shape (1, 3, 448, 640)\n"
     ]
    },
    {
     "data": {
      "text/plain": [
       "<Figure size 640x480 with 1 Axes>"
      ]
     },
     "metadata": {},
     "output_type": "display_data"
    },
    {
     "name": "stdout",
     "output_type": "stream",
     "text": [
      "image name CARDS_COURTYARD_T_B_hand1_frame_0557.jpg\n",
      "\n",
      "0: 448x640 1 hand, 10.9ms\n",
      "Speed: 1.5ms preprocess, 10.9ms inference, 1.2ms postprocess per image at shape (1, 3, 448, 640)\n"
     ]
    },
    {
     "data": {
      "text/plain": [
       "<Figure size 640x480 with 1 Axes>"
      ]
     },
     "metadata": {},
     "output_type": "display_data"
    },
    {
     "name": "stdout",
     "output_type": "stream",
     "text": [
      "image name CARDS_COURTYARD_H_S_hand0_frame_2134.jpg\n",
      "\n",
      "0: 352x640 1 hand, 10.8ms\n",
      "Speed: 1.5ms preprocess, 10.8ms inference, 1.2ms postprocess per image at shape (1, 3, 352, 640)\n"
     ]
    },
    {
     "data": {
      "text/plain": [
       "<Figure size 640x480 with 1 Axes>"
      ]
     },
     "metadata": {},
     "output_type": "display_data"
    },
    {
     "name": "stdout",
     "output_type": "stream",
     "text": [
      "image name CARDS_COURTYARD_T_B_hand2_frame_0880.jpg\n",
      "\n",
      "0: 320x640 1 hand, 11.3ms\n",
      "Speed: 1.1ms preprocess, 11.3ms inference, 1.2ms postprocess per image at shape (1, 3, 320, 640)\n"
     ]
    },
    {
     "data": {
      "text/plain": [
       "<Figure size 640x480 with 1 Axes>"
      ]
     },
     "metadata": {},
     "output_type": "display_data"
    },
    {
     "name": "stdout",
     "output_type": "stream",
     "text": [
      "image name CARDS_COURTYARD_H_S_hand0_frame_2016.jpg\n",
      "\n",
      "0: 384x640 1 hand, 10.9ms\n",
      "Speed: 1.2ms preprocess, 10.9ms inference, 1.2ms postprocess per image at shape (1, 3, 384, 640)\n"
     ]
    },
    {
     "data": {
      "text/plain": [
       "<Figure size 640x480 with 1 Axes>"
      ]
     },
     "metadata": {},
     "output_type": "display_data"
    },
    {
     "name": "stdout",
     "output_type": "stream",
     "text": [
      "image name CARDS_COURTYARD_H_S_hand3_frame_1850.jpg\n",
      "\n",
      "0: 480x640 1 hand, 12.6ms\n",
      "Speed: 1.6ms preprocess, 12.6ms inference, 1.2ms postprocess per image at shape (1, 3, 480, 640)\n"
     ]
    },
    {
     "data": {
      "text/plain": [
       "<Figure size 640x480 with 1 Axes>"
      ]
     },
     "metadata": {},
     "output_type": "display_data"
    },
    {
     "name": "stdout",
     "output_type": "stream",
     "text": [
      "image name CARDS_COURTYARD_T_B_hand2_frame_1190.jpg\n",
      "\n",
      "0: 384x640 2 hands, 13.1ms\n",
      "Speed: 1.2ms preprocess, 13.1ms inference, 1.5ms postprocess per image at shape (1, 3, 384, 640)\n"
     ]
    },
    {
     "data": {
      "text/plain": [
       "<Figure size 640x480 with 1 Axes>"
      ]
     },
     "metadata": {},
     "output_type": "display_data"
    },
    {
     "name": "stdout",
     "output_type": "stream",
     "text": [
      "image name CARDS_COURTYARD_H_S_hand1_frame_2365.jpg\n",
      "\n",
      "0: 512x640 1 hand, 12.9ms\n",
      "Speed: 2.0ms preprocess, 12.9ms inference, 1.2ms postprocess per image at shape (1, 3, 512, 640)\n"
     ]
    },
    {
     "data": {
      "text/plain": [
       "<Figure size 640x480 with 1 Axes>"
      ]
     },
     "metadata": {},
     "output_type": "display_data"
    },
    {
     "name": "stdout",
     "output_type": "stream",
     "text": [
      "image name CARDS_COURTYARD_T_B_hand3_frame_0637.jpg\n",
      "\n",
      "0: 544x640 1 hand, 14.0ms\n",
      "Speed: 1.6ms preprocess, 14.0ms inference, 1.2ms postprocess per image at shape (1, 3, 544, 640)\n"
     ]
    },
    {
     "data": {
      "text/plain": [
       "<Figure size 640x480 with 1 Axes>"
      ]
     },
     "metadata": {},
     "output_type": "display_data"
    },
    {
     "name": "stdout",
     "output_type": "stream",
     "text": [
      "image name CARDS_COURTYARD_T_B_hand0_frame_0226.jpg\n",
      "\n",
      "0: 480x640 1 hand, 12.6ms\n",
      "Speed: 1.4ms preprocess, 12.6ms inference, 1.2ms postprocess per image at shape (1, 3, 480, 640)\n"
     ]
    },
    {
     "data": {
      "text/plain": [
       "<Figure size 640x480 with 1 Axes>"
      ]
     },
     "metadata": {},
     "output_type": "display_data"
    },
    {
     "name": "stdout",
     "output_type": "stream",
     "text": [
      "image name CARDS_COURTYARD_T_B_hand2_frame_0707.jpg\n",
      "\n",
      "0: 288x640 1 hand, 14.2ms\n",
      "Speed: 1.2ms preprocess, 14.2ms inference, 1.2ms postprocess per image at shape (1, 3, 288, 640)\n"
     ]
    },
    {
     "data": {
      "text/plain": [
       "<Figure size 640x480 with 1 Axes>"
      ]
     },
     "metadata": {},
     "output_type": "display_data"
    },
    {
     "name": "stdout",
     "output_type": "stream",
     "text": [
      "image name CARDS_COURTYARD_H_S_hand3_frame_2176.jpg\n",
      "\n",
      "0: 416x640 2 hands, 11.5ms\n",
      "Speed: 1.3ms preprocess, 11.5ms inference, 1.2ms postprocess per image at shape (1, 3, 416, 640)\n"
     ]
    },
    {
     "data": {
      "text/plain": [
       "<Figure size 640x480 with 1 Axes>"
      ]
     },
     "metadata": {},
     "output_type": "display_data"
    },
    {
     "name": "stdout",
     "output_type": "stream",
     "text": [
      "image name CARDS_COURTYARD_H_S_hand3_frame_0141.jpg\n",
      "\n",
      "0: 448x640 2 hands, 13.0ms\n",
      "Speed: 1.9ms preprocess, 13.0ms inference, 1.2ms postprocess per image at shape (1, 3, 448, 640)\n"
     ]
    },
    {
     "data": {
      "text/plain": [
       "<Figure size 640x480 with 1 Axes>"
      ]
     },
     "metadata": {},
     "output_type": "display_data"
    },
    {
     "name": "stdout",
     "output_type": "stream",
     "text": [
      "image name CARDS_COURTYARD_S_H_hand3_frame_0469.jpg\n",
      "\n",
      "0: 512x640 1 hand, 12.5ms\n",
      "Speed: 1.5ms preprocess, 12.5ms inference, 1.2ms postprocess per image at shape (1, 3, 512, 640)\n"
     ]
    },
    {
     "data": {
      "text/plain": [
       "<Figure size 640x480 with 1 Axes>"
      ]
     },
     "metadata": {},
     "output_type": "display_data"
    },
    {
     "name": "stdout",
     "output_type": "stream",
     "text": [
      "image name CARDS_COURTYARD_S_H_hand3_frame_1689.jpg\n",
      "\n",
      "0: 352x640 1 hand, 11.2ms\n",
      "Speed: 1.2ms preprocess, 11.2ms inference, 1.2ms postprocess per image at shape (1, 3, 352, 640)\n"
     ]
    },
    {
     "data": {
      "text/plain": [
       "<Figure size 640x480 with 1 Axes>"
      ]
     },
     "metadata": {},
     "output_type": "display_data"
    },
    {
     "name": "stdout",
     "output_type": "stream",
     "text": [
      "image name CARDS_COURTYARD_S_H_hand3_frame_2351.jpg\n",
      "\n",
      "0: 576x640 1 hand, 14.4ms\n",
      "Speed: 1.6ms preprocess, 14.4ms inference, 1.3ms postprocess per image at shape (1, 3, 576, 640)\n"
     ]
    },
    {
     "data": {
      "text/plain": [
       "<Figure size 640x480 with 1 Axes>"
      ]
     },
     "metadata": {},
     "output_type": "display_data"
    },
    {
     "name": "stdout",
     "output_type": "stream",
     "text": [
      "image name CARDS_COURTYARD_H_S_hand0_frame_2554.jpg\n",
      "\n",
      "0: 448x640 1 hand, 14.8ms\n",
      "Speed: 2.1ms preprocess, 14.8ms inference, 1.3ms postprocess per image at shape (1, 3, 448, 640)\n"
     ]
    },
    {
     "data": {
      "text/plain": [
       "<Figure size 640x480 with 1 Axes>"
      ]
     },
     "metadata": {},
     "output_type": "display_data"
    },
    {
     "name": "stdout",
     "output_type": "stream",
     "text": [
      "image name CARDS_COURTYARD_H_S_hand1_frame_0779.jpg\n",
      "\n",
      "0: 352x640 1 hand, 10.9ms\n",
      "Speed: 1.3ms preprocess, 10.9ms inference, 1.4ms postprocess per image at shape (1, 3, 352, 640)\n"
     ]
    },
    {
     "data": {
      "text/plain": [
       "<Figure size 640x480 with 1 Axes>"
      ]
     },
     "metadata": {},
     "output_type": "display_data"
    },
    {
     "name": "stdout",
     "output_type": "stream",
     "text": [
      "image name CARDS_COURTYARD_S_H_hand2_frame_1803.jpg\n",
      "\n",
      "0: 352x640 1 hand, 10.9ms\n",
      "Speed: 1.2ms preprocess, 10.9ms inference, 1.2ms postprocess per image at shape (1, 3, 352, 640)\n"
     ]
    },
    {
     "data": {
      "text/plain": [
       "<Figure size 640x480 with 1 Axes>"
      ]
     },
     "metadata": {},
     "output_type": "display_data"
    },
    {
     "name": "stdout",
     "output_type": "stream",
     "text": [
      "image name CARDS_COURTYARD_S_H_hand0_frame_1027.jpg\n",
      "\n",
      "0: 640x608 1 hand, 15.2ms\n",
      "Speed: 1.9ms preprocess, 15.2ms inference, 1.2ms postprocess per image at shape (1, 3, 640, 608)\n"
     ]
    },
    {
     "data": {
      "text/plain": [
       "<Figure size 640x480 with 1 Axes>"
      ]
     },
     "metadata": {},
     "output_type": "display_data"
    },
    {
     "name": "stdout",
     "output_type": "stream",
     "text": [
      "image name CARDS_COURTYARD_S_H_hand3_frame_2434.jpg\n",
      "\n",
      "0: 608x640 1 hand, 15.1ms\n",
      "Speed: 1.7ms preprocess, 15.1ms inference, 1.2ms postprocess per image at shape (1, 3, 608, 640)\n"
     ]
    },
    {
     "data": {
      "text/plain": [
       "<Figure size 640x480 with 1 Axes>"
      ]
     },
     "metadata": {},
     "output_type": "display_data"
    },
    {
     "name": "stdout",
     "output_type": "stream",
     "text": [
      "image name CARDS_COURTYARD_T_B_hand0_frame_1110.jpg\n",
      "\n",
      "0: 224x640 (no detections), 22.7ms\n",
      "Speed: 1.9ms preprocess, 22.7ms inference, 0.4ms postprocess per image at shape (1, 3, 224, 640)\n",
      "no results for image CARDS_COURTYARD_T_B_hand0_frame_1110.jpg!\n",
      "image name CARDS_COURTYARD_H_S_hand2_frame_1335.jpg\n",
      "\n",
      "0: 352x640 1 hand, 13.1ms\n",
      "Speed: 1.3ms preprocess, 13.1ms inference, 1.6ms postprocess per image at shape (1, 3, 352, 640)\n"
     ]
    },
    {
     "data": {
      "text/plain": [
       "<Figure size 640x480 with 1 Axes>"
      ]
     },
     "metadata": {},
     "output_type": "display_data"
    },
    {
     "name": "stdout",
     "output_type": "stream",
     "text": [
      "image name CARDS_COURTYARD_T_B_hand3_frame_1661.jpg\n",
      "\n",
      "0: 448x640 2 hands, 11.8ms\n",
      "Speed: 1.3ms preprocess, 11.8ms inference, 1.2ms postprocess per image at shape (1, 3, 448, 640)\n"
     ]
    },
    {
     "data": {
      "text/plain": [
       "<Figure size 640x480 with 1 Axes>"
      ]
     },
     "metadata": {},
     "output_type": "display_data"
    },
    {
     "name": "stdout",
     "output_type": "stream",
     "text": [
      "image name CARDS_COURTYARD_T_B_hand2_frame_1373.jpg\n",
      "\n",
      "0: 640x640 1 hand, 15.9ms\n",
      "Speed: 1.9ms preprocess, 15.9ms inference, 1.2ms postprocess per image at shape (1, 3, 640, 640)\n"
     ]
    },
    {
     "data": {
      "text/plain": [
       "<Figure size 640x480 with 1 Axes>"
      ]
     },
     "metadata": {},
     "output_type": "display_data"
    },
    {
     "name": "stdout",
     "output_type": "stream",
     "text": [
      "image name CARDS_COURTYARD_H_S_hand3_frame_1257.jpg\n",
      "\n",
      "0: 448x640 1 hand, 11.6ms\n",
      "Speed: 1.3ms preprocess, 11.6ms inference, 1.2ms postprocess per image at shape (1, 3, 448, 640)\n"
     ]
    },
    {
     "data": {
      "text/plain": [
       "<Figure size 640x480 with 1 Axes>"
      ]
     },
     "metadata": {},
     "output_type": "display_data"
    },
    {
     "name": "stdout",
     "output_type": "stream",
     "text": [
      "image name CARDS_COURTYARD_H_S_hand2_frame_1880.jpg\n",
      "\n",
      "0: 384x640 1 hand, 11.5ms\n",
      "Speed: 1.2ms preprocess, 11.5ms inference, 1.2ms postprocess per image at shape (1, 3, 384, 640)\n"
     ]
    },
    {
     "data": {
      "text/plain": [
       "<Figure size 640x480 with 1 Axes>"
      ]
     },
     "metadata": {},
     "output_type": "display_data"
    },
    {
     "name": "stdout",
     "output_type": "stream",
     "text": [
      "image name CARDS_COURTYARD_H_S_hand3_frame_1837.jpg\n",
      "\n",
      "0: 448x640 1 hand, 14.5ms\n",
      "Speed: 1.4ms preprocess, 14.5ms inference, 1.3ms postprocess per image at shape (1, 3, 448, 640)\n"
     ]
    },
    {
     "data": {
      "text/plain": [
       "<Figure size 640x480 with 1 Axes>"
      ]
     },
     "metadata": {},
     "output_type": "display_data"
    },
    {
     "name": "stdout",
     "output_type": "stream",
     "text": [
      "image name CARDS_COURTYARD_S_H_hand1_frame_0890.jpg\n",
      "\n",
      "0: 416x640 (no detections), 12.1ms\n",
      "Speed: 1.4ms preprocess, 12.1ms inference, 0.3ms postprocess per image at shape (1, 3, 416, 640)\n",
      "no results for image CARDS_COURTYARD_S_H_hand1_frame_0890.jpg!\n",
      "image name CARDS_COURTYARD_T_B_hand3_frame_1784.jpg\n",
      "\n",
      "0: 384x640 1 hand, 19.2ms\n",
      "Speed: 1.8ms preprocess, 19.2ms inference, 1.7ms postprocess per image at shape (1, 3, 384, 640)\n"
     ]
    },
    {
     "data": {
      "text/plain": [
       "<Figure size 640x480 with 1 Axes>"
      ]
     },
     "metadata": {},
     "output_type": "display_data"
    },
    {
     "name": "stdout",
     "output_type": "stream",
     "text": [
      "image name CARDS_COURTYARD_S_H_hand2_frame_0482.jpg\n",
      "\n",
      "0: 288x640 1 hand, 21.2ms\n",
      "Speed: 2.0ms preprocess, 21.2ms inference, 1.8ms postprocess per image at shape (1, 3, 288, 640)\n"
     ]
    },
    {
     "data": {
      "text/plain": [
       "<Figure size 640x480 with 1 Axes>"
      ]
     },
     "metadata": {},
     "output_type": "display_data"
    },
    {
     "name": "stdout",
     "output_type": "stream",
     "text": [
      "image name CARDS_COURTYARD_T_B_hand0_frame_1456.jpg\n",
      "\n",
      "0: 384x640 1 hand, 10.9ms\n",
      "Speed: 1.2ms preprocess, 10.9ms inference, 1.2ms postprocess per image at shape (1, 3, 384, 640)\n"
     ]
    },
    {
     "data": {
      "text/plain": [
       "<Figure size 640x480 with 1 Axes>"
      ]
     },
     "metadata": {},
     "output_type": "display_data"
    },
    {
     "name": "stdout",
     "output_type": "stream",
     "text": [
      "image name CARDS_COURTYARD_H_S_hand3_frame_1024.jpg\n",
      "\n",
      "0: 480x640 1 hand, 12.5ms\n",
      "Speed: 1.4ms preprocess, 12.5ms inference, 1.2ms postprocess per image at shape (1, 3, 480, 640)\n"
     ]
    },
    {
     "data": {
      "text/plain": [
       "<Figure size 640x480 with 1 Axes>"
      ]
     },
     "metadata": {},
     "output_type": "display_data"
    },
    {
     "name": "stdout",
     "output_type": "stream",
     "text": [
      "image name CARDS_COURTYARD_H_S_hand0_frame_1024.jpg\n",
      "\n",
      "0: 288x640 1 hand, 10.9ms\n",
      "Speed: 1.2ms preprocess, 10.9ms inference, 1.2ms postprocess per image at shape (1, 3, 288, 640)\n"
     ]
    },
    {
     "data": {
      "text/plain": [
       "<Figure size 640x480 with 1 Axes>"
      ]
     },
     "metadata": {},
     "output_type": "display_data"
    }
   ],
   "source": [
    "#Testing model\n",
    "import os\n",
    "import cv2\n",
    "import numpy as np\n",
    "from glob import glob\n",
    "from pathlib import Path\n",
    "from random import randint\n",
    "import matplotlib as mpl\n",
    "from shapely.geometry import Polygon\n",
    "import matplotlib.pyplot as plt\n",
    "\n",
    "def plot_polygon_on_image(image, polygon):\n",
    "    polygon = np.asarray(polygon)\n",
    "    polygon = np.squeeze(polygon)\n",
    "    image = cv2.polylines(image, [polygon.astype('int')], True, (randint(0, 255), randint(0, 255), randint(0, 255)),\n",
    "                  2)  # Draw Poly Lines\n",
    "    image = cv2.fillPoly(image, [polygon.astype('int')], (randint(0,255),randint(0,255),randint(0,255)), cv2.LINE_AA) # Draw area\n",
    "\n",
    "    return image\n",
    "\n",
    "def test_model(weights_path, image_dir, show=False):\n",
    "    image_dir = Path(image_dir)\n",
    "    save_dir = Path(image_dir).parent / \"test_yolov8_segs\"\n",
    "    save_dir.mkdir(exist_ok=True, parents=True)\n",
    "    assert image_dir.is_dir()\n",
    "    # Load a model\n",
    "    model = YOLO(weights_path)  # load pretrained segmentation model\n",
    "    # predict with model\n",
    "    for image_path in image_dir.iterdir():\n",
    "        image_ext = image_path.suffix\n",
    "        print(\"image name\", image_path.name)\n",
    "        if image_ext == \".npy\":\n",
    "            image = np.load(image_path.as_posix(), allow_pickle=True)\n",
    "        else:\n",
    "            image = cv2.imread(image_path.as_posix())\n",
    "\n",
    "        results = model.predict(source=image, conf=0.5, iou=0.4)\n",
    "        seg = results[0]\n",
    "        if seg:\n",
    "            all_segs = []\n",
    "            for i in range(len(seg.masks.xy)):\n",
    "                seg_xy = seg.masks.xy[i]\n",
    "                all_segs.append(seg_xy)\n",
    "                image = plot_polygon_on_image(image, seg_xy)\n",
    "            seg_save_path = save_dir / image_path.with_suffix('.npy').name\n",
    "            np.save(seg_save_path.as_posix(), np.array(all_segs, dtype=object), allow_pickle=True)\n",
    "\n",
    "            if show:\n",
    "                plt.imshow(image)\n",
    "                plt.show()\n",
    "        else:\n",
    "            print(f\"no results for image {image_path.name}!\")\n",
    "\n",
    "\n",
    "\n",
    "if __name__ == \"__main__\":\n",
    "    weights_path = \"/home/nikhil/Documents/inseer_ML_Project/yolov8/Nikhil-yolov8 training/egohands_training_yolov8/Ego-Hands/Ego_Hands_Segmentation/weights/best.pt\"\n",
    "    image_dir = \"/home/nikhil/Documents/Datasets/ego_hands dataset/ego_hands_crops_yolov8/test/images\"\n",
    "    test_model(weights_path, image_dir, show=True)"
   ]
  },
  {
   "cell_type": "code",
   "execution_count": 10,
   "id": "7c5b6bf0",
   "metadata": {},
   "outputs": [],
   "source": [
    "#Code to plot the segments(in .npy format) on the images\n",
    "from pathlib import Path\n",
    "import numpy as np\n",
    "import matplotlib.pyplot as plt\n",
    "import cv2\n",
    "\n",
    "def display_segments_on_images(image_dir, segmentation_dir, save_dir):\n",
    "    image_dir = Path(image_dir)\n",
    "    segmentation_dir = Path(segmentation_dir)\n",
    "    save_dir = Path(save_dir)\n",
    "    save_dir.mkdir(exist_ok=True)  # Ensure the save directory exists\n",
    "    \n",
    "    # Iterate over .npy files and display them on the corresponding images\n",
    "    for seg_file in segmentation_dir.glob('*.npy'):\n",
    "        image_file = image_dir / (seg_file.stem + '.jpg')\n",
    "        if not image_file.exists():\n",
    "            print(f\"No corresponding image for segmentation {seg_file.stem}\")\n",
    "            continue\n",
    "        \n",
    "        image = cv2.imread(str(image_file))\n",
    "        image = cv2.cvtColor(image, cv2.COLOR_BGR2RGB)  # Convert to RGB\n",
    "        \n",
    "        segmentations = np.load(seg_file, allow_pickle=True)\n",
    "        \n",
    "        plt.figure()\n",
    "        plt.imshow(image)\n",
    "        \n",
    "        for polygon in segmentations:\n",
    "            plt.plot(*np.array(polygon).T, marker='o', color='red')\n",
    "        \n",
    "        plt.axis('off')\n",
    "        save_path = save_dir / f\"{image_file.stem}_segmented.png\"\n",
    "        plt.savefig(save_path, bbox_inches='tight', pad_inches=0)\n",
    "        plt.close()\n",
    "\n",
    "# Define the paths to directories\n",
    "images_dir = \"/home/nikhil/Documents/Datasets/ego_hands dataset/ego_hands_crops_yolov8/test/images\"\n",
    "\n",
    "\n",
    "# Path to the directory where the .npy segmentations are stored\n",
    "segs_dir = '/home/nikhil/Documents/Datasets/ego_hands dataset/ego_hands_crops_yolov8/test/test_yolov8_segs'\n",
    "# Directory to save the plots\n",
    "plots_save_dir = '/home/nikhil/Documents/Datasets/ego_hands dataset/ego_hands_crops_yolov8/test/saved_plotsonimages'\n",
    "\n",
    "display_segments_on_images(images_dir, segs_dir, plots_save_dir)\n"
   ]
  },
  {
   "cell_type": "code",
   "execution_count": null,
   "id": "941b4390",
   "metadata": {},
   "outputs": [],
   "source": []
  },
  {
   "cell_type": "code",
   "execution_count": null,
   "id": "c2047942",
   "metadata": {},
   "outputs": [],
   "source": []
  },
  {
   "cell_type": "code",
   "execution_count": null,
   "id": "dcdbb7e6",
   "metadata": {},
   "outputs": [],
   "source": []
  }
 ],
 "metadata": {
  "kernelspec": {
   "display_name": "Python 3 (ipykernel)",
   "language": "python",
   "name": "python3"
  },
  "language_info": {
   "codemirror_mode": {
    "name": "ipython",
    "version": 3
   },
   "file_extension": ".py",
   "mimetype": "text/x-python",
   "name": "python",
   "nbconvert_exporter": "python",
   "pygments_lexer": "ipython3",
   "version": "3.9.7"
  }
 },
 "nbformat": 4,
 "nbformat_minor": 5
}
